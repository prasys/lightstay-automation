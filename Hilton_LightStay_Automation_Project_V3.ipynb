{
  "cells": [
    {
      "cell_type": "markdown",
      "metadata": {
        "id": "view-in-github",
        "colab_type": "text"
      },
      "source": [
        "<a href=\"https://colab.research.google.com/github/prasys/lightstay-automation/blob/main/Hilton_LightStay_Automation_Project_V3.ipynb\" target=\"_parent\"><img src=\"https://colab.research.google.com/assets/colab-badge.svg\" alt=\"Open In Colab\"/></a>"
      ]
    },
    {
      "cell_type": "markdown",
      "metadata": {
        "id": "SAfJgQsVqBkq"
      },
      "source": [
        "#Pre-Installation - Installing Chrome\n",
        "\n",
        "Here we will be installing Selenium and Chrome together. Selenium is a web automation tool to simulate click and a lot of other things. We will also be instlaling Chrome"
      ]
    },
    {
      "cell_type": "code",
      "execution_count": null,
      "metadata": {
        "colab": {
          "base_uri": "https://localhost:8080/"
        },
        "id": "pKagd_w510-1",
        "outputId": "a26239fe-cdb1-4d22-ed9f-5378857af480"
      },
      "outputs": [
        {
          "output_type": "stream",
          "name": "stdout",
          "text": [
            "Requirement already satisfied: selenium in /usr/local/lib/python3.10/dist-packages (4.19.0)\n",
            "Requirement already satisfied: urllib3[socks]<3,>=1.26 in /usr/local/lib/python3.10/dist-packages (from selenium) (2.0.7)\n",
            "Requirement already satisfied: trio~=0.17 in /usr/local/lib/python3.10/dist-packages (from selenium) (0.25.0)\n",
            "Requirement already satisfied: trio-websocket~=0.9 in /usr/local/lib/python3.10/dist-packages (from selenium) (0.11.1)\n",
            "Requirement already satisfied: certifi>=2021.10.8 in /usr/local/lib/python3.10/dist-packages (from selenium) (2024.2.2)\n",
            "Requirement already satisfied: typing_extensions>=4.9.0 in /usr/local/lib/python3.10/dist-packages (from selenium) (4.11.0)\n",
            "Requirement already satisfied: attrs>=23.2.0 in /usr/local/lib/python3.10/dist-packages (from trio~=0.17->selenium) (23.2.0)\n",
            "Requirement already satisfied: sortedcontainers in /usr/local/lib/python3.10/dist-packages (from trio~=0.17->selenium) (2.4.0)\n",
            "Requirement already satisfied: idna in /usr/local/lib/python3.10/dist-packages (from trio~=0.17->selenium) (3.7)\n",
            "Requirement already satisfied: outcome in /usr/local/lib/python3.10/dist-packages (from trio~=0.17->selenium) (1.3.0.post0)\n",
            "Requirement already satisfied: sniffio>=1.3.0 in /usr/local/lib/python3.10/dist-packages (from trio~=0.17->selenium) (1.3.1)\n",
            "Requirement already satisfied: exceptiongroup in /usr/local/lib/python3.10/dist-packages (from trio~=0.17->selenium) (1.2.0)\n",
            "Requirement already satisfied: wsproto>=0.14 in /usr/local/lib/python3.10/dist-packages (from trio-websocket~=0.9->selenium) (1.2.0)\n",
            "Requirement already satisfied: pysocks!=1.5.7,<2.0,>=1.5.6 in /usr/local/lib/python3.10/dist-packages (from urllib3[socks]<3,>=1.26->selenium) (1.7.1)\n",
            "Requirement already satisfied: h11<1,>=0.9.0 in /usr/local/lib/python3.10/dist-packages (from wsproto>=0.14->trio-websocket~=0.9->selenium) (0.14.0)\n",
            "Requirement already satisfied: tqdm in /usr/local/lib/python3.10/dist-packages (4.66.2)\n"
          ]
        }
      ],
      "source": [
        "!pip install selenium\n",
        "!pip install tqdm"
      ]
    },
    {
      "cell_type": "code",
      "execution_count": null,
      "metadata": {
        "colab": {
          "base_uri": "https://localhost:8080/"
        },
        "id": "Z_1Swl55zr4S",
        "outputId": "39ac7276-648b-4eab-dff9-e9c560eae837"
      },
      "outputs": [
        {
          "output_type": "stream",
          "name": "stdout",
          "text": [
            "Warning: apt-key is deprecated. Manage keyring files in trusted.gpg.d instead (see apt-key(8)).\n",
            "Executing: /tmp/apt-key-gpghome.pgUsw8CYGk/gpg.1.sh --keyserver keyserver.ubuntu.com --recv-keys DCC9EFBF77E11517\n",
            "gpg: key DCC9EFBF77E11517: \"Debian Stable Release Key (10/buster) <debian-release@lists.debian.org>\" not changed\n",
            "gpg: Total number processed: 1\n",
            "gpg:              unchanged: 1\n",
            "Warning: apt-key is deprecated. Manage keyring files in trusted.gpg.d instead (see apt-key(8)).\n",
            "Executing: /tmp/apt-key-gpghome.uiH1sqBPbp/gpg.1.sh --keyserver keyserver.ubuntu.com --recv-keys 648ACFD622F3D138\n",
            "gpg: key DC30D7C23CBBABEE: \"Debian Archive Automatic Signing Key (10/buster) <ftpmaster@debian.org>\" not changed\n",
            "gpg: Total number processed: 1\n",
            "gpg:              unchanged: 1\n",
            "Warning: apt-key is deprecated. Manage keyring files in trusted.gpg.d instead (see apt-key(8)).\n",
            "Executing: /tmp/apt-key-gpghome.rtkQUJdnOx/gpg.1.sh --keyserver keyserver.ubuntu.com --recv-keys 112695A0E562B32A\n",
            "gpg: key 4DFAB270CAA96DFA: \"Debian Security Archive Automatic Signing Key (10/buster) <ftpmaster@debian.org>\" not changed\n",
            "gpg: Total number processed: 1\n",
            "gpg:              unchanged: 1\n",
            "gpg: cannot open '/dev/tty': No such device or address\n",
            "Warning: apt-key is deprecated. Manage keyring files in trusted.gpg.d instead (see apt-key(8)).\n",
            "gpg: [stdout]: write error: Broken pipe\n",
            "gpg: filter_flush failed on close: Broken pipe\n",
            "gpg: cannot open '/dev/tty': No such device or address\n",
            "Warning: apt-key is deprecated. Manage keyring files in trusted.gpg.d instead (see apt-key(8)).\n",
            "gpg: [stdout]: write error: Broken pipe\n",
            "gpg: filter_flush failed on close: Broken pipe\n",
            "gpg: cannot open '/dev/tty': No such device or address\n",
            "Warning: apt-key is deprecated. Manage keyring files in trusted.gpg.d instead (see apt-key(8)).\n",
            "gpg: [stdout]: write error: Broken pipe\n",
            "gpg: filter_flush failed on close: Broken pipe\n",
            "/bin/bash: line 32: warning: here-document at line 23 delimited by end-of-file (wanted `EOF')\n"
          ]
        },
        {
          "output_type": "execute_result",
          "data": {
            "text/plain": []
          },
          "metadata": {},
          "execution_count": 23
        }
      ],
      "source": [
        "%%shell\n",
        "# Ubuntu no longer distributes chromium-browser outside of snap\n",
        "#\n",
        "# Proposed solution: https://askubuntu.com/questions/1204571/how-to-install-chromium-without-snap\n",
        "\n",
        "# Add debian buster\n",
        "cat > /etc/apt/sources.list.d/debian.list <<'EOF'\n",
        "deb [arch=amd64 signed-by=/usr/share/keyrings/debian-buster.gpg] http://deb.debian.org/debian buster main\n",
        "deb [arch=amd64 signed-by=/usr/share/keyrings/debian-buster-updates.gpg] http://deb.debian.org/debian buster-updates main\n",
        "deb [arch=amd64 signed-by=/usr/share/keyrings/debian-security-buster.gpg] http://deb.debian.org/debian-security buster/updates main\n",
        "EOF\n",
        "\n",
        "# Add keys\n",
        "apt-key adv --keyserver keyserver.ubuntu.com --recv-keys DCC9EFBF77E11517\n",
        "apt-key adv --keyserver keyserver.ubuntu.com --recv-keys 648ACFD622F3D138\n",
        "apt-key adv --keyserver keyserver.ubuntu.com --recv-keys 112695A0E562B32A\n",
        "\n",
        "apt-key export 77E11517 | gpg --dearmour -o /usr/share/keyrings/debian-buster.gpg\n",
        "apt-key export 22F3D138 | gpg --dearmour -o /usr/share/keyrings/debian-buster-updates.gpg\n",
        "apt-key export E562B32A | gpg --dearmour -o /usr/share/keyrings/debian-security-buster.gpg\n",
        "\n",
        "# Prefer debian repo for chromium* packages only\n",
        "# Note the double-blank lines between entries\n",
        "cat > /etc/apt/preferences.d/chromium.pref << 'EOF'\n",
        "Package: *\n",
        "Pin: release a=eoan\n",
        "Pin-Priority: 500\n",
        "\n",
        "\n",
        "Package: *\n",
        "Pin: origin \"deb.debian.org\"\n",
        "Pin-Priority: 300\n",
        "\n"
      ]
    },
    {
      "cell_type": "code",
      "execution_count": null,
      "metadata": {
        "id": "655FqnfG1WVM",
        "colab": {
          "base_uri": "https://localhost:8080/"
        },
        "outputId": "c329639d-4088-4b58-a933-c3f86a97795d"
      },
      "outputs": [
        {
          "output_type": "stream",
          "name": "stdout",
          "text": [
            "\r0% [Working]\r            \rHit:1 http://deb.debian.org/debian buster InRelease\n",
            "\r0% [Connecting to archive.ubuntu.com] [Connecting to security.ubuntu.com] [Connecting to cloud.r-pro\r                                                                                                    \rHit:2 http://deb.debian.org/debian buster-updates InRelease\n",
            "\r                                                                                                    \rHit:3 http://deb.debian.org/debian-security buster/updates InRelease\n",
            "\r0% [Connecting to archive.ubuntu.com] [Connecting to security.ubuntu.com] [Connected to cloud.r-proj\r                                                                                                    \rHit:4 https://cloud.r-project.org/bin/linux/ubuntu jammy-cran40/ InRelease\n",
            "Hit:5 https://developer.download.nvidia.com/compute/cuda/repos/ubuntu2204/x86_64  InRelease\n",
            "Get:6 http://security.ubuntu.com/ubuntu jammy-security InRelease [110 kB]\n",
            "Hit:7 http://archive.ubuntu.com/ubuntu jammy InRelease\n",
            "Get:8 http://archive.ubuntu.com/ubuntu jammy-updates InRelease [119 kB]\n",
            "Hit:9 https://ppa.launchpadcontent.net/c2d4u.team/c2d4u4.0+/ubuntu jammy InRelease\n",
            "Hit:10 https://ppa.launchpadcontent.net/deadsnakes/ppa/ubuntu jammy InRelease\n",
            "Hit:11 https://ppa.launchpadcontent.net/graphics-drivers/ppa/ubuntu jammy InRelease\n",
            "Hit:12 http://archive.ubuntu.com/ubuntu jammy-backports InRelease\n",
            "Hit:13 https://ppa.launchpadcontent.net/ubuntugis/ppa/ubuntu jammy InRelease\n",
            "Get:14 http://archive.ubuntu.com/ubuntu jammy-updates/universe amd64 Packages [1,369 kB]\n",
            "Get:15 http://archive.ubuntu.com/ubuntu jammy-updates/main amd64 Packages [2,019 kB]\n",
            "Fetched 3,617 kB in 3s (1,297 kB/s)\n",
            "Reading package lists... Done\n",
            "Reading package lists... Done\n",
            "Building dependency tree... Done\n",
            "Reading state information... Done\n",
            "chromium is already the newest version (90.0.4430.212-1~deb10u1).\n",
            "chromium-driver is already the newest version (90.0.4430.212-1~deb10u1).\n",
            "0 upgraded, 0 newly installed, 0 to remove and 208 not upgraded.\n"
          ]
        }
      ],
      "source": [
        "!apt-get update\n",
        "!apt-get install chromium chromium-driver"
      ]
    },
    {
      "cell_type": "markdown",
      "metadata": {
        "id": "XSr1nSikqSEl"
      },
      "source": [
        "#Import phases\n",
        "\n",
        "Here we will be importing libarires and a lot of other configuration, please make sure that you change the filename `filename.csv` to something else.\n",
        "\n",
        "We are fooling the system to have a look and thinking that it is a chrome browser running on a full screen on Linux. It's to trick the system that it is a genuine human with a real computer clicking it through!"
      ]
    },
    {
      "cell_type": "code",
      "execution_count": null,
      "metadata": {
        "colab": {
          "base_uri": "https://localhost:8080/"
        },
        "id": "l3GcfG72y4gI",
        "outputId": "4544fccb-b193-4a7d-80d9-69102157e4da"
      },
      "outputs": [
        {
          "output_type": "stream",
          "name": "stderr",
          "text": [
            "  0%|          | 0/264 [05:15<?, ?it/s]\n"
          ]
        }
      ],
      "source": [
        "from selenium import webdriver\n",
        "from selenium.webdriver.common.keys import Keys\n",
        "from selenium.webdriver.chrome.options import Options\n",
        "from selenium.webdriver.common.by import By\n",
        "from selenium.webdriver.support.ui import WebDriverWait, Select\n",
        "from selenium.webdriver.support import expected_conditions as EC\n",
        "from selenium.common.exceptions import TimeoutException  # Import TimeoutException\n",
        "import time\n",
        "import pandas as pd\n",
        "from tqdm import tqdm\n",
        "import datetime\n",
        "\n",
        "## FILE CONFIGURATION - CURRENTLY THE FILENAME IS SET TO FILEOUT.CSV\n",
        "df = pd.read_csv('march.csv')\n",
        "\n",
        "#FOR OUR LOOKUP TABLE\n",
        "df_lookup = pd.read_csv('lookup.csv')\n",
        "#df_lookup['State'] = df_lookup['State'].replace('Fiji', 'Queensland')\n",
        "\n",
        "\n",
        "# DATA CLEANING!!\n",
        "df.columns = df.columns.str.strip()\n",
        "progress_bar = tqdm(total=len(df), position=0, leave=True)\n",
        "df = df.replace('-','0')\n",
        "df.replace('-', 0, inplace=True)\n",
        "df = df.replace(' -   ','0')\n",
        "df = df.fillna(0)\n",
        "df_lookup = df_lookup.fillna(0)\n",
        "df['Meeting /Event Name'] = df['Meeting /Event Name'].str.replace('[^a-zA-Z0-9\\s]', '', regex=True) # fix the names\n"
      ]
    },
    {
      "cell_type": "code",
      "execution_count": null,
      "metadata": {
        "id": "gwe6n2Eoy8Dz"
      },
      "outputs": [],
      "source": [
        "options = webdriver.ChromeOptions()\n",
        "options.add_argument(\"--verbose\")\n",
        "options.add_argument('--no-sandbox')\n",
        "options.add_argument('--headless')\n",
        "options.add_argument('--disable-gpu')\n",
        "options.add_argument(\"--window-size=1920, 1200\")\n",
        "options.add_argument('--disable-dev-shm-usage')\n",
        "driver = webdriver.Chrome(options=options)\n",
        "\n",
        "\n",
        "# Navigate to the desired webpage\n",
        "driver.get('https://lightstay.ei3.com/')"
      ]
    },
    {
      "cell_type": "code",
      "execution_count": null,
      "metadata": {
        "id": "GGbg8gXtzq4S"
      },
      "outputs": [],
      "source": [
        "# Wait for the page to load (optional but recommended)\n",
        "driver.implicitly_wait(10)  # wait up to 10 seconds\n",
        "\n",
        "USER = \"enteruser\"\n",
        "PASSWORD = \"password\"\n",
        "\n",
        "# Locate the username and password fields\n",
        "username_field = driver.find_element(By.ID, 'loginform:username')\n",
        "password_field = driver.find_element(By.ID, 'loginform:password')\n",
        "driver.execute_script(\"arguments[0].value='your_password';\", password_field)\n",
        "\n",
        "\n",
        "\n",
        "username_field.send_keys('cehmann')\n",
        "driver.execute_script(\"arguments[0].value='adelaide';\", password_field)\n",
        "# Locate and click the login button\n",
        "login_button = driver.find_element(By.ID, 'loginform:loginButton')\n",
        "login_button.click()\n"
      ]
    },
    {
      "cell_type": "markdown",
      "metadata": {
        "id": "U78Lngqbn2AG"
      },
      "source": [
        "#Phase 1 - Data Entry and Mark it as submitted\n",
        "\n",
        "Here, we will be doing the following\n",
        "\n",
        "\n",
        "*   Read the file (which contains hotel details) and the code\n",
        "*   For each row, input the details on the fields and mark it as 'Submitted'\n",
        "*   Save it"
      ]
    },
    {
      "cell_type": "code",
      "execution_count": null,
      "metadata": {
        "colab": {
          "base_uri": "https://localhost:8080/"
        },
        "id": "3NHc4Bx58qMq",
        "outputId": "9774764f-8c07-44db-aca1-7ce1bc823850"
      },
      "outputs": [
        {
          "output_type": "stream",
          "name": "stdout",
          "text": [
            "3263  NVS NCCMEDICAL\n"
          ]
        },
        {
          "output_type": "stream",
          "name": "stderr",
          "text": [
            "\r  0%|          | 1/503 [00:13<1:50:02, 13.15s/it]"
          ]
        },
        {
          "output_type": "stream",
          "name": "stdout",
          "text": [
            "Entered Correctly!\n",
            "TRANSFORM 2024\n"
          ]
        },
        {
          "output_type": "stream",
          "name": "stderr",
          "text": [
            "\r  0%|          | 2/503 [00:16<1:01:01,  7.31s/it]"
          ]
        },
        {
          "output_type": "stream",
          "name": "stdout",
          "text": [
            "Entered Correctly!\n",
            "LawAustralasia Workshop 2024\n"
          ]
        },
        {
          "output_type": "stream",
          "name": "stderr",
          "text": [
            "\r  1%|          | 3/503 [00:19<44:56,  5.39s/it]  "
          ]
        },
        {
          "output_type": "stream",
          "name": "stdout",
          "text": [
            "Entered Correctly!\n",
            "AFDA AIE Aligned Convention 2024\n"
          ]
        },
        {
          "output_type": "stream",
          "name": "stderr",
          "text": [
            "\r  1%|          | 4/503 [00:23<40:22,  4.85s/it]"
          ]
        },
        {
          "output_type": "stream",
          "name": "stdout",
          "text": [
            "Entered Correctly!\n",
            "Samsung ElectronicsIT\n"
          ]
        },
        {
          "output_type": "stream",
          "name": "stderr",
          "text": [
            "\r  1%|          | 5/503 [00:26<35:07,  4.23s/it]"
          ]
        },
        {
          "output_type": "stream",
          "name": "stdout",
          "text": [
            "Entered Correctly!\n",
            "Edward Jones  Wave 4 2024 Group\n"
          ]
        },
        {
          "output_type": "stream",
          "name": "stderr",
          "text": [
            "\r  1%|          | 6/503 [00:29<32:35,  3.93s/it]"
          ]
        },
        {
          "output_type": "stream",
          "name": "stdout",
          "text": [
            "Entered Correctly!\n",
            "Edward Jones  Wave 2 2024 Group\n"
          ]
        },
        {
          "output_type": "stream",
          "name": "stderr",
          "text": [
            "\r  1%|▏         | 7/503 [00:33<30:11,  3.65s/it]"
          ]
        },
        {
          "output_type": "stream",
          "name": "stdout",
          "text": [
            "Entered Correctly!\n",
            "Edward Jones  Wave 3 2024 Group\n"
          ]
        },
        {
          "output_type": "stream",
          "name": "stderr",
          "text": [
            "\r  2%|▏         | 8/503 [00:36<29:33,  3.58s/it]"
          ]
        },
        {
          "output_type": "stream",
          "name": "stdout",
          "text": [
            "Entered Correctly!\n",
            "Edward Jones  Wave 5 2024 Group\n"
          ]
        },
        {
          "output_type": "stream",
          "name": "stderr",
          "text": [
            "\r  2%|▏         | 9/503 [00:40<31:50,  3.87s/it]"
          ]
        },
        {
          "output_type": "stream",
          "name": "stdout",
          "text": [
            "Entered Correctly!\n",
            "Australian Financial Review Business Summit AFRFINANCIAL\n"
          ]
        },
        {
          "output_type": "stream",
          "name": "stderr",
          "text": [
            "\r  2%|▏         | 10/503 [00:44<32:02,  3.90s/it]"
          ]
        },
        {
          "output_type": "stream",
          "name": "stdout",
          "text": [
            "Entered Correctly!\n",
            "ANZAOMS Meeting\n",
            "Unexpected URL: https://lightstay.ei3.com/property/SYDHI/tools/meetingcalculator/new\n",
            "ANZAOMS Meeting\n",
            "ANZ  SA Branch Manager Development Days\n"
          ]
        },
        {
          "output_type": "stream",
          "name": "stderr",
          "text": [
            "\r  2%|▏         | 11/503 [00:50<36:41,  4.47s/it]"
          ]
        },
        {
          "output_type": "stream",
          "name": "stdout",
          "text": [
            "Entered Correctly!\n",
            "Sydney International Endoscopy Symposium 2024MEDICAL\n"
          ]
        },
        {
          "output_type": "stream",
          "name": "stderr",
          "text": [
            "\r  2%|▏         | 12/503 [00:54<34:12,  4.18s/it]"
          ]
        },
        {
          "output_type": "stream",
          "name": "stdout",
          "text": [
            "Entered Correctly!\n",
            "V940007 Study Initiation Investigator Meeting\n"
          ]
        },
        {
          "output_type": "stream",
          "name": "stderr",
          "text": [
            "\r  3%|▎         | 13/503 [00:58<34:06,  4.18s/it]"
          ]
        },
        {
          "output_type": "stream",
          "name": "stdout",
          "text": [
            "Entered Correctly!\n",
            "Cooper Vision Australia Meeting\n"
          ]
        },
        {
          "output_type": "stream",
          "name": "stderr",
          "text": [
            "\r  3%|▎         | 14/503 [01:01<31:11,  3.83s/it]"
          ]
        },
        {
          "output_type": "stream",
          "name": "stdout",
          "text": [
            "Entered Correctly!\n",
            "Relativity Fest ANZIT\n"
          ]
        },
        {
          "output_type": "stream",
          "name": "stderr",
          "text": [
            "\r  3%|▎         | 15/503 [01:04<28:53,  3.55s/it]"
          ]
        },
        {
          "output_type": "stream",
          "name": "stdout",
          "text": [
            "Entered Correctly!\n",
            "REA Group Staff Pricing Training Conference\n"
          ]
        },
        {
          "output_type": "stream",
          "name": "stderr",
          "text": [
            "\r  3%|▎         | 16/503 [01:07<27:36,  3.40s/it]"
          ]
        },
        {
          "output_type": "stream",
          "name": "stdout",
          "text": [
            "Entered Correctly!\n",
            "CLCKurra March Meeting\n"
          ]
        },
        {
          "output_type": "stream",
          "name": "stderr",
          "text": [
            "\r  3%|▎         | 17/503 [01:11<28:04,  3.47s/it]"
          ]
        },
        {
          "output_type": "stream",
          "name": "stdout",
          "text": [
            "Entered Correctly!\n",
            "The Icehouse LDP56 Block 2\n"
          ]
        },
        {
          "output_type": "stream",
          "name": "stderr",
          "text": [
            "\r  4%|▎         | 18/503 [01:14<28:59,  3.59s/it]"
          ]
        },
        {
          "output_type": "stream",
          "name": "stdout",
          "text": [
            "Entered Correctly!\n",
            "Scania March 2024 Meeting\n"
          ]
        },
        {
          "output_type": "stream",
          "name": "stderr",
          "text": [
            "\r  4%|▍         | 19/503 [01:17<27:14,  3.38s/it]"
          ]
        },
        {
          "output_type": "stream",
          "name": "stdout",
          "text": [
            "Entered Correctly!\n",
            "Kitchen Studio March 2024 Meeting\n"
          ]
        },
        {
          "output_type": "stream",
          "name": "stderr",
          "text": [
            "\r  4%|▍         | 20/503 [01:20<26:33,  3.30s/it]"
          ]
        },
        {
          "output_type": "stream",
          "name": "stdout",
          "text": [
            "Entered Correctly!\n",
            "Global Carbon Capture Storage Institute APAC Forum GHGLOA\n"
          ]
        },
        {
          "output_type": "stream",
          "name": "stderr",
          "text": [
            "\r  4%|▍         | 21/503 [01:23<25:56,  3.23s/it]"
          ]
        },
        {
          "output_type": "stream",
          "name": "stdout",
          "text": [
            "Entered Correctly!\n",
            "VSS 2024\n"
          ]
        },
        {
          "output_type": "stream",
          "name": "stderr",
          "text": [
            "\r  4%|▍         | 22/503 [01:27<27:22,  3.42s/it]"
          ]
        },
        {
          "output_type": "stream",
          "name": "stdout",
          "text": [
            "Entered Correctly!\n",
            "OHS Leaders Summit\n"
          ]
        },
        {
          "output_type": "stream",
          "name": "stderr",
          "text": [
            "\r  5%|▍         | 23/503 [01:31<28:08,  3.52s/it]"
          ]
        },
        {
          "output_type": "stream",
          "name": "stdout",
          "text": [
            "Entered Correctly!\n",
            "ServiceNow Summit  March 2024\n"
          ]
        },
        {
          "output_type": "stream",
          "name": "stderr",
          "text": [
            "\r  5%|▍         | 24/503 [01:34<26:53,  3.37s/it]"
          ]
        },
        {
          "output_type": "stream",
          "name": "stdout",
          "text": [
            "Entered Correctly!\n",
            "Q1 2024 GM Conference\n"
          ]
        },
        {
          "output_type": "stream",
          "name": "stderr",
          "text": [
            "\r  5%|▍         | 25/503 [01:37<25:43,  3.23s/it]"
          ]
        },
        {
          "output_type": "stream",
          "name": "stdout",
          "text": [
            "Entered Correctly!\n",
            "Nuskin Group\n"
          ]
        },
        {
          "output_type": "stream",
          "name": "stderr",
          "text": [
            "\r  5%|▌         | 26/503 [01:40<25:07,  3.16s/it]"
          ]
        },
        {
          "output_type": "stream",
          "name": "stdout",
          "text": [
            "Entered Correctly!\n",
            "McGraw Hill Event\n"
          ]
        },
        {
          "output_type": "stream",
          "name": "stderr",
          "text": [
            "\r  5%|▌         | 27/503 [01:44<26:35,  3.35s/it]"
          ]
        },
        {
          "output_type": "stream",
          "name": "stdout",
          "text": [
            "Entered Correctly!\n",
            "QSPA State Council Meeting  March 2024\n"
          ]
        },
        {
          "output_type": "stream",
          "name": "stderr",
          "text": [
            "\r  6%|▌         | 28/503 [01:47<27:11,  3.43s/it]"
          ]
        },
        {
          "output_type": "stream",
          "name": "stdout",
          "text": [
            "Entered Correctly!\n",
            "MarkemImaje Meeting\n"
          ]
        },
        {
          "output_type": "stream",
          "name": "stderr",
          "text": [
            "\r  6%|▌         | 29/503 [01:50<26:05,  3.30s/it]"
          ]
        },
        {
          "output_type": "stream",
          "name": "stdout",
          "text": [
            "Entered Correctly!\n",
            "2024 AUA Finance Meeting\n"
          ]
        },
        {
          "output_type": "stream",
          "name": "stderr",
          "text": [
            "\r  6%|▌         | 30/503 [01:53<25:22,  3.22s/it]"
          ]
        },
        {
          "output_type": "stream",
          "name": "stdout",
          "text": [
            "Entered Correctly!\n",
            "Mercer Marsh Conference\n"
          ]
        },
        {
          "output_type": "stream",
          "name": "stderr",
          "text": [
            "\r  6%|▌         | 31/503 [01:56<24:38,  3.13s/it]"
          ]
        },
        {
          "output_type": "stream",
          "name": "stdout",
          "text": [
            "Entered Correctly!\n",
            "Orbit  IRD March 2024 Conference\n"
          ]
        },
        {
          "output_type": "stream",
          "name": "stderr",
          "text": [
            "\r  6%|▋         | 32/503 [02:00<26:45,  3.41s/it]"
          ]
        },
        {
          "output_type": "stream",
          "name": "stdout",
          "text": [
            "Entered Correctly!\n",
            "Local Government NZ Zone 56 March 2024 Conference\n"
          ]
        },
        {
          "output_type": "stream",
          "name": "stderr",
          "text": [
            "\r  7%|▋         | 33/503 [02:04<27:02,  3.45s/it]"
          ]
        },
        {
          "output_type": "stream",
          "name": "stdout",
          "text": [
            "Entered Correctly!\n",
            "AGCO March 2024 Conference\n"
          ]
        },
        {
          "output_type": "stream",
          "name": "stderr",
          "text": [
            "\r  7%|▋         | 34/503 [02:07<26:00,  3.33s/it]"
          ]
        },
        {
          "output_type": "stream",
          "name": "stdout",
          "text": [
            "Entered Correctly!\n",
            "Harmans Lawyers March 2024 Meeting\n"
          ]
        },
        {
          "output_type": "stream",
          "name": "stderr",
          "text": [
            "\r  7%|▋         | 35/503 [02:10<25:14,  3.24s/it]"
          ]
        },
        {
          "output_type": "stream",
          "name": "stdout",
          "text": [
            "Entered Correctly!\n",
            "ADAMA March 2024 Conference\n"
          ]
        },
        {
          "output_type": "stream",
          "name": "stderr",
          "text": [
            "\r  7%|▋         | 36/503 [02:13<25:24,  3.26s/it]"
          ]
        },
        {
          "output_type": "stream",
          "name": "stdout",
          "text": [
            "Entered Correctly!\n",
            "TyreStewardship Australia  Meeting\n"
          ]
        },
        {
          "output_type": "stream",
          "name": "stderr",
          "text": [
            "\r  7%|▋         | 37/503 [02:17<27:20,  3.52s/it]"
          ]
        },
        {
          "output_type": "stream",
          "name": "stdout",
          "text": [
            "Entered Correctly!\n",
            "CA ANZ NT Forum  2024\n"
          ]
        },
        {
          "output_type": "stream",
          "name": "stderr",
          "text": [
            "\r  8%|▊         | 38/503 [02:20<26:03,  3.36s/it]"
          ]
        },
        {
          "output_type": "stream",
          "name": "stdout",
          "text": [
            "Entered Correctly!\n",
            "Lumivero Regional Summit\n"
          ]
        },
        {
          "output_type": "stream",
          "name": "stderr",
          "text": [
            "\r  8%|▊         | 39/503 [02:23<25:10,  3.26s/it]"
          ]
        },
        {
          "output_type": "stream",
          "name": "stdout",
          "text": [
            "Entered Correctly!\n",
            "Bridgewest Ventures Conference\n"
          ]
        },
        {
          "output_type": "stream",
          "name": "stderr",
          "text": [
            "\r  8%|▊         | 40/503 [02:27<24:59,  3.24s/it]"
          ]
        },
        {
          "output_type": "stream",
          "name": "stdout",
          "text": [
            "Entered Correctly!\n",
            "ACHSM One Day Conference\n"
          ]
        },
        {
          "output_type": "stream",
          "name": "stderr",
          "text": [
            "\r  8%|▊         | 41/503 [02:31<26:17,  3.41s/it]"
          ]
        },
        {
          "output_type": "stream",
          "name": "stdout",
          "text": [
            "Entered Correctly!\n",
            "Nestle Conference 2024\n"
          ]
        },
        {
          "output_type": "stream",
          "name": "stderr",
          "text": [
            "\r  8%|▊         | 42/503 [02:34<27:30,  3.58s/it]"
          ]
        },
        {
          "output_type": "stream",
          "name": "stdout",
          "text": [
            "Entered Correctly!\n",
            "ICNZ Conference\n"
          ]
        },
        {
          "output_type": "stream",
          "name": "stderr",
          "text": [
            "\r  9%|▊         | 43/503 [02:37<25:58,  3.39s/it]"
          ]
        },
        {
          "output_type": "stream",
          "name": "stdout",
          "text": [
            "Entered Correctly!\n",
            "MTMD Forum\n"
          ]
        },
        {
          "output_type": "stream",
          "name": "stderr",
          "text": [
            "\r  9%|▊         | 44/503 [02:40<24:49,  3.24s/it]"
          ]
        },
        {
          "output_type": "stream",
          "name": "stdout",
          "text": [
            "Entered Correctly!\n",
            "Yamatji Marlpa Aboriginal All Staff Conference\n"
          ]
        },
        {
          "output_type": "stream",
          "name": "stderr",
          "text": [
            "\r  9%|▉         | 45/503 [02:43<24:20,  3.19s/it]"
          ]
        },
        {
          "output_type": "stream",
          "name": "stdout",
          "text": [
            "Entered Correctly!\n",
            "CLCGMAAAC March 2024 Meeting\n"
          ]
        },
        {
          "output_type": "stream",
          "name": "stderr",
          "text": [
            "\r  9%|▉         | 46/503 [02:47<26:17,  3.45s/it]"
          ]
        },
        {
          "output_type": "stream",
          "name": "stdout",
          "text": [
            "Entered Correctly!\n",
            "Mining and Energy Union  International Dust Conference\n"
          ]
        },
        {
          "output_type": "stream",
          "name": "stderr",
          "text": [
            "\r  9%|▉         | 47/503 [02:51<26:49,  3.53s/it]"
          ]
        },
        {
          "output_type": "stream",
          "name": "stdout",
          "text": [
            "Entered Correctly!\n",
            "2024 Imparja Cup  National Indigenous Cricket Championships\n"
          ]
        },
        {
          "output_type": "stream",
          "name": "stderr",
          "text": [
            "\r 10%|▉         | 48/503 [02:54<25:52,  3.41s/it]"
          ]
        },
        {
          "output_type": "stream",
          "name": "stdout",
          "text": [
            "Entered Correctly!\n",
            "BurgerFuel Conference  March 2024\n"
          ]
        },
        {
          "output_type": "stream",
          "name": "stderr",
          "text": [
            "\r 10%|▉         | 49/503 [02:57<24:51,  3.28s/it]"
          ]
        },
        {
          "output_type": "stream",
          "name": "stdout",
          "text": [
            "Entered Correctly!\n",
            "Syngenta March 2024 Meeting\n"
          ]
        },
        {
          "output_type": "stream",
          "name": "stderr",
          "text": [
            "\r 10%|▉         | 50/503 [03:00<24:16,  3.22s/it]"
          ]
        },
        {
          "output_type": "stream",
          "name": "stdout",
          "text": [
            "Entered Correctly!\n",
            "Ideal Electrical February 2024 Conference\n"
          ]
        },
        {
          "output_type": "stream",
          "name": "stderr",
          "text": [
            "\r 10%|█         | 51/503 [03:04<26:05,  3.46s/it]"
          ]
        },
        {
          "output_type": "stream",
          "name": "stdout",
          "text": [
            "Entered Correctly!\n",
            "Radius Care March 2024 Conference\n"
          ]
        },
        {
          "output_type": "stream",
          "name": "stderr",
          "text": [
            "\r 10%|█         | 52/503 [03:08<25:53,  3.44s/it]"
          ]
        },
        {
          "output_type": "stream",
          "name": "stdout",
          "text": [
            "Entered Correctly!\n",
            "Keyton Meeting\n"
          ]
        },
        {
          "output_type": "stream",
          "name": "stderr",
          "text": [
            "\r 11%|█         | 53/503 [03:11<25:02,  3.34s/it]"
          ]
        },
        {
          "output_type": "stream",
          "name": "stdout",
          "text": [
            "Entered Correctly!\n",
            "CBH 1315 March\n"
          ]
        },
        {
          "output_type": "stream",
          "name": "stderr",
          "text": [
            "\r 11%|█         | 54/503 [03:14<24:04,  3.22s/it]"
          ]
        },
        {
          "output_type": "stream",
          "name": "stdout",
          "text": [
            "Entered Correctly!\n",
            "VBT Bicycling  Walking Vacations  20 Mar\n"
          ]
        },
        {
          "output_type": "stream",
          "name": "stderr",
          "text": [
            "\r 11%|█         | 55/503 [03:17<24:41,  3.31s/it]"
          ]
        },
        {
          "output_type": "stream",
          "name": "stdout",
          "text": [
            "Entered Correctly!\n",
            "VBT Bicycling  Walking Vacations  06 Mar\n"
          ]
        },
        {
          "output_type": "stream",
          "name": "stderr",
          "text": [
            "\r 11%|█         | 56/503 [03:22<26:55,  3.61s/it]"
          ]
        },
        {
          "output_type": "stream",
          "name": "stdout",
          "text": [
            "Entered Correctly!\n",
            "VBT Bicycling  Walking Vacations  28 Feb\n"
          ]
        },
        {
          "output_type": "stream",
          "name": "stderr",
          "text": [
            "\r 11%|█▏        | 57/503 [03:25<25:33,  3.44s/it]"
          ]
        },
        {
          "output_type": "stream",
          "name": "stdout",
          "text": [
            "Entered Correctly!\n",
            "General Travel  Incentive group\n"
          ]
        },
        {
          "output_type": "stream",
          "name": "stderr",
          "text": [
            "\r 12%|█▏        | 58/503 [03:28<24:46,  3.34s/it]"
          ]
        },
        {
          "output_type": "stream",
          "name": "stdout",
          "text": [
            "Entered Correctly!\n",
            "Grand Circle ANZ0322\n"
          ]
        },
        {
          "output_type": "stream",
          "name": "stderr",
          "text": [
            "\r 12%|█▏        | 59/503 [03:31<25:04,  3.39s/it]"
          ]
        },
        {
          "output_type": "stream",
          "name": "stdout",
          "text": [
            "Entered Correctly!\n",
            "InXpress Annual Convention  25 Year Anniversary\n"
          ]
        },
        {
          "output_type": "stream",
          "name": "stderr",
          "text": [
            "\r 12%|█▏        | 60/503 [03:35<26:27,  3.58s/it]"
          ]
        },
        {
          "output_type": "stream",
          "name": "stdout",
          "text": [
            "Entered Correctly!\n",
            "HIS  DOTERRA TGQ08160318\n"
          ]
        },
        {
          "output_type": "stream",
          "name": "stderr",
          "text": [
            "\r 12%|█▏        | 61/503 [03:39<26:29,  3.60s/it]"
          ]
        },
        {
          "output_type": "stream",
          "name": "stdout",
          "text": [
            "Entered Correctly!\n",
            "Senior Leaders Strategy Day\n"
          ]
        },
        {
          "output_type": "stream",
          "name": "stderr",
          "text": [
            "\r 12%|█▏        | 62/503 [03:42<25:08,  3.42s/it]"
          ]
        },
        {
          "output_type": "stream",
          "name": "stdout",
          "text": [
            "Entered Correctly!\n",
            "PNG Mine Monitoring User Conference 2024\n"
          ]
        },
        {
          "output_type": "stream",
          "name": "stderr",
          "text": [
            "\r 13%|█▎        | 63/503 [03:45<24:18,  3.32s/it]"
          ]
        },
        {
          "output_type": "stream",
          "name": "stdout",
          "text": [
            "Entered Correctly!\n",
            "Sunday Tours\n"
          ]
        },
        {
          "output_type": "stream",
          "name": "stderr",
          "text": [
            "\r 13%|█▎        | 64/503 [03:48<23:19,  3.19s/it]"
          ]
        },
        {
          "output_type": "stream",
          "name": "stdout",
          "text": [
            "Entered Correctly!\n",
            "CLC Meeting  29th Feb\n"
          ]
        },
        {
          "output_type": "stream",
          "name": "stderr",
          "text": [
            "\r 13%|█▎        | 65/503 [03:52<25:00,  3.43s/it]"
          ]
        },
        {
          "output_type": "stream",
          "name": "stdout",
          "text": [
            "Entered Correctly!\n",
            "Pharmacy Management Meeting Q1 2024\n"
          ]
        },
        {
          "output_type": "stream",
          "name": "stderr",
          "text": [
            "\r 13%|█▎        | 66/503 [03:55<24:51,  3.41s/it]"
          ]
        },
        {
          "output_type": "stream",
          "name": "stdout",
          "text": [
            "Entered Correctly!\n",
            "Apuarangi Hui Group February 2024\n"
          ]
        },
        {
          "output_type": "stream",
          "name": "stderr",
          "text": [
            "\r 13%|█▎        | 67/503 [03:58<24:03,  3.31s/it]"
          ]
        },
        {
          "output_type": "stream",
          "name": "stdout",
          "text": [
            "Entered Correctly!\n",
            "CFAN Workshop\n"
          ]
        },
        {
          "output_type": "stream",
          "name": "stderr",
          "text": [
            "\r 14%|█▎        | 68/503 [04:01<23:06,  3.19s/it]"
          ]
        },
        {
          "output_type": "stream",
          "name": "stdout",
          "text": [
            "Entered Correctly!\n",
            "Global Green Growth Institute meeting\n"
          ]
        },
        {
          "output_type": "stream",
          "name": "stderr",
          "text": [
            "\r 14%|█▎        | 69/503 [04:05<23:12,  3.21s/it]"
          ]
        },
        {
          "output_type": "stream",
          "name": "stdout",
          "text": [
            "Entered Correctly!\n",
            "Check Point Software Meeting\n"
          ]
        },
        {
          "output_type": "stream",
          "name": "stderr",
          "text": [
            "\r 14%|█▍        | 70/503 [04:08<24:32,  3.40s/it]"
          ]
        },
        {
          "output_type": "stream",
          "name": "stdout",
          "text": [
            "Entered Correctly!\n",
            "Ad Standards Training Day\n"
          ]
        },
        {
          "output_type": "stream",
          "name": "stderr",
          "text": [
            "\r 14%|█▍        | 71/503 [04:11<23:37,  3.28s/it]"
          ]
        },
        {
          "output_type": "stream",
          "name": "stdout",
          "text": [
            "Entered Correctly!\n",
            "Change Collaborative March 2024 Meeting\n"
          ]
        },
        {
          "output_type": "stream",
          "name": "stderr",
          "text": [
            "\r 14%|█▍        | 72/503 [04:14<23:09,  3.22s/it]"
          ]
        },
        {
          "output_type": "stream",
          "name": "stdout",
          "text": [
            "Entered Correctly!\n",
            "LAC Corporate Workshop 2024\n"
          ]
        },
        {
          "output_type": "stream",
          "name": "stderr",
          "text": [
            "\r 15%|█▍        | 73/503 [04:18<23:08,  3.23s/it]"
          ]
        },
        {
          "output_type": "stream",
          "name": "stdout",
          "text": [
            "Entered Correctly!\n",
            "UNICEF Team Meeting  March 2024\n"
          ]
        },
        {
          "output_type": "stream",
          "name": "stderr",
          "text": [
            "\r 15%|█▍        | 74/503 [04:22<24:41,  3.45s/it]"
          ]
        },
        {
          "output_type": "stream",
          "name": "stdout",
          "text": [
            "Entered Correctly!\n",
            "Newmont PNG Social Performance Team Meeting\n"
          ]
        },
        {
          "output_type": "stream",
          "name": "stderr",
          "text": [
            "\r 15%|█▍        | 75/503 [04:26<26:54,  3.77s/it]"
          ]
        },
        {
          "output_type": "stream",
          "name": "stdout",
          "text": [
            "Entered Correctly!\n",
            "ECU Team Building Event\n",
            "Unexpected URL: https://lightstay.ei3.com/property/PERDT/tools/meetingcalculator/new\n",
            "ECU Team Building Event\n",
            "FLS Training\n",
            "Unexpected URL: https://lightstay.ei3.com/property/SYDHI/tools/meetingcalculator/new\n",
            "FLS Training\n",
            "PIFS Regional Workshop March 2024\n"
          ]
        },
        {
          "output_type": "stream",
          "name": "stderr",
          "text": [
            "\r 15%|█▌        | 76/503 [04:35<38:14,  5.37s/it]"
          ]
        },
        {
          "output_type": "stream",
          "name": "stdout",
          "text": [
            "Entered Correctly!\n",
            "Fulton Hogan March 2024 Meeting\n",
            "Unexpected URL: https://lightstay.ei3.com/property/ZQNHQ/tools/meetingcalculator/new\n",
            "Fulton Hogan March 2024 Meeting\n",
            "SEOC Meeting\n"
          ]
        },
        {
          "output_type": "stream",
          "name": "stderr",
          "text": [
            "\r 15%|█▌        | 77/503 [04:43<43:18,  6.10s/it]"
          ]
        },
        {
          "output_type": "stream",
          "name": "stdout",
          "text": [
            "Entered Correctly!\n",
            "PNGICSA SPECIAL ADVISORY BOARD MEETING\n",
            "Unexpected URL: https://lightstay.ei3.com/property/POMSM/tools/meetingcalculator/new\n",
            "PNGICSA SPECIAL ADVISORY BOARD MEETING\n",
            "Dementia Support Australia\n"
          ]
        },
        {
          "output_type": "stream",
          "name": "stderr",
          "text": [
            "\r 16%|█▌        | 78/503 [04:49<43:48,  6.18s/it]"
          ]
        },
        {
          "output_type": "stream",
          "name": "stdout",
          "text": [
            "Entered Correctly!\n",
            "Ironman Conference\n"
          ]
        },
        {
          "output_type": "stream",
          "name": "stderr",
          "text": [
            "\r 16%|█▌        | 79/503 [04:53<37:06,  5.25s/it]"
          ]
        },
        {
          "output_type": "stream",
          "name": "stdout",
          "text": [
            "Entered Correctly!\n",
            "FCB  HR Conference 2024\n"
          ]
        },
        {
          "output_type": "stream",
          "name": "stderr",
          "text": [
            "\r 16%|█▌        | 80/503 [04:57<34:15,  4.86s/it]"
          ]
        },
        {
          "output_type": "stream",
          "name": "stdout",
          "text": [
            "Entered Correctly!\n",
            "World Journeys February 2024 Client Evening\n"
          ]
        },
        {
          "output_type": "stream",
          "name": "stderr",
          "text": [
            "\r 16%|█▌        | 81/503 [05:00<32:09,  4.57s/it]"
          ]
        },
        {
          "output_type": "stream",
          "name": "stdout",
          "text": [
            "Entered Correctly!\n",
            "SASSPA Seminar 2024\n"
          ]
        },
        {
          "output_type": "stream",
          "name": "stderr",
          "text": [
            "\r 16%|█▋        | 82/503 [05:03<28:49,  4.11s/it]"
          ]
        },
        {
          "output_type": "stream",
          "name": "stdout",
          "text": [
            "Entered Correctly!\n",
            "SCNZ March 2024 Conference\n"
          ]
        },
        {
          "output_type": "stream",
          "name": "stderr",
          "text": [
            "\r 17%|█▋        | 83/503 [05:07<26:43,  3.82s/it]"
          ]
        },
        {
          "output_type": "stream",
          "name": "stdout",
          "text": [
            "Entered Correctly!\n",
            "APA Geospatial Workshop\n"
          ]
        },
        {
          "output_type": "stream",
          "name": "stderr",
          "text": [
            "\r 17%|█▋        | 84/503 [05:10<25:28,  3.65s/it]"
          ]
        },
        {
          "output_type": "stream",
          "name": "stdout",
          "text": [
            "Entered Correctly!\n",
            "Connect Virtual Care\n"
          ]
        },
        {
          "output_type": "stream",
          "name": "stderr",
          "text": [
            "\r 17%|█▋        | 85/503 [05:14<25:38,  3.68s/it]"
          ]
        },
        {
          "output_type": "stream",
          "name": "stdout",
          "text": [
            "Entered Correctly!\n",
            "ProjectChat Conference 2024\n"
          ]
        },
        {
          "output_type": "stream",
          "name": "stderr",
          "text": [
            "\r 17%|█▋        | 86/503 [05:17<24:43,  3.56s/it]"
          ]
        },
        {
          "output_type": "stream",
          "name": "stdout",
          "text": [
            "Entered Correctly!\n",
            "3340  Pharma  Rheumatology Conference PHARMA\n"
          ]
        },
        {
          "output_type": "stream",
          "name": "stderr",
          "text": [
            "\r 17%|█▋        | 87/503 [05:20<23:40,  3.42s/it]"
          ]
        },
        {
          "output_type": "stream",
          "name": "stdout",
          "text": [
            "Entered Correctly!\n",
            "Department of Human Services Restrictive Practices Forum\n"
          ]
        },
        {
          "output_type": "stream",
          "name": "stderr",
          "text": [
            "\r 17%|█▋        | 88/503 [05:23<23:06,  3.34s/it]"
          ]
        },
        {
          "output_type": "stream",
          "name": "stdout",
          "text": [
            "Entered Correctly!\n",
            "Southern Cross Language Institute March 2024 Graduation\n"
          ]
        },
        {
          "output_type": "stream",
          "name": "stderr",
          "text": [
            "\r 18%|█▊        | 89/503 [05:27<24:36,  3.57s/it]"
          ]
        },
        {
          "output_type": "stream",
          "name": "stdout",
          "text": [
            "Entered Correctly!\n",
            "MCI Australia Healthcare Meeting\n"
          ]
        },
        {
          "output_type": "stream",
          "name": "stderr",
          "text": [
            "\r 18%|█▊        | 90/503 [05:32<26:05,  3.79s/it]"
          ]
        },
        {
          "output_type": "stream",
          "name": "stdout",
          "text": [
            "Entered Correctly!\n",
            "One Day Claims Prevention Seminar\n"
          ]
        },
        {
          "output_type": "stream",
          "name": "stderr",
          "text": [
            "\r 18%|█▊        | 91/503 [05:36<28:04,  4.09s/it]"
          ]
        },
        {
          "output_type": "stream",
          "name": "stdout",
          "text": [
            "Entered Correctly!\n",
            "SAH2H Conference  Expo\n"
          ]
        },
        {
          "output_type": "stream",
          "name": "stderr",
          "text": [
            "\r 18%|█▊        | 92/503 [05:40<27:37,  4.03s/it]"
          ]
        },
        {
          "output_type": "stream",
          "name": "stdout",
          "text": [
            "Entered Correctly!\n",
            "Future Place  FOO Conference\n"
          ]
        },
        {
          "output_type": "stream",
          "name": "stderr",
          "text": [
            "\r 18%|█▊        | 93/503 [05:44<27:40,  4.05s/it]"
          ]
        },
        {
          "output_type": "stream",
          "name": "stdout",
          "text": [
            "Entered Correctly!\n",
            "Step SA  Conference 2024\n"
          ]
        },
        {
          "output_type": "stream",
          "name": "stderr",
          "text": [
            "\r 19%|█▊        | 94/503 [05:48<26:51,  3.94s/it]"
          ]
        },
        {
          "output_type": "stream",
          "name": "stdout",
          "text": [
            "Entered Correctly!\n",
            "Tyre Stewardship Conference\n"
          ]
        },
        {
          "output_type": "stream",
          "name": "stderr",
          "text": [
            "\r 19%|█▉        | 95/503 [05:51<24:52,  3.66s/it]"
          ]
        },
        {
          "output_type": "stream",
          "name": "stdout",
          "text": [
            "Entered Correctly!\n",
            "NTAA FBT March Seminar 2024\n"
          ]
        },
        {
          "output_type": "stream",
          "name": "stderr",
          "text": [
            "\r 19%|█▉        | 96/503 [05:54<23:31,  3.47s/it]"
          ]
        },
        {
          "output_type": "stream",
          "name": "stdout",
          "text": [
            "Entered Correctly!\n",
            "Legalwise Seminar\n"
          ]
        },
        {
          "output_type": "stream",
          "name": "stderr",
          "text": [
            "\r 19%|█▉        | 97/503 [05:57<22:24,  3.31s/it]"
          ]
        },
        {
          "output_type": "stream",
          "name": "stdout",
          "text": [
            "Entered Correctly!\n",
            "Intuit QuickBooks Roadshow\n"
          ]
        },
        {
          "output_type": "stream",
          "name": "stderr",
          "text": [
            "\r 19%|█▉        | 98/503 [06:01<23:40,  3.51s/it]"
          ]
        },
        {
          "output_type": "stream",
          "name": "stdout",
          "text": [
            "Entered Correctly!\n",
            "APGA Training Course 2024\n"
          ]
        },
        {
          "output_type": "stream",
          "name": "stderr",
          "text": [
            "\r 20%|█▉        | 99/503 [06:04<23:27,  3.48s/it]"
          ]
        },
        {
          "output_type": "stream",
          "name": "stdout",
          "text": [
            "Entered Correctly!\n",
            "Mortgage Choice Professional Development Day Series 1\n"
          ]
        },
        {
          "output_type": "stream",
          "name": "stderr",
          "text": [
            "\r 20%|█▉        | 100/503 [06:07<22:31,  3.35s/it]"
          ]
        },
        {
          "output_type": "stream",
          "name": "stdout",
          "text": [
            "Entered Correctly!\n",
            "AMSANT Meeting\n"
          ]
        },
        {
          "output_type": "stream",
          "name": "stderr",
          "text": [
            "\r 20%|██        | 101/503 [06:10<21:41,  3.24s/it]"
          ]
        },
        {
          "output_type": "stream",
          "name": "stdout",
          "text": [
            "Entered Correctly!\n",
            "EML  FRNSW Seminar  FINANCE\n"
          ]
        },
        {
          "output_type": "stream",
          "name": "stderr",
          "text": [
            "\r 20%|██        | 102/503 [06:13<21:03,  3.15s/it]"
          ]
        },
        {
          "output_type": "stream",
          "name": "stdout",
          "text": [
            "Entered Correctly!\n",
            "Crisis Prevention March 2024\n"
          ]
        },
        {
          "output_type": "stream",
          "name": "stderr",
          "text": [
            "\r 20%|██        | 103/503 [06:17<22:21,  3.35s/it]"
          ]
        },
        {
          "output_type": "stream",
          "name": "stdout",
          "text": [
            "Entered Correctly!\n",
            "Crisis Prevention2 March 2024\n"
          ]
        },
        {
          "output_type": "stream",
          "name": "stderr",
          "text": [
            "\r 21%|██        | 104/503 [06:20<22:10,  3.34s/it]"
          ]
        },
        {
          "output_type": "stream",
          "name": "stdout",
          "text": [
            "Entered Correctly!\n",
            "Crisis Prevention March 2 2024\n"
          ]
        },
        {
          "output_type": "stream",
          "name": "stderr",
          "text": [
            "\r 21%|██        | 105/503 [06:23<21:09,  3.19s/it]"
          ]
        },
        {
          "output_type": "stream",
          "name": "stdout",
          "text": [
            "Entered Correctly!\n",
            "3RINCs2024\n"
          ]
        },
        {
          "output_type": "stream",
          "name": "stderr",
          "text": [
            "\r 21%|██        | 106/503 [06:26<20:33,  3.11s/it]"
          ]
        },
        {
          "output_type": "stream",
          "name": "stdout",
          "text": [
            "Entered Correctly!\n",
            "DESART Conference 2024\n"
          ]
        },
        {
          "output_type": "stream",
          "name": "stderr",
          "text": [
            "\r 21%|██▏       | 107/503 [06:29<20:16,  3.07s/it]"
          ]
        },
        {
          "output_type": "stream",
          "name": "stdout",
          "text": [
            "Entered Correctly!\n",
            "Cook Medical Meeting\n"
          ]
        },
        {
          "output_type": "stream",
          "name": "stderr",
          "text": [
            "\r 21%|██▏       | 108/503 [06:33<21:41,  3.29s/it]"
          ]
        },
        {
          "output_type": "stream",
          "name": "stdout",
          "text": [
            "Entered Correctly!\n",
            "MIGA Conference Mar 2024\n"
          ]
        },
        {
          "output_type": "stream",
          "name": "stderr",
          "text": [
            "\r 22%|██▏       | 109/503 [06:36<21:20,  3.25s/it]"
          ]
        },
        {
          "output_type": "stream",
          "name": "stdout",
          "text": [
            "Entered Correctly!\n",
            "PWC Training Sessions\n"
          ]
        },
        {
          "output_type": "stream",
          "name": "stderr",
          "text": [
            "\r 22%|██▏       | 110/503 [06:39<20:26,  3.12s/it]"
          ]
        },
        {
          "output_type": "stream",
          "name": "stdout",
          "text": [
            "Entered Correctly!\n",
            "CRANAplus REC1908  ALS1914\n"
          ]
        },
        {
          "output_type": "stream",
          "name": "stderr",
          "text": [
            "\r 22%|██▏       | 111/503 [06:42<20:16,  3.10s/it]"
          ]
        },
        {
          "output_type": "stream",
          "name": "stdout",
          "text": [
            "Entered Correctly!\n",
            "FBT Solutions Meeting\n"
          ]
        },
        {
          "output_type": "stream",
          "name": "stderr",
          "text": [
            "\r 22%|██▏       | 112/503 [06:45<20:18,  3.12s/it]"
          ]
        },
        {
          "output_type": "stream",
          "name": "stdout",
          "text": [
            "Entered Correctly!\n",
            "FST Media  Future of InsuranceFINANCE\n"
          ]
        },
        {
          "output_type": "stream",
          "name": "stderr",
          "text": [
            "\r 22%|██▏       | 113/503 [06:49<22:05,  3.40s/it]"
          ]
        },
        {
          "output_type": "stream",
          "name": "stdout",
          "text": [
            "Entered Correctly!\n",
            "Mortgage Choice Professional Development Series\n"
          ]
        },
        {
          "output_type": "stream",
          "name": "stderr",
          "text": [
            "\r 23%|██▎       | 114/503 [06:52<21:30,  3.32s/it]"
          ]
        },
        {
          "output_type": "stream",
          "name": "stdout",
          "text": [
            "Entered Correctly!\n",
            "ICPA Alice Springs Meeting\n"
          ]
        },
        {
          "output_type": "stream",
          "name": "stderr",
          "text": [
            "\r 23%|██▎       | 115/503 [06:55<20:44,  3.21s/it]"
          ]
        },
        {
          "output_type": "stream",
          "name": "stdout",
          "text": [
            "Entered Correctly!\n",
            "AFR Banking Summit 2024FINANCE\n"
          ]
        },
        {
          "output_type": "stream",
          "name": "stderr",
          "text": [
            "\r 23%|██▎       | 116/503 [06:58<20:19,  3.15s/it]"
          ]
        },
        {
          "output_type": "stream",
          "name": "stdout",
          "text": [
            "Entered Correctly!\n",
            "Professional Speaker Conference\n"
          ]
        },
        {
          "output_type": "stream",
          "name": "stderr",
          "text": [
            "\r 23%|██▎       | 117/503 [07:02<21:08,  3.29s/it]"
          ]
        },
        {
          "output_type": "stream",
          "name": "stdout",
          "text": [
            "Entered Correctly!\n",
            "Rio Tinto Workshop\n"
          ]
        },
        {
          "output_type": "stream",
          "name": "stderr",
          "text": [
            "\r 23%|██▎       | 118/503 [07:06<22:38,  3.53s/it]"
          ]
        },
        {
          "output_type": "stream",
          "name": "stdout",
          "text": [
            "Entered Correctly!\n",
            "Novo Nordisk Meeting\n"
          ]
        },
        {
          "output_type": "stream",
          "name": "stderr",
          "text": [
            "\r 24%|██▎       | 119/503 [07:09<21:23,  3.34s/it]"
          ]
        },
        {
          "output_type": "stream",
          "name": "stdout",
          "text": [
            "Entered Correctly!\n",
            "Helloworld Meeting\n"
          ]
        },
        {
          "output_type": "stream",
          "name": "stderr",
          "text": [
            "\r 24%|██▍       | 120/503 [07:12<20:29,  3.21s/it]"
          ]
        },
        {
          "output_type": "stream",
          "name": "stdout",
          "text": [
            "Entered Correctly!\n",
            "Australia Wide Tax  Payroll Seminar  March 2024\n"
          ]
        },
        {
          "output_type": "stream",
          "name": "stderr",
          "text": [
            "\r 24%|██▍       | 121/503 [07:15<20:05,  3.16s/it]"
          ]
        },
        {
          "output_type": "stream",
          "name": "stdout",
          "text": [
            "Entered Correctly!\n",
            "ELT 2829 FEB 2024\n"
          ]
        },
        {
          "output_type": "stream",
          "name": "stderr",
          "text": [
            "\r 24%|██▍       | 122/503 [07:19<21:08,  3.33s/it]"
          ]
        },
        {
          "output_type": "stream",
          "name": "stdout",
          "text": [
            "Entered Correctly!\n",
            "Clayton Utz Workshop\n"
          ]
        },
        {
          "output_type": "stream",
          "name": "stderr",
          "text": [
            "\r 24%|██▍       | 123/503 [07:23<22:13,  3.51s/it]"
          ]
        },
        {
          "output_type": "stream",
          "name": "stdout",
          "text": [
            "Entered Correctly!\n",
            "NTLC\n"
          ]
        },
        {
          "output_type": "stream",
          "name": "stderr",
          "text": [
            "\r 25%|██▍       | 124/503 [07:25<20:53,  3.31s/it]"
          ]
        },
        {
          "output_type": "stream",
          "name": "stdout",
          "text": [
            "Entered Correctly!\n",
            "Raving For Growth  Franchisee Meeting\n"
          ]
        },
        {
          "output_type": "stream",
          "name": "stderr",
          "text": [
            "\r 25%|██▍       | 125/503 [07:28<20:09,  3.20s/it]"
          ]
        },
        {
          "output_type": "stream",
          "name": "stdout",
          "text": [
            "Entered Correctly!\n",
            "Novartis Meeting\n"
          ]
        },
        {
          "output_type": "stream",
          "name": "stderr",
          "text": [
            "\r 25%|██▌       | 126/503 [07:31<19:34,  3.11s/it]"
          ]
        },
        {
          "output_type": "stream",
          "name": "stdout",
          "text": [
            "Entered Correctly!\n",
            "Synergy Meeting\n"
          ]
        },
        {
          "output_type": "stream",
          "name": "stderr",
          "text": [
            "\r 25%|██▌       | 127/503 [07:35<20:23,  3.25s/it]"
          ]
        },
        {
          "output_type": "stream",
          "name": "stdout",
          "text": [
            "Entered Correctly!\n",
            "BHP Leadership Program 2024 19032003\n"
          ]
        },
        {
          "output_type": "stream",
          "name": "stderr",
          "text": [
            "\r 25%|██▌       | 128/503 [07:39<22:21,  3.58s/it]"
          ]
        },
        {
          "output_type": "stream",
          "name": "stdout",
          "text": [
            "Entered Correctly!\n",
            "Genesis CX Tour Perth 2024\n"
          ]
        },
        {
          "output_type": "stream",
          "name": "stderr",
          "text": [
            "\r 26%|██▌       | 129/503 [07:42<21:19,  3.42s/it]"
          ]
        },
        {
          "output_type": "stream",
          "name": "stdout",
          "text": [
            "Entered Correctly!\n",
            "Vivid Living March 2024 Launch\n"
          ]
        },
        {
          "output_type": "stream",
          "name": "stderr",
          "text": [
            "\r 26%|██▌       | 130/503 [07:45<20:25,  3.28s/it]"
          ]
        },
        {
          "output_type": "stream",
          "name": "stdout",
          "text": [
            "Entered Correctly!\n",
            "Astrazeneca Meeting\n"
          ]
        },
        {
          "output_type": "stream",
          "name": "stderr",
          "text": [
            "\r 26%|██▌       | 131/503 [07:48<19:45,  3.19s/it]"
          ]
        },
        {
          "output_type": "stream",
          "name": "stdout",
          "text": [
            "Entered Correctly!\n",
            "AICD Conference Mar 2024\n"
          ]
        },
        {
          "output_type": "stream",
          "name": "stderr",
          "text": [
            "\r 26%|██▌       | 132/503 [07:52<21:18,  3.44s/it]"
          ]
        },
        {
          "output_type": "stream",
          "name": "stdout",
          "text": [
            "Entered Correctly!\n",
            "Nu Skin Meeting\n"
          ]
        },
        {
          "output_type": "stream",
          "name": "stderr",
          "text": [
            "\r 26%|██▋       | 133/503 [07:55<20:50,  3.38s/it]"
          ]
        },
        {
          "output_type": "stream",
          "name": "stdout",
          "text": [
            "Entered Correctly!\n",
            "Mortgage Choice Professional Development Day Series 1\n"
          ]
        },
        {
          "output_type": "stream",
          "name": "stderr",
          "text": [
            "\r 27%|██▋       | 134/503 [07:58<20:08,  3.28s/it]"
          ]
        },
        {
          "output_type": "stream",
          "name": "stdout",
          "text": [
            "Entered Correctly!\n",
            "Chevron VIP Sundowner\n"
          ]
        },
        {
          "output_type": "stream",
          "name": "stderr",
          "text": [
            "\r 27%|██▋       | 135/503 [08:01<19:39,  3.20s/it]"
          ]
        },
        {
          "output_type": "stream",
          "name": "stdout",
          "text": [
            "Entered Correctly!\n",
            "Mastercard Corporate Event Finance\n"
          ]
        },
        {
          "output_type": "stream",
          "name": "stderr",
          "text": [
            "\r 27%|██▋       | 136/503 [08:05<19:36,  3.21s/it]"
          ]
        },
        {
          "output_type": "stream",
          "name": "stdout",
          "text": [
            "Entered Correctly!\n",
            "E AUG Study Fest 2024\n"
          ]
        },
        {
          "output_type": "stream",
          "name": "stderr",
          "text": [
            "\r 27%|██▋       | 137/503 [08:09<20:46,  3.41s/it]"
          ]
        },
        {
          "output_type": "stream",
          "name": "stdout",
          "text": [
            "Entered Correctly!\n",
            "QLD HR Summit 2024\n"
          ]
        },
        {
          "output_type": "stream",
          "name": "stderr",
          "text": [
            "\r 27%|██▋       | 138/503 [08:12<20:10,  3.32s/it]"
          ]
        },
        {
          "output_type": "stream",
          "name": "stdout",
          "text": [
            "Entered Correctly!\n",
            "International Womens Day Lunch 2024\n"
          ]
        },
        {
          "output_type": "stream",
          "name": "stderr",
          "text": [
            "\r 28%|██▊       | 139/503 [08:15<19:27,  3.21s/it]"
          ]
        },
        {
          "output_type": "stream",
          "name": "stdout",
          "text": [
            "Entered Correctly!\n",
            "Mantastic Workshop  March 2024\n"
          ]
        },
        {
          "output_type": "stream",
          "name": "stderr",
          "text": [
            "\r 28%|██▊       | 140/503 [08:18<19:02,  3.15s/it]"
          ]
        },
        {
          "output_type": "stream",
          "name": "stdout",
          "text": [
            "Entered Correctly!\n",
            "UNSW AGSM Event\n"
          ]
        },
        {
          "output_type": "stream",
          "name": "stderr",
          "text": [
            "\r 28%|██▊       | 141/503 [08:21<19:13,  3.19s/it]"
          ]
        },
        {
          "output_type": "stream",
          "name": "stdout",
          "text": [
            "Entered Correctly!\n",
            "Allergan  AMI Master Series Workshop 11 March 2024\n"
          ]
        },
        {
          "output_type": "stream",
          "name": "stderr",
          "text": [
            "\r 28%|██▊       | 142/503 [08:25<20:44,  3.45s/it]"
          ]
        },
        {
          "output_type": "stream",
          "name": "stdout",
          "text": [
            "Entered Correctly!\n",
            "QLS Legal Profession Dinner 2024\n"
          ]
        },
        {
          "output_type": "stream",
          "name": "stderr",
          "text": [
            "\r 28%|██▊       | 143/503 [08:28<19:52,  3.31s/it]"
          ]
        },
        {
          "output_type": "stream",
          "name": "stdout",
          "text": [
            "Entered Correctly!\n",
            "Burgess Rawson  Auction Event March 2024\n"
          ]
        },
        {
          "output_type": "stream",
          "name": "stderr",
          "text": [
            "\r 29%|██▊       | 144/503 [08:31<19:13,  3.21s/it]"
          ]
        },
        {
          "output_type": "stream",
          "name": "stdout",
          "text": [
            "Entered Correctly!\n",
            "QSPA 2024 Conference Committee Meeting  March\n"
          ]
        },
        {
          "output_type": "stream",
          "name": "stderr",
          "text": [
            "\r 29%|██▉       | 145/503 [08:34<18:49,  3.16s/it]"
          ]
        },
        {
          "output_type": "stream",
          "name": "stdout",
          "text": [
            "Entered Correctly!\n",
            "UDIA Half Day Summit\n"
          ]
        },
        {
          "output_type": "stream",
          "name": "stderr",
          "text": [
            "\r 29%|██▉       | 146/503 [08:37<19:15,  3.24s/it]"
          ]
        },
        {
          "output_type": "stream",
          "name": "stdout",
          "text": [
            "Entered Correctly!\n",
            "ACAPMA Meeting and Accommodation\n"
          ]
        },
        {
          "output_type": "stream",
          "name": "stderr",
          "text": [
            "\r 29%|██▉       | 147/503 [08:41<20:40,  3.48s/it]"
          ]
        },
        {
          "output_type": "stream",
          "name": "stdout",
          "text": [
            "Entered Correctly!\n",
            "WOMADelaide Storage  Rehearsal 2024\n"
          ]
        },
        {
          "output_type": "stream",
          "name": "stderr",
          "text": [
            "\r 29%|██▉       | 148/503 [08:44<19:44,  3.34s/it]"
          ]
        },
        {
          "output_type": "stream",
          "name": "stdout",
          "text": [
            "Entered Correctly!\n",
            "Legalwise Seminars  Family Law Conference\n"
          ]
        },
        {
          "output_type": "stream",
          "name": "stderr",
          "text": [
            "\r 30%|██▉       | 149/503 [08:47<19:07,  3.24s/it]"
          ]
        },
        {
          "output_type": "stream",
          "name": "stdout",
          "text": [
            "Entered Correctly!\n",
            "Department of Education Schools Support Meeting\n"
          ]
        },
        {
          "output_type": "stream",
          "name": "stderr",
          "text": [
            "\r 30%|██▉       | 150/503 [08:51<19:12,  3.26s/it]"
          ]
        },
        {
          "output_type": "stream",
          "name": "stdout",
          "text": [
            "Entered Correctly!\n",
            "Legalwise Seminars  Wills and Estates Symposium\n"
          ]
        },
        {
          "output_type": "stream",
          "name": "stderr",
          "text": [
            "\r 30%|███       | 151/503 [08:55<21:01,  3.58s/it]"
          ]
        },
        {
          "output_type": "stream",
          "name": "stdout",
          "text": [
            "Entered Correctly!\n",
            "Young Living Vitality Wellness Tour\n"
          ]
        },
        {
          "output_type": "stream",
          "name": "stderr",
          "text": [
            "\r 30%|███       | 152/503 [08:59<21:08,  3.61s/it]"
          ]
        },
        {
          "output_type": "stream",
          "name": "stdout",
          "text": [
            "Entered Correctly!\n",
            "Legalwise Seminars  Personal Injury Conference\n"
          ]
        },
        {
          "output_type": "stream",
          "name": "stderr",
          "text": [
            "\r 30%|███       | 153/503 [09:02<20:06,  3.45s/it]"
          ]
        },
        {
          "output_type": "stream",
          "name": "stdout",
          "text": [
            "Entered Correctly!\n",
            "Rheumatic Heart Disease Program Planning Days\n"
          ]
        },
        {
          "output_type": "stream",
          "name": "stderr",
          "text": [
            "\r 31%|███       | 154/503 [09:05<19:27,  3.35s/it]"
          ]
        },
        {
          "output_type": "stream",
          "name": "stdout",
          "text": [
            "Entered Correctly!\n",
            "ADITS Quarterly Strategic Planning\n"
          ]
        },
        {
          "output_type": "stream",
          "name": "stderr",
          "text": [
            "\r 31%|███       | 155/503 [09:08<19:05,  3.29s/it]"
          ]
        },
        {
          "output_type": "stream",
          "name": "stdout",
          "text": [
            "Entered Correctly!\n",
            "AIDA Cultural Safety Workshop\n"
          ]
        },
        {
          "output_type": "stream",
          "name": "stderr",
          "text": [
            "\r 31%|███       | 156/503 [09:12<20:15,  3.50s/it]"
          ]
        },
        {
          "output_type": "stream",
          "name": "stdout",
          "text": [
            "Entered Correctly!\n",
            "Viking Explorer Sessions 2024\n"
          ]
        },
        {
          "output_type": "stream",
          "name": "stderr",
          "text": [
            "\r 31%|███       | 157/503 [09:15<19:38,  3.41s/it]"
          ]
        },
        {
          "output_type": "stream",
          "name": "stdout",
          "text": [
            "Entered Correctly!\n",
            "Raytheon Australia Essentials of Leadership Program 2024\n"
          ]
        },
        {
          "output_type": "stream",
          "name": "stderr",
          "text": [
            "\r 31%|███▏      | 158/503 [09:18<19:06,  3.32s/it]"
          ]
        },
        {
          "output_type": "stream",
          "name": "stdout",
          "text": [
            "Entered Correctly!\n",
            "ConnectWise IT Nation Evolve APAC Service Peer Groups Q1 2024\n"
          ]
        },
        {
          "output_type": "stream",
          "name": "stderr",
          "text": [
            "\r 32%|███▏      | 159/503 [09:22<18:43,  3.27s/it]"
          ]
        },
        {
          "output_type": "stream",
          "name": "stdout",
          "text": [
            "Entered Correctly!\n",
            "Harmony SE Asia Executive Meeting\n"
          ]
        },
        {
          "output_type": "stream",
          "name": "stderr",
          "text": [
            "\r 32%|███▏      | 160/503 [09:25<19:07,  3.35s/it]"
          ]
        },
        {
          "output_type": "stream",
          "name": "stdout",
          "text": [
            "Entered Correctly!\n",
            "Petronas Meeting\n"
          ]
        },
        {
          "output_type": "stream",
          "name": "stderr",
          "text": [
            "\r 32%|███▏      | 161/503 [09:29<20:17,  3.56s/it]"
          ]
        },
        {
          "output_type": "stream",
          "name": "stdout",
          "text": [
            "Entered Correctly!\n",
            "Emirates Airlines Cabin Crew Recruitment Day\n"
          ]
        },
        {
          "output_type": "stream",
          "name": "stderr",
          "text": [
            "\r 32%|███▏      | 162/503 [09:32<19:24,  3.41s/it]"
          ]
        },
        {
          "output_type": "stream",
          "name": "stdout",
          "text": [
            "Entered Correctly!\n",
            "Santos Meeting\n"
          ]
        },
        {
          "output_type": "stream",
          "name": "stderr",
          "text": [
            "\r 32%|███▏      | 163/503 [09:35<18:25,  3.25s/it]"
          ]
        },
        {
          "output_type": "stream",
          "name": "stdout",
          "text": [
            "Entered Correctly!\n",
            "Rio Tinto  TwoWay Mentoring Training Workshop\n"
          ]
        },
        {
          "output_type": "stream",
          "name": "stderr",
          "text": [
            "\r 33%|███▎      | 164/503 [09:38<18:02,  3.19s/it]"
          ]
        },
        {
          "output_type": "stream",
          "name": "stdout",
          "text": [
            "Entered Correctly!\n",
            "Legalwise Seminars  10 Points in One Day  Your Last Chance\n"
          ]
        },
        {
          "output_type": "stream",
          "name": "stderr",
          "text": [
            "\r 33%|███▎      | 165/503 [09:42<19:38,  3.49s/it]"
          ]
        },
        {
          "output_type": "stream",
          "name": "stdout",
          "text": [
            "Entered Correctly!\n",
            "Arista Meeting\n"
          ]
        },
        {
          "output_type": "stream",
          "name": "stderr",
          "text": [
            "\r 33%|███▎      | 166/503 [09:46<19:59,  3.56s/it]"
          ]
        },
        {
          "output_type": "stream",
          "name": "stdout",
          "text": [
            "Entered Correctly!\n",
            "Plympton International College Formal 2024\n"
          ]
        },
        {
          "output_type": "stream",
          "name": "stderr",
          "text": [
            "\r 33%|███▎      | 167/503 [09:49<18:59,  3.39s/it]"
          ]
        },
        {
          "output_type": "stream",
          "name": "stdout",
          "text": [
            "Entered Correctly!\n",
            "NTAA  FBT Seminar 040324\n"
          ]
        },
        {
          "output_type": "stream",
          "name": "stderr",
          "text": [
            "\r 33%|███▎      | 168/503 [09:52<18:17,  3.28s/it]"
          ]
        },
        {
          "output_type": "stream",
          "name": "stdout",
          "text": [
            "Entered Correctly!\n",
            "Office for the Early Years Event  March 2024\n"
          ]
        },
        {
          "output_type": "stream",
          "name": "stderr",
          "text": [
            "\r 34%|███▎      | 169/503 [09:55<17:52,  3.21s/it]"
          ]
        },
        {
          "output_type": "stream",
          "name": "stdout",
          "text": [
            "Entered Correctly!\n",
            "SA Government Meeting 1\n"
          ]
        },
        {
          "output_type": "stream",
          "name": "stderr",
          "text": [
            "\r 34%|███▍      | 170/503 [09:59<19:03,  3.43s/it]"
          ]
        },
        {
          "output_type": "stream",
          "name": "stdout",
          "text": [
            "Entered Correctly!\n",
            "Snowflake  Data for Breakfast\n"
          ]
        },
        {
          "output_type": "stream",
          "name": "stderr",
          "text": [
            "\r 34%|███▍      | 171/503 [10:03<19:02,  3.44s/it]"
          ]
        },
        {
          "output_type": "stream",
          "name": "stdout",
          "text": [
            "Entered Correctly!\n",
            "Procurement and Contract Management Training March 2024\n"
          ]
        },
        {
          "output_type": "stream",
          "name": "stderr",
          "text": [
            "\r 34%|███▍      | 172/503 [10:06<18:24,  3.34s/it]"
          ]
        },
        {
          "output_type": "stream",
          "name": "stdout",
          "text": [
            "Entered Correctly!\n",
            "Beach Energy Town Hall Meeting 2024\n"
          ]
        },
        {
          "output_type": "stream",
          "name": "stderr",
          "text": [
            "\r 34%|███▍      | 173/503 [10:09<17:47,  3.24s/it]"
          ]
        },
        {
          "output_type": "stream",
          "name": "stdout",
          "text": [
            "Entered Correctly!\n",
            "EAGCG Workshop\n"
          ]
        },
        {
          "output_type": "stream",
          "name": "stderr",
          "text": [
            "\r 35%|███▍      | 174/503 [10:12<17:26,  3.18s/it]"
          ]
        },
        {
          "output_type": "stream",
          "name": "stdout",
          "text": [
            "Entered Correctly!\n",
            "Mega Branding Event\n"
          ]
        },
        {
          "output_type": "stream",
          "name": "stderr",
          "text": [
            "\r 35%|███▍      | 175/503 [10:15<18:22,  3.36s/it]"
          ]
        },
        {
          "output_type": "stream",
          "name": "stdout",
          "text": [
            "Entered Correctly!\n",
            "BIGA Members Meeting\n"
          ]
        },
        {
          "output_type": "stream",
          "name": "stderr",
          "text": [
            "\r 35%|███▍      | 176/503 [10:19<18:03,  3.31s/it]"
          ]
        },
        {
          "output_type": "stream",
          "name": "stdout",
          "text": [
            "Entered Correctly!\n",
            "TrackEd Workshop\n"
          ]
        },
        {
          "output_type": "stream",
          "name": "stderr",
          "text": [
            "\r 35%|███▌      | 177/503 [10:22<17:28,  3.22s/it]"
          ]
        },
        {
          "output_type": "stream",
          "name": "stdout",
          "text": [
            "Entered Correctly!\n",
            "Buyers Agent Institute Training Event\n"
          ]
        },
        {
          "output_type": "stream",
          "name": "stderr",
          "text": [
            "\r 35%|███▌      | 178/503 [10:25<17:07,  3.16s/it]"
          ]
        },
        {
          "output_type": "stream",
          "name": "stdout",
          "text": [
            "Entered Correctly!\n",
            "Semloh Support Meeting\n"
          ]
        },
        {
          "output_type": "stream",
          "name": "stderr",
          "text": [
            "\r 36%|███▌      | 179/503 [10:28<17:09,  3.18s/it]"
          ]
        },
        {
          "output_type": "stream",
          "name": "stdout",
          "text": [
            "Entered Correctly!\n",
            "IDP Insights Session\n"
          ]
        },
        {
          "output_type": "stream",
          "name": "stderr",
          "text": [
            "\r 36%|███▌      | 180/503 [10:32<17:58,  3.34s/it]"
          ]
        },
        {
          "output_type": "stream",
          "name": "stdout",
          "text": [
            "Entered Correctly!\n",
            "Farmlands March 2024 Meeting\n"
          ]
        },
        {
          "output_type": "stream",
          "name": "stderr",
          "text": [
            "\r 36%|███▌      | 181/503 [10:35<17:25,  3.25s/it]"
          ]
        },
        {
          "output_type": "stream",
          "name": "stdout",
          "text": [
            "Entered Correctly!\n",
            "Wedding of Jonathon Graeme Taylor  Lisa Maree Prince\n"
          ]
        },
        {
          "output_type": "stream",
          "name": "stderr",
          "text": [
            "\r 36%|███▌      | 182/503 [10:38<17:03,  3.19s/it]"
          ]
        },
        {
          "output_type": "stream",
          "name": "stdout",
          "text": [
            "Entered Correctly!\n",
            "Sound Minds Better Men Charity Event\n"
          ]
        },
        {
          "output_type": "stream",
          "name": "stderr",
          "text": [
            "\r 36%|███▋      | 183/503 [10:41<16:40,  3.13s/it]"
          ]
        },
        {
          "output_type": "stream",
          "name": "stdout",
          "text": [
            "Entered Correctly!\n",
            "SPE Technical Meeting\n"
          ]
        },
        {
          "output_type": "stream",
          "name": "stderr",
          "text": [
            "\r 37%|███▋      | 184/503 [10:44<17:01,  3.20s/it]"
          ]
        },
        {
          "output_type": "stream",
          "name": "stdout",
          "text": [
            "Entered Correctly!\n",
            "SSS March 2024 Meeting\n"
          ]
        },
        {
          "output_type": "stream",
          "name": "stderr",
          "text": [
            "\r 37%|███▋      | 185/503 [10:48<18:33,  3.50s/it]"
          ]
        },
        {
          "output_type": "stream",
          "name": "stdout",
          "text": [
            "Entered Correctly!\n",
            "Keysight Technologies February 2024 Workshop\n"
          ]
        },
        {
          "output_type": "stream",
          "name": "stderr",
          "text": [
            "\r 37%|███▋      | 186/503 [10:51<17:53,  3.39s/it]"
          ]
        },
        {
          "output_type": "stream",
          "name": "stdout",
          "text": [
            "Entered Correctly!\n",
            "WISE International Womens Day Event\n"
          ]
        },
        {
          "output_type": "stream",
          "name": "stderr",
          "text": [
            "\r 37%|███▋      | 187/503 [10:54<17:19,  3.29s/it]"
          ]
        },
        {
          "output_type": "stream",
          "name": "stdout",
          "text": [
            "Entered Correctly!\n",
            "First National Real Estate Queensland Awards 2024\n"
          ]
        },
        {
          "output_type": "stream",
          "name": "stderr",
          "text": [
            "\r 37%|███▋      | 188/503 [10:57<16:55,  3.22s/it]"
          ]
        },
        {
          "output_type": "stream",
          "name": "stdout",
          "text": [
            "Entered Correctly!\n",
            "Regional Tourism NZ  Inbound Trade Event\n"
          ]
        },
        {
          "output_type": "stream",
          "name": "stderr",
          "text": [
            "\r 38%|███▊      | 189/503 [11:01<17:56,  3.43s/it]"
          ]
        },
        {
          "output_type": "stream",
          "name": "stdout",
          "text": [
            "Entered Correctly!\n",
            "HubSpot March Meeting March 2024\n"
          ]
        },
        {
          "output_type": "stream",
          "name": "stderr",
          "text": [
            "\r 38%|███▊      | 190/503 [11:05<18:36,  3.57s/it]"
          ]
        },
        {
          "output_type": "stream",
          "name": "stdout",
          "text": [
            "Entered Correctly!\n",
            "Mendix Breakfast Meeting\n"
          ]
        },
        {
          "output_type": "stream",
          "name": "stderr",
          "text": [
            "\r 38%|███▊      | 191/503 [11:08<17:34,  3.38s/it]"
          ]
        },
        {
          "output_type": "stream",
          "name": "stdout",
          "text": [
            "Entered Correctly!\n",
            "KangaNews DCMSDS Summit 2024FINANCE\n"
          ]
        },
        {
          "output_type": "stream",
          "name": "stderr",
          "text": [
            "\r 38%|███▊      | 192/503 [11:11<17:06,  3.30s/it]"
          ]
        },
        {
          "output_type": "stream",
          "name": "stdout",
          "text": [
            "Entered Correctly!\n",
            "Alice Springs Public Hearing\n"
          ]
        },
        {
          "output_type": "stream",
          "name": "stderr",
          "text": [
            "\r 38%|███▊      | 193/503 [11:14<16:34,  3.21s/it]"
          ]
        },
        {
          "output_type": "stream",
          "name": "stdout",
          "text": [
            "Entered Correctly!\n",
            "MDA National  Achieved Valid Informed Consent\n"
          ]
        },
        {
          "output_type": "stream",
          "name": "stderr",
          "text": [
            "\r 39%|███▊      | 194/503 [11:19<18:08,  3.52s/it]"
          ]
        },
        {
          "output_type": "stream",
          "name": "stdout",
          "text": [
            "Entered Correctly!\n",
            "CBA Meeting  KangaNews DCM Conference\n"
          ]
        },
        {
          "output_type": "stream",
          "name": "stderr",
          "text": [
            "\r 39%|███▉      | 195/503 [11:22<17:46,  3.46s/it]"
          ]
        },
        {
          "output_type": "stream",
          "name": "stdout",
          "text": [
            "Entered Correctly!\n",
            "Wedding Anthony Coutts  Katrina Pullbrook\n"
          ]
        },
        {
          "output_type": "stream",
          "name": "stderr",
          "text": [
            "\r 39%|███▉      | 196/503 [11:25<16:59,  3.32s/it]"
          ]
        },
        {
          "output_type": "stream",
          "name": "stdout",
          "text": [
            "Entered Correctly!\n",
            "SmartGroup Breakfast\n"
          ]
        },
        {
          "output_type": "stream",
          "name": "stderr",
          "text": [
            "\r 39%|███▉      | 197/503 [11:28<16:09,  3.17s/it]"
          ]
        },
        {
          "output_type": "stream",
          "name": "stdout",
          "text": [
            "Entered Correctly!\n",
            "BHA Event Sydney March 2024\n"
          ]
        },
        {
          "output_type": "stream",
          "name": "stderr",
          "text": [
            "\r 39%|███▉      | 198/503 [11:31<16:10,  3.18s/it]"
          ]
        },
        {
          "output_type": "stream",
          "name": "stdout",
          "text": [
            "Entered Correctly!\n",
            "Pierre Fabre Pharmaceutical Dinner for Doctors\n"
          ]
        },
        {
          "output_type": "stream",
          "name": "stderr",
          "text": [
            "\r 40%|███▉      | 199/503 [11:35<17:14,  3.40s/it]"
          ]
        },
        {
          "output_type": "stream",
          "name": "stdout",
          "text": [
            "Entered Correctly!\n",
            "Chrissy  Daniel Wedding March 2024\n"
          ]
        },
        {
          "output_type": "stream",
          "name": "stderr",
          "text": [
            "\r 40%|███▉      | 200/503 [11:38<16:45,  3.32s/it]"
          ]
        },
        {
          "output_type": "stream",
          "name": "stdout",
          "text": [
            "Entered Correctly!\n",
            "Attura Town Hall\n"
          ]
        },
        {
          "output_type": "stream",
          "name": "stderr",
          "text": [
            "\r 40%|███▉      | 201/503 [11:41<16:04,  3.19s/it]"
          ]
        },
        {
          "output_type": "stream",
          "name": "stdout",
          "text": [
            "Entered Correctly!\n",
            "Cabin Crew Recruitment March 2024\n"
          ]
        },
        {
          "output_type": "stream",
          "name": "stderr",
          "text": [
            "\r 40%|████      | 202/503 [11:44<15:50,  3.16s/it]"
          ]
        },
        {
          "output_type": "stream",
          "name": "stdout",
          "text": [
            "Entered Correctly!\n",
            "RMIT University Workshop\n"
          ]
        },
        {
          "output_type": "stream",
          "name": "stderr",
          "text": [
            "\r 40%|████      | 203/503 [11:47<15:55,  3.18s/it]"
          ]
        },
        {
          "output_type": "stream",
          "name": "stdout",
          "text": [
            "Entered Correctly!\n",
            "Ikon Institute of Australia Graduation 2024\n"
          ]
        },
        {
          "output_type": "stream",
          "name": "stderr",
          "text": [
            "\r 41%|████      | 204/503 [11:51<17:01,  3.42s/it]"
          ]
        },
        {
          "output_type": "stream",
          "name": "stdout",
          "text": [
            "Entered Correctly!\n",
            "Tamara Meyer Coaching\n"
          ]
        },
        {
          "output_type": "stream",
          "name": "stderr",
          "text": [
            "\r 41%|████      | 205/503 [11:54<16:17,  3.28s/it]"
          ]
        },
        {
          "output_type": "stream",
          "name": "stdout",
          "text": [
            "Entered Correctly!\n",
            "Canterbury March 2024 Ballance Farm Environment Awards\n"
          ]
        },
        {
          "output_type": "stream",
          "name": "stderr",
          "text": [
            "\r 41%|████      | 206/503 [11:57<16:00,  3.23s/it]"
          ]
        },
        {
          "output_type": "stream",
          "name": "stdout",
          "text": [
            "Entered Correctly!\n",
            "APT  Travelmarvel Presentations  19th March 2024\n"
          ]
        },
        {
          "output_type": "stream",
          "name": "stderr",
          "text": [
            "\r 41%|████      | 207/503 [12:00<15:39,  3.17s/it]"
          ]
        },
        {
          "output_type": "stream",
          "name": "stdout",
          "text": [
            "Entered Correctly!\n",
            "ABA Health Professional Seminar Series 2024\n"
          ]
        },
        {
          "output_type": "stream",
          "name": "stderr",
          "text": [
            "\r 41%|████▏     | 208/503 [12:04<16:18,  3.32s/it]"
          ]
        },
        {
          "output_type": "stream",
          "name": "stdout",
          "text": [
            "Entered Correctly!\n",
            "IoD Women Directors Network\n"
          ]
        },
        {
          "output_type": "stream",
          "name": "stderr",
          "text": [
            "\r 42%|████▏     | 209/503 [12:08<16:46,  3.42s/it]"
          ]
        },
        {
          "output_type": "stream",
          "name": "stdout",
          "text": [
            "Entered Correctly!\n",
            "Sulphure Experts Meeting\n"
          ]
        },
        {
          "output_type": "stream",
          "name": "stderr",
          "text": [
            "\r 42%|████▏     | 210/503 [12:10<15:55,  3.26s/it]"
          ]
        },
        {
          "output_type": "stream",
          "name": "stdout",
          "text": [
            "Entered Correctly!\n",
            "local buy meeting\n"
          ]
        },
        {
          "output_type": "stream",
          "name": "stderr",
          "text": [
            "\r 42%|████▏     | 211/503 [12:13<15:30,  3.19s/it]"
          ]
        },
        {
          "output_type": "stream",
          "name": "stdout",
          "text": [
            "Entered Correctly!\n",
            "PSV Engineer School Meeting\n"
          ]
        },
        {
          "output_type": "stream",
          "name": "stderr",
          "text": [
            "\r 42%|████▏     | 212/503 [12:17<15:12,  3.14s/it]"
          ]
        },
        {
          "output_type": "stream",
          "name": "stdout",
          "text": [
            "Entered Correctly!\n",
            "AMOSC Meeting 12th March 2024\n"
          ]
        },
        {
          "output_type": "stream",
          "name": "stderr",
          "text": [
            "\r 42%|████▏     | 213/503 [12:20<16:23,  3.39s/it]"
          ]
        },
        {
          "output_type": "stream",
          "name": "stdout",
          "text": [
            "Entered Correctly!\n",
            "Your Education March 2024 Conference\n"
          ]
        },
        {
          "output_type": "stream",
          "name": "stderr",
          "text": [
            "\r 43%|████▎     | 214/503 [12:24<16:58,  3.52s/it]"
          ]
        },
        {
          "output_type": "stream",
          "name": "stdout",
          "text": [
            "Entered Correctly!\n",
            "AIJA Meeting\n"
          ]
        },
        {
          "output_type": "stream",
          "name": "stderr",
          "text": [
            "\r 43%|████▎     | 215/503 [12:27<16:05,  3.35s/it]"
          ]
        },
        {
          "output_type": "stream",
          "name": "stdout",
          "text": [
            "Entered Correctly!\n",
            "Mazars event 28  29 February\n"
          ]
        },
        {
          "output_type": "stream",
          "name": "stderr",
          "text": [
            "\r 43%|████▎     | 216/503 [12:30<15:30,  3.24s/it]"
          ]
        },
        {
          "output_type": "stream",
          "name": "stdout",
          "text": [
            "Entered Correctly!\n",
            "BCA Research Breakfast Event\n"
          ]
        },
        {
          "output_type": "stream",
          "name": "stderr",
          "text": [
            "\r 43%|████▎     | 217/503 [12:33<15:05,  3.17s/it]"
          ]
        },
        {
          "output_type": "stream",
          "name": "stdout",
          "text": [
            "Entered Correctly!\n",
            "Cassandra  Nathan Wedding March 2024\n",
            "Unexpected URL: https://lightstay.ei3.com/property/ADLHI/tools/meetingcalculator/new\n",
            "Cassandra  Nathan Wedding March 2024\n",
            "Vestas Conference\n"
          ]
        },
        {
          "output_type": "stream",
          "name": "stderr",
          "text": [
            "\r 43%|████▎     | 218/503 [12:41<21:05,  4.44s/it]"
          ]
        },
        {
          "output_type": "stream",
          "name": "stdout",
          "text": [
            "Entered Correctly!\n",
            "TrackedApp Workshop\n"
          ]
        },
        {
          "output_type": "stream",
          "name": "stderr",
          "text": [
            "\r 44%|████▎     | 219/503 [12:44<18:55,  4.00s/it]"
          ]
        },
        {
          "output_type": "stream",
          "name": "stdout",
          "text": [
            "Entered Correctly!\n",
            "South Island Baptist March 2024 Church\n"
          ]
        },
        {
          "output_type": "stream",
          "name": "stderr",
          "text": [
            "\r 44%|████▎     | 220/503 [12:47<17:24,  3.69s/it]"
          ]
        },
        {
          "output_type": "stream",
          "name": "stdout",
          "text": [
            "Entered Correctly!\n",
            "CEO Institute\n"
          ]
        },
        {
          "output_type": "stream",
          "name": "stderr",
          "text": [
            "\r 44%|████▍     | 221/503 [12:50<16:24,  3.49s/it]"
          ]
        },
        {
          "output_type": "stream",
          "name": "stdout",
          "text": [
            "Entered Correctly!\n",
            "AFIC  Shareholder Roadshow 2024\n"
          ]
        },
        {
          "output_type": "stream",
          "name": "stderr",
          "text": [
            "\r 44%|████▍     | 222/503 [12:53<16:48,  3.59s/it]"
          ]
        },
        {
          "output_type": "stream",
          "name": "stdout",
          "text": [
            "Entered Correctly!\n",
            "CEO Institute Syndicate Meeting\n"
          ]
        },
        {
          "output_type": "stream",
          "name": "stderr",
          "text": [
            "\r 44%|████▍     | 223/503 [12:57<16:31,  3.54s/it]"
          ]
        },
        {
          "output_type": "stream",
          "name": "stdout",
          "text": [
            "Entered Correctly!\n",
            "EduCanada Workshop\n"
          ]
        },
        {
          "output_type": "stream",
          "name": "stderr",
          "text": [
            "\r 45%|████▍     | 224/503 [13:00<15:40,  3.37s/it]"
          ]
        },
        {
          "output_type": "stream",
          "name": "stdout",
          "text": [
            "Entered Correctly!\n",
            "EMS Oceania Meeting  9th March 2024\n"
          ]
        },
        {
          "output_type": "stream",
          "name": "stderr",
          "text": [
            "\r 45%|████▍     | 225/503 [13:03<15:03,  3.25s/it]"
          ]
        },
        {
          "output_type": "stream",
          "name": "stdout",
          "text": [
            "Entered Correctly!\n",
            "PESA Evening Event  March\n"
          ]
        },
        {
          "output_type": "stream",
          "name": "stderr",
          "text": [
            "\r 45%|████▍     | 226/503 [13:06<14:26,  3.13s/it]"
          ]
        },
        {
          "output_type": "stream",
          "name": "stdout",
          "text": [
            "Entered Correctly!\n",
            "John Crane Meeting\n"
          ]
        },
        {
          "output_type": "stream",
          "name": "stderr",
          "text": [
            "\r 45%|████▌     | 227/503 [13:10<15:38,  3.40s/it]"
          ]
        },
        {
          "output_type": "stream",
          "name": "stdout",
          "text": [
            "Entered Correctly!\n",
            "Rotary Club of Riccarton March 2024 Luncheon\n"
          ]
        },
        {
          "output_type": "stream",
          "name": "stderr",
          "text": [
            "\r 45%|████▌     | 228/503 [13:13<15:38,  3.41s/it]"
          ]
        },
        {
          "output_type": "stream",
          "name": "stdout",
          "text": [
            "Entered Correctly!\n",
            "Rotary Club of Riccarton March 2024 Luncheon\n"
          ]
        },
        {
          "output_type": "stream",
          "name": "stderr",
          "text": [
            "\r 46%|████▌     | 229/503 [13:16<15:08,  3.32s/it]"
          ]
        },
        {
          "output_type": "stream",
          "name": "stdout",
          "text": [
            "Entered Correctly!\n",
            "Rotary Club of Riccarton March 2024 Luncheon\n"
          ]
        },
        {
          "output_type": "stream",
          "name": "stderr",
          "text": [
            "\r 46%|████▌     | 230/503 [13:19<14:55,  3.28s/it]"
          ]
        },
        {
          "output_type": "stream",
          "name": "stdout",
          "text": [
            "Entered Correctly!\n",
            "Rotary Club of Riccarton March 2024 Luncheon\n"
          ]
        },
        {
          "output_type": "stream",
          "name": "stderr",
          "text": [
            "\r 46%|████▌     | 231/503 [13:23<15:17,  3.37s/it]"
          ]
        },
        {
          "output_type": "stream",
          "name": "stdout",
          "text": [
            "Entered Correctly!\n",
            "Lecture Three\n"
          ]
        },
        {
          "output_type": "stream",
          "name": "stderr",
          "text": [
            "\r 46%|████▌     | 232/503 [13:27<15:43,  3.48s/it]"
          ]
        },
        {
          "output_type": "stream",
          "name": "stdout",
          "text": [
            "Entered Correctly!\n",
            "QGATE Training\n"
          ]
        },
        {
          "output_type": "stream",
          "name": "stderr",
          "text": [
            "\r 46%|████▋     | 233/503 [13:30<15:00,  3.34s/it]"
          ]
        },
        {
          "output_type": "stream",
          "name": "stdout",
          "text": [
            "Entered Correctly!\n",
            "Livestock Advisor Essentials  Albany\n"
          ]
        },
        {
          "output_type": "stream",
          "name": "stderr",
          "text": [
            "\r 47%|████▋     | 234/503 [13:33<14:36,  3.26s/it]"
          ]
        },
        {
          "output_type": "stream",
          "name": "stdout",
          "text": [
            "Entered Correctly!\n",
            "Emerging Architect Prize Tour\n"
          ]
        },
        {
          "output_type": "stream",
          "name": "stderr",
          "text": [
            "\r 47%|████▋     | 235/503 [13:36<14:18,  3.20s/it]"
          ]
        },
        {
          "output_type": "stream",
          "name": "stdout",
          "text": [
            "Entered Correctly!\n",
            "234 Department of Education Meeting 2024\n"
          ]
        },
        {
          "output_type": "stream",
          "name": "stderr",
          "text": [
            "\r 47%|████▋     | 236/503 [13:40<15:08,  3.40s/it]"
          ]
        },
        {
          "output_type": "stream",
          "name": "stdout",
          "text": [
            "Entered Correctly!\n",
            "Office of Health Care Professionals Recruitment Event\n"
          ]
        },
        {
          "output_type": "stream",
          "name": "stderr",
          "text": [
            "\r 47%|████▋     | 237/503 [13:44<15:53,  3.58s/it]"
          ]
        },
        {
          "output_type": "stream",
          "name": "stdout",
          "text": [
            "Entered Correctly!\n",
            "PNG PIE\n"
          ]
        },
        {
          "output_type": "stream",
          "name": "stderr",
          "text": [
            "\r 47%|████▋     | 238/503 [13:47<15:00,  3.40s/it]"
          ]
        },
        {
          "output_type": "stream",
          "name": "stdout",
          "text": [
            "Entered Correctly!\n",
            "SMART Meeting\n"
          ]
        },
        {
          "output_type": "stream",
          "name": "stderr",
          "text": [
            "\r 48%|████▊     | 239/503 [13:50<14:23,  3.27s/it]"
          ]
        },
        {
          "output_type": "stream",
          "name": "stdout",
          "text": [
            "Entered Correctly!\n",
            "Southpac Meeting 2024\n"
          ]
        },
        {
          "output_type": "stream",
          "name": "stderr",
          "text": [
            "\r 48%|████▊     | 240/503 [13:53<13:52,  3.17s/it]"
          ]
        },
        {
          "output_type": "stream",
          "name": "stdout",
          "text": [
            "Entered Correctly!\n",
            "Crisis Prevention Institute Australia and New Zealand  March 2024\n"
          ]
        },
        {
          "output_type": "stream",
          "name": "stderr",
          "text": [
            "\r 48%|████▊     | 241/503 [13:57<15:36,  3.57s/it]"
          ]
        },
        {
          "output_type": "stream",
          "name": "stdout",
          "text": [
            "Entered Correctly!\n",
            "Perth Open Statistics Course march 2024\n"
          ]
        },
        {
          "output_type": "stream",
          "name": "stderr",
          "text": [
            "\r 48%|████▊     | 242/503 [14:01<15:25,  3.55s/it]"
          ]
        },
        {
          "output_type": "stream",
          "name": "stdout",
          "text": [
            "Entered Correctly!\n",
            "PartnerCo March 2024 Event\n"
          ]
        },
        {
          "output_type": "stream",
          "name": "stderr",
          "text": [
            "\r 48%|████▊     | 243/503 [14:04<14:45,  3.41s/it]"
          ]
        },
        {
          "output_type": "stream",
          "name": "stdout",
          "text": [
            "Entered Correctly!\n",
            "Wise Group March 2024 Meeting\n"
          ]
        },
        {
          "output_type": "stream",
          "name": "stderr",
          "text": [
            "\r 49%|████▊     | 244/503 [14:07<14:11,  3.29s/it]"
          ]
        },
        {
          "output_type": "stream",
          "name": "stdout",
          "text": [
            "Entered Correctly!\n",
            "Hall  Prior Meeting\n"
          ]
        },
        {
          "output_type": "stream",
          "name": "stderr",
          "text": [
            "\r 49%|████▊     | 245/503 [14:10<13:44,  3.20s/it]"
          ]
        },
        {
          "output_type": "stream",
          "name": "stdout",
          "text": [
            "Entered Correctly!\n",
            "Legalwise Seminars  Annual Conveyancing Conference\n"
          ]
        },
        {
          "output_type": "stream",
          "name": "stderr",
          "text": [
            "\r 49%|████▉     | 246/503 [14:14<14:55,  3.49s/it]"
          ]
        },
        {
          "output_type": "stream",
          "name": "stdout",
          "text": [
            "Entered Correctly!\n",
            "Legalwise Seminars  Building and Construction Review 2024Driving Offences\n"
          ]
        },
        {
          "output_type": "stream",
          "name": "stderr",
          "text": [
            "\r 49%|████▉     | 247/503 [14:17<14:40,  3.44s/it]"
          ]
        },
        {
          "output_type": "stream",
          "name": "stdout",
          "text": [
            "Entered Correctly!\n",
            "Legalwise Seminars  Contract Law Conference\n"
          ]
        },
        {
          "output_type": "stream",
          "name": "stderr",
          "text": [
            "\r 49%|████▉     | 248/503 [14:20<14:15,  3.35s/it]"
          ]
        },
        {
          "output_type": "stream",
          "name": "stdout",
          "text": [
            "Entered Correctly!\n",
            "Legalwise Seminars  Property Law Conference\n"
          ]
        },
        {
          "output_type": "stream",
          "name": "stderr",
          "text": [
            "\r 50%|████▉     | 249/503 [14:23<13:50,  3.27s/it]"
          ]
        },
        {
          "output_type": "stream",
          "name": "stdout",
          "text": [
            "Entered Correctly!\n",
            "Legalwise Seminars  Criminal Law Symposium 2024\n"
          ]
        },
        {
          "output_type": "stream",
          "name": "stderr",
          "text": [
            "\r 50%|████▉     | 250/503 [14:27<14:14,  3.38s/it]"
          ]
        },
        {
          "output_type": "stream",
          "name": "stdout",
          "text": [
            "Entered Correctly!\n",
            "Legalwise Seminars  Workplace Law Conference\n"
          ]
        },
        {
          "output_type": "stream",
          "name": "stderr",
          "text": [
            "\r 50%|████▉     | 251/503 [14:31<15:01,  3.58s/it]"
          ]
        },
        {
          "output_type": "stream",
          "name": "stdout",
          "text": [
            "Entered Correctly!\n",
            "Harmony SE Asia Meeting\n"
          ]
        },
        {
          "output_type": "stream",
          "name": "stderr",
          "text": [
            "\r 50%|█████     | 252/503 [14:34<14:07,  3.38s/it]"
          ]
        },
        {
          "output_type": "stream",
          "name": "stdout",
          "text": [
            "Entered Correctly!\n",
            "Amplitude Workshop\n"
          ]
        },
        {
          "output_type": "stream",
          "name": "stderr",
          "text": [
            "\r 50%|█████     | 253/503 [14:37<13:40,  3.28s/it]"
          ]
        },
        {
          "output_type": "stream",
          "name": "stdout",
          "text": [
            "Entered Correctly!\n",
            "Owners Meeting\n"
          ]
        },
        {
          "output_type": "stream",
          "name": "stderr",
          "text": [
            "\r 50%|█████     | 254/503 [14:40<13:08,  3.17s/it]"
          ]
        },
        {
          "output_type": "stream",
          "name": "stdout",
          "text": [
            "Entered Correctly!\n",
            "RW Baird  Co Meeting\n"
          ]
        },
        {
          "output_type": "stream",
          "name": "stderr",
          "text": [
            "\r 51%|█████     | 255/503 [14:44<14:01,  3.39s/it]"
          ]
        },
        {
          "output_type": "stream",
          "name": "stdout",
          "text": [
            "Entered Correctly!\n",
            "Team Forum\n"
          ]
        },
        {
          "output_type": "stream",
          "name": "stderr",
          "text": [
            "\r 51%|█████     | 256/503 [14:48<14:19,  3.48s/it]"
          ]
        },
        {
          "output_type": "stream",
          "name": "stdout",
          "text": [
            "Entered Correctly!\n",
            "Rio Tinto Graduates\n"
          ]
        },
        {
          "output_type": "stream",
          "name": "stderr",
          "text": [
            "\r 51%|█████     | 257/503 [14:50<13:32,  3.30s/it]"
          ]
        },
        {
          "output_type": "stream",
          "name": "stdout",
          "text": [
            "Entered Correctly!\n",
            "CBWC March International Womens Day Luncheon\n"
          ]
        },
        {
          "output_type": "stream",
          "name": "stderr",
          "text": [
            "\r 51%|█████▏    | 258/503 [14:54<13:18,  3.26s/it]"
          ]
        },
        {
          "output_type": "stream",
          "name": "stdout",
          "text": [
            "Entered Correctly!\n",
            "Protestant Agency for Diakonie and Development Ltd Meeting\n"
          ]
        },
        {
          "output_type": "stream",
          "name": "stderr",
          "text": [
            "\r 51%|█████▏    | 259/503 [14:57<13:18,  3.27s/it]"
          ]
        },
        {
          "output_type": "stream",
          "name": "stdout",
          "text": [
            "Entered Correctly!\n",
            "USAID Conference 6th March 2024\n"
          ]
        },
        {
          "output_type": "stream",
          "name": "stderr",
          "text": [
            "\r 52%|█████▏    | 260/503 [15:01<14:10,  3.50s/it]"
          ]
        },
        {
          "output_type": "stream",
          "name": "stdout",
          "text": [
            "Entered Correctly!\n",
            "USAID Conference 27th Feb 1st March 2024\n"
          ]
        },
        {
          "output_type": "stream",
          "name": "stderr",
          "text": [
            "\r 52%|█████▏    | 261/503 [15:05<14:27,  3.58s/it]"
          ]
        },
        {
          "output_type": "stream",
          "name": "stdout",
          "text": [
            "Entered Correctly!\n",
            "USAID Conference 4th March 2024\n"
          ]
        },
        {
          "output_type": "stream",
          "name": "stderr",
          "text": [
            "\r 52%|█████▏    | 262/503 [15:08<13:45,  3.43s/it]"
          ]
        },
        {
          "output_type": "stream",
          "name": "stdout",
          "text": [
            "Entered Correctly!\n",
            "USAID Conference 8th March 2024\n"
          ]
        },
        {
          "output_type": "stream",
          "name": "stderr",
          "text": [
            "\r 52%|█████▏    | 263/503 [15:11<13:17,  3.32s/it]"
          ]
        },
        {
          "output_type": "stream",
          "name": "stdout",
          "text": [
            "Entered Correctly!\n",
            "Live2LeadPNG\n"
          ]
        },
        {
          "output_type": "stream",
          "name": "stderr",
          "text": [
            "\r 52%|█████▏    | 264/503 [15:14<12:53,  3.24s/it]"
          ]
        },
        {
          "output_type": "stream",
          "name": "stdout",
          "text": [
            "Entered Correctly!\n",
            "Derma Medical Foundation Course  23 March 2024\n"
          ]
        },
        {
          "output_type": "stream",
          "name": "stderr",
          "text": [
            "\r 53%|█████▎    | 265/503 [15:18<13:47,  3.48s/it]"
          ]
        },
        {
          "output_type": "stream",
          "name": "stdout",
          "text": [
            "Entered Correctly!\n",
            "16902 Arrow Framing Workshop\n"
          ]
        },
        {
          "output_type": "stream",
          "name": "stderr",
          "text": [
            "\r 53%|█████▎    | 266/503 [15:21<13:22,  3.39s/it]"
          ]
        },
        {
          "output_type": "stream",
          "name": "stdout",
          "text": [
            "Entered Correctly!\n",
            "Department of Education Conference\n"
          ]
        },
        {
          "output_type": "stream",
          "name": "stderr",
          "text": [
            "\r 53%|█████▎    | 267/503 [15:24<12:57,  3.29s/it]"
          ]
        },
        {
          "output_type": "stream",
          "name": "stdout",
          "text": [
            "Entered Correctly!\n",
            "Sonder Meeting\n"
          ]
        },
        {
          "output_type": "stream",
          "name": "stderr",
          "text": [
            "\r 53%|█████▎    | 268/503 [15:27<12:27,  3.18s/it]"
          ]
        },
        {
          "output_type": "stream",
          "name": "stdout",
          "text": [
            "Entered Correctly!\n",
            "Blake Emergency Meeting\n"
          ]
        },
        {
          "output_type": "stream",
          "name": "stderr",
          "text": [
            "\r 53%|█████▎    | 269/503 [15:30<12:27,  3.19s/it]"
          ]
        },
        {
          "output_type": "stream",
          "name": "stdout",
          "text": [
            "Entered Correctly!\n",
            "Boeing Defence PMBP Workshop\n"
          ]
        },
        {
          "output_type": "stream",
          "name": "stderr",
          "text": [
            "\r 54%|█████▎    | 270/503 [15:35<13:33,  3.49s/it]"
          ]
        },
        {
          "output_type": "stream",
          "name": "stdout",
          "text": [
            "Entered Correctly!\n",
            "Boeing  6 March 2024\n"
          ]
        },
        {
          "output_type": "stream",
          "name": "stderr",
          "text": [
            "\r 54%|█████▍    | 271/503 [15:37<12:51,  3.33s/it]"
          ]
        },
        {
          "output_type": "stream",
          "name": "stdout",
          "text": [
            "Entered Correctly!\n",
            "Office for Early Years New Leaders Day\n"
          ]
        },
        {
          "output_type": "stream",
          "name": "stderr",
          "text": [
            "\r 54%|█████▍    | 272/503 [15:41<12:46,  3.32s/it]"
          ]
        },
        {
          "output_type": "stream",
          "name": "stdout",
          "text": [
            "Entered Correctly!\n",
            "SEAGas Meeting March 2024\n"
          ]
        },
        {
          "output_type": "stream",
          "name": "stderr",
          "text": [
            "\r 54%|█████▍    | 273/503 [15:44<13:09,  3.43s/it]"
          ]
        },
        {
          "output_type": "stream",
          "name": "stdout",
          "text": [
            "Entered Correctly!\n",
            "Motorola Solutions CAD Presentation\n"
          ]
        },
        {
          "output_type": "stream",
          "name": "stderr",
          "text": [
            "\r 54%|█████▍    | 274/503 [15:52<17:38,  4.62s/it]"
          ]
        },
        {
          "output_type": "stream",
          "name": "stdout",
          "text": [
            "Entered Correctly!\n",
            "Singapore Airlines March 2024 Training Conference\n"
          ]
        },
        {
          "output_type": "stream",
          "name": "stderr",
          "text": [
            "\r 55%|█████▍    | 275/503 [15:56<16:43,  4.40s/it]"
          ]
        },
        {
          "output_type": "stream",
          "name": "stdout",
          "text": [
            "Entered Correctly!\n",
            "Farmlands March 2024 Meeting  Reception\n"
          ]
        },
        {
          "output_type": "stream",
          "name": "stderr",
          "text": [
            "\r 55%|█████▍    | 276/503 [15:59<15:09,  4.00s/it]"
          ]
        },
        {
          "output_type": "stream",
          "name": "stdout",
          "text": [
            "Entered Correctly!\n",
            "Thoughtspot GenAI Meetup SydneyIT\n"
          ]
        },
        {
          "output_type": "stream",
          "name": "stderr",
          "text": [
            "\r 55%|█████▌    | 277/503 [16:02<13:56,  3.70s/it]"
          ]
        },
        {
          "output_type": "stream",
          "name": "stdout",
          "text": [
            "Entered Correctly!\n",
            "Spring Capital Meeting and Reception FINANCE\n"
          ]
        },
        {
          "output_type": "stream",
          "name": "stderr",
          "text": [
            "\r 55%|█████▌    | 278/503 [16:05<13:11,  3.52s/it]"
          ]
        },
        {
          "output_type": "stream",
          "name": "stdout",
          "text": [
            "Entered Correctly!\n",
            "SA State Division Meeting TMAA\n"
          ]
        },
        {
          "output_type": "stream",
          "name": "stderr",
          "text": [
            "\r 55%|█████▌    | 279/503 [16:09<13:42,  3.67s/it]"
          ]
        },
        {
          "output_type": "stream",
          "name": "stdout",
          "text": [
            "Entered Correctly!\n",
            "Schneider Business Briefing\n"
          ]
        },
        {
          "output_type": "stream",
          "name": "stderr",
          "text": [
            "\r 56%|█████▌    | 280/503 [16:12<12:59,  3.49s/it]"
          ]
        },
        {
          "output_type": "stream",
          "name": "stdout",
          "text": [
            "Entered Correctly!\n",
            "Biamp Meeting\n"
          ]
        },
        {
          "output_type": "stream",
          "name": "stderr",
          "text": [
            "\r 56%|█████▌    | 281/503 [16:15<12:16,  3.32s/it]"
          ]
        },
        {
          "output_type": "stream",
          "name": "stdout",
          "text": [
            "Entered Correctly!\n",
            "Department for Education Meeting\n"
          ]
        },
        {
          "output_type": "stream",
          "name": "stderr",
          "text": [
            "\r 56%|█████▌    | 282/503 [16:18<11:50,  3.22s/it]"
          ]
        },
        {
          "output_type": "stream",
          "name": "stdout",
          "text": [
            "Entered Correctly!\n",
            "Department for Education Meeting\n"
          ]
        },
        {
          "output_type": "stream",
          "name": "stderr",
          "text": [
            "\r 56%|█████▋    | 283/503 [16:21<11:51,  3.23s/it]"
          ]
        },
        {
          "output_type": "stream",
          "name": "stdout",
          "text": [
            "Entered Correctly!\n",
            "Ecommerce Equation 2024\n"
          ]
        },
        {
          "output_type": "stream",
          "name": "stderr",
          "text": [
            "\r 56%|█████▋    | 284/503 [16:25<12:26,  3.41s/it]"
          ]
        },
        {
          "output_type": "stream",
          "name": "stdout",
          "text": [
            "Entered Correctly!\n",
            "Invenio Asset Management March 2024 Session\n"
          ]
        },
        {
          "output_type": "stream",
          "name": "stderr",
          "text": [
            "\r 57%|█████▋    | 285/503 [16:28<11:59,  3.30s/it]"
          ]
        },
        {
          "output_type": "stream",
          "name": "stdout",
          "text": [
            "Entered Correctly!\n",
            "Fair Farms Event\n"
          ]
        },
        {
          "output_type": "stream",
          "name": "stderr",
          "text": [
            "\r 57%|█████▋    | 286/503 [16:31<11:27,  3.17s/it]"
          ]
        },
        {
          "output_type": "stream",
          "name": "stdout",
          "text": [
            "Entered Correctly!\n",
            "Rio Tinto Recruitment  14th March 2024\n"
          ]
        },
        {
          "output_type": "stream",
          "name": "stderr",
          "text": [
            "\r 57%|█████▋    | 287/503 [16:34<11:16,  3.13s/it]"
          ]
        },
        {
          "output_type": "stream",
          "name": "stdout",
          "text": [
            "Entered Correctly!\n",
            "Eagle Burgmann Lunch  Learn Sessions\n"
          ]
        },
        {
          "output_type": "stream",
          "name": "stderr",
          "text": [
            "\r 57%|█████▋    | 288/503 [16:37<11:28,  3.20s/it]"
          ]
        },
        {
          "output_type": "stream",
          "name": "stdout",
          "text": [
            "Entered Correctly!\n",
            "Operations  Facilities Management Part 1  Australian Property CouncilHawaiian\n"
          ]
        },
        {
          "output_type": "stream",
          "name": "stderr",
          "text": [
            "\r 57%|█████▋    | 289/503 [16:42<12:54,  3.62s/it]"
          ]
        },
        {
          "output_type": "stream",
          "name": "stdout",
          "text": [
            "Entered Correctly!\n",
            "Inpex Meeting\n"
          ]
        },
        {
          "output_type": "stream",
          "name": "stderr",
          "text": [
            "\r 58%|█████▊    | 290/503 [16:45<12:10,  3.43s/it]"
          ]
        },
        {
          "output_type": "stream",
          "name": "stdout",
          "text": [
            "Entered Correctly!\n",
            "AMSA Meeting\n"
          ]
        },
        {
          "output_type": "stream",
          "name": "stderr",
          "text": [
            "\r 58%|█████▊    | 291/503 [16:48<11:36,  3.29s/it]"
          ]
        },
        {
          "output_type": "stream",
          "name": "stdout",
          "text": [
            "Entered Correctly!\n",
            "NABS Forum\n"
          ]
        },
        {
          "output_type": "stream",
          "name": "stderr",
          "text": [
            "\r 58%|█████▊    | 292/503 [16:51<11:06,  3.16s/it]"
          ]
        },
        {
          "output_type": "stream",
          "name": "stdout",
          "text": [
            "Entered Correctly!\n",
            "Ministerial Roundtable  First Nations\n"
          ]
        },
        {
          "output_type": "stream",
          "name": "stderr",
          "text": [
            "\r 58%|█████▊    | 293/503 [16:55<11:44,  3.35s/it]"
          ]
        },
        {
          "output_type": "stream",
          "name": "stdout",
          "text": [
            "Entered Correctly!\n",
            "International Womens Day High Tea\n"
          ]
        },
        {
          "output_type": "stream",
          "name": "stderr",
          "text": [
            "\r 58%|█████▊    | 294/503 [16:58<12:18,  3.53s/it]"
          ]
        },
        {
          "output_type": "stream",
          "name": "stdout",
          "text": [
            "Entered Correctly!\n",
            "Winnow Software March 2024 Meeting\n"
          ]
        },
        {
          "output_type": "stream",
          "name": "stderr",
          "text": [
            "\r 59%|█████▊    | 295/503 [17:02<11:57,  3.45s/it]"
          ]
        },
        {
          "output_type": "stream",
          "name": "stdout",
          "text": [
            "Entered Correctly!\n",
            "Globetrotter Travel Team Meeting\n"
          ]
        },
        {
          "output_type": "stream",
          "name": "stderr",
          "text": [
            "\r 59%|█████▉    | 296/503 [17:05<11:25,  3.31s/it]"
          ]
        },
        {
          "output_type": "stream",
          "name": "stdout",
          "text": [
            "Entered Correctly!\n",
            "INTERNAL  Plan Review Meeting\n"
          ]
        },
        {
          "output_type": "stream",
          "name": "stderr",
          "text": [
            "\r 59%|█████▉    | 297/503 [17:08<11:08,  3.25s/it]"
          ]
        },
        {
          "output_type": "stream",
          "name": "stdout",
          "text": [
            "Entered Correctly!\n",
            "Owners Meeting\n"
          ]
        },
        {
          "output_type": "stream",
          "name": "stderr",
          "text": [
            "\r 59%|█████▉    | 298/503 [17:12<11:32,  3.38s/it]"
          ]
        },
        {
          "output_type": "stream",
          "name": "stdout",
          "text": [
            "Entered Correctly!\n",
            "Steinepris Paganin Presentation\n"
          ]
        },
        {
          "output_type": "stream",
          "name": "stderr",
          "text": [
            "\r 59%|█████▉    | 299/503 [17:15<11:42,  3.44s/it]"
          ]
        },
        {
          "output_type": "stream",
          "name": "stdout",
          "text": [
            "Entered Correctly!\n",
            "Property Council Reception\n"
          ]
        },
        {
          "output_type": "stream",
          "name": "stderr",
          "text": [
            "\r 60%|█████▉    | 300/503 [17:18<11:14,  3.32s/it]"
          ]
        },
        {
          "output_type": "stream",
          "name": "stdout",
          "text": [
            "Entered Correctly!\n",
            "US Embassy Port Moresby Meeting\n"
          ]
        },
        {
          "output_type": "stream",
          "name": "stderr",
          "text": [
            "\r 60%|█████▉    | 301/503 [17:21<10:58,  3.26s/it]"
          ]
        },
        {
          "output_type": "stream",
          "name": "stdout",
          "text": [
            "Entered Correctly!\n",
            "MiBank Meeting\n"
          ]
        },
        {
          "output_type": "stream",
          "name": "stderr",
          "text": [
            "\r 60%|██████    | 302/503 [17:24<10:48,  3.22s/it]"
          ]
        },
        {
          "output_type": "stream",
          "name": "stdout",
          "text": [
            "Entered Correctly!\n",
            "PNG Ports Corporation Meeting\n"
          ]
        },
        {
          "output_type": "stream",
          "name": "stderr",
          "text": [
            "\r 60%|██████    | 303/503 [17:29<11:47,  3.54s/it]"
          ]
        },
        {
          "output_type": "stream",
          "name": "stdout",
          "text": [
            "Entered Correctly!\n",
            "ASTEC Meeting\n",
            "Unexpected URL: https://lightstay.ei3.com/property/BSBHI/tools/meetingcalculator/new\n",
            "ASTEC Meeting\n",
            "Johnson  Johnson Meeting\n"
          ]
        },
        {
          "output_type": "stream",
          "name": "stderr",
          "text": [
            "\r 60%|██████    | 304/503 [17:34<13:53,  4.19s/it]"
          ]
        },
        {
          "output_type": "stream",
          "name": "stdout",
          "text": [
            "Entered Correctly!\n",
            "Harcourts Grenadier March 2024 Meeting\n"
          ]
        },
        {
          "output_type": "stream",
          "name": "stderr",
          "text": [
            "\r 61%|██████    | 305/503 [17:37<12:38,  3.83s/it]"
          ]
        },
        {
          "output_type": "stream",
          "name": "stdout",
          "text": [
            "Entered Correctly!\n",
            "Moni Plus Shareholder Meeting\n"
          ]
        },
        {
          "output_type": "stream",
          "name": "stderr",
          "text": [
            "\r 61%|██████    | 306/503 [17:41<12:07,  3.69s/it]"
          ]
        },
        {
          "output_type": "stream",
          "name": "stdout",
          "text": [
            "Entered Correctly!\n",
            "Mazars Meeting Mining Projects\n"
          ]
        },
        {
          "output_type": "stream",
          "name": "stderr",
          "text": [
            "\r 61%|██████    | 307/503 [17:45<12:16,  3.76s/it]"
          ]
        },
        {
          "output_type": "stream",
          "name": "stdout",
          "text": [
            "Entered Correctly!\n",
            "DAMAC Properties Event Mar 2024\n"
          ]
        },
        {
          "output_type": "stream",
          "name": "stderr",
          "text": [
            "\r 61%|██████    | 308/503 [17:48<11:24,  3.51s/it]"
          ]
        },
        {
          "output_type": "stream",
          "name": "stdout",
          "text": [
            "Entered Correctly!\n",
            "PRINCE2 March 2024\n"
          ]
        },
        {
          "output_type": "stream",
          "name": "stderr",
          "text": [
            "\r 61%|██████▏   | 309/503 [17:50<10:44,  3.32s/it]"
          ]
        },
        {
          "output_type": "stream",
          "name": "stdout",
          "text": [
            "Entered Correctly!\n",
            "Newhaul Meeting\n"
          ]
        },
        {
          "output_type": "stream",
          "name": "stderr",
          "text": [
            "\r 62%|██████▏   | 310/503 [17:53<10:16,  3.20s/it]"
          ]
        },
        {
          "output_type": "stream",
          "name": "stdout",
          "text": [
            "Entered Correctly!\n",
            "Independent Audiologists Australia Strategic Planning Meeting\n"
          ]
        },
        {
          "output_type": "stream",
          "name": "stderr",
          "text": [
            "\r 62%|██████▏   | 311/503 [17:57<10:40,  3.34s/it]"
          ]
        },
        {
          "output_type": "stream",
          "name": "stdout",
          "text": [
            "Entered Correctly!\n",
            "SBS Media  Event 1\n"
          ]
        },
        {
          "output_type": "stream",
          "name": "stderr",
          "text": [
            "\r 62%|██████▏   | 312/503 [18:01<11:20,  3.56s/it]"
          ]
        },
        {
          "output_type": "stream",
          "name": "stdout",
          "text": [
            "Entered Correctly!\n",
            "FBT Solutions Meeting\n"
          ]
        },
        {
          "output_type": "stream",
          "name": "stderr",
          "text": [
            "\r 62%|██████▏   | 313/503 [18:04<10:45,  3.40s/it]"
          ]
        },
        {
          "output_type": "stream",
          "name": "stdout",
          "text": [
            "Entered Correctly!\n",
            "Internal Meeting  Encore\n"
          ]
        },
        {
          "output_type": "stream",
          "name": "stderr",
          "text": [
            "\r 62%|██████▏   | 314/503 [18:07<10:17,  3.27s/it]"
          ]
        },
        {
          "output_type": "stream",
          "name": "stdout",
          "text": [
            "Entered Correctly!\n",
            "ISEP Study Abroad  Breakfast  5th March 2024\n"
          ]
        },
        {
          "output_type": "stream",
          "name": "stderr",
          "text": [
            "\r 63%|██████▎   | 315/503 [18:10<10:03,  3.21s/it]"
          ]
        },
        {
          "output_type": "stream",
          "name": "stdout",
          "text": [
            "Entered Correctly!\n",
            "AREEA  Corporate Breakfast  14th March 2024\n"
          ]
        },
        {
          "output_type": "stream",
          "name": "stderr",
          "text": [
            "\r 63%|██████▎   | 316/503 [18:14<10:44,  3.45s/it]"
          ]
        },
        {
          "output_type": "stream",
          "name": "stdout",
          "text": [
            "Entered Correctly!\n",
            "CK Baron Meeting\n"
          ]
        },
        {
          "output_type": "stream",
          "name": "stderr",
          "text": [
            "\r 63%|██████▎   | 317/503 [18:18<10:50,  3.50s/it]"
          ]
        },
        {
          "output_type": "stream",
          "name": "stdout",
          "text": [
            "Entered Correctly!\n",
            "Mazars Meeting Valuation AnalysisFINANCE\n"
          ]
        },
        {
          "output_type": "stream",
          "name": "stderr",
          "text": [
            "\r 63%|██████▎   | 318/503 [18:21<10:25,  3.38s/it]"
          ]
        },
        {
          "output_type": "stream",
          "name": "stdout",
          "text": [
            "Entered Correctly!\n",
            "Sarah Meeting\n"
          ]
        },
        {
          "output_type": "stream",
          "name": "stderr",
          "text": [
            "\r 63%|██████▎   | 319/503 [18:24<09:56,  3.24s/it]"
          ]
        },
        {
          "output_type": "stream",
          "name": "stdout",
          "text": [
            "Entered Correctly!\n",
            "Cape York Land Council Conference\n"
          ]
        },
        {
          "output_type": "stream",
          "name": "stderr",
          "text": [
            "\r 64%|██████▎   | 320/503 [18:27<09:41,  3.18s/it]"
          ]
        },
        {
          "output_type": "stream",
          "name": "stdout",
          "text": [
            "Entered Correctly!\n",
            "No Woman Left Behind Conference Program 2024\n"
          ]
        },
        {
          "output_type": "stream",
          "name": "stderr",
          "text": [
            "\r 64%|██████▍   | 321/503 [18:31<10:29,  3.46s/it]"
          ]
        },
        {
          "output_type": "stream",
          "name": "stdout",
          "text": [
            "Entered Correctly!\n",
            "Community of Practice\n"
          ]
        },
        {
          "output_type": "stream",
          "name": "stderr",
          "text": [
            "\r 64%|██████▍   | 322/503 [18:34<10:25,  3.45s/it]"
          ]
        },
        {
          "output_type": "stream",
          "name": "stdout",
          "text": [
            "Entered Correctly!\n",
            "Hall Contracting Meeting\n"
          ]
        },
        {
          "output_type": "stream",
          "name": "stderr",
          "text": [
            "\r 64%|██████▍   | 323/503 [18:37<09:48,  3.27s/it]"
          ]
        },
        {
          "output_type": "stream",
          "name": "stdout",
          "text": [
            "Entered Correctly!\n",
            "Captivate Events Intuit QuickBooks Roadshow\n"
          ]
        },
        {
          "output_type": "stream",
          "name": "stderr",
          "text": [
            "\r 64%|██████▍   | 324/503 [18:40<09:33,  3.20s/it]"
          ]
        },
        {
          "output_type": "stream",
          "name": "stdout",
          "text": [
            "Entered Correctly!\n",
            "BridonBekaert Tech Talk 2024\n"
          ]
        },
        {
          "output_type": "stream",
          "name": "stderr",
          "text": [
            "\r 65%|██████▍   | 325/503 [18:43<09:15,  3.12s/it]"
          ]
        },
        {
          "output_type": "stream",
          "name": "stdout",
          "text": [
            "Entered Correctly!\n",
            "Valaris New Hire Orientation\n"
          ]
        },
        {
          "output_type": "stream",
          "name": "stderr",
          "text": [
            "\r 65%|██████▍   | 326/503 [18:47<09:58,  3.38s/it]"
          ]
        },
        {
          "output_type": "stream",
          "name": "stdout",
          "text": [
            "Entered Correctly!\n",
            "ANZ  WA Branch Manager Development Day  2627th March 2024\n"
          ]
        },
        {
          "output_type": "stream",
          "name": "stderr",
          "text": [
            "\r 65%|██████▌   | 327/503 [18:51<09:53,  3.37s/it]"
          ]
        },
        {
          "output_type": "stream",
          "name": "stdout",
          "text": [
            "Entered Correctly!\n",
            "Fortescue Meeting\n"
          ]
        },
        {
          "output_type": "stream",
          "name": "stderr",
          "text": [
            "\r 65%|██████▌   | 328/503 [18:53<09:22,  3.22s/it]"
          ]
        },
        {
          "output_type": "stream",
          "name": "stdout",
          "text": [
            "Entered Correctly!\n",
            "Rio Tinto Admin Community 2024\n"
          ]
        },
        {
          "output_type": "stream",
          "name": "stderr",
          "text": [
            "\r 65%|██████▌   | 329/503 [18:56<09:05,  3.14s/it]"
          ]
        },
        {
          "output_type": "stream",
          "name": "stdout",
          "text": [
            "Entered Correctly!\n",
            "Chanel  Meeting 5th March 2024\n"
          ]
        },
        {
          "output_type": "stream",
          "name": "stderr",
          "text": [
            "\r 66%|██████▌   | 330/503 [18:59<09:02,  3.14s/it]"
          ]
        },
        {
          "output_type": "stream",
          "name": "stdout",
          "text": [
            "Entered Correctly!\n",
            "CLC Meeting  March\n"
          ]
        },
        {
          "output_type": "stream",
          "name": "stderr",
          "text": [
            "\r 66%|██████▌   | 331/503 [19:03<09:36,  3.35s/it]"
          ]
        },
        {
          "output_type": "stream",
          "name": "stdout",
          "text": [
            "Entered Correctly!\n",
            "CLC Meeting 7th March\n"
          ]
        },
        {
          "output_type": "stream",
          "name": "stderr",
          "text": [
            "\r 66%|██████▌   | 332/503 [19:06<09:20,  3.28s/it]"
          ]
        },
        {
          "output_type": "stream",
          "name": "stdout",
          "text": [
            "Entered Correctly!\n",
            "Ku Arts Meeting\n"
          ]
        },
        {
          "output_type": "stream",
          "name": "stderr",
          "text": [
            "\r 66%|██████▌   | 333/503 [19:09<08:59,  3.18s/it]"
          ]
        },
        {
          "output_type": "stream",
          "name": "stdout",
          "text": [
            "Entered Correctly!\n",
            "Woodside Energy Team MeetingPerth Meeting\n"
          ]
        },
        {
          "output_type": "stream",
          "name": "stderr",
          "text": [
            "\r 66%|██████▋   | 334/503 [19:13<08:54,  3.16s/it]"
          ]
        },
        {
          "output_type": "stream",
          "name": "stdout",
          "text": [
            "Entered Correctly!\n",
            "Powering WA Planning Sessions  15th March 2024\n"
          ]
        },
        {
          "output_type": "stream",
          "name": "stderr",
          "text": [
            "\r 67%|██████▋   | 335/503 [19:16<09:03,  3.24s/it]"
          ]
        },
        {
          "output_type": "stream",
          "name": "stdout",
          "text": [
            "Entered Correctly!\n",
            "Powering WA Planning Sessions  13th March 2024\n"
          ]
        },
        {
          "output_type": "stream",
          "name": "stderr",
          "text": [
            "\r 67%|██████▋   | 336/503 [19:20<09:54,  3.56s/it]"
          ]
        },
        {
          "output_type": "stream",
          "name": "stdout",
          "text": [
            "Entered Correctly!\n",
            "New Zealand Champion Travel Service Ltd 240305S22RWY\n"
          ]
        },
        {
          "output_type": "stream",
          "name": "stderr",
          "text": [
            "\r 67%|██████▋   | 337/503 [19:23<09:26,  3.41s/it]"
          ]
        },
        {
          "output_type": "stream",
          "name": "stdout",
          "text": [
            "Entered Correctly!\n",
            "Dunedin International Airport Limited March 2024 Meeting\n"
          ]
        },
        {
          "output_type": "stream",
          "name": "stderr",
          "text": [
            "\r 67%|██████▋   | 338/503 [19:26<09:10,  3.34s/it]"
          ]
        },
        {
          "output_type": "stream",
          "name": "stdout",
          "text": [
            "Entered Correctly!\n",
            "Aviation NZ March 2024 ConferenceConvention\n"
          ]
        },
        {
          "output_type": "stream",
          "name": "stderr",
          "text": [
            "\r 67%|██████▋   | 339/503 [19:29<08:51,  3.24s/it]"
          ]
        },
        {
          "output_type": "stream",
          "name": "stdout",
          "text": [
            "Entered Correctly!\n",
            "SiteCore Meeting\n"
          ]
        },
        {
          "output_type": "stream",
          "name": "stderr",
          "text": [
            "\r 68%|██████▊   | 340/503 [19:33<09:19,  3.43s/it]"
          ]
        },
        {
          "output_type": "stream",
          "name": "stdout",
          "text": [
            "Entered Correctly!\n",
            "Toro Meeting\n"
          ]
        },
        {
          "output_type": "stream",
          "name": "stderr",
          "text": [
            "\r 68%|██████▊   | 341/503 [19:37<09:31,  3.53s/it]"
          ]
        },
        {
          "output_type": "stream",
          "name": "stdout",
          "text": [
            "Entered Correctly!\n",
            "Toro Meeting 2\n"
          ]
        },
        {
          "output_type": "stream",
          "name": "stderr",
          "text": [
            "\r 68%|██████▊   | 342/503 [19:40<08:59,  3.35s/it]"
          ]
        },
        {
          "output_type": "stream",
          "name": "stdout",
          "text": [
            "Entered Correctly!\n",
            "Breakfast EventMelbourne\n"
          ]
        },
        {
          "output_type": "stream",
          "name": "stderr",
          "text": [
            "\r 68%|██████▊   | 343/503 [19:43<08:38,  3.24s/it]"
          ]
        },
        {
          "output_type": "stream",
          "name": "stdout",
          "text": [
            "Entered Correctly!\n",
            "Bryce Kristo Interview Room\n"
          ]
        },
        {
          "output_type": "stream",
          "name": "stderr",
          "text": [
            "\r 68%|██████▊   | 344/503 [19:46<08:21,  3.16s/it]"
          ]
        },
        {
          "output_type": "stream",
          "name": "stdout",
          "text": [
            "Entered Correctly!\n",
            "Corteva Board Meeting\n"
          ]
        },
        {
          "output_type": "stream",
          "name": "stderr",
          "text": [
            "\r 69%|██████▊   | 345/503 [19:50<08:57,  3.40s/it]"
          ]
        },
        {
          "output_type": "stream",
          "name": "stdout",
          "text": [
            "Entered Correctly!\n",
            "CHEP Meeting\n"
          ]
        },
        {
          "output_type": "stream",
          "name": "stderr",
          "text": [
            "\r 69%|██████▉   | 346/503 [19:54<09:00,  3.44s/it]"
          ]
        },
        {
          "output_type": "stream",
          "name": "stdout",
          "text": [
            "Entered Correctly!\n",
            "Jahan Equity PL Carpet Sale\n"
          ]
        },
        {
          "output_type": "stream",
          "name": "stderr",
          "text": [
            "\r 69%|██████▉   | 347/503 [19:56<08:34,  3.30s/it]"
          ]
        },
        {
          "output_type": "stream",
          "name": "stdout",
          "text": [
            "Entered Correctly!\n",
            "Avant Insurance Meeting\n"
          ]
        },
        {
          "output_type": "stream",
          "name": "stderr",
          "text": [
            "\r 69%|██████▉   | 348/503 [19:59<08:15,  3.20s/it]"
          ]
        },
        {
          "output_type": "stream",
          "name": "stdout",
          "text": [
            "Entered Correctly!\n",
            "Keyton Meeting\n"
          ]
        },
        {
          "output_type": "stream",
          "name": "stderr",
          "text": [
            "\r 69%|██████▉   | 349/503 [20:02<07:59,  3.11s/it]"
          ]
        },
        {
          "output_type": "stream",
          "name": "stdout",
          "text": [
            "Entered Correctly!\n",
            "Qatar Cabin Recruitment NadiFiji 2024\n"
          ]
        },
        {
          "output_type": "stream",
          "name": "stderr",
          "text": [
            "\r 70%|██████▉   | 350/503 [20:07<08:47,  3.45s/it]"
          ]
        },
        {
          "output_type": "stream",
          "name": "stdout",
          "text": [
            "Entered Correctly!\n",
            "AXR Meeting\n"
          ]
        },
        {
          "output_type": "stream",
          "name": "stderr",
          "text": [
            "\r 70%|██████▉   | 351/503 [20:10<08:37,  3.40s/it]"
          ]
        },
        {
          "output_type": "stream",
          "name": "stdout",
          "text": [
            "Entered Correctly!\n",
            "Rabobank Function\n"
          ]
        },
        {
          "output_type": "stream",
          "name": "stderr",
          "text": [
            "\r 70%|██████▉   | 352/503 [20:13<08:13,  3.27s/it]"
          ]
        },
        {
          "output_type": "stream",
          "name": "stdout",
          "text": [
            "Entered Correctly!\n",
            "newsXpress Members Meeting\n"
          ]
        },
        {
          "output_type": "stream",
          "name": "stderr",
          "text": [
            "\r 70%|███████   | 353/503 [20:16<07:57,  3.18s/it]"
          ]
        },
        {
          "output_type": "stream",
          "name": "stdout",
          "text": [
            "Entered Correctly!\n",
            "ACCI International Womens Day\n"
          ]
        },
        {
          "output_type": "stream",
          "name": "stderr",
          "text": [
            "\r 70%|███████   | 354/503 [20:19<07:43,  3.11s/it]"
          ]
        },
        {
          "output_type": "stream",
          "name": "stdout",
          "text": [
            "Entered Correctly!\n",
            "Albany Surf Life Saving Meeting\n"
          ]
        },
        {
          "output_type": "stream",
          "name": "stderr",
          "text": [
            "\r 71%|███████   | 355/503 [20:23<08:19,  3.38s/it]"
          ]
        },
        {
          "output_type": "stream",
          "name": "stdout",
          "text": [
            "Entered Correctly!\n",
            "CBH Meeting 1402\n"
          ]
        },
        {
          "output_type": "stream",
          "name": "stderr",
          "text": [
            "\r 71%|███████   | 356/503 [20:26<08:07,  3.32s/it]"
          ]
        },
        {
          "output_type": "stream",
          "name": "stdout",
          "text": [
            "Entered Correctly!\n",
            "Power  Water Activation\n"
          ]
        },
        {
          "output_type": "stream",
          "name": "stderr",
          "text": [
            "\r 71%|███████   | 357/503 [20:29<07:48,  3.21s/it]"
          ]
        },
        {
          "output_type": "stream",
          "name": "stdout",
          "text": [
            "Entered Correctly!\n",
            "GTE Track Spray\n"
          ]
        },
        {
          "output_type": "stream",
          "name": "stderr",
          "text": [
            "\r 71%|███████   | 358/503 [20:32<07:33,  3.13s/it]"
          ]
        },
        {
          "output_type": "stream",
          "name": "stdout",
          "text": [
            "Entered Correctly!\n",
            "Hawaiians Suburban Marketing Team  Planning Session\n"
          ]
        },
        {
          "output_type": "stream",
          "name": "stderr",
          "text": [
            "\r 71%|███████▏  | 359/503 [20:35<07:36,  3.17s/it]"
          ]
        },
        {
          "output_type": "stream",
          "name": "stdout",
          "text": [
            "Entered Correctly!\n",
            "Migration NT Information Session\n"
          ]
        },
        {
          "output_type": "stream",
          "name": "stderr",
          "text": [
            "\r 72%|███████▏  | 360/503 [20:39<08:11,  3.44s/it]"
          ]
        },
        {
          "output_type": "stream",
          "name": "stdout",
          "text": [
            "Entered Correctly!\n",
            "Eastern Kuku Yalanji  Boundary Meeting\n"
          ]
        },
        {
          "output_type": "stream",
          "name": "stderr",
          "text": [
            "\r 72%|███████▏  | 361/503 [20:42<07:49,  3.31s/it]"
          ]
        },
        {
          "output_type": "stream",
          "name": "stdout",
          "text": [
            "Entered Correctly!\n",
            "Eastern Kuku Yalanji  Boundary Meeting\n"
          ]
        },
        {
          "output_type": "stream",
          "name": "stderr",
          "text": [
            "\r 72%|███████▏  | 362/503 [20:45<07:32,  3.21s/it]"
          ]
        },
        {
          "output_type": "stream",
          "name": "stdout",
          "text": [
            "Entered Correctly!\n",
            "HIS Briefing\n"
          ]
        },
        {
          "output_type": "stream",
          "name": "stderr",
          "text": [
            "\r 72%|███████▏  | 363/503 [20:48<07:16,  3.12s/it]"
          ]
        },
        {
          "output_type": "stream",
          "name": "stdout",
          "text": [
            "Entered Correctly!\n",
            "WorkUp Queensland Meeting\n"
          ]
        },
        {
          "output_type": "stream",
          "name": "stderr",
          "text": [
            "\r 72%|███████▏  | 364/503 [20:51<07:20,  3.17s/it]"
          ]
        },
        {
          "output_type": "stream",
          "name": "stdout",
          "text": [
            "Entered Correctly!\n",
            "HACCP Training\n"
          ]
        },
        {
          "output_type": "stream",
          "name": "stderr",
          "text": [
            "\r 73%|███████▎  | 365/503 [20:55<07:39,  3.33s/it]"
          ]
        },
        {
          "output_type": "stream",
          "name": "stdout",
          "text": [
            "Entered Correctly!\n",
            "Encore Meeting\n"
          ]
        },
        {
          "output_type": "stream",
          "name": "stderr",
          "text": [
            "\r 73%|███████▎  | 366/503 [20:58<07:14,  3.17s/it]"
          ]
        },
        {
          "output_type": "stream",
          "name": "stdout",
          "text": [
            "Entered Correctly!\n",
            "Netwealth Investments  Product Roadshow  21st March 2024\n"
          ]
        },
        {
          "output_type": "stream",
          "name": "stderr",
          "text": [
            "\r 73%|███████▎  | 367/503 [21:01<07:08,  3.15s/it]"
          ]
        },
        {
          "output_type": "stream",
          "name": "stdout",
          "text": [
            "Entered Correctly!\n",
            "Legalwise Seminars\n"
          ]
        },
        {
          "output_type": "stream",
          "name": "stderr",
          "text": [
            "\r 73%|███████▎  | 368/503 [21:04<06:54,  3.07s/it]"
          ]
        },
        {
          "output_type": "stream",
          "name": "stdout",
          "text": [
            "Entered Correctly!\n",
            "Bali Hotels Association  Perth Event  14th March 2024\n"
          ]
        },
        {
          "output_type": "stream",
          "name": "stderr",
          "text": [
            "\r 73%|███████▎  | 369/503 [21:07<07:05,  3.18s/it]"
          ]
        },
        {
          "output_type": "stream",
          "name": "stdout",
          "text": [
            "Entered Correctly!\n",
            "DITT Board Meeting\n"
          ]
        },
        {
          "output_type": "stream",
          "name": "stderr",
          "text": [
            "\r 74%|███████▎  | 370/503 [21:11<07:27,  3.36s/it]"
          ]
        },
        {
          "output_type": "stream",
          "name": "stdout",
          "text": [
            "Entered Correctly!\n",
            "Power and Water Meeting\n"
          ]
        },
        {
          "output_type": "stream",
          "name": "stderr",
          "text": [
            "\r 74%|███████▍  | 371/503 [21:14<07:05,  3.22s/it]"
          ]
        },
        {
          "output_type": "stream",
          "name": "stdout",
          "text": [
            "Entered Correctly!\n",
            "Santos Meeting\n"
          ]
        },
        {
          "output_type": "stream",
          "name": "stderr",
          "text": [
            "\r 74%|███████▍  | 372/503 [21:17<06:52,  3.15s/it]"
          ]
        },
        {
          "output_type": "stream",
          "name": "stdout",
          "text": [
            "Entered Correctly!\n",
            "MiBank MOA Signing Ceremony\n"
          ]
        },
        {
          "output_type": "stream",
          "name": "stderr",
          "text": [
            "\r 74%|███████▍  | 373/503 [21:20<06:44,  3.11s/it]"
          ]
        },
        {
          "output_type": "stream",
          "name": "stdout",
          "text": [
            "Entered Correctly!\n",
            "CyberCX Training\n"
          ]
        },
        {
          "output_type": "stream",
          "name": "stderr",
          "text": [
            "\r 74%|███████▍  | 374/503 [21:24<07:00,  3.26s/it]"
          ]
        },
        {
          "output_type": "stream",
          "name": "stdout",
          "text": [
            "Entered Correctly!\n",
            "Fincorp Meeting\n"
          ]
        },
        {
          "output_type": "stream",
          "name": "stderr",
          "text": [
            "\r 75%|███████▍  | 375/503 [21:28<07:26,  3.49s/it]"
          ]
        },
        {
          "output_type": "stream",
          "name": "stdout",
          "text": [
            "Entered Correctly!\n",
            "National Energy Authority Meeting\n"
          ]
        },
        {
          "output_type": "stream",
          "name": "stderr",
          "text": [
            "\r 75%|███████▍  | 376/503 [21:31<07:09,  3.38s/it]"
          ]
        },
        {
          "output_type": "stream",
          "name": "stdout",
          "text": [
            "Entered Correctly!\n",
            "UNW Conference\n"
          ]
        },
        {
          "output_type": "stream",
          "name": "stderr",
          "text": [
            "\r 75%|███████▍  | 377/503 [21:34<06:53,  3.29s/it]"
          ]
        },
        {
          "output_type": "stream",
          "name": "stdout",
          "text": [
            "Entered Correctly!\n",
            "PSNA Board Meeting\n"
          ]
        },
        {
          "output_type": "stream",
          "name": "stderr",
          "text": [
            "\r 75%|███████▌  | 378/503 [21:37<06:41,  3.21s/it]"
          ]
        },
        {
          "output_type": "stream",
          "name": "stdout",
          "text": [
            "Entered Correctly!\n",
            "Mr Ross Thomson Meeting\n"
          ]
        },
        {
          "output_type": "stream",
          "name": "stderr",
          "text": [
            "\r 75%|███████▌  | 379/503 [21:41<07:08,  3.45s/it]"
          ]
        },
        {
          "output_type": "stream",
          "name": "stdout",
          "text": [
            "Entered Correctly!\n",
            "Incentive Fund Board Meeting\n"
          ]
        },
        {
          "output_type": "stream",
          "name": "stderr",
          "text": [
            "\r 76%|███████▌  | 380/503 [21:45<07:13,  3.53s/it]"
          ]
        },
        {
          "output_type": "stream",
          "name": "stdout",
          "text": [
            "Entered Correctly!\n",
            "Hides PLD1 Alignment Meeting\n"
          ]
        },
        {
          "output_type": "stream",
          "name": "stderr",
          "text": [
            "\r 76%|███████▌  | 381/503 [21:48<06:55,  3.41s/it]"
          ]
        },
        {
          "output_type": "stream",
          "name": "stdout",
          "text": [
            "Entered Correctly!\n",
            "Roy Hill Meeting\n"
          ]
        },
        {
          "output_type": "stream",
          "name": "stderr",
          "text": [
            "\r 76%|███████▌  | 382/503 [21:51<06:35,  3.27s/it]"
          ]
        },
        {
          "output_type": "stream",
          "name": "stdout",
          "text": [
            "Entered Correctly!\n",
            "Cliftons Examination Day\n"
          ]
        },
        {
          "output_type": "stream",
          "name": "stderr",
          "text": [
            "\r 76%|███████▌  | 383/503 [21:54<06:24,  3.21s/it]"
          ]
        },
        {
          "output_type": "stream",
          "name": "stdout",
          "text": [
            "Entered Correctly!\n",
            "Becht Meeting\n"
          ]
        },
        {
          "output_type": "stream",
          "name": "stderr",
          "text": [
            "\r 76%|███████▋  | 384/503 [21:57<06:41,  3.38s/it]"
          ]
        },
        {
          "output_type": "stream",
          "name": "stdout",
          "text": [
            "Entered Correctly!\n",
            "Valaris BOLD Supervisor Training\n"
          ]
        },
        {
          "output_type": "stream",
          "name": "stderr",
          "text": [
            "\r 77%|███████▋  | 385/503 [22:01<06:41,  3.40s/it]"
          ]
        },
        {
          "output_type": "stream",
          "name": "stdout",
          "text": [
            "Entered Correctly!\n",
            "A S Harrison  Co Event\n"
          ]
        },
        {
          "output_type": "stream",
          "name": "stderr",
          "text": [
            "\r 77%|███████▋  | 386/503 [22:04<06:24,  3.28s/it]"
          ]
        },
        {
          "output_type": "stream",
          "name": "stdout",
          "text": [
            "Entered Correctly!\n",
            "Santos Meeting\n"
          ]
        },
        {
          "output_type": "stream",
          "name": "stderr",
          "text": [
            "\r 77%|███████▋  | 387/503 [22:07<06:04,  3.14s/it]"
          ]
        },
        {
          "output_type": "stream",
          "name": "stdout",
          "text": [
            "Entered Correctly!\n",
            "SA Water Training Session B\n"
          ]
        },
        {
          "output_type": "stream",
          "name": "stderr",
          "text": [
            "\r 77%|███████▋  | 388/503 [22:10<05:57,  3.11s/it]"
          ]
        },
        {
          "output_type": "stream",
          "name": "stdout",
          "text": [
            "Entered Correctly!\n",
            "UnionPay March 2024 Industry Event\n"
          ]
        },
        {
          "output_type": "stream",
          "name": "stderr",
          "text": [
            "\r 77%|███████▋  | 389/503 [22:14<06:33,  3.45s/it]"
          ]
        },
        {
          "output_type": "stream",
          "name": "stdout",
          "text": [
            "Entered Correctly!\n",
            "MONEYME Board Session\n"
          ]
        },
        {
          "output_type": "stream",
          "name": "stderr",
          "text": [
            "\r 78%|███████▊  | 390/503 [22:17<06:14,  3.32s/it]"
          ]
        },
        {
          "output_type": "stream",
          "name": "stdout",
          "text": [
            "Entered Correctly!\n",
            "Western Power\n"
          ]
        },
        {
          "output_type": "stream",
          "name": "stderr",
          "text": [
            "\r 78%|███████▊  | 391/503 [22:20<05:59,  3.21s/it]"
          ]
        },
        {
          "output_type": "stream",
          "name": "stdout",
          "text": [
            "Entered Correctly!\n",
            "Rio Tinto Meeting\n"
          ]
        },
        {
          "output_type": "stream",
          "name": "stderr",
          "text": [
            "\r 78%|███████▊  | 392/503 [22:23<05:48,  3.14s/it]"
          ]
        },
        {
          "output_type": "stream",
          "name": "stdout",
          "text": [
            "Entered Correctly!\n",
            "InHouse guest  Mr White 2108\n"
          ]
        },
        {
          "output_type": "stream",
          "name": "stderr",
          "text": [
            "\r 78%|███████▊  | 393/503 [22:27<06:05,  3.32s/it]"
          ]
        },
        {
          "output_type": "stream",
          "name": "stdout",
          "text": [
            "Entered Correctly!\n",
            "BHP  Conference 15th March 2024\n"
          ]
        },
        {
          "output_type": "stream",
          "name": "stderr",
          "text": [
            "\r 78%|███████▊  | 394/503 [22:31<06:22,  3.51s/it]"
          ]
        },
        {
          "output_type": "stream",
          "name": "stdout",
          "text": [
            "Entered Correctly!\n",
            "MMG Meeting\n"
          ]
        },
        {
          "output_type": "stream",
          "name": "stderr",
          "text": [
            "\r 79%|███████▊  | 395/503 [22:34<05:58,  3.32s/it]"
          ]
        },
        {
          "output_type": "stream",
          "name": "stdout",
          "text": [
            "Entered Correctly!\n",
            "PRIVATE MEETING  Daniel Lai\n"
          ]
        },
        {
          "output_type": "stream",
          "name": "stderr",
          "text": [
            "\r 79%|███████▊  | 396/503 [22:36<05:43,  3.21s/it]"
          ]
        },
        {
          "output_type": "stream",
          "name": "stdout",
          "text": [
            "Entered Correctly!\n",
            "NAAJA Planning Day\n"
          ]
        },
        {
          "output_type": "stream",
          "name": "stderr",
          "text": [
            "\r 79%|███████▉  | 397/503 [22:39<05:31,  3.13s/it]"
          ]
        },
        {
          "output_type": "stream",
          "name": "stdout",
          "text": [
            "Entered Correctly!\n",
            "InHouse guest  Mr White 2108\n"
          ]
        },
        {
          "output_type": "stream",
          "name": "stderr",
          "text": [
            "\r 79%|███████▉  | 398/503 [22:43<05:45,  3.29s/it]"
          ]
        },
        {
          "output_type": "stream",
          "name": "stdout",
          "text": [
            "Entered Correctly!\n",
            "Internal Meeting  VIP Samuel Chui\n"
          ]
        },
        {
          "output_type": "stream",
          "name": "stderr",
          "text": [
            "\r 79%|███████▉  | 399/503 [22:47<06:09,  3.55s/it]"
          ]
        },
        {
          "output_type": "stream",
          "name": "stdout",
          "text": [
            "Entered Correctly!\n",
            "Boeing  Meeting 19 March 2024\n"
          ]
        },
        {
          "output_type": "stream",
          "name": "stderr",
          "text": [
            "\r 80%|███████▉  | 400/503 [22:50<05:47,  3.37s/it]"
          ]
        },
        {
          "output_type": "stream",
          "name": "stdout",
          "text": [
            "Entered Correctly!\n",
            "PRIVATE MEETING  Duncan Campbell\n"
          ]
        },
        {
          "output_type": "stream",
          "name": "stderr",
          "text": [
            "\r 80%|███████▉  | 401/503 [22:53<05:33,  3.27s/it]"
          ]
        },
        {
          "output_type": "stream",
          "name": "stdout",
          "text": [
            "Entered Correctly!\n",
            "Atlas Copco Meeting\n"
          ]
        },
        {
          "output_type": "stream",
          "name": "stderr",
          "text": [
            "\r 80%|███████▉  | 402/503 [22:56<05:17,  3.14s/it]"
          ]
        },
        {
          "output_type": "stream",
          "name": "stdout",
          "text": [
            "Entered Correctly!\n",
            "Chanel  Workshop 25  26 March 2024\n"
          ]
        },
        {
          "output_type": "stream",
          "name": "stderr",
          "text": [
            "\r 80%|████████  | 403/503 [23:00<05:39,  3.40s/it]"
          ]
        },
        {
          "output_type": "stream",
          "name": "stdout",
          "text": [
            "Entered Correctly!\n",
            "ANZ Townhall Meeting March 2024\n"
          ]
        },
        {
          "output_type": "stream",
          "name": "stderr",
          "text": [
            "\r 80%|████████  | 404/503 [23:04<05:44,  3.48s/it]"
          ]
        },
        {
          "output_type": "stream",
          "name": "stdout",
          "text": [
            "Entered Correctly!\n",
            "ServiceNow  Executive Meeting\n"
          ]
        },
        {
          "output_type": "stream",
          "name": "stderr",
          "text": [
            "\r 81%|████████  | 405/503 [23:07<05:26,  3.33s/it]"
          ]
        },
        {
          "output_type": "stream",
          "name": "stdout",
          "text": [
            "Entered Correctly!\n",
            "AFR Exhibitor  Accenture\n"
          ]
        },
        {
          "output_type": "stream",
          "name": "stderr",
          "text": [
            "\r 81%|████████  | 406/503 [23:10<05:13,  3.23s/it]"
          ]
        },
        {
          "output_type": "stream",
          "name": "stdout",
          "text": [
            "Entered Correctly!\n",
            "Shaws Wire Ropes March 2024 Meeting\n"
          ]
        },
        {
          "output_type": "stream",
          "name": "stderr",
          "text": [
            "\r 81%|████████  | 407/503 [23:13<05:04,  3.17s/it]"
          ]
        },
        {
          "output_type": "stream",
          "name": "stdout",
          "text": [
            "Entered Correctly!\n",
            "Robertson Bixley March 2024 Meeting\n"
          ]
        },
        {
          "output_type": "stream",
          "name": "stderr",
          "text": [
            "\r 81%|████████  | 408/503 [23:17<05:22,  3.39s/it]"
          ]
        },
        {
          "output_type": "stream",
          "name": "stdout",
          "text": [
            "Entered Correctly!\n",
            "Media Today ConferenceMEDIA\n"
          ]
        },
        {
          "output_type": "stream",
          "name": "stderr",
          "text": [
            "\r 81%|████████▏ | 409/503 [23:20<05:18,  3.38s/it]"
          ]
        },
        {
          "output_type": "stream",
          "name": "stdout",
          "text": [
            "Entered Correctly!\n",
            "Heidrick  Struggles Interview\n"
          ]
        },
        {
          "output_type": "stream",
          "name": "stderr",
          "text": [
            "\r 82%|████████▏ | 410/503 [23:23<05:05,  3.29s/it]"
          ]
        },
        {
          "output_type": "stream",
          "name": "stdout",
          "text": [
            "Entered Correctly!\n",
            "Te Aka Whai Ora March 2024 Meeting\n"
          ]
        },
        {
          "output_type": "stream",
          "name": "stderr",
          "text": [
            "\r 82%|████████▏ | 411/503 [23:26<04:55,  3.21s/it]"
          ]
        },
        {
          "output_type": "stream",
          "name": "stdout",
          "text": [
            "Entered Correctly!\n",
            "CSE Universe Meeting\n"
          ]
        },
        {
          "output_type": "stream",
          "name": "stderr",
          "text": [
            "\r 82%|████████▏ | 412/503 [23:29<04:44,  3.13s/it]"
          ]
        },
        {
          "output_type": "stream",
          "name": "stdout",
          "text": [
            "Entered Correctly!\n",
            "Heidrick  Struggles Interview\n"
          ]
        },
        {
          "output_type": "stream",
          "name": "stderr",
          "text": [
            "\r 82%|████████▏ | 413/503 [23:33<05:07,  3.42s/it]"
          ]
        },
        {
          "output_type": "stream",
          "name": "stdout",
          "text": [
            "Entered Correctly!\n",
            "True North Comm Event\n"
          ]
        },
        {
          "output_type": "stream",
          "name": "stderr",
          "text": [
            "\r 82%|████████▏ | 414/503 [23:36<04:55,  3.33s/it]"
          ]
        },
        {
          "output_type": "stream",
          "name": "stdout",
          "text": [
            "Entered Correctly!\n",
            "Executive Womens Series Breakfast\n"
          ]
        },
        {
          "output_type": "stream",
          "name": "stderr",
          "text": [
            "\r 83%|████████▎ | 415/503 [23:39<04:44,  3.23s/it]"
          ]
        },
        {
          "output_type": "stream",
          "name": "stdout",
          "text": [
            "Entered Correctly!\n",
            "Sustainable Infrastructure Town Hall\n"
          ]
        },
        {
          "output_type": "stream",
          "name": "stderr",
          "text": [
            "\r 83%|████████▎ | 416/503 [23:42<04:36,  3.18s/it]"
          ]
        },
        {
          "output_type": "stream",
          "name": "stdout",
          "text": [
            "Entered Correctly!\n",
            "Harrison Meeting\n"
          ]
        },
        {
          "output_type": "stream",
          "name": "stderr",
          "text": [
            "\r 83%|████████▎ | 417/503 [23:45<04:28,  3.12s/it]"
          ]
        },
        {
          "output_type": "stream",
          "name": "stdout",
          "text": [
            "Entered Correctly!\n",
            "Wedding of Alexia  Owen\n"
          ]
        },
        {
          "output_type": "stream",
          "name": "stderr",
          "text": [
            "\r 83%|████████▎ | 418/503 [23:49<04:46,  3.37s/it]"
          ]
        },
        {
          "output_type": "stream",
          "name": "stdout",
          "text": [
            "Entered Correctly!\n",
            "Rio Tinto Recruitment  20th March 2024\n"
          ]
        },
        {
          "output_type": "stream",
          "name": "stderr",
          "text": [
            "\r 83%|████████▎ | 419/503 [23:52<04:36,  3.29s/it]"
          ]
        },
        {
          "output_type": "stream",
          "name": "stdout",
          "text": [
            "Entered Correctly!\n",
            "Les Clefs dOr Concierge Tourism Expo\n"
          ]
        },
        {
          "output_type": "stream",
          "name": "stderr",
          "text": [
            "\r 83%|████████▎ | 420/503 [23:56<04:29,  3.25s/it]"
          ]
        },
        {
          "output_type": "stream",
          "name": "stdout",
          "text": [
            "Entered Correctly!\n",
            "Rio Tinto Recruitment  27th March 2024\n"
          ]
        },
        {
          "output_type": "stream",
          "name": "stderr",
          "text": [
            "\r 84%|████████▎ | 421/503 [23:59<04:21,  3.19s/it]"
          ]
        },
        {
          "output_type": "stream",
          "name": "stdout",
          "text": [
            "Entered Correctly!\n",
            "Rotary Club of Perth Lunch\n"
          ]
        },
        {
          "output_type": "stream",
          "name": "stderr",
          "text": [
            "\r 84%|████████▍ | 422/503 [24:02<04:26,  3.30s/it]"
          ]
        },
        {
          "output_type": "stream",
          "name": "stdout",
          "text": [
            "Entered Correctly!\n",
            "Rotary Club of Perth Lunch\n"
          ]
        },
        {
          "output_type": "stream",
          "name": "stderr",
          "text": [
            "\r 84%|████████▍ | 423/503 [24:06<04:33,  3.42s/it]"
          ]
        },
        {
          "output_type": "stream",
          "name": "stdout",
          "text": [
            "Entered Correctly!\n",
            "KBR Corporate Town Hall\n"
          ]
        },
        {
          "output_type": "stream",
          "name": "stderr",
          "text": [
            "\r 84%|████████▍ | 424/503 [24:09<04:21,  3.31s/it]"
          ]
        },
        {
          "output_type": "stream",
          "name": "stdout",
          "text": [
            "Entered Correctly!\n",
            "Rotary Club of Perth Lunch\n"
          ]
        },
        {
          "output_type": "stream",
          "name": "stderr",
          "text": [
            "\r 84%|████████▍ | 425/503 [24:12<04:09,  3.20s/it]"
          ]
        },
        {
          "output_type": "stream",
          "name": "stdout",
          "text": [
            "Entered Correctly!\n",
            "Owners Meeting\n"
          ]
        },
        {
          "output_type": "stream",
          "name": "stderr",
          "text": [
            "\r 85%|████████▍ | 426/503 [24:15<04:00,  3.13s/it]"
          ]
        },
        {
          "output_type": "stream",
          "name": "stdout",
          "text": [
            "Entered Correctly!\n",
            "DA Lewis March 2024 Meeting\n"
          ]
        },
        {
          "output_type": "stream",
          "name": "stderr",
          "text": [
            "\r 85%|████████▍ | 427/503 [24:18<04:08,  3.27s/it]"
          ]
        },
        {
          "output_type": "stream",
          "name": "stdout",
          "text": [
            "Entered Correctly!\n",
            "Ultima Thule Ltd Meeting\n"
          ]
        },
        {
          "output_type": "stream",
          "name": "stderr",
          "text": [
            "\r 85%|████████▌ | 428/503 [24:22<04:20,  3.48s/it]"
          ]
        },
        {
          "output_type": "stream",
          "name": "stdout",
          "text": [
            "Entered Correctly!\n",
            "PNG Ports Corporation Meeting\n"
          ]
        },
        {
          "output_type": "stream",
          "name": "stderr",
          "text": [
            "\r 85%|████████▌ | 429/503 [24:25<04:08,  3.36s/it]"
          ]
        },
        {
          "output_type": "stream",
          "name": "stdout",
          "text": [
            "Entered Correctly!\n",
            "Exxon Mobil Meeting\n"
          ]
        },
        {
          "output_type": "stream",
          "name": "stderr",
          "text": [
            "\r 85%|████████▌ | 430/503 [24:28<03:53,  3.19s/it]"
          ]
        },
        {
          "output_type": "stream",
          "name": "stdout",
          "text": [
            "Entered Correctly!\n",
            "Coffee Blind Tasting\n"
          ]
        },
        {
          "output_type": "stream",
          "name": "stderr",
          "text": [
            "\r 86%|████████▌ | 431/503 [24:31<03:43,  3.11s/it]"
          ]
        },
        {
          "output_type": "stream",
          "name": "stdout",
          "text": [
            "Entered Correctly!\n",
            "The Smith Family  Work Inspirations\n"
          ]
        },
        {
          "output_type": "stream",
          "name": "stderr",
          "text": [
            "\r 86%|████████▌ | 432/503 [24:35<03:59,  3.37s/it]"
          ]
        },
        {
          "output_type": "stream",
          "name": "stdout",
          "text": [
            "Entered Correctly!\n",
            "Interview Room for MrGray\n"
          ]
        },
        {
          "output_type": "stream",
          "name": "stderr",
          "text": [
            "\r 86%|████████▌ | 433/503 [24:39<04:02,  3.46s/it]"
          ]
        },
        {
          "output_type": "stream",
          "name": "stdout",
          "text": [
            "Entered Correctly!\n",
            "Private Meeting\n"
          ]
        },
        {
          "output_type": "stream",
          "name": "stderr",
          "text": [
            "\r 86%|████████▋ | 434/503 [24:42<03:49,  3.32s/it]"
          ]
        },
        {
          "output_type": "stream",
          "name": "stdout",
          "text": [
            "Entered Correctly!\n",
            "Jahan Equity PL Carpet Sale\n"
          ]
        },
        {
          "output_type": "stream",
          "name": "stderr",
          "text": [
            "\r 86%|████████▋ | 435/503 [24:45<03:38,  3.22s/it]"
          ]
        },
        {
          "output_type": "stream",
          "name": "stdout",
          "text": [
            "Entered Correctly!\n",
            "Becamex IDCBinh Duong Seminar\n"
          ]
        },
        {
          "output_type": "stream",
          "name": "stderr",
          "text": [
            "\r 87%|████████▋ | 436/503 [24:48<03:31,  3.16s/it]"
          ]
        },
        {
          "output_type": "stream",
          "name": "stdout",
          "text": [
            "Entered Correctly!\n",
            "ZARA Australia Training Workshop\n"
          ]
        },
        {
          "output_type": "stream",
          "name": "stderr",
          "text": [
            "\r 87%|████████▋ | 437/503 [24:52<03:43,  3.38s/it]"
          ]
        },
        {
          "output_type": "stream",
          "name": "stdout",
          "text": [
            "Entered Correctly!\n",
            "VK Meeting\n"
          ]
        },
        {
          "output_type": "stream",
          "name": "stderr",
          "text": [
            "\r 87%|████████▋ | 438/503 [24:55<03:41,  3.40s/it]"
          ]
        },
        {
          "output_type": "stream",
          "name": "stdout",
          "text": [
            "Entered Correctly!\n",
            "Ben Meeting\n"
          ]
        },
        {
          "output_type": "stream",
          "name": "stderr",
          "text": [
            "\r 87%|████████▋ | 439/503 [24:58<03:26,  3.22s/it]"
          ]
        },
        {
          "output_type": "stream",
          "name": "stdout",
          "text": [
            "Entered Correctly!\n",
            "Hayden Meeting\n"
          ]
        },
        {
          "output_type": "stream",
          "name": "stderr",
          "text": [
            "\r 87%|████████▋ | 440/503 [25:01<03:17,  3.13s/it]"
          ]
        },
        {
          "output_type": "stream",
          "name": "stdout",
          "text": [
            "Entered Correctly!\n",
            "Rob Meeting\n"
          ]
        },
        {
          "output_type": "stream",
          "name": "stderr",
          "text": [
            "\r 88%|████████▊ | 441/503 [25:04<03:08,  3.05s/it]"
          ]
        },
        {
          "output_type": "stream",
          "name": "stdout",
          "text": [
            "Entered Correctly!\n",
            "In House Guest  Last Minute\n"
          ]
        },
        {
          "output_type": "stream",
          "name": "stderr",
          "text": [
            "\r 88%|████████▊ | 442/503 [25:08<03:21,  3.30s/it]"
          ]
        },
        {
          "output_type": "stream",
          "name": "stdout",
          "text": [
            "Entered Correctly!\n",
            "TRANSFORM 2024 PreCon\n"
          ]
        },
        {
          "output_type": "stream",
          "name": "stderr",
          "text": [
            "\r 88%|████████▊ | 443/503 [25:11<03:24,  3.40s/it]"
          ]
        },
        {
          "output_type": "stream",
          "name": "stdout",
          "text": [
            "Entered Correctly!\n",
            "BHP Meeting\n"
          ]
        },
        {
          "output_type": "stream",
          "name": "stderr",
          "text": [
            "\r 88%|████████▊ | 444/503 [25:14<03:10,  3.23s/it]"
          ]
        },
        {
          "output_type": "stream",
          "name": "stdout",
          "text": [
            "Entered Correctly!\n",
            "Natalie Paterson Coaching 2024\n"
          ]
        },
        {
          "output_type": "stream",
          "name": "stderr",
          "text": [
            "\r 88%|████████▊ | 445/503 [25:17<03:04,  3.17s/it]"
          ]
        },
        {
          "output_type": "stream",
          "name": "stdout",
          "text": [
            "Entered Correctly!\n",
            "Rob Meeting\n"
          ]
        },
        {
          "output_type": "stream",
          "name": "stderr",
          "text": [
            "\r 89%|████████▊ | 446/503 [25:20<02:54,  3.06s/it]"
          ]
        },
        {
          "output_type": "stream",
          "name": "stdout",
          "text": [
            "Entered Correctly!\n",
            "Facilities Management Seminar\n"
          ]
        },
        {
          "output_type": "stream",
          "name": "stderr",
          "text": [
            "\r 89%|████████▉ | 447/503 [25:24<03:06,  3.34s/it]"
          ]
        },
        {
          "output_type": "stream",
          "name": "stdout",
          "text": [
            "Entered Correctly!\n",
            "Qantas Hotels Meeting\n"
          ]
        },
        {
          "output_type": "stream",
          "name": "stderr",
          "text": [
            "\r 89%|████████▉ | 448/503 [25:27<03:07,  3.40s/it]"
          ]
        },
        {
          "output_type": "stream",
          "name": "stdout",
          "text": [
            "Entered Correctly!\n",
            "Tokyo Gas Australia Meeting\n"
          ]
        },
        {
          "output_type": "stream",
          "name": "stderr",
          "text": [
            "\r 89%|████████▉ | 449/503 [25:30<02:55,  3.26s/it]"
          ]
        },
        {
          "output_type": "stream",
          "name": "stdout",
          "text": [
            "Entered Correctly!\n",
            "Amelias Meeting\n"
          ]
        },
        {
          "output_type": "stream",
          "name": "stderr",
          "text": [
            "\r 89%|████████▉ | 450/503 [25:33<02:47,  3.15s/it]"
          ]
        },
        {
          "output_type": "stream",
          "name": "stdout",
          "text": [
            "Entered Correctly!\n",
            "Ben Audit Meeting\n"
          ]
        },
        {
          "output_type": "stream",
          "name": "stderr",
          "text": [
            "\r 90%|████████▉ | 451/503 [25:36<02:40,  3.09s/it]"
          ]
        },
        {
          "output_type": "stream",
          "name": "stdout",
          "text": [
            "Entered Correctly!\n",
            "RACGP 2203 Meeting\n"
          ]
        },
        {
          "output_type": "stream",
          "name": "stderr",
          "text": [
            "\r 90%|████████▉ | 452/503 [25:40<02:49,  3.33s/it]"
          ]
        },
        {
          "output_type": "stream",
          "name": "stdout",
          "text": [
            "Entered Correctly!\n",
            "Southern Aboriginal Corp\n"
          ]
        },
        {
          "output_type": "stream",
          "name": "stderr",
          "text": [
            "\r 90%|█████████ | 453/503 [25:43<02:46,  3.32s/it]"
          ]
        },
        {
          "output_type": "stream",
          "name": "stdout",
          "text": [
            "Entered Correctly!\n",
            "Afternoon Tea  Kate\n"
          ]
        },
        {
          "output_type": "stream",
          "name": "stderr",
          "text": [
            "\r 90%|█████████ | 454/503 [25:46<02:36,  3.19s/it]"
          ]
        },
        {
          "output_type": "stream",
          "name": "stdout",
          "text": [
            "Entered Correctly!\n",
            "Walker  Hall March 2024 Interviews\n"
          ]
        },
        {
          "output_type": "stream",
          "name": "stderr",
          "text": [
            "\r 90%|█████████ | 455/503 [25:49<02:32,  3.18s/it]"
          ]
        },
        {
          "output_type": "stream",
          "name": "stdout",
          "text": [
            "Entered Correctly!\n",
            "UKG Training\n"
          ]
        },
        {
          "output_type": "stream",
          "name": "stderr",
          "text": [
            "\r 91%|█████████ | 456/503 [25:53<02:29,  3.18s/it]"
          ]
        },
        {
          "output_type": "stream",
          "name": "stdout",
          "text": [
            "Entered Correctly!\n",
            "McDermott Scarborough Project Induction\n"
          ]
        },
        {
          "output_type": "stream",
          "name": "stderr",
          "text": [
            "\r 91%|█████████ | 457/503 [25:57<02:36,  3.40s/it]"
          ]
        },
        {
          "output_type": "stream",
          "name": "stdout",
          "text": [
            "Entered Correctly!\n",
            "St Barbara  Board Strategy Day\n"
          ]
        },
        {
          "output_type": "stream",
          "name": "stderr",
          "text": [
            "\r 91%|█████████ | 458/503 [26:00<02:28,  3.31s/it]"
          ]
        },
        {
          "output_type": "stream",
          "name": "stdout",
          "text": [
            "Entered Correctly!\n",
            "NLC Staff Meeting\n"
          ]
        },
        {
          "output_type": "stream",
          "name": "stderr",
          "text": [
            "\r 91%|█████████▏| 459/503 [26:03<02:20,  3.19s/it]"
          ]
        },
        {
          "output_type": "stream",
          "name": "stdout",
          "text": [
            "Entered Correctly!\n",
            "Business Presentation\n"
          ]
        },
        {
          "output_type": "stream",
          "name": "stderr",
          "text": [
            "\r 91%|█████████▏| 460/503 [26:06<02:14,  3.12s/it]"
          ]
        },
        {
          "output_type": "stream",
          "name": "stdout",
          "text": [
            "Entered Correctly!\n",
            "WAPU Meeting\n"
          ]
        },
        {
          "output_type": "stream",
          "name": "stderr",
          "text": [
            "\r 92%|█████████▏| 461/503 [26:09<02:11,  3.13s/it]"
          ]
        },
        {
          "output_type": "stream",
          "name": "stdout",
          "text": [
            "Entered Correctly!\n",
            "Cash Converters Meeting  12th March 2024\n"
          ]
        },
        {
          "output_type": "stream",
          "name": "stderr",
          "text": [
            "\r 92%|█████████▏| 462/503 [26:13<02:18,  3.38s/it]"
          ]
        },
        {
          "output_type": "stream",
          "name": "stdout",
          "text": [
            "Entered Correctly!\n",
            "South 32 Meeting\n"
          ]
        },
        {
          "output_type": "stream",
          "name": "stderr",
          "text": [
            "\r 92%|█████████▏| 463/503 [26:16<02:09,  3.24s/it]"
          ]
        },
        {
          "output_type": "stream",
          "name": "stdout",
          "text": [
            "Entered Correctly!\n",
            "JR Education Workshop\n"
          ]
        },
        {
          "output_type": "stream",
          "name": "stderr",
          "text": [
            "\r 92%|█████████▏| 464/503 [26:19<02:04,  3.18s/it]"
          ]
        },
        {
          "output_type": "stream",
          "name": "stdout",
          "text": [
            "Entered Correctly!\n",
            "Exxon Mobil Conference\n"
          ]
        },
        {
          "output_type": "stream",
          "name": "stderr",
          "text": [
            "\r 92%|█████████▏| 465/503 [26:22<01:59,  3.15s/it]"
          ]
        },
        {
          "output_type": "stream",
          "name": "stdout",
          "text": [
            "Entered Correctly!\n",
            "Rigo District Meeting  DNPM\n"
          ]
        },
        {
          "output_type": "stream",
          "name": "stderr",
          "text": [
            "\r 93%|█████████▎| 466/503 [26:25<02:01,  3.28s/it]"
          ]
        },
        {
          "output_type": "stream",
          "name": "stdout",
          "text": [
            "Entered Correctly!\n",
            "GFS BOD Meeting\n"
          ]
        },
        {
          "output_type": "stream",
          "name": "stderr",
          "text": [
            "\r 93%|█████████▎| 467/503 [26:29<02:06,  3.50s/it]"
          ]
        },
        {
          "output_type": "stream",
          "name": "stdout",
          "text": [
            "Entered Correctly!\n",
            "POMSM Newmont Corporation Meeting\n"
          ]
        },
        {
          "output_type": "stream",
          "name": "stderr",
          "text": [
            "\r 93%|█████████▎| 468/503 [26:32<01:58,  3.37s/it]"
          ]
        },
        {
          "output_type": "stream",
          "name": "stdout",
          "text": [
            "Entered Correctly!\n",
            "PNG Meeting\n"
          ]
        },
        {
          "output_type": "stream",
          "name": "stderr",
          "text": [
            "\r 93%|█████████▎| 469/503 [26:35<01:49,  3.22s/it]"
          ]
        },
        {
          "output_type": "stream",
          "name": "stdout",
          "text": [
            "Entered Correctly!\n",
            "The World Bank Conference\n"
          ]
        },
        {
          "output_type": "stream",
          "name": "stderr",
          "text": [
            "\r 93%|█████████▎| 470/503 [26:38<01:44,  3.17s/it]"
          ]
        },
        {
          "output_type": "stream",
          "name": "stdout",
          "text": [
            "Entered Correctly!\n",
            "Christian Professionals Network Meeting\n"
          ]
        },
        {
          "output_type": "stream",
          "name": "stderr",
          "text": [
            "\r 94%|█████████▎| 471/503 [26:42<01:51,  3.47s/it]"
          ]
        },
        {
          "output_type": "stream",
          "name": "stdout",
          "text": [
            "Entered Correctly!\n",
            "Bank of PNG  Meeting\n"
          ]
        },
        {
          "output_type": "stream",
          "name": "stderr",
          "text": [
            "\r 94%|█████████▍| 472/503 [26:46<01:49,  3.53s/it]"
          ]
        },
        {
          "output_type": "stream",
          "name": "stdout",
          "text": [
            "Entered Correctly!\n",
            "University of Rhode Islands Meeting\n"
          ]
        },
        {
          "output_type": "stream",
          "name": "stderr",
          "text": [
            "\r 94%|█████████▍| 473/503 [26:49<01:42,  3.41s/it]"
          ]
        },
        {
          "output_type": "stream",
          "name": "stdout",
          "text": [
            "Entered Correctly!\n",
            "World TB Day\n"
          ]
        },
        {
          "output_type": "stream",
          "name": "stderr",
          "text": [
            "\r 94%|█████████▍| 474/503 [26:52<01:36,  3.31s/it]"
          ]
        },
        {
          "output_type": "stream",
          "name": "stdout",
          "text": [
            "Entered Correctly!\n",
            "Kumul Consolidated Holdings PNG Ltd  KCH MD  Stakeholders Meeting\n"
          ]
        },
        {
          "output_type": "stream",
          "name": "stderr",
          "text": [
            "\r 94%|█████████▍| 475/503 [26:56<01:32,  3.31s/it]"
          ]
        },
        {
          "output_type": "stream",
          "name": "stdout",
          "text": [
            "Entered Correctly!\n",
            "TotalEnergies EP PNG Ltd  POM Tech Graduation Reception\n"
          ]
        },
        {
          "output_type": "stream",
          "name": "stderr",
          "text": [
            "\r 95%|█████████▍| 476/503 [27:00<01:36,  3.57s/it]"
          ]
        },
        {
          "output_type": "stream",
          "name": "stdout",
          "text": [
            "Entered Correctly!\n",
            "PNG Aids to Navigation Network Review\n"
          ]
        },
        {
          "output_type": "stream",
          "name": "stderr",
          "text": [
            "\r 95%|█████████▍| 477/503 [27:03<01:30,  3.49s/it]"
          ]
        },
        {
          "output_type": "stream",
          "name": "stdout",
          "text": [
            "Entered Correctly!\n",
            "Tabubil Development Corporation Limited BOARD Meeting\n"
          ]
        },
        {
          "output_type": "stream",
          "name": "stderr",
          "text": [
            "\r 95%|█████████▌| 478/503 [27:06<01:23,  3.36s/it]"
          ]
        },
        {
          "output_type": "stream",
          "name": "stdout",
          "text": [
            "Entered Correctly!\n",
            "Trans Wonderland Limited Meeting\n"
          ]
        },
        {
          "output_type": "stream",
          "name": "stderr",
          "text": [
            "\r 95%|█████████▌| 479/503 [27:09<01:18,  3.26s/it]"
          ]
        },
        {
          "output_type": "stream",
          "name": "stdout",
          "text": [
            "Entered Correctly!\n",
            "China State Construction Engineering Corporation Meeting\n"
          ]
        },
        {
          "output_type": "stream",
          "name": "stderr",
          "text": [
            "\r 95%|█████████▌| 480/503 [27:13<01:17,  3.37s/it]"
          ]
        },
        {
          "output_type": "stream",
          "name": "stdout",
          "text": [
            "Entered Correctly!\n",
            "MRCMCAH Q42023 Board Meeting\n"
          ]
        },
        {
          "output_type": "stream",
          "name": "stderr",
          "text": [
            "\r 96%|█████████▌| 481/503 [27:17<01:19,  3.61s/it]"
          ]
        },
        {
          "output_type": "stream",
          "name": "stdout",
          "text": [
            "Entered Correctly!\n",
            "MROT2 Q42023 Board Meeting\n"
          ]
        },
        {
          "output_type": "stream",
          "name": "stderr",
          "text": [
            "\r 96%|█████████▌| 482/503 [27:20<01:12,  3.44s/it]"
          ]
        },
        {
          "output_type": "stream",
          "name": "stdout",
          "text": [
            "Entered Correctly!\n",
            "MRSM Q42023 Board Meeting\n"
          ]
        },
        {
          "output_type": "stream",
          "name": "stderr",
          "text": [
            "\r 96%|█████████▌| 483/503 [27:23<01:05,  3.29s/it]"
          ]
        },
        {
          "output_type": "stream",
          "name": "stdout",
          "text": [
            "Entered Correctly!\n",
            "POMSM\n"
          ]
        },
        {
          "output_type": "stream",
          "name": "stderr",
          "text": [
            "\r 96%|█████████▌| 484/503 [27:26<01:00,  3.21s/it]"
          ]
        },
        {
          "output_type": "stream",
          "name": "stdout",
          "text": [
            "Entered Correctly!\n",
            "MRDC Special Board Meeting\n"
          ]
        },
        {
          "output_type": "stream",
          "name": "stderr",
          "text": [
            "\r 96%|█████████▋| 485/503 [27:30<01:01,  3.43s/it]"
          ]
        },
        {
          "output_type": "stream",
          "name": "stdout",
          "text": [
            "Entered Correctly!\n",
            "GR Plant Q32024 Board Meeting\n"
          ]
        },
        {
          "output_type": "stream",
          "name": "stderr",
          "text": [
            "\r 97%|█████████▋| 486/503 [27:34<01:00,  3.57s/it]"
          ]
        },
        {
          "output_type": "stream",
          "name": "stdout",
          "text": [
            "Entered Correctly!\n",
            "Mineral Resources Enga  Meeting\n"
          ]
        },
        {
          "output_type": "stream",
          "name": "stderr",
          "text": [
            "\r 97%|█████████▋| 487/503 [27:37<00:54,  3.43s/it]"
          ]
        },
        {
          "output_type": "stream",
          "name": "stdout",
          "text": [
            "Entered Correctly!\n",
            "PRG Board Meeting\n"
          ]
        },
        {
          "output_type": "stream",
          "name": "stderr",
          "text": [
            "\r 97%|█████████▋| 488/503 [27:40<00:49,  3.30s/it]"
          ]
        },
        {
          "output_type": "stream",
          "name": "stdout",
          "text": [
            "Entered Correctly!\n",
            "Kikori District Development Authority\n"
          ]
        },
        {
          "output_type": "stream",
          "name": "stderr",
          "text": [
            "\r 97%|█████████▋| 489/503 [27:43<00:45,  3.23s/it]"
          ]
        },
        {
          "output_type": "stream",
          "name": "stdout",
          "text": [
            "Entered Correctly!\n",
            "PMs Department Meeting 1\n"
          ]
        },
        {
          "output_type": "stream",
          "name": "stderr",
          "text": [
            "\r 97%|█████████▋| 490/503 [27:47<00:46,  3.54s/it]"
          ]
        },
        {
          "output_type": "stream",
          "name": "stdout",
          "text": [
            "Entered Correctly!\n",
            "Kikori District Development Authority\n"
          ]
        },
        {
          "output_type": "stream",
          "name": "stderr",
          "text": [
            "\r 98%|█████████▊| 491/503 [27:51<00:42,  3.51s/it]"
          ]
        },
        {
          "output_type": "stream",
          "name": "stdout",
          "text": [
            "Entered Correctly!\n",
            "BSP Financial Group Limited Meeting\n"
          ]
        },
        {
          "output_type": "stream",
          "name": "stderr",
          "text": [
            "\r 98%|█████████▊| 492/503 [27:54<00:37,  3.39s/it]"
          ]
        },
        {
          "output_type": "stream",
          "name": "stdout",
          "text": [
            "Entered Correctly!\n",
            "National Planning  Management Training\n"
          ]
        },
        {
          "output_type": "stream",
          "name": "stderr",
          "text": [
            "\r 98%|█████████▊| 493/503 [27:57<00:32,  3.29s/it]"
          ]
        },
        {
          "output_type": "stream",
          "name": "stdout",
          "text": [
            "Entered Correctly!\n",
            "DPLH Meeting\n"
          ]
        },
        {
          "output_type": "stream",
          "name": "stderr",
          "text": [
            "\r 98%|█████████▊| 494/503 [28:00<00:29,  3.23s/it]"
          ]
        },
        {
          "output_type": "stream",
          "name": "stdout",
          "text": [
            "Entered Correctly!\n",
            "AFAP Meeting\n"
          ]
        },
        {
          "output_type": "stream",
          "name": "stderr",
          "text": [
            "\r 98%|█████████▊| 495/503 [28:04<00:26,  3.36s/it]"
          ]
        },
        {
          "output_type": "stream",
          "name": "stdout",
          "text": [
            "Entered Correctly!\n",
            "Martin MacDonald Seminar\n"
          ]
        },
        {
          "output_type": "stream",
          "name": "stderr",
          "text": [
            "\r 99%|█████████▊| 496/503 [28:07<00:23,  3.31s/it]"
          ]
        },
        {
          "output_type": "stream",
          "name": "stdout",
          "text": [
            "Entered Correctly!\n"
          ]
        }
      ],
      "source": [
        "for index, row in df.iterrows():\n",
        "    driver.get('https://lightstay.ei3.com/property/' + str(row['Hotel Code']) + '/tools/meetingcalculator/new')\n",
        "    driver.find_element(By.ID, 'meetCalcForm:meetingName').send_keys(row['Meeting /Event Name'])\n",
        "    driver.find_element(By.ID, 'meetCalcForm:recipientCompany').send_keys(row['Client / Account Name'])\n",
        "    driver.find_element(By.ID, 'meetCalcForm:recipientName').send_keys(row['Client / Account Contact'])\n",
        "    driver.find_element(By.ID, 'meetCalcForm:hotelName').send_keys(row['Hotel Name'])\n",
        "    driver.find_element(By.ID, 'meetCalcForm:rfpNumber').send_keys(row['RFP number']) # fix RFP Number\n",
        "#    driver.find_element(By.ID, 'meetCalcForm:meetingStatus').send_keys(row['Meeting Status'])\n",
        "    date_value = row['Meeting/Event Start date']\n",
        "    print(row['Meeting /Event Name'])\n",
        "    date_object = datetime.datetime.strptime(date_value, \"%d/%m/%Y\")\n",
        "    formatted_date_value = date_object.strftime(\"%m/%d/%Y\")\n",
        "    js_script = \"document.getElementById('meetCalcForm:eventDateInputDate').value = '{}';\".format(formatted_date_value)\n",
        "    driver.execute_script(js_script)\n",
        "    driver.find_element(By.ID, 'meetCalcForm:numberGuestNights').send_keys(row['Room Block w meeting'])\n",
        "\n",
        "    driver.find_element(By.ID, 'meetCalcForm:onPeakNights').send_keys(row['Number of room nights booked on peak night w meeting'])\n",
        "    driver.find_element(By.ID, 'meetCalcForm:meetingFloorSpace').send_keys(row['Meeting/Event Floor Space'])\n",
        "    driver.find_element(By.ID, 'meetCalcForm:meetingDuration').send_keys(row['Meeting room Duration'])\n",
        "    attendees_value = row['Number of atttendees']\n",
        "    js_script = f\"document.getElementById('meetCalcForm:numberGuests').value = '{attendees_value}';\"\n",
        "    driver.execute_script(js_script)\n",
        "    brekkie_value = row['Breakfast']\n",
        "    js_script = f\"document.getElementById('meetCalcForm:breakfasts').value = '{brekkie_value}';\"\n",
        "    driver.execute_script(js_script)\n",
        "    lunch_value = row['Lunch']\n",
        "    js_script = f\"document.getElementById('meetCalcForm:lunches').value = '{lunch_value}';\"\n",
        "    driver.execute_script(js_script)\n",
        "    dinner_value = row['Dinner']\n",
        "    js_script = f\"document.getElementById('meetCalcForm:dinners').value = '{dinner_value}';\"\n",
        "    driver.execute_script(js_script)\n",
        "    snacks_value = row['Break']\n",
        "    js_script = f\"document.getElementById('meetCalcForm:snacks').value = '{snacks_value}';\"\n",
        "    driver.execute_script(js_script)\n",
        "    # driver.find_element(By.ID, 'meetCalcForm:hotelContactName').send_keys(row['Hotel Contact Name'])\n",
        "    # driver.find_element(By.ID, 'meetCalcForm:hotelNameCoverPage').send_keys(row['Hotel Name (Cover Page)'])\n",
        "    # driver.find_element(By.ID, 'meetCalcForm:hotelContactEmail').send_keys(row['Hotel Contact Email'])\n",
        "    # driver.find_element(By.ID, 'meetCalcForm:hotelContactPhone').send_keys(row['Hotel Contact Telephone Number'])\n",
        "    # driver.find_element(By.ID, 'meetCalcForm:titlePageCheckbox').send_keys(row['Title Page'])\n",
        "    # driver.find_element(By.ID, 'meetCalcForm:reportUnits').send_keys(row['Report Units'])\n",
        "    #force few things\n",
        "    driver.execute_script(\"document.getElementById('meetCalcForm:spaceUnitsselValue').value = 'm2';\")\n",
        "    driver.execute_script(\"document.getElementById('meetCalcForm:spaceUnitsInput').value = 'm²';\")\n",
        "    driver.execute_script(\"\"\"\n",
        "        document.getElementById('meetCalcForm:meetingStatusselValue').value = '1';\n",
        "        document.getElementById('meetCalcForm:meetingStatusInput').value = 'Submitted';\n",
        "    \"\"\")\n",
        "    driver.execute_script(\"document.getElementById('meetCalcForm:durationTypeselValue').value = 'hours';\")\n",
        "    driver.execute_script(\"document.getElementById('meetCalcForm:durationTypeInput').value = 'Hours';\")\n",
        "    # Submit the form after filling it out (assuming there's a submit button)\n",
        "    element = driver.find_element(By.ID, 'meetCalcForm:saveReportButton')\n",
        "    driver.execute_script(\"arguments[0].click();\", element)\n",
        "    current_url = driver.current_url\n",
        "    expected_url = 'https://lightstay.ei3.com/property/' + str(row['Hotel Code']) + '/tools/meetingcalculator/submitconfirm'\n",
        "    if current_url == expected_url:\n",
        "      print(\"Entered Correctly!\")\n",
        "      progress_bar.update()\n",
        "    else:\n",
        "      print(f\"Unexpected URL: {current_url}\")\n",
        "      print(row['Meeting /Event Name'])\n",
        "\n",
        "    # Optionally, add a delay to avoid overwhelming the server\n",
        "    time.sleep(1)\n",
        "\n"
      ]
    },
    {
      "cell_type": "markdown",
      "metadata": {
        "id": "abEepLivpWdk"
      },
      "source": [
        "#Phase 2 - Mark Status as Completed\n",
        "\n",
        "Here, we will be doing the following\n",
        "\n",
        "\n",
        "*   Read the file (which contains hotel details)\n",
        "*   Do a search (based on the criteria 'Submitted') and the name\n",
        "*   Select the first element and click on the link\n",
        "*   Mark it as Completed\n",
        "\n",
        "\n"
      ]
    },
    {
      "cell_type": "code",
      "execution_count": null,
      "metadata": {
        "colab": {
          "base_uri": "https://localhost:8080/"
        },
        "id": "iVlvHNRA5Ywj",
        "outputId": "747373ca-637a-43dc-9206-c054caeca7b1"
      },
      "outputs": [
        {
          "output_type": "stream",
          "name": "stderr",
          "text": [
            " 99%|█████████▊| 496/503 [28:27<00:24,  3.44s/it]\n"
          ]
        },
        {
          "output_type": "stream",
          "name": "stdout",
          "text": [
            "SYDHI\n",
            "3263  NVS NCCMEDICAL\n"
          ]
        },
        {
          "output_type": "stream",
          "name": "stderr",
          "text": [
            "\r  0%|          | 1/503 [00:04<36:11,  4.33s/it]"
          ]
        },
        {
          "output_type": "stream",
          "name": "stdout",
          "text": [
            "SYDHI\n",
            "TRANSFORM 2024\n"
          ]
        },
        {
          "output_type": "stream",
          "name": "stderr",
          "text": [
            "\r  0%|          | 2/503 [00:09<38:34,  4.62s/it]"
          ]
        },
        {
          "output_type": "stream",
          "name": "stdout",
          "text": [
            "ADLHI\n",
            "LawAustralasia Workshop 2024\n"
          ]
        },
        {
          "output_type": "stream",
          "name": "stderr",
          "text": [
            "\r  1%|          | 3/503 [00:12<34:41,  4.16s/it]"
          ]
        },
        {
          "output_type": "stream",
          "name": "stdout",
          "text": [
            "ADLHI\n",
            "AFDA AIE Aligned Convention 2024\n"
          ]
        },
        {
          "output_type": "stream",
          "name": "stderr",
          "text": [
            "\r  1%|          | 4/503 [00:16<32:36,  3.92s/it]"
          ]
        },
        {
          "output_type": "stream",
          "name": "stdout",
          "text": [
            "SYDHI\n",
            "Samsung ElectronicsIT\n"
          ]
        },
        {
          "output_type": "stream",
          "name": "stderr",
          "text": [
            "\r  1%|          | 5/503 [00:20<32:28,  3.91s/it]"
          ]
        },
        {
          "output_type": "stream",
          "name": "stdout",
          "text": [
            "ZQNHQ\n",
            "Edward Jones  Wave 4 2024 Group\n"
          ]
        },
        {
          "output_type": "stream",
          "name": "stderr",
          "text": [
            "\r  1%|          | 6/503 [00:24<33:59,  4.10s/it]"
          ]
        },
        {
          "output_type": "stream",
          "name": "stdout",
          "text": [
            "ZQNHQ\n",
            "Edward Jones  Wave 2 2024 Group\n"
          ]
        },
        {
          "output_type": "stream",
          "name": "stderr",
          "text": [
            "\r  1%|▏         | 7/503 [00:28<32:11,  3.89s/it]"
          ]
        },
        {
          "output_type": "stream",
          "name": "stdout",
          "text": [
            "ZQNHQ\n",
            "Edward Jones  Wave 3 2024 Group\n"
          ]
        },
        {
          "output_type": "stream",
          "name": "stderr",
          "text": [
            "\r  2%|▏         | 8/503 [00:31<30:53,  3.75s/it]"
          ]
        },
        {
          "output_type": "stream",
          "name": "stdout",
          "text": [
            "ZQNHQ\n",
            "Edward Jones  Wave 5 2024 Group\n"
          ]
        },
        {
          "output_type": "stream",
          "name": "stderr",
          "text": [
            "\r  2%|▏         | 9/503 [00:35<30:00,  3.65s/it]"
          ]
        },
        {
          "output_type": "stream",
          "name": "stdout",
          "text": [
            "SYDHI\n",
            "Australian Financial Review Business Summit AFRFINANCIAL\n"
          ]
        },
        {
          "output_type": "stream",
          "name": "stderr",
          "text": [
            "\r  2%|▏         | 10/503 [00:39<32:57,  4.01s/it]"
          ]
        },
        {
          "output_type": "stream",
          "name": "stdout",
          "text": [
            "SYDHI\n",
            "ANZAOMS Meeting\n"
          ]
        },
        {
          "output_type": "stream",
          "name": "stderr",
          "text": [
            "\r  2%|▏         | 11/503 [00:43<32:06,  3.91s/it]"
          ]
        },
        {
          "output_type": "stream",
          "name": "stdout",
          "text": [
            "Failed to process meeting: ANZAOMS Meeting due to error: Message: no such element: Unable to locate element: {\"method\":\"css selector\",\"selector\":\"[id=\"meetingForm:meetingTable:0\"]\"}\n",
            "  (Session info: headless chrome=90.0.4430.212); For documentation on this error, please visit: https://www.selenium.dev/documentation/webdriver/troubleshooting/errors#no-such-element-exception\n",
            "Stacktrace:\n",
            "#0 0x5849745997f9 <unknown>\n",
            "#1 0x5849745393b3 <unknown>\n",
            "#2 0x584974281016 <unknown>\n",
            "#3 0x5849742b581e <unknown>\n",
            "#4 0x5849742eb8fb <unknown>\n",
            "#5 0x5849742d8ded <unknown>\n",
            "#6 0x5849742e99e1 <unknown>\n",
            "#7 0x5849742d8c93 <unknown>\n",
            "#8 0x5849742aace4 <unknown>\n",
            "#9 0x5849742ac4d2 <unknown>\n",
            "#10 0x584974565542 <unknown>\n",
            "#11 0x584974574ce7 <unknown>\n",
            "#12 0x5849745749e4 <unknown>\n",
            "#13 0x58497457913a <unknown>\n",
            "#14 0x5849745755b9 <unknown>\n",
            "#15 0x58497455ae00 <unknown>\n",
            "#16 0x58497458c5d2 <unknown>\n",
            "#17 0x58497458c778 <unknown>\n",
            "#18 0x5849745a4a1f <unknown>\n",
            "#19 0x7be07c23fac3 <unknown>\n",
            "#20 0x7be07c2d1850 <unknown>\n",
            "\n",
            "ADLHI\n",
            "ANZ  SA Branch Manager Development Days\n"
          ]
        },
        {
          "output_type": "stream",
          "name": "stderr",
          "text": [
            "\r  2%|▏         | 12/503 [00:47<31:31,  3.85s/it]"
          ]
        },
        {
          "output_type": "stream",
          "name": "stdout",
          "text": [
            "SYDHI\n",
            "Sydney International Endoscopy Symposium 2024MEDICAL\n"
          ]
        },
        {
          "output_type": "stream",
          "name": "stderr",
          "text": [
            "\r  3%|▎         | 13/503 [00:51<31:25,  3.85s/it]"
          ]
        },
        {
          "output_type": "stream",
          "name": "stdout",
          "text": [
            "SYDHI\n",
            "V940007 Study Initiation Investigator Meeting\n"
          ]
        },
        {
          "output_type": "stream",
          "name": "stderr",
          "text": [
            "\r  3%|▎         | 14/503 [00:55<33:25,  4.10s/it]"
          ]
        },
        {
          "output_type": "stream",
          "name": "stdout",
          "text": [
            "ADLHI\n",
            "Cooper Vision Australia Meeting\n"
          ]
        },
        {
          "output_type": "stream",
          "name": "stderr",
          "text": [
            "\r  3%|▎         | 15/503 [00:59<32:14,  3.96s/it]"
          ]
        },
        {
          "output_type": "stream",
          "name": "stdout",
          "text": [
            "SYDHI\n",
            "Relativity Fest ANZIT\n"
          ]
        },
        {
          "output_type": "stream",
          "name": "stderr",
          "text": [
            "\r  3%|▎         | 16/503 [01:03<31:47,  3.92s/it]"
          ]
        },
        {
          "output_type": "stream",
          "name": "stdout",
          "text": [
            "ADLHI\n",
            "REA Group Staff Pricing Training Conference\n"
          ]
        },
        {
          "output_type": "stream",
          "name": "stderr",
          "text": [
            "\r  3%|▎         | 17/503 [01:06<31:22,  3.87s/it]"
          ]
        },
        {
          "output_type": "stream",
          "name": "stdout",
          "text": [
            "ASPDA\n",
            "CLCKurra March Meeting\n"
          ]
        },
        {
          "output_type": "stream",
          "name": "stderr",
          "text": [
            "\r  4%|▎         | 18/503 [01:12<34:18,  4.25s/it]"
          ]
        },
        {
          "output_type": "stream",
          "name": "stdout",
          "text": [
            "AKLKA\n",
            "The Icehouse LDP56 Block 2\n"
          ]
        },
        {
          "output_type": "stream",
          "name": "stderr",
          "text": [
            "\r  4%|▍         | 19/503 [01:16<33:25,  4.14s/it]"
          ]
        },
        {
          "output_type": "stream",
          "name": "stdout",
          "text": [
            "AKLKA\n",
            "Scania March 2024 Meeting\n"
          ]
        },
        {
          "output_type": "stream",
          "name": "stderr",
          "text": [
            "\r  4%|▍         | 20/503 [01:19<31:59,  3.97s/it]"
          ]
        },
        {
          "output_type": "stream",
          "name": "stdout",
          "text": [
            "AKLKA\n",
            "Kitchen Studio March 2024 Meeting\n"
          ]
        },
        {
          "output_type": "stream",
          "name": "stderr",
          "text": [
            "\r  4%|▍         | 21/503 [01:23<31:30,  3.92s/it]"
          ]
        },
        {
          "output_type": "stream",
          "name": "stdout",
          "text": [
            "PERBS\n",
            "Global Carbon Capture Storage Institute APAC Forum GHGLOA\n"
          ]
        },
        {
          "output_type": "stream",
          "name": "stderr",
          "text": [
            "\r  4%|▍         | 22/503 [01:28<33:42,  4.20s/it]"
          ]
        },
        {
          "output_type": "stream",
          "name": "stdout",
          "text": [
            "BSBHI\n",
            "VSS 2024\n"
          ]
        },
        {
          "output_type": "stream",
          "name": "stderr",
          "text": [
            "\r  5%|▍         | 23/503 [01:31<31:58,  4.00s/it]"
          ]
        },
        {
          "output_type": "stream",
          "name": "stdout",
          "text": [
            "BSBHI\n",
            "OHS Leaders Summit\n"
          ]
        },
        {
          "output_type": "stream",
          "name": "stderr",
          "text": [
            "\r  5%|▍         | 24/503 [01:35<31:15,  3.91s/it]"
          ]
        },
        {
          "output_type": "stream",
          "name": "stdout",
          "text": [
            "BSBHI\n",
            "ServiceNow Summit  March 2024\n"
          ]
        },
        {
          "output_type": "stream",
          "name": "stderr",
          "text": [
            "\r  5%|▍         | 25/503 [01:39<31:17,  3.93s/it]"
          ]
        },
        {
          "output_type": "stream",
          "name": "stdout",
          "text": [
            "BSBHI\n",
            "Q1 2024 GM Conference\n"
          ]
        },
        {
          "output_type": "stream",
          "name": "stderr",
          "text": [
            "\r  5%|▌         | 26/503 [01:44<33:14,  4.18s/it]"
          ]
        },
        {
          "output_type": "stream",
          "name": "stdout",
          "text": [
            "BSBHI\n",
            "Nuskin Group\n"
          ]
        },
        {
          "output_type": "stream",
          "name": "stderr",
          "text": [
            "\r  5%|▌         | 27/503 [01:47<31:48,  4.01s/it]"
          ]
        },
        {
          "output_type": "stream",
          "name": "stdout",
          "text": [
            "BSBHI\n",
            "McGraw Hill Event\n"
          ]
        },
        {
          "output_type": "stream",
          "name": "stderr",
          "text": [
            "\r  6%|▌         | 28/503 [01:51<30:32,  3.86s/it]"
          ]
        },
        {
          "output_type": "stream",
          "name": "stdout",
          "text": [
            "BSBHI\n",
            "QSPA State Council Meeting  March 2024\n"
          ]
        },
        {
          "output_type": "stream",
          "name": "stderr",
          "text": [
            "\r  6%|▌         | 29/503 [01:55<32:00,  4.05s/it]"
          ]
        },
        {
          "output_type": "stream",
          "name": "stdout",
          "text": [
            "OOLHI\n",
            "MarkemImaje Meeting\n"
          ]
        },
        {
          "output_type": "stream",
          "name": "stderr",
          "text": [
            "\r  6%|▌         | 30/503 [02:00<32:51,  4.17s/it]"
          ]
        },
        {
          "output_type": "stream",
          "name": "stdout",
          "text": [
            "OOLHI\n",
            "2024 AUA Finance Meeting\n"
          ]
        },
        {
          "output_type": "stream",
          "name": "stderr",
          "text": [
            "\r  6%|▌         | 31/503 [02:03<30:50,  3.92s/it]"
          ]
        },
        {
          "output_type": "stream",
          "name": "stdout",
          "text": [
            "OOLHI\n",
            "Mercer Marsh Conference\n"
          ]
        },
        {
          "output_type": "stream",
          "name": "stderr",
          "text": [
            "\r  6%|▋         | 32/503 [02:06<29:30,  3.76s/it]"
          ]
        },
        {
          "output_type": "stream",
          "name": "stdout",
          "text": [
            "CHCNZ\n",
            "Orbit  IRD March 2024 Conference\n"
          ]
        },
        {
          "output_type": "stream",
          "name": "stderr",
          "text": [
            "\r  7%|▋         | 33/503 [02:10<29:43,  3.79s/it]"
          ]
        },
        {
          "output_type": "stream",
          "name": "stdout",
          "text": [
            "CHCNZ\n",
            "Local Government NZ Zone 56 March 2024 Conference\n"
          ]
        },
        {
          "output_type": "stream",
          "name": "stderr",
          "text": [
            "\r  7%|▋         | 34/503 [02:15<31:39,  4.05s/it]"
          ]
        },
        {
          "output_type": "stream",
          "name": "stdout",
          "text": [
            "CHCNZ\n",
            "AGCO March 2024 Conference\n"
          ]
        },
        {
          "output_type": "stream",
          "name": "stderr",
          "text": [
            "\r  7%|▋         | 35/503 [02:18<30:12,  3.87s/it]"
          ]
        },
        {
          "output_type": "stream",
          "name": "stdout",
          "text": [
            "CHCNZ\n",
            "Harmans Lawyers March 2024 Meeting\n"
          ]
        },
        {
          "output_type": "stream",
          "name": "stderr",
          "text": [
            "\r  7%|▋         | 36/503 [02:22<29:17,  3.76s/it]"
          ]
        },
        {
          "output_type": "stream",
          "name": "stdout",
          "text": [
            "CHCNZ\n",
            "ADAMA March 2024 Conference\n"
          ]
        },
        {
          "output_type": "stream",
          "name": "stderr",
          "text": [
            "\r  7%|▋         | 37/503 [02:26<28:45,  3.70s/it]"
          ]
        },
        {
          "output_type": "stream",
          "name": "stdout",
          "text": [
            "PERHI\n",
            "TyreStewardship Australia  Meeting\n"
          ]
        },
        {
          "output_type": "stream",
          "name": "stderr",
          "text": [
            "\r  8%|▊         | 38/503 [02:30<31:22,  4.05s/it]"
          ]
        },
        {
          "output_type": "stream",
          "name": "stdout",
          "text": [
            "DRWHD\n",
            "CA ANZ NT Forum  2024\n"
          ]
        },
        {
          "output_type": "stream",
          "name": "stderr",
          "text": [
            "\r  8%|▊         | 39/503 [02:34<29:54,  3.87s/it]"
          ]
        },
        {
          "output_type": "stream",
          "name": "stdout",
          "text": [
            "MELFS\n",
            "Lumivero Regional Summit\n"
          ]
        },
        {
          "output_type": "stream",
          "name": "stderr",
          "text": [
            "\r  8%|▊         | 40/503 [02:37<28:53,  3.74s/it]"
          ]
        },
        {
          "output_type": "stream",
          "name": "stdout",
          "text": [
            "AKLHI\n",
            "Bridgewest Ventures Conference\n"
          ]
        },
        {
          "output_type": "stream",
          "name": "stderr",
          "text": [
            "\r  8%|▊         | 41/503 [02:41<28:26,  3.69s/it]"
          ]
        },
        {
          "output_type": "stream",
          "name": "stdout",
          "text": [
            "AKLHI\n",
            "ACHSM One Day Conference\n"
          ]
        },
        {
          "output_type": "stream",
          "name": "stderr",
          "text": [
            "\r  8%|▊         | 42/503 [02:45<30:17,  3.94s/it]"
          ]
        },
        {
          "output_type": "stream",
          "name": "stdout",
          "text": [
            "AKLHI\n",
            "Nestle Conference 2024\n"
          ]
        },
        {
          "output_type": "stream",
          "name": "stderr",
          "text": [
            "\r  9%|▊         | 43/503 [02:49<29:51,  3.89s/it]"
          ]
        },
        {
          "output_type": "stream",
          "name": "stdout",
          "text": [
            "AKLHI\n",
            "ICNZ Conference\n"
          ]
        },
        {
          "output_type": "stream",
          "name": "stderr",
          "text": [
            "\r  9%|▊         | 44/503 [02:53<28:38,  3.74s/it]"
          ]
        },
        {
          "output_type": "stream",
          "name": "stdout",
          "text": [
            "SYDHI\n",
            "MTMD Forum\n"
          ]
        },
        {
          "output_type": "stream",
          "name": "stderr",
          "text": [
            "\r  9%|▉         | 45/503 [02:56<28:12,  3.70s/it]"
          ]
        },
        {
          "output_type": "stream",
          "name": "stdout",
          "text": [
            "PERHI\n",
            "Yamatji Marlpa Aboriginal All Staff Conference\n"
          ]
        },
        {
          "output_type": "stream",
          "name": "stderr",
          "text": [
            "\r  9%|▉         | 46/503 [03:01<30:35,  4.02s/it]"
          ]
        },
        {
          "output_type": "stream",
          "name": "stdout",
          "text": [
            "ASPDA\n",
            "CLCGMAAAC March 2024 Meeting\n"
          ]
        },
        {
          "output_type": "stream",
          "name": "stderr",
          "text": [
            "\r  9%|▉         | 47/503 [03:05<29:56,  3.94s/it]"
          ]
        },
        {
          "output_type": "stream",
          "name": "stdout",
          "text": [
            "CRNHI\n",
            "Mining and Energy Union  International Dust Conference\n"
          ]
        },
        {
          "output_type": "stream",
          "name": "stderr",
          "text": [
            "\r 10%|▉         | 48/503 [03:08<29:03,  3.83s/it]"
          ]
        },
        {
          "output_type": "stream",
          "name": "stdout",
          "text": [
            "ASPDA\n",
            "2024 Imparja Cup  National Indigenous Cricket Championships\n"
          ]
        },
        {
          "output_type": "stream",
          "name": "stderr",
          "text": [
            "\r 10%|▉         | 49/503 [03:12<28:05,  3.71s/it]"
          ]
        },
        {
          "output_type": "stream",
          "name": "stdout",
          "text": [
            "AKLLT\n",
            "BurgerFuel Conference  March 2024\n"
          ]
        },
        {
          "output_type": "stream",
          "name": "stderr",
          "text": [
            "\r 10%|▉         | 50/503 [03:16<30:03,  3.98s/it]"
          ]
        },
        {
          "output_type": "stream",
          "name": "stdout",
          "text": [
            "ZQNHQ\n",
            "Syngenta March 2024 Meeting\n"
          ]
        },
        {
          "output_type": "stream",
          "name": "stderr",
          "text": [
            "\r 10%|█         | 51/503 [03:21<30:34,  4.06s/it]"
          ]
        },
        {
          "output_type": "stream",
          "name": "stdout",
          "text": [
            "ZQNHQ\n",
            "Ideal Electrical February 2024 Conference\n"
          ]
        },
        {
          "output_type": "stream",
          "name": "stderr",
          "text": [
            "\r 10%|█         | 52/503 [03:24<29:23,  3.91s/it]"
          ]
        },
        {
          "output_type": "stream",
          "name": "stdout",
          "text": [
            "ZQNHQ\n",
            "Radius Care March 2024 Conference\n"
          ]
        },
        {
          "output_type": "stream",
          "name": "stderr",
          "text": [
            "\r 11%|█         | 53/503 [03:28<28:16,  3.77s/it]"
          ]
        },
        {
          "output_type": "stream",
          "name": "stdout",
          "text": [
            "SYDWH\n",
            "Keyton Meeting\n"
          ]
        },
        {
          "output_type": "stream",
          "name": "stderr",
          "text": [
            "\r 11%|█         | 54/503 [03:32<29:39,  3.96s/it]"
          ]
        },
        {
          "output_type": "stream",
          "name": "stdout",
          "text": [
            "ALHGI\n",
            "CBH 1315 March\n"
          ]
        },
        {
          "output_type": "stream",
          "name": "stderr",
          "text": [
            "\r 11%|█         | 55/503 [03:36<29:34,  3.96s/it]"
          ]
        },
        {
          "output_type": "stream",
          "name": "stdout",
          "text": [
            "CHCNZ\n",
            "VBT Bicycling  Walking Vacations  20 Mar\n"
          ]
        },
        {
          "output_type": "stream",
          "name": "stderr",
          "text": [
            "\r 11%|█         | 56/503 [03:39<28:33,  3.83s/it]"
          ]
        },
        {
          "output_type": "stream",
          "name": "stdout",
          "text": [
            "CHCNZ\n",
            "VBT Bicycling  Walking Vacations  06 Mar\n"
          ]
        },
        {
          "output_type": "stream",
          "name": "stderr",
          "text": [
            "\r 11%|█▏        | 57/503 [03:43<27:49,  3.74s/it]"
          ]
        },
        {
          "output_type": "stream",
          "name": "stdout",
          "text": [
            "CHCNZ\n",
            "VBT Bicycling  Walking Vacations  28 Feb\n"
          ]
        },
        {
          "output_type": "stream",
          "name": "stderr",
          "text": [
            "\r 12%|█▏        | 58/503 [03:47<29:23,  3.96s/it]"
          ]
        },
        {
          "output_type": "stream",
          "name": "stdout",
          "text": [
            "CHCNZ\n",
            "General Travel  Incentive group\n"
          ]
        },
        {
          "output_type": "stream",
          "name": "stderr",
          "text": [
            "\r 12%|█▏        | 59/503 [03:52<30:12,  4.08s/it]"
          ]
        },
        {
          "output_type": "stream",
          "name": "stdout",
          "text": [
            "CNSDC\n",
            "Grand Circle ANZ0322\n"
          ]
        },
        {
          "output_type": "stream",
          "name": "stderr",
          "text": [
            "\r 12%|█▏        | 60/503 [03:55<28:54,  3.91s/it]"
          ]
        },
        {
          "output_type": "stream",
          "name": "stdout",
          "text": [
            "CRNHI\n",
            "InXpress Annual Convention  25 Year Anniversary\n"
          ]
        },
        {
          "output_type": "stream",
          "name": "stderr",
          "text": [
            "\r 12%|█▏        | 61/503 [03:59<27:58,  3.80s/it]"
          ]
        },
        {
          "output_type": "stream",
          "name": "stdout",
          "text": [
            "OOLHI\n",
            "HIS  DOTERRA TGQ08160318\n"
          ]
        },
        {
          "output_type": "stream",
          "name": "stderr",
          "text": [
            "\r 12%|█▏        | 62/503 [04:03<28:58,  3.94s/it]"
          ]
        },
        {
          "output_type": "stream",
          "name": "stdout",
          "text": [
            "ALHGI\n",
            "Senior Leaders Strategy Day\n"
          ]
        },
        {
          "output_type": "stream",
          "name": "stderr",
          "text": [
            "\r 13%|█▎        | 63/503 [04:07<29:20,  4.00s/it]"
          ]
        },
        {
          "output_type": "stream",
          "name": "stdout",
          "text": [
            "POMSM\n",
            "PNG Mine Monitoring User Conference 2024\n"
          ]
        },
        {
          "output_type": "stream",
          "name": "stderr",
          "text": [
            "\r 13%|█▎        | 64/503 [04:11<28:30,  3.90s/it]"
          ]
        },
        {
          "output_type": "stream",
          "name": "stdout",
          "text": [
            "ALHGI\n",
            "Sunday Tours\n"
          ]
        },
        {
          "output_type": "stream",
          "name": "stderr",
          "text": [
            "\r 13%|█▎        | 65/503 [04:14<27:25,  3.76s/it]"
          ]
        },
        {
          "output_type": "stream",
          "name": "stdout",
          "text": [
            "ASPDA\n",
            "CLC Meeting  29th Feb\n"
          ]
        },
        {
          "output_type": "stream",
          "name": "stderr",
          "text": [
            "\r 13%|█▎        | 66/503 [04:18<27:52,  3.83s/it]"
          ]
        },
        {
          "output_type": "stream",
          "name": "stdout",
          "text": [
            "OOLHI\n",
            "Pharmacy Management Meeting Q1 2024\n"
          ]
        },
        {
          "output_type": "stream",
          "name": "stderr",
          "text": [
            "\r 13%|█▎        | 67/503 [04:23<29:03,  4.00s/it]"
          ]
        },
        {
          "output_type": "stream",
          "name": "stdout",
          "text": [
            "ZQNHQ\n",
            "Apuarangi Hui Group February 2024\n"
          ]
        },
        {
          "output_type": "stream",
          "name": "stderr",
          "text": [
            "\r 14%|█▎        | 68/503 [04:26<27:45,  3.83s/it]"
          ]
        },
        {
          "output_type": "stream",
          "name": "stdout",
          "text": [
            "NANSI\n",
            "CFAN Workshop\n"
          ]
        },
        {
          "output_type": "stream",
          "name": "stderr",
          "text": [
            "\r 14%|█▎        | 69/503 [04:30<26:55,  3.72s/it]"
          ]
        },
        {
          "output_type": "stream",
          "name": "stdout",
          "text": [
            "NANSI\n",
            "Global Green Growth Institute meeting\n"
          ]
        },
        {
          "output_type": "stream",
          "name": "stderr",
          "text": [
            "\r 14%|█▍        | 70/503 [04:33<27:03,  3.75s/it]"
          ]
        },
        {
          "output_type": "stream",
          "name": "stdout",
          "text": [
            "OOLHI\n",
            "Check Point Software Meeting\n"
          ]
        },
        {
          "output_type": "stream",
          "name": "stderr",
          "text": [
            "\r 14%|█▍        | 71/503 [04:38<28:33,  3.97s/it]"
          ]
        },
        {
          "output_type": "stream",
          "name": "stdout",
          "text": [
            "SYDHI\n",
            "Ad Standards Training Day\n"
          ]
        },
        {
          "output_type": "stream",
          "name": "stderr",
          "text": [
            "\r 14%|█▍        | 72/503 [04:42<27:35,  3.84s/it]"
          ]
        },
        {
          "output_type": "stream",
          "name": "stdout",
          "text": [
            "ZQNHQ\n",
            "Change Collaborative March 2024 Meeting\n"
          ]
        },
        {
          "output_type": "stream",
          "name": "stderr",
          "text": [
            "\r 15%|█▍        | 73/503 [04:45<26:51,  3.75s/it]"
          ]
        },
        {
          "output_type": "stream",
          "name": "stdout",
          "text": [
            "NANHI\n",
            "LAC Corporate Workshop 2024\n"
          ]
        },
        {
          "output_type": "stream",
          "name": "stderr",
          "text": [
            "\r 15%|█▍        | 74/503 [04:49<26:17,  3.68s/it]"
          ]
        },
        {
          "output_type": "stream",
          "name": "stdout",
          "text": [
            "NANSI\n",
            "UNICEF Team Meeting  March 2024\n"
          ]
        },
        {
          "output_type": "stream",
          "name": "stderr",
          "text": [
            "\r 15%|█▍        | 75/503 [04:53<27:40,  3.88s/it]"
          ]
        },
        {
          "output_type": "stream",
          "name": "stdout",
          "text": [
            "POMSM\n",
            "Newmont PNG Social Performance Team Meeting\n"
          ]
        },
        {
          "output_type": "stream",
          "name": "stderr",
          "text": [
            "\r 15%|█▌        | 76/503 [04:57<27:04,  3.80s/it]"
          ]
        },
        {
          "output_type": "stream",
          "name": "stdout",
          "text": [
            "PERDT\n",
            "ECU Team Building Event\n"
          ]
        },
        {
          "output_type": "stream",
          "name": "stderr",
          "text": [
            "\r 15%|█▌        | 77/503 [05:00<26:50,  3.78s/it]"
          ]
        },
        {
          "output_type": "stream",
          "name": "stdout",
          "text": [
            "Failed to process meeting: ECU Team Building Event due to error: Message: no such element: Unable to locate element: {\"method\":\"css selector\",\"selector\":\"[id=\"meetingForm:meetingTable:0\"]\"}\n",
            "  (Session info: headless chrome=90.0.4430.212); For documentation on this error, please visit: https://www.selenium.dev/documentation/webdriver/troubleshooting/errors#no-such-element-exception\n",
            "Stacktrace:\n",
            "#0 0x5849745997f9 <unknown>\n",
            "#1 0x5849745393b3 <unknown>\n",
            "#2 0x584974281016 <unknown>\n",
            "#3 0x5849742b581e <unknown>\n",
            "#4 0x5849742eb8fb <unknown>\n",
            "#5 0x5849742d8ded <unknown>\n",
            "#6 0x5849742e99e1 <unknown>\n",
            "#7 0x5849742d8c93 <unknown>\n",
            "#8 0x5849742aace4 <unknown>\n",
            "#9 0x5849742ac4d2 <unknown>\n",
            "#10 0x584974565542 <unknown>\n",
            "#11 0x584974574ce7 <unknown>\n",
            "#12 0x5849745749e4 <unknown>\n",
            "#13 0x58497457913a <unknown>\n",
            "#14 0x5849745755b9 <unknown>\n",
            "#15 0x58497455ae00 <unknown>\n",
            "#16 0x58497458c5d2 <unknown>\n",
            "#17 0x58497458c778 <unknown>\n",
            "#18 0x5849745a4a1f <unknown>\n",
            "#19 0x7be07c23fac3 <unknown>\n",
            "#20 0x7be07c2d1850 <unknown>\n",
            "\n",
            "SYDHI\n",
            "FLS Training\n"
          ]
        },
        {
          "output_type": "stream",
          "name": "stderr",
          "text": [
            "\r 16%|█▌        | 78/503 [05:04<26:27,  3.73s/it]"
          ]
        },
        {
          "output_type": "stream",
          "name": "stdout",
          "text": [
            "Failed to process meeting: FLS Training due to error: Message: no such element: Unable to locate element: {\"method\":\"css selector\",\"selector\":\"[id=\"meetingForm:meetingTable:0\"]\"}\n",
            "  (Session info: headless chrome=90.0.4430.212); For documentation on this error, please visit: https://www.selenium.dev/documentation/webdriver/troubleshooting/errors#no-such-element-exception\n",
            "Stacktrace:\n",
            "#0 0x5849745997f9 <unknown>\n",
            "#1 0x5849745393b3 <unknown>\n",
            "#2 0x584974281016 <unknown>\n",
            "#3 0x5849742b581e <unknown>\n",
            "#4 0x5849742eb8fb <unknown>\n",
            "#5 0x5849742d8ded <unknown>\n",
            "#6 0x5849742e99e1 <unknown>\n",
            "#7 0x5849742d8c93 <unknown>\n",
            "#8 0x5849742aace4 <unknown>\n",
            "#9 0x5849742ac4d2 <unknown>\n",
            "#10 0x584974565542 <unknown>\n",
            "#11 0x584974574ce7 <unknown>\n",
            "#12 0x5849745749e4 <unknown>\n",
            "#13 0x58497457913a <unknown>\n",
            "#14 0x5849745755b9 <unknown>\n",
            "#15 0x58497455ae00 <unknown>\n",
            "#16 0x58497458c5d2 <unknown>\n",
            "#17 0x58497458c778 <unknown>\n",
            "#18 0x5849745a4a1f <unknown>\n",
            "#19 0x7be07c23fac3 <unknown>\n",
            "#20 0x7be07c2d1850 <unknown>\n",
            "\n",
            "NANHI\n",
            "PIFS Regional Workshop March 2024\n"
          ]
        },
        {
          "output_type": "stream",
          "name": "stderr",
          "text": [
            "\r 16%|█▌        | 79/503 [05:08<28:01,  3.97s/it]"
          ]
        },
        {
          "output_type": "stream",
          "name": "stdout",
          "text": [
            "ZQNHQ\n",
            "Fulton Hogan March 2024 Meeting\n"
          ]
        },
        {
          "output_type": "stream",
          "name": "stderr",
          "text": [
            "\r 16%|█▌        | 80/503 [05:12<27:43,  3.93s/it]"
          ]
        },
        {
          "output_type": "stream",
          "name": "stdout",
          "text": [
            "Failed to process meeting: Fulton Hogan March 2024 Meeting due to error: Message: no such element: Unable to locate element: {\"method\":\"css selector\",\"selector\":\"[id=\"meetingForm:meetingTable:0\"]\"}\n",
            "  (Session info: headless chrome=90.0.4430.212); For documentation on this error, please visit: https://www.selenium.dev/documentation/webdriver/troubleshooting/errors#no-such-element-exception\n",
            "Stacktrace:\n",
            "#0 0x5849745997f9 <unknown>\n",
            "#1 0x5849745393b3 <unknown>\n",
            "#2 0x584974281016 <unknown>\n",
            "#3 0x5849742b581e <unknown>\n",
            "#4 0x5849742eb8fb <unknown>\n",
            "#5 0x5849742d8ded <unknown>\n",
            "#6 0x5849742e99e1 <unknown>\n",
            "#7 0x5849742d8c93 <unknown>\n",
            "#8 0x5849742aace4 <unknown>\n",
            "#9 0x5849742ac4d2 <unknown>\n",
            "#10 0x584974565542 <unknown>\n",
            "#11 0x584974574ce7 <unknown>\n",
            "#12 0x5849745749e4 <unknown>\n",
            "#13 0x58497457913a <unknown>\n",
            "#14 0x5849745755b9 <unknown>\n",
            "#15 0x58497455ae00 <unknown>\n",
            "#16 0x58497458c5d2 <unknown>\n",
            "#17 0x58497458c778 <unknown>\n",
            "#18 0x5849745a4a1f <unknown>\n",
            "#19 0x7be07c23fac3 <unknown>\n",
            "#20 0x7be07c2d1850 <unknown>\n",
            "\n",
            "NANSI\n",
            "SEOC Meeting\n"
          ]
        },
        {
          "output_type": "stream",
          "name": "stderr",
          "text": [
            "\r 16%|█▌        | 81/503 [05:16<26:31,  3.77s/it]"
          ]
        },
        {
          "output_type": "stream",
          "name": "stdout",
          "text": [
            "POMSM\n",
            "PNGICSA SPECIAL ADVISORY BOARD MEETING\n"
          ]
        },
        {
          "output_type": "stream",
          "name": "stderr",
          "text": [
            "\r 16%|█▋        | 82/503 [05:19<25:59,  3.70s/it]"
          ]
        },
        {
          "output_type": "stream",
          "name": "stdout",
          "text": [
            "Failed to process meeting: PNGICSA SPECIAL ADVISORY BOARD MEETING due to error: Message: no such element: Unable to locate element: {\"method\":\"css selector\",\"selector\":\"[id=\"meetingForm:meetingTable:0\"]\"}\n",
            "  (Session info: headless chrome=90.0.4430.212); For documentation on this error, please visit: https://www.selenium.dev/documentation/webdriver/troubleshooting/errors#no-such-element-exception\n",
            "Stacktrace:\n",
            "#0 0x5849745997f9 <unknown>\n",
            "#1 0x5849745393b3 <unknown>\n",
            "#2 0x584974281016 <unknown>\n",
            "#3 0x5849742b581e <unknown>\n",
            "#4 0x5849742eb8fb <unknown>\n",
            "#5 0x5849742d8ded <unknown>\n",
            "#6 0x5849742e99e1 <unknown>\n",
            "#7 0x5849742d8c93 <unknown>\n",
            "#8 0x5849742aace4 <unknown>\n",
            "#9 0x5849742ac4d2 <unknown>\n",
            "#10 0x584974565542 <unknown>\n",
            "#11 0x584974574ce7 <unknown>\n",
            "#12 0x5849745749e4 <unknown>\n",
            "#13 0x58497457913a <unknown>\n",
            "#14 0x5849745755b9 <unknown>\n",
            "#15 0x58497455ae00 <unknown>\n",
            "#16 0x58497458c5d2 <unknown>\n",
            "#17 0x58497458c778 <unknown>\n",
            "#18 0x5849745a4a1f <unknown>\n",
            "#19 0x7be07c23fac3 <unknown>\n",
            "#20 0x7be07c2d1850 <unknown>\n",
            "\n",
            "ASPDA\n",
            "Dementia Support Australia\n"
          ]
        },
        {
          "output_type": "stream",
          "name": "stderr",
          "text": [
            "\r 17%|█▋        | 83/503 [05:24<27:52,  3.98s/it]"
          ]
        },
        {
          "output_type": "stream",
          "name": "stdout",
          "text": [
            "AKLLT\n",
            "Ironman Conference\n"
          ]
        },
        {
          "output_type": "stream",
          "name": "stderr",
          "text": [
            "\r 17%|█▋        | 84/503 [05:28<27:30,  3.94s/it]"
          ]
        },
        {
          "output_type": "stream",
          "name": "stdout",
          "text": [
            "SYDHI\n",
            "FCB  HR Conference 2024\n"
          ]
        },
        {
          "output_type": "stream",
          "name": "stderr",
          "text": [
            "\r 17%|█▋        | 85/503 [05:31<26:41,  3.83s/it]"
          ]
        },
        {
          "output_type": "stream",
          "name": "stdout",
          "text": [
            "CHCNZ\n",
            "World Journeys February 2024 Client Evening\n"
          ]
        },
        {
          "output_type": "stream",
          "name": "stderr",
          "text": [
            "\r 17%|█▋        | 86/503 [05:35<26:05,  3.75s/it]"
          ]
        },
        {
          "output_type": "stream",
          "name": "stdout",
          "text": [
            "SYDHI\n",
            "SASSPA Seminar 2024\n"
          ]
        },
        {
          "output_type": "stream",
          "name": "stderr",
          "text": [
            "\r 17%|█▋        | 87/503 [05:39<27:19,  3.94s/it]"
          ]
        },
        {
          "output_type": "stream",
          "name": "stdout",
          "text": [
            "AKLKA\n",
            "SCNZ March 2024 Conference\n"
          ]
        },
        {
          "output_type": "stream",
          "name": "stderr",
          "text": [
            "\r 17%|█▋        | 88/503 [05:43<27:21,  3.96s/it]"
          ]
        },
        {
          "output_type": "stream",
          "name": "stdout",
          "text": [
            "ADLHI\n",
            "APA Geospatial Workshop\n"
          ]
        },
        {
          "output_type": "stream",
          "name": "stderr",
          "text": [
            "\r 18%|█▊        | 89/503 [05:47<26:12,  3.80s/it]"
          ]
        },
        {
          "output_type": "stream",
          "name": "stdout",
          "text": [
            "SYDHI\n",
            "Connect Virtual Care\n"
          ]
        },
        {
          "output_type": "stream",
          "name": "stderr",
          "text": [
            "\r 18%|█▊        | 90/503 [05:50<25:32,  3.71s/it]"
          ]
        },
        {
          "output_type": "stream",
          "name": "stdout",
          "text": [
            "ADLHI\n",
            "ProjectChat Conference 2024\n"
          ]
        },
        {
          "output_type": "stream",
          "name": "stderr",
          "text": [
            "\r 18%|█▊        | 91/503 [05:55<26:55,  3.92s/it]"
          ]
        },
        {
          "output_type": "stream",
          "name": "stdout",
          "text": [
            "SYDHI\n",
            "3340  Pharma  Rheumatology Conference PHARMA\n"
          ]
        },
        {
          "output_type": "stream",
          "name": "stderr",
          "text": [
            "\r 18%|█▊        | 92/503 [05:59<27:37,  4.03s/it]"
          ]
        },
        {
          "output_type": "stream",
          "name": "stdout",
          "text": [
            "ADLHI\n",
            "Department of Human Services Restrictive Practices Forum\n"
          ]
        },
        {
          "output_type": "stream",
          "name": "stderr",
          "text": [
            "\r 18%|█▊        | 93/503 [06:02<26:24,  3.86s/it]"
          ]
        },
        {
          "output_type": "stream",
          "name": "stdout",
          "text": [
            "CHCNZ\n",
            "Southern Cross Language Institute March 2024 Graduation\n"
          ]
        },
        {
          "output_type": "stream",
          "name": "stderr",
          "text": [
            "\r 19%|█▊        | 94/503 [06:06<25:35,  3.75s/it]"
          ]
        },
        {
          "output_type": "stream",
          "name": "stdout",
          "text": [
            "ADLHI\n",
            "MCI Australia Healthcare Meeting\n"
          ]
        },
        {
          "output_type": "stream",
          "name": "stderr",
          "text": [
            "\r 19%|█▉        | 95/503 [06:10<26:05,  3.84s/it]"
          ]
        },
        {
          "output_type": "stream",
          "name": "stdout",
          "text": [
            "SYDHI\n",
            "One Day Claims Prevention Seminar\n"
          ]
        },
        {
          "output_type": "stream",
          "name": "stderr",
          "text": [
            "\r 19%|█▉        | 96/503 [06:14<26:49,  3.96s/it]"
          ]
        },
        {
          "output_type": "stream",
          "name": "stdout",
          "text": [
            "ADLHI\n",
            "SAH2H Conference  Expo\n"
          ]
        },
        {
          "output_type": "stream",
          "name": "stderr",
          "text": [
            "\r 19%|█▉        | 97/503 [06:18<25:54,  3.83s/it]"
          ]
        },
        {
          "output_type": "stream",
          "name": "stdout",
          "text": [
            "SYDHI\n",
            "Future Place  FOO Conference\n"
          ]
        },
        {
          "output_type": "stream",
          "name": "stderr",
          "text": [
            "\r 19%|█▉        | 98/503 [06:21<25:13,  3.74s/it]"
          ]
        },
        {
          "output_type": "stream",
          "name": "stdout",
          "text": [
            "ADLHI\n",
            "Step SA  Conference 2024\n"
          ]
        },
        {
          "output_type": "stream",
          "name": "stderr",
          "text": [
            "\r 20%|█▉        | 99/503 [06:25<25:18,  3.76s/it]"
          ]
        },
        {
          "output_type": "stream",
          "name": "stdout",
          "text": [
            "SYDHI\n",
            "Tyre Stewardship Conference\n"
          ]
        },
        {
          "output_type": "stream",
          "name": "stderr",
          "text": [
            "\r 20%|█▉        | 100/503 [06:30<27:02,  4.03s/it]"
          ]
        },
        {
          "output_type": "stream",
          "name": "stdout",
          "text": [
            "ADLHI\n",
            "NTAA FBT March Seminar 2024\n"
          ]
        },
        {
          "output_type": "stream",
          "name": "stderr",
          "text": [
            "\r 20%|██        | 101/503 [06:33<25:54,  3.87s/it]"
          ]
        },
        {
          "output_type": "stream",
          "name": "stdout",
          "text": [
            "ADLHI\n",
            "Legalwise Seminar\n"
          ]
        },
        {
          "output_type": "stream",
          "name": "stderr",
          "text": [
            "\r 20%|██        | 102/503 [06:36<24:58,  3.74s/it]"
          ]
        },
        {
          "output_type": "stream",
          "name": "stdout",
          "text": [
            "ADLHI\n",
            "Intuit QuickBooks Roadshow\n"
          ]
        },
        {
          "output_type": "stream",
          "name": "stderr",
          "text": [
            "\r 20%|██        | 103/503 [06:40<24:56,  3.74s/it]"
          ]
        },
        {
          "output_type": "stream",
          "name": "stdout",
          "text": [
            "ADLHI\n",
            "APGA Training Course 2024\n"
          ]
        },
        {
          "output_type": "stream",
          "name": "stderr",
          "text": [
            "\r 21%|██        | 104/503 [06:45<25:55,  3.90s/it]"
          ]
        },
        {
          "output_type": "stream",
          "name": "stdout",
          "text": [
            "ADLHI\n",
            "Mortgage Choice Professional Development Day Series 1\n"
          ]
        },
        {
          "output_type": "stream",
          "name": "stderr",
          "text": [
            "\r 21%|██        | 105/503 [06:48<25:25,  3.83s/it]"
          ]
        },
        {
          "output_type": "stream",
          "name": "stdout",
          "text": [
            "ASPDA\n",
            "AMSANT Meeting\n"
          ]
        },
        {
          "output_type": "stream",
          "name": "stderr",
          "text": [
            "\r 21%|██        | 106/503 [06:52<24:29,  3.70s/it]"
          ]
        },
        {
          "output_type": "stream",
          "name": "stdout",
          "text": [
            "SYDHI\n",
            "EML  FRNSW Seminar  FINANCE\n"
          ]
        },
        {
          "output_type": "stream",
          "name": "stderr",
          "text": [
            "\r 21%|██▏       | 107/503 [06:55<24:16,  3.68s/it]"
          ]
        },
        {
          "output_type": "stream",
          "name": "stdout",
          "text": [
            "ADLHI\n",
            "Crisis Prevention March 2024\n"
          ]
        },
        {
          "output_type": "stream",
          "name": "stderr",
          "text": [
            "\r 21%|██▏       | 108/503 [07:00<26:09,  3.97s/it]"
          ]
        },
        {
          "output_type": "stream",
          "name": "stdout",
          "text": [
            "ADLHI\n",
            "Crisis Prevention2 March 2024\n"
          ]
        },
        {
          "output_type": "stream",
          "name": "stderr",
          "text": [
            "\r 22%|██▏       | 109/503 [07:04<25:40,  3.91s/it]"
          ]
        },
        {
          "output_type": "stream",
          "name": "stdout",
          "text": [
            "ADLHI\n",
            "Crisis Prevention March 2 2024\n"
          ]
        },
        {
          "output_type": "stream",
          "name": "stderr",
          "text": [
            "\r 22%|██▏       | 110/503 [07:07<24:54,  3.80s/it]"
          ]
        },
        {
          "output_type": "stream",
          "name": "stdout",
          "text": [
            "SYDHI\n",
            "3RINCs2024\n"
          ]
        },
        {
          "output_type": "stream",
          "name": "stderr",
          "text": [
            "\r 22%|██▏       | 111/503 [07:11<24:07,  3.69s/it]"
          ]
        },
        {
          "output_type": "stream",
          "name": "stdout",
          "text": [
            "ASPDA\n",
            "DESART Conference 2024\n"
          ]
        },
        {
          "output_type": "stream",
          "name": "stderr",
          "text": [
            "\r 22%|██▏       | 112/503 [07:15<25:37,  3.93s/it]"
          ]
        },
        {
          "output_type": "stream",
          "name": "stdout",
          "text": [
            "SYDHI\n",
            "Cook Medical Meeting\n"
          ]
        },
        {
          "output_type": "stream",
          "name": "stderr",
          "text": [
            "\r 22%|██▏       | 113/503 [07:19<25:11,  3.88s/it]"
          ]
        },
        {
          "output_type": "stream",
          "name": "stdout",
          "text": [
            "SYDHI\n",
            "MIGA Conference Mar 2024\n"
          ]
        },
        {
          "output_type": "stream",
          "name": "stderr",
          "text": [
            "\r 23%|██▎       | 114/503 [07:22<24:28,  3.78s/it]"
          ]
        },
        {
          "output_type": "stream",
          "name": "stdout",
          "text": [
            "ASPDA\n",
            "PWC Training Sessions\n"
          ]
        },
        {
          "output_type": "stream",
          "name": "stderr",
          "text": [
            "\r 23%|██▎       | 115/503 [07:26<23:59,  3.71s/it]"
          ]
        },
        {
          "output_type": "stream",
          "name": "stdout",
          "text": [
            "ASPDA\n",
            "CRANAplus REC1908  ALS1914\n"
          ]
        },
        {
          "output_type": "stream",
          "name": "stderr",
          "text": [
            "\r 23%|██▎       | 116/503 [07:30<25:10,  3.90s/it]"
          ]
        },
        {
          "output_type": "stream",
          "name": "stdout",
          "text": [
            "ADLHI\n",
            "FBT Solutions Meeting\n"
          ]
        },
        {
          "output_type": "stream",
          "name": "stderr",
          "text": [
            "\r 23%|██▎       | 117/503 [07:34<25:32,  3.97s/it]"
          ]
        },
        {
          "output_type": "stream",
          "name": "stdout",
          "text": [
            "SYDHI\n",
            "FST Media  Future of InsuranceFINANCE\n"
          ]
        },
        {
          "output_type": "stream",
          "name": "stderr",
          "text": [
            "\r 23%|██▎       | 118/503 [07:38<24:44,  3.86s/it]"
          ]
        },
        {
          "output_type": "stream",
          "name": "stdout",
          "text": [
            "SYDHI\n",
            "Mortgage Choice Professional Development Series\n"
          ]
        },
        {
          "output_type": "stream",
          "name": "stderr",
          "text": [
            "\r 24%|██▎       | 119/503 [07:42<23:59,  3.75s/it]"
          ]
        },
        {
          "output_type": "stream",
          "name": "stdout",
          "text": [
            "ASPDA\n",
            "ICPA Alice Springs Meeting\n"
          ]
        },
        {
          "output_type": "stream",
          "name": "stderr",
          "text": [
            "\r 24%|██▍       | 120/503 [07:46<24:29,  3.84s/it]"
          ]
        },
        {
          "output_type": "stream",
          "name": "stdout",
          "text": [
            "SYDHI\n",
            "AFR Banking Summit 2024FINANCE\n"
          ]
        },
        {
          "output_type": "stream",
          "name": "stderr",
          "text": [
            "\r 24%|██▍       | 121/503 [07:50<25:20,  3.98s/it]"
          ]
        },
        {
          "output_type": "stream",
          "name": "stdout",
          "text": [
            "PERBS\n",
            "Professional Speaker Conference\n"
          ]
        },
        {
          "output_type": "stream",
          "name": "stderr",
          "text": [
            "\r 24%|██▍       | 122/503 [07:53<24:33,  3.87s/it]"
          ]
        },
        {
          "output_type": "stream",
          "name": "stdout",
          "text": [
            "PERBS\n",
            "Rio Tinto Workshop\n"
          ]
        },
        {
          "output_type": "stream",
          "name": "stderr",
          "text": [
            "\r 24%|██▍       | 123/503 [07:57<23:50,  3.76s/it]"
          ]
        },
        {
          "output_type": "stream",
          "name": "stdout",
          "text": [
            "PERBS\n",
            "Novo Nordisk Meeting\n"
          ]
        },
        {
          "output_type": "stream",
          "name": "stderr",
          "text": [
            "\r 25%|██▍       | 124/503 [08:01<24:00,  3.80s/it]"
          ]
        },
        {
          "output_type": "stream",
          "name": "stdout",
          "text": [
            "PERBS\n",
            "Helloworld Meeting\n"
          ]
        },
        {
          "output_type": "stream",
          "name": "stderr",
          "text": [
            "\r 25%|██▍       | 125/503 [08:05<25:03,  3.98s/it]"
          ]
        },
        {
          "output_type": "stream",
          "name": "stdout",
          "text": [
            "DRWED\n",
            "Australia Wide Tax  Payroll Seminar  March 2024\n"
          ]
        },
        {
          "output_type": "stream",
          "name": "stderr",
          "text": [
            "\r 25%|██▌       | 126/503 [08:09<24:27,  3.89s/it]"
          ]
        },
        {
          "output_type": "stream",
          "name": "stdout",
          "text": [
            "DRWED\n",
            "ELT 2829 FEB 2024\n"
          ]
        },
        {
          "output_type": "stream",
          "name": "stderr",
          "text": [
            "\r 25%|██▌       | 127/503 [08:12<23:23,  3.73s/it]"
          ]
        },
        {
          "output_type": "stream",
          "name": "stdout",
          "text": [
            "DRWED\n",
            "Clayton Utz Workshop\n"
          ]
        },
        {
          "output_type": "stream",
          "name": "stderr",
          "text": [
            "\r 25%|██▌       | 128/503 [08:16<23:33,  3.77s/it]"
          ]
        },
        {
          "output_type": "stream",
          "name": "stdout",
          "text": [
            "DRWED\n",
            "NTLC\n"
          ]
        },
        {
          "output_type": "stream",
          "name": "stderr",
          "text": [
            "\r 26%|██▌       | 129/503 [08:21<24:44,  3.97s/it]"
          ]
        },
        {
          "output_type": "stream",
          "name": "stdout",
          "text": [
            "AKLKA\n",
            "Raving For Growth  Franchisee Meeting\n"
          ]
        },
        {
          "output_type": "stream",
          "name": "stderr",
          "text": [
            "\r 26%|██▌       | 130/503 [08:24<23:35,  3.80s/it]"
          ]
        },
        {
          "output_type": "stream",
          "name": "stdout",
          "text": [
            "PERBS\n",
            "Novartis Meeting\n"
          ]
        },
        {
          "output_type": "stream",
          "name": "stderr",
          "text": [
            "\r 26%|██▌       | 131/503 [08:28<22:58,  3.71s/it]"
          ]
        },
        {
          "output_type": "stream",
          "name": "stdout",
          "text": [
            "PERBS\n",
            "Synergy Meeting\n"
          ]
        },
        {
          "output_type": "stream",
          "name": "stderr",
          "text": [
            "\r 26%|██▌       | 132/503 [08:31<22:31,  3.64s/it]"
          ]
        },
        {
          "output_type": "stream",
          "name": "stdout",
          "text": [
            "PERBS\n",
            "BHP Leadership Program 2024 19032003\n"
          ]
        },
        {
          "output_type": "stream",
          "name": "stderr",
          "text": [
            "\r 26%|██▋       | 133/503 [08:36<24:04,  3.90s/it]"
          ]
        },
        {
          "output_type": "stream",
          "name": "stdout",
          "text": [
            "PERBS\n",
            "Genesis CX Tour Perth 2024\n"
          ]
        },
        {
          "output_type": "stream",
          "name": "stderr",
          "text": [
            "\r 27%|██▋       | 134/503 [08:39<23:26,  3.81s/it]"
          ]
        },
        {
          "output_type": "stream",
          "name": "stdout",
          "text": [
            "AKLKA\n",
            "Vivid Living March 2024 Launch\n"
          ]
        },
        {
          "output_type": "stream",
          "name": "stderr",
          "text": [
            "\r 27%|██▋       | 135/503 [08:42<22:32,  3.68s/it]"
          ]
        },
        {
          "output_type": "stream",
          "name": "stdout",
          "text": [
            "PERBS\n",
            "Astrazeneca Meeting\n"
          ]
        },
        {
          "output_type": "stream",
          "name": "stderr",
          "text": [
            "\r 27%|██▋       | 136/503 [08:46<22:01,  3.60s/it]"
          ]
        },
        {
          "output_type": "stream",
          "name": "stdout",
          "text": [
            "SYDHI\n",
            "AICD Conference Mar 2024\n"
          ]
        },
        {
          "output_type": "stream",
          "name": "stderr",
          "text": [
            "\r 27%|██▋       | 137/503 [08:51<23:50,  3.91s/it]"
          ]
        },
        {
          "output_type": "stream",
          "name": "stdout",
          "text": [
            "PERBS\n",
            "Nu Skin Meeting\n"
          ]
        },
        {
          "output_type": "stream",
          "name": "stderr",
          "text": [
            "\r 27%|██▋       | 138/503 [08:54<23:34,  3.88s/it]"
          ]
        },
        {
          "output_type": "stream",
          "name": "stdout",
          "text": [
            "BSBHI\n",
            "Mortgage Choice Professional Development Day Series 1\n"
          ]
        },
        {
          "output_type": "stream",
          "name": "stderr",
          "text": [
            "\r 28%|██▊       | 139/503 [08:58<22:53,  3.77s/it]"
          ]
        },
        {
          "output_type": "stream",
          "name": "stdout",
          "text": [
            "PERBS\n",
            "Chevron VIP Sundowner\n"
          ]
        },
        {
          "output_type": "stream",
          "name": "stderr",
          "text": [
            "\r 28%|██▊       | 140/503 [09:02<22:36,  3.74s/it]"
          ]
        },
        {
          "output_type": "stream",
          "name": "stdout",
          "text": [
            "SYDHI\n",
            "Mastercard Corporate Event Finance\n"
          ]
        },
        {
          "output_type": "stream",
          "name": "stderr",
          "text": [
            "\r 28%|██▊       | 141/503 [09:06<23:54,  3.96s/it]"
          ]
        },
        {
          "output_type": "stream",
          "name": "stdout",
          "text": [
            "BSBHI\n",
            "E AUG Study Fest 2024\n"
          ]
        },
        {
          "output_type": "stream",
          "name": "stderr",
          "text": [
            "\r 28%|██▊       | 142/503 [09:10<23:54,  3.97s/it]"
          ]
        },
        {
          "output_type": "stream",
          "name": "stdout",
          "text": [
            "BSBHI\n",
            "QLD HR Summit 2024\n"
          ]
        },
        {
          "output_type": "stream",
          "name": "stderr",
          "text": [
            "\r 28%|██▊       | 143/503 [09:14<23:19,  3.89s/it]"
          ]
        },
        {
          "output_type": "stream",
          "name": "stdout",
          "text": [
            "SYDHI\n",
            "International Womens Day Lunch 2024\n"
          ]
        },
        {
          "output_type": "stream",
          "name": "stderr",
          "text": [
            "\r 29%|██▊       | 144/503 [09:17<22:39,  3.79s/it]"
          ]
        },
        {
          "output_type": "stream",
          "name": "stdout",
          "text": [
            "BSBHI\n",
            "Mantastic Workshop  March 2024\n"
          ]
        },
        {
          "output_type": "stream",
          "name": "stderr",
          "text": [
            "\r 29%|██▉       | 145/503 [09:22<23:54,  4.01s/it]"
          ]
        },
        {
          "output_type": "stream",
          "name": "stdout",
          "text": [
            "BSBHI\n",
            "UNSW AGSM Event\n"
          ]
        },
        {
          "output_type": "stream",
          "name": "stderr",
          "text": [
            "\r 29%|██▉       | 146/503 [09:26<23:51,  4.01s/it]"
          ]
        },
        {
          "output_type": "stream",
          "name": "stdout",
          "text": [
            "BSBHI\n",
            "Allergan  AMI Master Series Workshop 11 March 2024\n"
          ]
        },
        {
          "output_type": "stream",
          "name": "stderr",
          "text": [
            "\r 29%|██▉       | 147/503 [09:29<22:45,  3.84s/it]"
          ]
        },
        {
          "output_type": "stream",
          "name": "stdout",
          "text": [
            "BSBHI\n",
            "QLS Legal Profession Dinner 2024\n"
          ]
        },
        {
          "output_type": "stream",
          "name": "stderr",
          "text": [
            "\r 29%|██▉       | 148/503 [09:33<22:11,  3.75s/it]"
          ]
        },
        {
          "output_type": "stream",
          "name": "stdout",
          "text": [
            "BSBHI\n",
            "Burgess Rawson  Auction Event March 2024\n"
          ]
        },
        {
          "output_type": "stream",
          "name": "stderr",
          "text": [
            "\r 30%|██▉       | 149/503 [09:37<23:06,  3.92s/it]"
          ]
        },
        {
          "output_type": "stream",
          "name": "stdout",
          "text": [
            "BSBHI\n",
            "QSPA 2024 Conference Committee Meeting  March\n"
          ]
        },
        {
          "output_type": "stream",
          "name": "stderr",
          "text": [
            "\r 30%|██▉       | 150/503 [09:41<23:29,  3.99s/it]"
          ]
        },
        {
          "output_type": "stream",
          "name": "stdout",
          "text": [
            "BSBHI\n",
            "UDIA Half Day Summit\n"
          ]
        },
        {
          "output_type": "stream",
          "name": "stderr",
          "text": [
            "\r 30%|███       | 151/503 [09:45<22:32,  3.84s/it]"
          ]
        },
        {
          "output_type": "stream",
          "name": "stdout",
          "text": [
            "ADLHI\n",
            "ACAPMA Meeting and Accommodation\n"
          ]
        },
        {
          "output_type": "stream",
          "name": "stderr",
          "text": [
            "\r 30%|███       | 152/503 [09:48<21:46,  3.72s/it]"
          ]
        },
        {
          "output_type": "stream",
          "name": "stdout",
          "text": [
            "ADLHI\n",
            "WOMADelaide Storage  Rehearsal 2024\n"
          ]
        },
        {
          "output_type": "stream",
          "name": "stderr",
          "text": [
            "\r 30%|███       | 153/503 [09:52<22:20,  3.83s/it]"
          ]
        },
        {
          "output_type": "stream",
          "name": "stdout",
          "text": [
            "BSBHI\n",
            "Legalwise Seminars  Family Law Conference\n"
          ]
        },
        {
          "output_type": "stream",
          "name": "stderr",
          "text": [
            "\r 31%|███       | 154/503 [09:57<23:15,  4.00s/it]"
          ]
        },
        {
          "output_type": "stream",
          "name": "stdout",
          "text": [
            "ADLHI\n",
            "Department of Education Schools Support Meeting\n"
          ]
        },
        {
          "output_type": "stream",
          "name": "stderr",
          "text": [
            "\r 31%|███       | 155/503 [10:00<22:12,  3.83s/it]"
          ]
        },
        {
          "output_type": "stream",
          "name": "stdout",
          "text": [
            "BSBHI\n",
            "Legalwise Seminars  Wills and Estates Symposium\n"
          ]
        },
        {
          "output_type": "stream",
          "name": "stderr",
          "text": [
            "\r 31%|███       | 156/503 [10:04<21:30,  3.72s/it]"
          ]
        },
        {
          "output_type": "stream",
          "name": "stdout",
          "text": [
            "ADLHI\n",
            "Young Living Vitality Wellness Tour\n"
          ]
        },
        {
          "output_type": "stream",
          "name": "stderr",
          "text": [
            "\r 31%|███       | 157/503 [10:07<21:45,  3.77s/it]"
          ]
        },
        {
          "output_type": "stream",
          "name": "stdout",
          "text": [
            "BSBHI\n",
            "Legalwise Seminars  Personal Injury Conference\n"
          ]
        },
        {
          "output_type": "stream",
          "name": "stderr",
          "text": [
            "\r 31%|███▏      | 158/503 [10:12<22:59,  4.00s/it]"
          ]
        },
        {
          "output_type": "stream",
          "name": "stdout",
          "text": [
            "DRWDD\n",
            "Rheumatic Heart Disease Program Planning Days\n"
          ]
        },
        {
          "output_type": "stream",
          "name": "stderr",
          "text": [
            "\r 32%|███▏      | 159/503 [10:15<22:05,  3.85s/it]"
          ]
        },
        {
          "output_type": "stream",
          "name": "stdout",
          "text": [
            "BSBHI\n",
            "ADITS Quarterly Strategic Planning\n"
          ]
        },
        {
          "output_type": "stream",
          "name": "stderr",
          "text": [
            "\r 32%|███▏      | 160/503 [10:19<21:23,  3.74s/it]"
          ]
        },
        {
          "output_type": "stream",
          "name": "stdout",
          "text": [
            "BSBHI\n",
            "AIDA Cultural Safety Workshop\n"
          ]
        },
        {
          "output_type": "stream",
          "name": "stderr",
          "text": [
            "\r 32%|███▏      | 161/503 [10:23<21:21,  3.75s/it]"
          ]
        },
        {
          "output_type": "stream",
          "name": "stdout",
          "text": [
            "ADLHI\n",
            "Viking Explorer Sessions 2024\n"
          ]
        },
        {
          "output_type": "stream",
          "name": "stderr",
          "text": [
            "\r 32%|███▏      | 162/503 [10:27<22:44,  4.00s/it]"
          ]
        },
        {
          "output_type": "stream",
          "name": "stdout",
          "text": [
            "BSBHI\n",
            "Raytheon Australia Essentials of Leadership Program 2024\n"
          ]
        },
        {
          "output_type": "stream",
          "name": "stderr",
          "text": [
            "\r 32%|███▏      | 163/503 [10:31<22:05,  3.90s/it]"
          ]
        },
        {
          "output_type": "stream",
          "name": "stdout",
          "text": [
            "BSBHI\n",
            "ConnectWise IT Nation Evolve APAC Service Peer Groups Q1 2024\n"
          ]
        },
        {
          "output_type": "stream",
          "name": "stderr",
          "text": [
            "\r 33%|███▎      | 164/503 [10:34<21:11,  3.75s/it]"
          ]
        },
        {
          "output_type": "stream",
          "name": "stdout",
          "text": [
            "BSBHI\n",
            "Harmony SE Asia Executive Meeting\n"
          ]
        },
        {
          "output_type": "stream",
          "name": "stderr",
          "text": [
            "\r 33%|███▎      | 165/503 [10:38<20:37,  3.66s/it]"
          ]
        },
        {
          "output_type": "stream",
          "name": "stdout",
          "text": [
            "BSBHI\n",
            "Petronas Meeting\n"
          ]
        },
        {
          "output_type": "stream",
          "name": "stderr",
          "text": [
            "\r 33%|███▎      | 166/503 [10:43<22:23,  3.99s/it]"
          ]
        },
        {
          "output_type": "stream",
          "name": "stdout",
          "text": [
            "ADLHI\n",
            "Emirates Airlines Cabin Crew Recruitment Day\n"
          ]
        },
        {
          "output_type": "stream",
          "name": "stderr",
          "text": [
            "\r 33%|███▎      | 167/503 [10:46<21:32,  3.85s/it]"
          ]
        },
        {
          "output_type": "stream",
          "name": "stdout",
          "text": [
            "ADLHI\n",
            "Santos Meeting\n"
          ]
        },
        {
          "output_type": "stream",
          "name": "stderr",
          "text": [
            "\r 33%|███▎      | 168/503 [10:50<20:48,  3.73s/it]"
          ]
        },
        {
          "output_type": "stream",
          "name": "stdout",
          "text": [
            "BSBHI\n",
            "Rio Tinto  TwoWay Mentoring Training Workshop\n"
          ]
        },
        {
          "output_type": "stream",
          "name": "stderr",
          "text": [
            "\r 34%|███▎      | 169/503 [10:53<20:44,  3.73s/it]"
          ]
        },
        {
          "output_type": "stream",
          "name": "stdout",
          "text": [
            "BSBHI\n",
            "Legalwise Seminars  10 Points in One Day  Your Last Chance\n"
          ]
        },
        {
          "output_type": "stream",
          "name": "stderr",
          "text": [
            "\r 34%|███▍      | 170/503 [10:58<22:18,  4.02s/it]"
          ]
        },
        {
          "output_type": "stream",
          "name": "stdout",
          "text": [
            "BSBHI\n",
            "Arista Meeting\n"
          ]
        },
        {
          "output_type": "stream",
          "name": "stderr",
          "text": [
            "\r 34%|███▍      | 171/503 [11:02<21:47,  3.94s/it]"
          ]
        },
        {
          "output_type": "stream",
          "name": "stdout",
          "text": [
            "ADLHI\n",
            "Plympton International College Formal 2024\n"
          ]
        },
        {
          "output_type": "stream",
          "name": "stderr",
          "text": [
            "\r 34%|███▍      | 172/503 [11:05<20:51,  3.78s/it]"
          ]
        },
        {
          "output_type": "stream",
          "name": "stdout",
          "text": [
            "BSBHI\n",
            "NTAA  FBT Seminar 040324\n"
          ]
        },
        {
          "output_type": "stream",
          "name": "stderr",
          "text": [
            "\r 34%|███▍      | 173/503 [11:09<20:13,  3.68s/it]"
          ]
        },
        {
          "output_type": "stream",
          "name": "stdout",
          "text": [
            "ADLHI\n",
            "Office for the Early Years Event  March 2024\n"
          ]
        },
        {
          "output_type": "stream",
          "name": "stderr",
          "text": [
            "\r 35%|███▍      | 174/503 [11:13<21:55,  4.00s/it]"
          ]
        },
        {
          "output_type": "stream",
          "name": "stdout",
          "text": [
            "ADLHI\n",
            "SA Government Meeting 1\n"
          ]
        },
        {
          "output_type": "stream",
          "name": "stderr",
          "text": [
            "\r 35%|███▍      | 175/503 [11:17<21:27,  3.92s/it]"
          ]
        },
        {
          "output_type": "stream",
          "name": "stdout",
          "text": [
            "ADLHI\n",
            "Snowflake  Data for Breakfast\n"
          ]
        },
        {
          "output_type": "stream",
          "name": "stderr",
          "text": [
            "\r 35%|███▍      | 176/503 [11:21<20:55,  3.84s/it]"
          ]
        },
        {
          "output_type": "stream",
          "name": "stdout",
          "text": [
            "DRWDD\n",
            "Procurement and Contract Management Training March 2024\n"
          ]
        },
        {
          "output_type": "stream",
          "name": "stderr",
          "text": [
            "\r 35%|███▌      | 177/503 [11:24<20:09,  3.71s/it]"
          ]
        },
        {
          "output_type": "stream",
          "name": "stdout",
          "text": [
            "ADLHI\n",
            "Beach Energy Town Hall Meeting 2024\n"
          ]
        },
        {
          "output_type": "stream",
          "name": "stderr",
          "text": [
            "\r 35%|███▌      | 178/503 [11:29<21:23,  3.95s/it]"
          ]
        },
        {
          "output_type": "stream",
          "name": "stdout",
          "text": [
            "OOLHI\n",
            "EAGCG Workshop\n"
          ]
        },
        {
          "output_type": "stream",
          "name": "stderr",
          "text": [
            "\r 36%|███▌      | 179/503 [11:32<21:06,  3.91s/it]"
          ]
        },
        {
          "output_type": "stream",
          "name": "stdout",
          "text": [
            "OOLHI\n",
            "Mega Branding Event\n"
          ]
        },
        {
          "output_type": "stream",
          "name": "stderr",
          "text": [
            "\r 36%|███▌      | 180/503 [11:36<20:10,  3.75s/it]"
          ]
        },
        {
          "output_type": "stream",
          "name": "stdout",
          "text": [
            "ADLHI\n",
            "BIGA Members Meeting\n"
          ]
        },
        {
          "output_type": "stream",
          "name": "stderr",
          "text": [
            "\r 36%|███▌      | 181/503 [11:39<19:39,  3.66s/it]"
          ]
        },
        {
          "output_type": "stream",
          "name": "stdout",
          "text": [
            "OOLHI\n",
            "TrackEd Workshop\n"
          ]
        },
        {
          "output_type": "stream",
          "name": "stderr",
          "text": [
            "\r 36%|███▌      | 182/503 [11:43<20:02,  3.75s/it]"
          ]
        },
        {
          "output_type": "stream",
          "name": "stdout",
          "text": [
            "OOLHI\n",
            "Buyers Agent Institute Training Event\n"
          ]
        },
        {
          "output_type": "stream",
          "name": "stderr",
          "text": [
            "\r 36%|███▋      | 183/503 [11:47<20:44,  3.89s/it]"
          ]
        },
        {
          "output_type": "stream",
          "name": "stdout",
          "text": [
            "OOLHI\n",
            "Semloh Support Meeting\n"
          ]
        },
        {
          "output_type": "stream",
          "name": "stderr",
          "text": [
            "\r 37%|███▋      | 184/503 [11:51<19:44,  3.71s/it]"
          ]
        },
        {
          "output_type": "stream",
          "name": "stdout",
          "text": [
            "PERHI\n",
            "IDP Insights Session\n"
          ]
        },
        {
          "output_type": "stream",
          "name": "stderr",
          "text": [
            "\r 37%|███▋      | 185/503 [11:54<19:16,  3.64s/it]"
          ]
        },
        {
          "output_type": "stream",
          "name": "stdout",
          "text": [
            "CHCNZ\n",
            "Farmlands March 2024 Meeting\n"
          ]
        },
        {
          "output_type": "stream",
          "name": "stderr",
          "text": [
            "\r 37%|███▋      | 186/503 [11:58<19:59,  3.78s/it]"
          ]
        },
        {
          "output_type": "stream",
          "name": "stdout",
          "text": [
            "NANHI\n",
            "Wedding of Jonathon Graeme Taylor  Lisa Maree Prince\n"
          ]
        },
        {
          "output_type": "stream",
          "name": "stderr",
          "text": [
            "\r 37%|███▋      | 187/503 [12:03<20:53,  3.97s/it]"
          ]
        },
        {
          "output_type": "stream",
          "name": "stdout",
          "text": [
            "BSBHI\n",
            "Sound Minds Better Men Charity Event\n"
          ]
        },
        {
          "output_type": "stream",
          "name": "stderr",
          "text": [
            "\r 37%|███▋      | 188/503 [12:06<19:59,  3.81s/it]"
          ]
        },
        {
          "output_type": "stream",
          "name": "stdout",
          "text": [
            "PERHI\n",
            "SPE Technical Meeting\n"
          ]
        },
        {
          "output_type": "stream",
          "name": "stderr",
          "text": [
            "\r 38%|███▊      | 189/503 [12:10<19:38,  3.75s/it]"
          ]
        },
        {
          "output_type": "stream",
          "name": "stdout",
          "text": [
            "CHCNZ\n",
            "SSS March 2024 Meeting\n"
          ]
        },
        {
          "output_type": "stream",
          "name": "stderr",
          "text": [
            "\r 38%|███▊      | 190/503 [12:14<19:56,  3.82s/it]"
          ]
        },
        {
          "output_type": "stream",
          "name": "stdout",
          "text": [
            "CHCNZ\n",
            "Keysight Technologies February 2024 Workshop\n"
          ]
        },
        {
          "output_type": "stream",
          "name": "stderr",
          "text": [
            "\r 38%|███▊      | 191/503 [12:19<21:21,  4.11s/it]"
          ]
        },
        {
          "output_type": "stream",
          "name": "stdout",
          "text": [
            "PERHI\n",
            "WISE International Womens Day Event\n"
          ]
        },
        {
          "output_type": "stream",
          "name": "stderr",
          "text": [
            "\r 38%|███▊      | 192/503 [12:22<20:20,  3.93s/it]"
          ]
        },
        {
          "output_type": "stream",
          "name": "stdout",
          "text": [
            "BSBHI\n",
            "First National Real Estate Queensland Awards 2024\n"
          ]
        },
        {
          "output_type": "stream",
          "name": "stderr",
          "text": [
            "\r 38%|███▊      | 193/503 [12:26<19:41,  3.81s/it]"
          ]
        },
        {
          "output_type": "stream",
          "name": "stdout",
          "text": [
            "AKLHI\n",
            "Regional Tourism NZ  Inbound Trade Event\n"
          ]
        },
        {
          "output_type": "stream",
          "name": "stderr",
          "text": [
            "\r 39%|███▊      | 194/503 [12:29<19:21,  3.76s/it]"
          ]
        },
        {
          "output_type": "stream",
          "name": "stdout",
          "text": [
            "AKLHI\n",
            "HubSpot March Meeting March 2024\n"
          ]
        },
        {
          "output_type": "stream",
          "name": "stderr",
          "text": [
            "\r 39%|███▉      | 195/503 [12:34<20:37,  4.02s/it]"
          ]
        },
        {
          "output_type": "stream",
          "name": "stdout",
          "text": [
            "SYDHI\n",
            "Mendix Breakfast Meeting\n"
          ]
        },
        {
          "output_type": "stream",
          "name": "stderr",
          "text": [
            "\r 39%|███▉      | 196/503 [12:37<19:37,  3.83s/it]"
          ]
        },
        {
          "output_type": "stream",
          "name": "stdout",
          "text": [
            "SYDHI\n",
            "KangaNews DCMSDS Summit 2024FINANCE\n"
          ]
        },
        {
          "output_type": "stream",
          "name": "stderr",
          "text": [
            "\r 39%|███▉      | 197/503 [12:41<18:50,  3.70s/it]"
          ]
        },
        {
          "output_type": "stream",
          "name": "stdout",
          "text": [
            "ASPDA\n",
            "Alice Springs Public Hearing\n"
          ]
        },
        {
          "output_type": "stream",
          "name": "stderr",
          "text": [
            "\r 39%|███▉      | 198/503 [12:44<18:19,  3.61s/it]"
          ]
        },
        {
          "output_type": "stream",
          "name": "stdout",
          "text": [
            "PERHI\n",
            "MDA National  Achieved Valid Informed Consent\n"
          ]
        },
        {
          "output_type": "stream",
          "name": "stderr",
          "text": [
            "\r 40%|███▉      | 199/503 [12:49<19:35,  3.87s/it]"
          ]
        },
        {
          "output_type": "stream",
          "name": "stdout",
          "text": [
            "SYDHI\n",
            "CBA Meeting  KangaNews DCM Conference\n"
          ]
        },
        {
          "output_type": "stream",
          "name": "stderr",
          "text": [
            "\r 40%|███▉      | 200/503 [12:52<19:38,  3.89s/it]"
          ]
        },
        {
          "output_type": "stream",
          "name": "stdout",
          "text": [
            "NANHI\n",
            "Wedding Anthony Coutts  Katrina Pullbrook\n"
          ]
        },
        {
          "output_type": "stream",
          "name": "stderr",
          "text": [
            "\r 40%|███▉      | 201/503 [12:56<18:52,  3.75s/it]"
          ]
        },
        {
          "output_type": "stream",
          "name": "stdout",
          "text": [
            "SYDHI\n",
            "SmartGroup Breakfast\n"
          ]
        },
        {
          "output_type": "stream",
          "name": "stderr",
          "text": [
            "\r 40%|████      | 202/503 [12:59<18:24,  3.67s/it]"
          ]
        },
        {
          "output_type": "stream",
          "name": "stdout",
          "text": [
            "SYDHI\n",
            "BHA Event Sydney March 2024\n"
          ]
        },
        {
          "output_type": "stream",
          "name": "stderr",
          "text": [
            "\r 40%|████      | 203/503 [13:04<19:49,  3.97s/it]"
          ]
        },
        {
          "output_type": "stream",
          "name": "stdout",
          "text": [
            "SYDHI\n",
            "Pierre Fabre Pharmaceutical Dinner for Doctors\n"
          ]
        },
        {
          "output_type": "stream",
          "name": "stderr",
          "text": [
            "\r 41%|████      | 204/503 [13:08<19:38,  3.94s/it]"
          ]
        },
        {
          "output_type": "stream",
          "name": "stdout",
          "text": [
            "ADLHI\n",
            "Chrissy  Daniel Wedding March 2024\n"
          ]
        },
        {
          "output_type": "stream",
          "name": "stderr",
          "text": [
            "\r 41%|████      | 205/503 [13:11<18:57,  3.82s/it]"
          ]
        },
        {
          "output_type": "stream",
          "name": "stdout",
          "text": [
            "SYDHI\n",
            "Attura Town Hall\n"
          ]
        },
        {
          "output_type": "stream",
          "name": "stderr",
          "text": [
            "\r 41%|████      | 206/503 [13:15<18:28,  3.73s/it]"
          ]
        },
        {
          "output_type": "stream",
          "name": "stdout",
          "text": [
            "SYDHI\n",
            "Cabin Crew Recruitment March 2024\n"
          ]
        },
        {
          "output_type": "stream",
          "name": "stderr",
          "text": [
            "\r 41%|████      | 207/503 [13:19<19:33,  3.96s/it]"
          ]
        },
        {
          "output_type": "stream",
          "name": "stdout",
          "text": [
            "SYDHI\n",
            "RMIT University Workshop\n"
          ]
        },
        {
          "output_type": "stream",
          "name": "stderr",
          "text": [
            "\r 41%|████▏     | 208/503 [13:24<19:36,  3.99s/it]"
          ]
        },
        {
          "output_type": "stream",
          "name": "stdout",
          "text": [
            "SYDHI\n",
            "Ikon Institute of Australia Graduation 2024\n"
          ]
        },
        {
          "output_type": "stream",
          "name": "stderr",
          "text": [
            "\r 42%|████▏     | 209/503 [13:27<18:57,  3.87s/it]"
          ]
        },
        {
          "output_type": "stream",
          "name": "stdout",
          "text": [
            "SYDHI\n",
            "Tamara Meyer Coaching\n"
          ]
        },
        {
          "output_type": "stream",
          "name": "stderr",
          "text": [
            "\r 42%|████▏     | 210/503 [13:31<18:19,  3.75s/it]"
          ]
        },
        {
          "output_type": "stream",
          "name": "stdout",
          "text": [
            "CHCNZ\n",
            "Canterbury March 2024 Ballance Farm Environment Awards\n"
          ]
        },
        {
          "output_type": "stream",
          "name": "stderr",
          "text": [
            "\r 42%|████▏     | 211/503 [13:35<19:19,  3.97s/it]"
          ]
        },
        {
          "output_type": "stream",
          "name": "stdout",
          "text": [
            "PERHI\n",
            "APT  Travelmarvel Presentations  19th March 2024\n"
          ]
        },
        {
          "output_type": "stream",
          "name": "stderr",
          "text": [
            "\r 42%|████▏     | 212/503 [13:39<19:33,  4.03s/it]"
          ]
        },
        {
          "output_type": "stream",
          "name": "stdout",
          "text": [
            "Failed to process meeting: APT  Travelmarvel Presentations  19th March 2024 due to error: Message: no such element: Unable to locate element: {\"method\":\"css selector\",\"selector\":\"[id=\"meetingForm:meetingTable:0\"]\"}\n",
            "  (Session info: headless chrome=90.0.4430.212); For documentation on this error, please visit: https://www.selenium.dev/documentation/webdriver/troubleshooting/errors#no-such-element-exception\n",
            "Stacktrace:\n",
            "#0 0x5849745997f9 <unknown>\n",
            "#1 0x5849745393b3 <unknown>\n",
            "#2 0x584974281016 <unknown>\n",
            "#3 0x5849742b581e <unknown>\n",
            "#4 0x5849742eb8fb <unknown>\n",
            "#5 0x5849742d8ded <unknown>\n",
            "#6 0x5849742e99e1 <unknown>\n",
            "#7 0x5849742d8c93 <unknown>\n",
            "#8 0x5849742aace4 <unknown>\n",
            "#9 0x5849742ac4d2 <unknown>\n",
            "#10 0x584974565542 <unknown>\n",
            "#11 0x584974574ce7 <unknown>\n",
            "#12 0x5849745749e4 <unknown>\n",
            "#13 0x58497457913a <unknown>\n",
            "#14 0x5849745755b9 <unknown>\n",
            "#15 0x58497455ae00 <unknown>\n",
            "#16 0x58497458c5d2 <unknown>\n",
            "#17 0x58497458c778 <unknown>\n",
            "#18 0x5849745a4a1f <unknown>\n",
            "#19 0x7be07c23fac3 <unknown>\n",
            "#20 0x7be07c2d1850 <unknown>\n",
            "\n",
            "PERHI\n",
            "ABA Health Professional Seminar Series 2024\n"
          ]
        },
        {
          "output_type": "stream",
          "name": "stderr",
          "text": [
            "\r 42%|████▏     | 213/503 [13:43<18:37,  3.85s/it]"
          ]
        },
        {
          "output_type": "stream",
          "name": "stdout",
          "text": [
            "AKLHI\n",
            "IoD Women Directors Network\n"
          ]
        },
        {
          "output_type": "stream",
          "name": "stderr",
          "text": [
            "\r 43%|████▎     | 214/503 [13:46<17:52,  3.71s/it]"
          ]
        },
        {
          "output_type": "stream",
          "name": "stdout",
          "text": [
            "PERHI\n",
            "Sulphure Experts Meeting\n"
          ]
        },
        {
          "output_type": "stream",
          "name": "stderr",
          "text": [
            "\r 43%|████▎     | 215/503 [13:50<18:19,  3.82s/it]"
          ]
        },
        {
          "output_type": "stream",
          "name": "stdout",
          "text": [
            "CNSDC\n",
            "local buy meeting\n"
          ]
        },
        {
          "output_type": "stream",
          "name": "stderr",
          "text": [
            "\r 43%|████▎     | 216/503 [13:54<18:48,  3.93s/it]"
          ]
        },
        {
          "output_type": "stream",
          "name": "stdout",
          "text": [
            "PERHI\n",
            "PSV Engineer School Meeting\n"
          ]
        },
        {
          "output_type": "stream",
          "name": "stderr",
          "text": [
            "\r 43%|████▎     | 217/503 [13:58<18:04,  3.79s/it]"
          ]
        },
        {
          "output_type": "stream",
          "name": "stdout",
          "text": [
            "PERHI\n",
            "AMOSC Meeting 12th March 2024\n"
          ]
        },
        {
          "output_type": "stream",
          "name": "stderr",
          "text": [
            "\r 43%|████▎     | 218/503 [14:01<17:36,  3.71s/it]"
          ]
        },
        {
          "output_type": "stream",
          "name": "stdout",
          "text": [
            "Failed to process meeting: AMOSC Meeting 12th March 2024 due to error: Message: no such element: Unable to locate element: {\"method\":\"css selector\",\"selector\":\"[id=\"meetingForm:meetingTable:0\"]\"}\n",
            "  (Session info: headless chrome=90.0.4430.212); For documentation on this error, please visit: https://www.selenium.dev/documentation/webdriver/troubleshooting/errors#no-such-element-exception\n",
            "Stacktrace:\n",
            "#0 0x5849745997f9 <unknown>\n",
            "#1 0x5849745393b3 <unknown>\n",
            "#2 0x584974281016 <unknown>\n",
            "#3 0x5849742b581e <unknown>\n",
            "#4 0x5849742eb8fb <unknown>\n",
            "#5 0x5849742d8ded <unknown>\n",
            "#6 0x5849742e99e1 <unknown>\n",
            "#7 0x5849742d8c93 <unknown>\n",
            "#8 0x5849742aace4 <unknown>\n",
            "#9 0x5849742ac4d2 <unknown>\n",
            "#10 0x584974565542 <unknown>\n",
            "#11 0x584974574ce7 <unknown>\n",
            "#12 0x5849745749e4 <unknown>\n",
            "#13 0x58497457913a <unknown>\n",
            "#14 0x5849745755b9 <unknown>\n",
            "#15 0x58497455ae00 <unknown>\n",
            "#16 0x58497458c5d2 <unknown>\n",
            "#17 0x58497458c778 <unknown>\n",
            "#18 0x5849745a4a1f <unknown>\n",
            "#19 0x7be07c23fac3 <unknown>\n",
            "#20 0x7be07c2d1850 <unknown>\n",
            "\n",
            "ZQNHQ\n",
            "Your Education March 2024 Conference\n"
          ]
        },
        {
          "output_type": "stream",
          "name": "stderr",
          "text": [
            "\r 44%|████▎     | 219/503 [14:05<17:54,  3.78s/it]"
          ]
        },
        {
          "output_type": "stream",
          "name": "stdout",
          "text": [
            "MELAM\n",
            "AIJA Meeting\n"
          ]
        },
        {
          "output_type": "stream",
          "name": "stderr",
          "text": [
            "\r 44%|████▎     | 220/503 [14:10<18:58,  4.02s/it]"
          ]
        },
        {
          "output_type": "stream",
          "name": "stdout",
          "text": [
            "MELAM\n",
            "Mazars event 28  29 February\n"
          ]
        },
        {
          "output_type": "stream",
          "name": "stderr",
          "text": [
            "\r 44%|████▍     | 221/503 [14:13<18:01,  3.83s/it]"
          ]
        },
        {
          "output_type": "stream",
          "name": "stdout",
          "text": [
            "MELAM\n",
            "BCA Research Breakfast Event\n"
          ]
        },
        {
          "output_type": "stream",
          "name": "stderr",
          "text": [
            "\r 44%|████▍     | 222/503 [14:17<17:12,  3.68s/it]"
          ]
        },
        {
          "output_type": "stream",
          "name": "stdout",
          "text": [
            "ADLHI\n",
            "Cassandra  Nathan Wedding March 2024\n"
          ]
        },
        {
          "output_type": "stream",
          "name": "stderr",
          "text": [
            "\r 44%|████▍     | 223/503 [14:20<17:06,  3.66s/it]"
          ]
        },
        {
          "output_type": "stream",
          "name": "stdout",
          "text": [
            "Failed to process meeting: Cassandra  Nathan Wedding March 2024 due to error: Message: no such element: Unable to locate element: {\"method\":\"css selector\",\"selector\":\"[id=\"meetingForm:meetingTable:0\"]\"}\n",
            "  (Session info: headless chrome=90.0.4430.212); For documentation on this error, please visit: https://www.selenium.dev/documentation/webdriver/troubleshooting/errors#no-such-element-exception\n",
            "Stacktrace:\n",
            "#0 0x5849745997f9 <unknown>\n",
            "#1 0x5849745393b3 <unknown>\n",
            "#2 0x584974281016 <unknown>\n",
            "#3 0x5849742b581e <unknown>\n",
            "#4 0x5849742eb8fb <unknown>\n",
            "#5 0x5849742d8ded <unknown>\n",
            "#6 0x5849742e99e1 <unknown>\n",
            "#7 0x5849742d8c93 <unknown>\n",
            "#8 0x5849742aace4 <unknown>\n",
            "#9 0x5849742ac4d2 <unknown>\n",
            "#10 0x584974565542 <unknown>\n",
            "#11 0x584974574ce7 <unknown>\n",
            "#12 0x5849745749e4 <unknown>\n",
            "#13 0x58497457913a <unknown>\n",
            "#14 0x5849745755b9 <unknown>\n",
            "#15 0x58497455ae00 <unknown>\n",
            "#16 0x58497458c5d2 <unknown>\n",
            "#17 0x58497458c778 <unknown>\n",
            "#18 0x5849745a4a1f <unknown>\n",
            "#19 0x7be07c23fac3 <unknown>\n",
            "#20 0x7be07c2d1850 <unknown>\n",
            "\n",
            "CRNHI\n",
            "Vestas Conference\n"
          ]
        },
        {
          "output_type": "stream",
          "name": "stderr",
          "text": [
            "\r 45%|████▍     | 224/503 [14:25<18:33,  3.99s/it]"
          ]
        },
        {
          "output_type": "stream",
          "name": "stdout",
          "text": [
            "CRNHI\n",
            "TrackedApp Workshop\n"
          ]
        },
        {
          "output_type": "stream",
          "name": "stderr",
          "text": [
            "\r 45%|████▍     | 225/503 [14:28<17:36,  3.80s/it]"
          ]
        },
        {
          "output_type": "stream",
          "name": "stdout",
          "text": [
            "CHCNZ\n",
            "South Island Baptist March 2024 Church\n"
          ]
        },
        {
          "output_type": "stream",
          "name": "stderr",
          "text": [
            "\r 45%|████▍     | 226/503 [14:32<17:29,  3.79s/it]"
          ]
        },
        {
          "output_type": "stream",
          "name": "stdout",
          "text": [
            "ALHGI\n",
            "CEO Institute\n"
          ]
        },
        {
          "output_type": "stream",
          "name": "stderr",
          "text": [
            "\r 45%|████▌     | 227/503 [14:36<17:18,  3.76s/it]"
          ]
        },
        {
          "output_type": "stream",
          "name": "stdout",
          "text": [
            "PERHI\n",
            "AFIC  Shareholder Roadshow 2024\n"
          ]
        },
        {
          "output_type": "stream",
          "name": "stderr",
          "text": [
            "\r 45%|████▌     | 228/503 [14:40<18:20,  4.00s/it]"
          ]
        },
        {
          "output_type": "stream",
          "name": "stdout",
          "text": [
            "ALHGI\n",
            "CEO Institute Syndicate Meeting\n"
          ]
        },
        {
          "output_type": "stream",
          "name": "stderr",
          "text": [
            "\r 46%|████▌     | 229/503 [14:44<17:29,  3.83s/it]"
          ]
        },
        {
          "output_type": "stream",
          "name": "stdout",
          "text": [
            "PERHI\n",
            "EduCanada Workshop\n"
          ]
        },
        {
          "output_type": "stream",
          "name": "stderr",
          "text": [
            "\r 46%|████▌     | 230/503 [14:47<16:46,  3.69s/it]"
          ]
        },
        {
          "output_type": "stream",
          "name": "stdout",
          "text": [
            "PERHI\n",
            "EMS Oceania Meeting  9th March 2024\n"
          ]
        },
        {
          "output_type": "stream",
          "name": "stderr",
          "text": [
            "\r 46%|████▌     | 231/503 [14:51<16:29,  3.64s/it]"
          ]
        },
        {
          "output_type": "stream",
          "name": "stdout",
          "text": [
            "Failed to process meeting: EMS Oceania Meeting  9th March 2024 due to error: Message: no such element: Unable to locate element: {\"method\":\"css selector\",\"selector\":\"[id=\"meetingForm:meetingTable:0\"]\"}\n",
            "  (Session info: headless chrome=90.0.4430.212); For documentation on this error, please visit: https://www.selenium.dev/documentation/webdriver/troubleshooting/errors#no-such-element-exception\n",
            "Stacktrace:\n",
            "#0 0x5849745997f9 <unknown>\n",
            "#1 0x5849745393b3 <unknown>\n",
            "#2 0x584974281016 <unknown>\n",
            "#3 0x5849742b581e <unknown>\n",
            "#4 0x5849742eb8fb <unknown>\n",
            "#5 0x5849742d8ded <unknown>\n",
            "#6 0x5849742e99e1 <unknown>\n",
            "#7 0x5849742d8c93 <unknown>\n",
            "#8 0x5849742aace4 <unknown>\n",
            "#9 0x5849742ac4d2 <unknown>\n",
            "#10 0x584974565542 <unknown>\n",
            "#11 0x584974574ce7 <unknown>\n",
            "#12 0x5849745749e4 <unknown>\n",
            "#13 0x58497457913a <unknown>\n",
            "#14 0x5849745755b9 <unknown>\n",
            "#15 0x58497455ae00 <unknown>\n",
            "#16 0x58497458c5d2 <unknown>\n",
            "#17 0x58497458c778 <unknown>\n",
            "#18 0x5849745a4a1f <unknown>\n",
            "#19 0x7be07c23fac3 <unknown>\n",
            "#20 0x7be07c2d1850 <unknown>\n",
            "\n",
            "PERHI\n",
            "PESA Evening Event  March\n"
          ]
        },
        {
          "output_type": "stream",
          "name": "stderr",
          "text": [
            "\r 46%|████▌     | 232/503 [14:55<17:53,  3.96s/it]"
          ]
        },
        {
          "output_type": "stream",
          "name": "stdout",
          "text": [
            "PERHI\n",
            "John Crane Meeting\n"
          ]
        },
        {
          "output_type": "stream",
          "name": "stderr",
          "text": [
            "\r 46%|████▋     | 233/503 [14:59<17:24,  3.87s/it]"
          ]
        },
        {
          "output_type": "stream",
          "name": "stdout",
          "text": [
            "CHCNZ\n",
            "Rotary Club of Riccarton March 2024 Luncheon\n"
          ]
        },
        {
          "output_type": "stream",
          "name": "stderr",
          "text": [
            "\r 47%|████▋     | 234/503 [15:03<16:56,  3.78s/it]"
          ]
        },
        {
          "output_type": "stream",
          "name": "stdout",
          "text": [
            "CHCNZ\n",
            "Rotary Club of Riccarton March 2024 Luncheon\n"
          ]
        },
        {
          "output_type": "stream",
          "name": "stderr",
          "text": [
            "\r 47%|████▋     | 235/503 [15:06<16:59,  3.80s/it]"
          ]
        },
        {
          "output_type": "stream",
          "name": "stdout",
          "text": [
            "CHCNZ\n",
            "Rotary Club of Riccarton March 2024 Luncheon\n"
          ]
        },
        {
          "output_type": "stream",
          "name": "stderr",
          "text": [
            "\r 47%|████▋     | 236/503 [15:11<17:49,  4.01s/it]"
          ]
        },
        {
          "output_type": "stream",
          "name": "stdout",
          "text": [
            "CHCNZ\n",
            "Rotary Club of Riccarton March 2024 Luncheon\n"
          ]
        },
        {
          "output_type": "stream",
          "name": "stderr",
          "text": [
            "\r 47%|████▋     | 237/503 [15:15<17:23,  3.92s/it]"
          ]
        },
        {
          "output_type": "stream",
          "name": "stdout",
          "text": [
            "ASPDA\n",
            "Lecture Three\n"
          ]
        },
        {
          "output_type": "stream",
          "name": "stderr",
          "text": [
            "\r 47%|████▋     | 238/503 [15:18<16:47,  3.80s/it]"
          ]
        },
        {
          "output_type": "stream",
          "name": "stdout",
          "text": [
            "CRNHI\n",
            "QGATE Training\n"
          ]
        },
        {
          "output_type": "stream",
          "name": "stderr",
          "text": [
            "\r 48%|████▊     | 239/503 [15:22<16:10,  3.68s/it]"
          ]
        },
        {
          "output_type": "stream",
          "name": "stdout",
          "text": [
            "ALHGI\n",
            "Livestock Advisor Essentials  Albany\n"
          ]
        },
        {
          "output_type": "stream",
          "name": "stderr",
          "text": [
            "\r 48%|████▊     | 240/503 [15:26<16:54,  3.86s/it]"
          ]
        },
        {
          "output_type": "stream",
          "name": "stdout",
          "text": [
            "DRWHD\n",
            "Emerging Architect Prize Tour\n"
          ]
        },
        {
          "output_type": "stream",
          "name": "stderr",
          "text": [
            "\r 48%|████▊     | 241/503 [15:30<16:58,  3.89s/it]"
          ]
        },
        {
          "output_type": "stream",
          "name": "stdout",
          "text": [
            "MELFS\n",
            "234 Department of Education Meeting 2024\n"
          ]
        },
        {
          "output_type": "stream",
          "name": "stderr",
          "text": [
            "\r 48%|████▊     | 242/503 [15:34<16:57,  3.90s/it]"
          ]
        },
        {
          "output_type": "stream",
          "name": "stdout",
          "text": [
            "OOLHI\n",
            "Office of Health Care Professionals Recruitment Event\n"
          ]
        },
        {
          "output_type": "stream",
          "name": "stderr",
          "text": [
            "\r 48%|████▊     | 243/503 [15:37<16:08,  3.72s/it]"
          ]
        },
        {
          "output_type": "stream",
          "name": "stdout",
          "text": [
            "POMSM\n",
            "PNG PIE\n"
          ]
        },
        {
          "output_type": "stream",
          "name": "stderr",
          "text": [
            "\r 49%|████▊     | 244/503 [15:41<16:55,  3.92s/it]"
          ]
        },
        {
          "output_type": "stream",
          "name": "stdout",
          "text": [
            "PERDT\n",
            "SMART Meeting\n"
          ]
        },
        {
          "output_type": "stream",
          "name": "stderr",
          "text": [
            "\r 49%|████▊     | 245/503 [15:45<17:05,  3.97s/it]"
          ]
        },
        {
          "output_type": "stream",
          "name": "stdout",
          "text": [
            "PERDT\n",
            "Southpac Meeting 2024\n"
          ]
        },
        {
          "output_type": "stream",
          "name": "stderr",
          "text": [
            "\r 49%|████▉     | 246/503 [15:49<16:22,  3.82s/it]"
          ]
        },
        {
          "output_type": "stream",
          "name": "stdout",
          "text": [
            "PERDT\n",
            "Crisis Prevention Institute Australia and New Zealand  March 2024\n"
          ]
        },
        {
          "output_type": "stream",
          "name": "stderr",
          "text": [
            "\r 49%|████▉     | 247/503 [15:52<15:51,  3.72s/it]"
          ]
        },
        {
          "output_type": "stream",
          "name": "stdout",
          "text": [
            "PERDT\n",
            "Perth Open Statistics Course march 2024\n"
          ]
        },
        {
          "output_type": "stream",
          "name": "stderr",
          "text": [
            "\r 49%|████▉     | 248/503 [15:56<16:02,  3.77s/it]"
          ]
        },
        {
          "output_type": "stream",
          "name": "stdout",
          "text": [
            "CHCNZ\n",
            "PartnerCo March 2024 Event\n"
          ]
        },
        {
          "output_type": "stream",
          "name": "stderr",
          "text": [
            "\r 50%|████▉     | 249/503 [16:01<16:49,  3.97s/it]"
          ]
        },
        {
          "output_type": "stream",
          "name": "stdout",
          "text": [
            "AKLKA\n",
            "Wise Group March 2024 Meeting\n"
          ]
        },
        {
          "output_type": "stream",
          "name": "stderr",
          "text": [
            "\r 50%|████▉     | 250/503 [16:04<16:06,  3.82s/it]"
          ]
        },
        {
          "output_type": "stream",
          "name": "stdout",
          "text": [
            "PERBS\n",
            "Hall  Prior Meeting\n"
          ]
        },
        {
          "output_type": "stream",
          "name": "stderr",
          "text": [
            "\r 50%|████▉     | 251/503 [16:08<15:34,  3.71s/it]"
          ]
        },
        {
          "output_type": "stream",
          "name": "stdout",
          "text": [
            "BSBHI\n",
            "Legalwise Seminars  Annual Conveyancing Conference\n"
          ]
        },
        {
          "output_type": "stream",
          "name": "stderr",
          "text": [
            "\r 50%|█████     | 252/503 [16:12<15:46,  3.77s/it]"
          ]
        },
        {
          "output_type": "stream",
          "name": "stdout",
          "text": [
            "BSBHI\n",
            "Legalwise Seminars  Building and Construction Review 2024Driving Offences\n"
          ]
        },
        {
          "output_type": "stream",
          "name": "stderr",
          "text": [
            "\r 50%|█████     | 253/503 [16:16<16:47,  4.03s/it]"
          ]
        },
        {
          "output_type": "stream",
          "name": "stdout",
          "text": [
            "BSBHI\n",
            "Legalwise Seminars  Contract Law Conference\n"
          ]
        },
        {
          "output_type": "stream",
          "name": "stderr",
          "text": [
            "\r 50%|█████     | 254/503 [16:20<16:05,  3.88s/it]"
          ]
        },
        {
          "output_type": "stream",
          "name": "stdout",
          "text": [
            "BSBHI\n",
            "Legalwise Seminars  Property Law Conference\n"
          ]
        },
        {
          "output_type": "stream",
          "name": "stderr",
          "text": [
            "\r 51%|█████     | 255/503 [16:23<15:28,  3.75s/it]"
          ]
        },
        {
          "output_type": "stream",
          "name": "stdout",
          "text": [
            "BSBHI\n",
            "Legalwise Seminars  Criminal Law Symposium 2024\n"
          ]
        },
        {
          "output_type": "stream",
          "name": "stderr",
          "text": [
            "\r 51%|█████     | 256/503 [16:27<15:05,  3.67s/it]"
          ]
        },
        {
          "output_type": "stream",
          "name": "stdout",
          "text": [
            "BSBHI\n",
            "Legalwise Seminars  Workplace Law Conference\n"
          ]
        },
        {
          "output_type": "stream",
          "name": "stderr",
          "text": [
            "\r 51%|█████     | 257/503 [16:31<15:57,  3.89s/it]"
          ]
        },
        {
          "output_type": "stream",
          "name": "stdout",
          "text": [
            "BSBHI\n",
            "Harmony SE Asia Meeting\n"
          ]
        },
        {
          "output_type": "stream",
          "name": "stderr",
          "text": [
            "\r 51%|█████▏    | 258/503 [16:35<15:30,  3.80s/it]"
          ]
        },
        {
          "output_type": "stream",
          "name": "stdout",
          "text": [
            "SYDHI\n",
            "Amplitude Workshop\n"
          ]
        },
        {
          "output_type": "stream",
          "name": "stderr",
          "text": [
            "\r 51%|█████▏    | 259/503 [16:38<15:04,  3.71s/it]"
          ]
        },
        {
          "output_type": "stream",
          "name": "stdout",
          "text": [
            "SYDHI\n",
            "Owners Meeting\n"
          ]
        },
        {
          "output_type": "stream",
          "name": "stderr",
          "text": [
            "\r 52%|█████▏    | 260/503 [16:42<14:53,  3.68s/it]"
          ]
        },
        {
          "output_type": "stream",
          "name": "stdout",
          "text": [
            "SYDHI\n",
            "RW Baird  Co Meeting\n"
          ]
        },
        {
          "output_type": "stream",
          "name": "stderr",
          "text": [
            "\r 52%|█████▏    | 261/503 [16:46<15:38,  3.88s/it]"
          ]
        },
        {
          "output_type": "stream",
          "name": "stdout",
          "text": [
            "SYDHI\n",
            "Team Forum\n"
          ]
        },
        {
          "output_type": "stream",
          "name": "stderr",
          "text": [
            "\r 52%|█████▏    | 262/503 [16:50<15:36,  3.89s/it]"
          ]
        },
        {
          "output_type": "stream",
          "name": "stdout",
          "text": [
            "PERHI\n",
            "Rio Tinto Graduates\n"
          ]
        },
        {
          "output_type": "stream",
          "name": "stderr",
          "text": [
            "\r 52%|█████▏    | 263/503 [16:53<15:00,  3.75s/it]"
          ]
        },
        {
          "output_type": "stream",
          "name": "stdout",
          "text": [
            "CRNHI\n",
            "CBWC March International Womens Day Luncheon\n"
          ]
        },
        {
          "output_type": "stream",
          "name": "stderr",
          "text": [
            "\r 52%|█████▏    | 264/503 [16:57<15:02,  3.78s/it]"
          ]
        },
        {
          "output_type": "stream",
          "name": "stdout",
          "text": [
            "POMSM\n",
            "Protestant Agency for Diakonie and Development Ltd Meeting\n"
          ]
        },
        {
          "output_type": "stream",
          "name": "stderr",
          "text": [
            "\r 53%|█████▎    | 265/503 [17:05<19:19,  4.87s/it]"
          ]
        },
        {
          "output_type": "stream",
          "name": "stdout",
          "text": [
            "POMSM\n",
            "USAID Conference 6th March 2024\n"
          ]
        },
        {
          "output_type": "stream",
          "name": "stderr",
          "text": [
            "\r 53%|█████▎    | 266/503 [17:09<18:27,  4.67s/it]"
          ]
        },
        {
          "output_type": "stream",
          "name": "stdout",
          "text": [
            "Failed to process meeting: USAID Conference 6th March 2024 due to error: Message: no such element: Unable to locate element: {\"method\":\"css selector\",\"selector\":\"[id=\"meetingForm:meetingTable:0\"]\"}\n",
            "  (Session info: headless chrome=90.0.4430.212); For documentation on this error, please visit: https://www.selenium.dev/documentation/webdriver/troubleshooting/errors#no-such-element-exception\n",
            "Stacktrace:\n",
            "#0 0x5849745997f9 <unknown>\n",
            "#1 0x5849745393b3 <unknown>\n",
            "#2 0x584974281016 <unknown>\n",
            "#3 0x5849742b581e <unknown>\n",
            "#4 0x5849742eb8fb <unknown>\n",
            "#5 0x5849742d8ded <unknown>\n",
            "#6 0x5849742e99e1 <unknown>\n",
            "#7 0x5849742d8c93 <unknown>\n",
            "#8 0x5849742aace4 <unknown>\n",
            "#9 0x5849742ac4d2 <unknown>\n",
            "#10 0x584974565542 <unknown>\n",
            "#11 0x584974574ce7 <unknown>\n",
            "#12 0x5849745749e4 <unknown>\n",
            "#13 0x58497457913a <unknown>\n",
            "#14 0x5849745755b9 <unknown>\n",
            "#15 0x58497455ae00 <unknown>\n",
            "#16 0x58497458c5d2 <unknown>\n",
            "#17 0x58497458c778 <unknown>\n",
            "#18 0x5849745a4a1f <unknown>\n",
            "#19 0x7be07c23fac3 <unknown>\n",
            "#20 0x7be07c2d1850 <unknown>\n",
            "\n",
            "POMSM\n",
            "USAID Conference 27th Feb 1st March 2024\n"
          ]
        },
        {
          "output_type": "stream",
          "name": "stderr",
          "text": [
            "\r 53%|█████▎    | 267/503 [17:13<17:09,  4.36s/it]"
          ]
        },
        {
          "output_type": "stream",
          "name": "stdout",
          "text": [
            "Failed to process meeting: USAID Conference 27th Feb 1st March 2024 due to error: Message: no such element: Unable to locate element: {\"method\":\"css selector\",\"selector\":\"[id=\"meetingForm:meetingTable:0\"]\"}\n",
            "  (Session info: headless chrome=90.0.4430.212); For documentation on this error, please visit: https://www.selenium.dev/documentation/webdriver/troubleshooting/errors#no-such-element-exception\n",
            "Stacktrace:\n",
            "#0 0x5849745997f9 <unknown>\n",
            "#1 0x5849745393b3 <unknown>\n",
            "#2 0x584974281016 <unknown>\n",
            "#3 0x5849742b581e <unknown>\n",
            "#4 0x5849742eb8fb <unknown>\n",
            "#5 0x5849742d8ded <unknown>\n",
            "#6 0x5849742e99e1 <unknown>\n",
            "#7 0x5849742d8c93 <unknown>\n",
            "#8 0x5849742aace4 <unknown>\n",
            "#9 0x5849742ac4d2 <unknown>\n",
            "#10 0x584974565542 <unknown>\n",
            "#11 0x584974574ce7 <unknown>\n",
            "#12 0x5849745749e4 <unknown>\n",
            "#13 0x58497457913a <unknown>\n",
            "#14 0x5849745755b9 <unknown>\n",
            "#15 0x58497455ae00 <unknown>\n",
            "#16 0x58497458c5d2 <unknown>\n",
            "#17 0x58497458c778 <unknown>\n",
            "#18 0x5849745a4a1f <unknown>\n",
            "#19 0x7be07c23fac3 <unknown>\n",
            "#20 0x7be07c2d1850 <unknown>\n",
            "\n",
            "POMSM\n",
            "USAID Conference 4th March 2024\n"
          ]
        },
        {
          "output_type": "stream",
          "name": "stderr",
          "text": [
            "\r 53%|█████▎    | 268/503 [17:16<16:10,  4.13s/it]"
          ]
        },
        {
          "output_type": "stream",
          "name": "stdout",
          "text": [
            "Failed to process meeting: USAID Conference 4th March 2024 due to error: Message: no such element: Unable to locate element: {\"method\":\"css selector\",\"selector\":\"[id=\"meetingForm:meetingTable:0\"]\"}\n",
            "  (Session info: headless chrome=90.0.4430.212); For documentation on this error, please visit: https://www.selenium.dev/documentation/webdriver/troubleshooting/errors#no-such-element-exception\n",
            "Stacktrace:\n",
            "#0 0x5849745997f9 <unknown>\n",
            "#1 0x5849745393b3 <unknown>\n",
            "#2 0x584974281016 <unknown>\n",
            "#3 0x5849742b581e <unknown>\n",
            "#4 0x5849742eb8fb <unknown>\n",
            "#5 0x5849742d8ded <unknown>\n",
            "#6 0x5849742e99e1 <unknown>\n",
            "#7 0x5849742d8c93 <unknown>\n",
            "#8 0x5849742aace4 <unknown>\n",
            "#9 0x5849742ac4d2 <unknown>\n",
            "#10 0x584974565542 <unknown>\n",
            "#11 0x584974574ce7 <unknown>\n",
            "#12 0x5849745749e4 <unknown>\n",
            "#13 0x58497457913a <unknown>\n",
            "#14 0x5849745755b9 <unknown>\n",
            "#15 0x58497455ae00 <unknown>\n",
            "#16 0x58497458c5d2 <unknown>\n",
            "#17 0x58497458c778 <unknown>\n",
            "#18 0x5849745a4a1f <unknown>\n",
            "#19 0x7be07c23fac3 <unknown>\n",
            "#20 0x7be07c2d1850 <unknown>\n",
            "\n",
            "POMSM\n",
            "USAID Conference 8th March 2024\n"
          ]
        },
        {
          "output_type": "stream",
          "name": "stderr",
          "text": [
            "\r 53%|█████▎    | 269/503 [17:20<15:25,  3.95s/it]"
          ]
        },
        {
          "output_type": "stream",
          "name": "stdout",
          "text": [
            "Failed to process meeting: USAID Conference 8th March 2024 due to error: Message: no such element: Unable to locate element: {\"method\":\"css selector\",\"selector\":\"[id=\"meetingForm:meetingTable:0\"]\"}\n",
            "  (Session info: headless chrome=90.0.4430.212); For documentation on this error, please visit: https://www.selenium.dev/documentation/webdriver/troubleshooting/errors#no-such-element-exception\n",
            "Stacktrace:\n",
            "#0 0x5849745997f9 <unknown>\n",
            "#1 0x5849745393b3 <unknown>\n",
            "#2 0x584974281016 <unknown>\n",
            "#3 0x5849742b581e <unknown>\n",
            "#4 0x5849742eb8fb <unknown>\n",
            "#5 0x5849742d8ded <unknown>\n",
            "#6 0x5849742e99e1 <unknown>\n",
            "#7 0x5849742d8c93 <unknown>\n",
            "#8 0x5849742aace4 <unknown>\n",
            "#9 0x5849742ac4d2 <unknown>\n",
            "#10 0x584974565542 <unknown>\n",
            "#11 0x584974574ce7 <unknown>\n",
            "#12 0x5849745749e4 <unknown>\n",
            "#13 0x58497457913a <unknown>\n",
            "#14 0x5849745755b9 <unknown>\n",
            "#15 0x58497455ae00 <unknown>\n",
            "#16 0x58497458c5d2 <unknown>\n",
            "#17 0x58497458c778 <unknown>\n",
            "#18 0x5849745a4a1f <unknown>\n",
            "#19 0x7be07c23fac3 <unknown>\n",
            "#20 0x7be07c2d1850 <unknown>\n",
            "\n",
            "POMSM\n",
            "Live2LeadPNG\n"
          ]
        },
        {
          "output_type": "stream",
          "name": "stderr",
          "text": [
            "\r 54%|█████▎    | 270/503 [17:24<15:43,  4.05s/it]"
          ]
        },
        {
          "output_type": "stream",
          "name": "stdout",
          "text": [
            "BSBHI\n",
            "Derma Medical Foundation Course  23 March 2024\n"
          ]
        },
        {
          "output_type": "stream",
          "name": "stderr",
          "text": [
            "\r 54%|█████▍    | 271/503 [17:27<14:58,  3.87s/it]"
          ]
        },
        {
          "output_type": "stream",
          "name": "stdout",
          "text": [
            "BSBHI\n",
            "16902 Arrow Framing Workshop\n"
          ]
        },
        {
          "output_type": "stream",
          "name": "stderr",
          "text": [
            "\r 54%|█████▍    | 272/503 [17:31<14:26,  3.75s/it]"
          ]
        },
        {
          "output_type": "stream",
          "name": "stdout",
          "text": [
            "DRWED\n",
            "Department of Education Conference\n"
          ]
        },
        {
          "output_type": "stream",
          "name": "stderr",
          "text": [
            "\r 54%|█████▍    | 273/503 [17:35<14:17,  3.73s/it]"
          ]
        },
        {
          "output_type": "stream",
          "name": "stdout",
          "text": [
            "ADLHI\n",
            "Sonder Meeting\n"
          ]
        },
        {
          "output_type": "stream",
          "name": "stderr",
          "text": [
            "\r 54%|█████▍    | 274/503 [17:39<15:01,  3.93s/it]"
          ]
        },
        {
          "output_type": "stream",
          "name": "stdout",
          "text": [
            "ADLHI\n",
            "Blake Emergency Meeting\n"
          ]
        },
        {
          "output_type": "stream",
          "name": "stderr",
          "text": [
            "\r 55%|█████▍    | 275/503 [17:42<14:18,  3.76s/it]"
          ]
        },
        {
          "output_type": "stream",
          "name": "stdout",
          "text": [
            "ADLHI\n",
            "Boeing Defence PMBP Workshop\n"
          ]
        },
        {
          "output_type": "stream",
          "name": "stderr",
          "text": [
            "\r 55%|█████▍    | 276/503 [17:46<13:47,  3.65s/it]"
          ]
        },
        {
          "output_type": "stream",
          "name": "stdout",
          "text": [
            "BSBHI\n",
            "Boeing  6 March 2024\n"
          ]
        },
        {
          "output_type": "stream",
          "name": "stderr",
          "text": [
            "\r 55%|█████▌    | 277/503 [17:49<13:28,  3.58s/it]"
          ]
        },
        {
          "output_type": "stream",
          "name": "stdout",
          "text": [
            "ADLHI\n",
            "Office for Early Years New Leaders Day\n"
          ]
        },
        {
          "output_type": "stream",
          "name": "stderr",
          "text": [
            "\r 55%|█████▌    | 278/503 [17:54<14:42,  3.92s/it]"
          ]
        },
        {
          "output_type": "stream",
          "name": "stdout",
          "text": [
            "ADLHI\n",
            "SEAGas Meeting March 2024\n"
          ]
        },
        {
          "output_type": "stream",
          "name": "stderr",
          "text": [
            "\r 55%|█████▌    | 279/503 [17:58<14:26,  3.87s/it]"
          ]
        },
        {
          "output_type": "stream",
          "name": "stdout",
          "text": [
            "ADLHI\n",
            "Motorola Solutions CAD Presentation\n"
          ]
        },
        {
          "output_type": "stream",
          "name": "stderr",
          "text": [
            "\r 56%|█████▌    | 280/503 [18:01<13:59,  3.76s/it]"
          ]
        },
        {
          "output_type": "stream",
          "name": "stdout",
          "text": [
            "CHCNZ\n",
            "Singapore Airlines March 2024 Training Conference\n"
          ]
        },
        {
          "output_type": "stream",
          "name": "stderr",
          "text": [
            "\r 56%|█████▌    | 281/503 [18:05<13:36,  3.68s/it]"
          ]
        },
        {
          "output_type": "stream",
          "name": "stdout",
          "text": [
            "CHCNZ\n",
            "Farmlands March 2024 Meeting  Reception\n"
          ]
        },
        {
          "output_type": "stream",
          "name": "stderr",
          "text": [
            "\r 56%|█████▌    | 282/503 [18:09<14:39,  3.98s/it]"
          ]
        },
        {
          "output_type": "stream",
          "name": "stdout",
          "text": [
            "SYDHI\n",
            "Thoughtspot GenAI Meetup SydneyIT\n"
          ]
        },
        {
          "output_type": "stream",
          "name": "stderr",
          "text": [
            "\r 56%|█████▋    | 283/503 [18:13<14:21,  3.92s/it]"
          ]
        },
        {
          "output_type": "stream",
          "name": "stdout",
          "text": [
            "SYDHI\n",
            "Spring Capital Meeting and Reception FINANCE\n"
          ]
        },
        {
          "output_type": "stream",
          "name": "stderr",
          "text": [
            "\r 56%|█████▋    | 284/503 [18:17<13:55,  3.82s/it]"
          ]
        },
        {
          "output_type": "stream",
          "name": "stdout",
          "text": [
            "ADLHI\n",
            "SA State Division Meeting TMAA\n"
          ]
        },
        {
          "output_type": "stream",
          "name": "stderr",
          "text": [
            "\r 57%|█████▋    | 285/503 [18:20<13:34,  3.74s/it]"
          ]
        },
        {
          "output_type": "stream",
          "name": "stdout",
          "text": [
            "ADLHI\n",
            "Schneider Business Briefing\n"
          ]
        },
        {
          "output_type": "stream",
          "name": "stderr",
          "text": [
            "\r 57%|█████▋    | 286/503 [18:25<14:13,  3.93s/it]"
          ]
        },
        {
          "output_type": "stream",
          "name": "stdout",
          "text": [
            "ADLHI\n",
            "Biamp Meeting\n"
          ]
        },
        {
          "output_type": "stream",
          "name": "stderr",
          "text": [
            "\r 57%|█████▋    | 287/503 [18:29<14:11,  3.94s/it]"
          ]
        },
        {
          "output_type": "stream",
          "name": "stdout",
          "text": [
            "ADLHI\n",
            "Department for Education Meeting\n"
          ]
        },
        {
          "output_type": "stream",
          "name": "stderr",
          "text": [
            "\r 57%|█████▋    | 288/503 [18:32<13:37,  3.80s/it]"
          ]
        },
        {
          "output_type": "stream",
          "name": "stdout",
          "text": [
            "ADLHI\n",
            "Department for Education Meeting\n"
          ]
        },
        {
          "output_type": "stream",
          "name": "stderr",
          "text": [
            "\r 57%|█████▋    | 289/503 [18:36<13:18,  3.73s/it]"
          ]
        },
        {
          "output_type": "stream",
          "name": "stdout",
          "text": [
            "ADLHI\n",
            "Ecommerce Equation 2024\n"
          ]
        },
        {
          "output_type": "stream",
          "name": "stderr",
          "text": [
            "\r 58%|█████▊    | 290/503 [18:40<13:52,  3.91s/it]"
          ]
        },
        {
          "output_type": "stream",
          "name": "stdout",
          "text": [
            "AKLKA\n",
            "Invenio Asset Management March 2024 Session\n"
          ]
        },
        {
          "output_type": "stream",
          "name": "stderr",
          "text": [
            "\r 58%|█████▊    | 291/503 [18:44<14:06,  3.99s/it]"
          ]
        },
        {
          "output_type": "stream",
          "name": "stdout",
          "text": [
            "ADLHI\n",
            "Fair Farms Event\n"
          ]
        },
        {
          "output_type": "stream",
          "name": "stderr",
          "text": [
            "\r 58%|█████▊    | 292/503 [18:48<13:33,  3.86s/it]"
          ]
        },
        {
          "output_type": "stream",
          "name": "stdout",
          "text": [
            "PERHI\n",
            "Rio Tinto Recruitment  14th March 2024\n"
          ]
        },
        {
          "output_type": "stream",
          "name": "stderr",
          "text": [
            "\r 58%|█████▊    | 293/503 [18:51<13:11,  3.77s/it]"
          ]
        },
        {
          "output_type": "stream",
          "name": "stdout",
          "text": [
            "Failed to process meeting: Rio Tinto Recruitment  14th March 2024 due to error: Message: no such element: Unable to locate element: {\"method\":\"css selector\",\"selector\":\"[id=\"meetingForm:meetingTable:0\"]\"}\n",
            "  (Session info: headless chrome=90.0.4430.212); For documentation on this error, please visit: https://www.selenium.dev/documentation/webdriver/troubleshooting/errors#no-such-element-exception\n",
            "Stacktrace:\n",
            "#0 0x5849745997f9 <unknown>\n",
            "#1 0x5849745393b3 <unknown>\n",
            "#2 0x584974281016 <unknown>\n",
            "#3 0x5849742b581e <unknown>\n",
            "#4 0x5849742eb8fb <unknown>\n",
            "#5 0x5849742d8ded <unknown>\n",
            "#6 0x5849742e99e1 <unknown>\n",
            "#7 0x5849742d8c93 <unknown>\n",
            "#8 0x5849742aace4 <unknown>\n",
            "#9 0x5849742ac4d2 <unknown>\n",
            "#10 0x584974565542 <unknown>\n",
            "#11 0x584974574ce7 <unknown>\n",
            "#12 0x5849745749e4 <unknown>\n",
            "#13 0x58497457913a <unknown>\n",
            "#14 0x5849745755b9 <unknown>\n",
            "#15 0x58497455ae00 <unknown>\n",
            "#16 0x58497458c5d2 <unknown>\n",
            "#17 0x58497458c778 <unknown>\n",
            "#18 0x5849745a4a1f <unknown>\n",
            "#19 0x7be07c23fac3 <unknown>\n",
            "#20 0x7be07c2d1850 <unknown>\n",
            "\n",
            "PERHI\n",
            "Eagle Burgmann Lunch  Learn Sessions\n"
          ]
        },
        {
          "output_type": "stream",
          "name": "stderr",
          "text": [
            "\r 58%|█████▊    | 294/503 [18:55<13:36,  3.91s/it]"
          ]
        },
        {
          "output_type": "stream",
          "name": "stdout",
          "text": [
            "PERHI\n",
            "Operations  Facilities Management Part 1  Australian Property CouncilHawaiian\n"
          ]
        },
        {
          "output_type": "stream",
          "name": "stderr",
          "text": [
            "\r 59%|█████▊    | 295/503 [19:00<14:07,  4.08s/it]"
          ]
        },
        {
          "output_type": "stream",
          "name": "stdout",
          "text": [
            "DRWHD\n",
            "Inpex Meeting\n"
          ]
        },
        {
          "output_type": "stream",
          "name": "stderr",
          "text": [
            "\r 59%|█████▉    | 296/503 [19:03<13:27,  3.90s/it]"
          ]
        },
        {
          "output_type": "stream",
          "name": "stdout",
          "text": [
            "DRWHD\n",
            "AMSA Meeting\n"
          ]
        },
        {
          "output_type": "stream",
          "name": "stderr",
          "text": [
            "\r 59%|█████▉    | 297/503 [19:07<12:51,  3.74s/it]"
          ]
        },
        {
          "output_type": "stream",
          "name": "stdout",
          "text": [
            "DRWHD\n",
            "NABS Forum\n"
          ]
        },
        {
          "output_type": "stream",
          "name": "stderr",
          "text": [
            "\r 59%|█████▉    | 298/503 [19:11<13:03,  3.82s/it]"
          ]
        },
        {
          "output_type": "stream",
          "name": "stdout",
          "text": [
            "DRWDD\n",
            "Ministerial Roundtable  First Nations\n"
          ]
        },
        {
          "output_type": "stream",
          "name": "stderr",
          "text": [
            "\r 59%|█████▉    | 299/503 [19:15<13:47,  4.06s/it]"
          ]
        },
        {
          "output_type": "stream",
          "name": "stdout",
          "text": [
            "DRWDD\n",
            "International Womens Day High Tea\n"
          ]
        },
        {
          "output_type": "stream",
          "name": "stderr",
          "text": [
            "\r 60%|█████▉    | 300/503 [19:19<13:04,  3.87s/it]"
          ]
        },
        {
          "output_type": "stream",
          "name": "stdout",
          "text": [
            "ZQNHQ\n",
            "Winnow Software March 2024 Meeting\n"
          ]
        },
        {
          "output_type": "stream",
          "name": "stderr",
          "text": [
            "\r 60%|█████▉    | 301/503 [19:22<12:43,  3.78s/it]"
          ]
        },
        {
          "output_type": "stream",
          "name": "stdout",
          "text": [
            "PERBS\n",
            "Globetrotter Travel Team Meeting\n"
          ]
        },
        {
          "output_type": "stream",
          "name": "stderr",
          "text": [
            "\r 60%|██████    | 302/503 [19:26<12:23,  3.70s/it]"
          ]
        },
        {
          "output_type": "stream",
          "name": "stdout",
          "text": [
            "SYDHI\n",
            "INTERNAL  Plan Review Meeting\n"
          ]
        },
        {
          "output_type": "stream",
          "name": "stderr",
          "text": [
            "\r 60%|██████    | 303/503 [19:30<13:11,  3.96s/it]"
          ]
        },
        {
          "output_type": "stream",
          "name": "stdout",
          "text": [
            "SYDHI\n",
            "Owners Meeting\n"
          ]
        },
        {
          "output_type": "stream",
          "name": "stderr",
          "text": [
            "\r 60%|██████    | 304/503 [19:34<12:52,  3.88s/it]"
          ]
        },
        {
          "output_type": "stream",
          "name": "stdout",
          "text": [
            "PERHI\n",
            "Steinepris Paganin Presentation\n"
          ]
        },
        {
          "output_type": "stream",
          "name": "stderr",
          "text": [
            "\r 61%|██████    | 305/503 [19:38<12:21,  3.75s/it]"
          ]
        },
        {
          "output_type": "stream",
          "name": "stdout",
          "text": [
            "PERHI\n",
            "Property Council Reception\n"
          ]
        },
        {
          "output_type": "stream",
          "name": "stderr",
          "text": [
            "\r 61%|██████    | 306/503 [19:41<11:59,  3.65s/it]"
          ]
        },
        {
          "output_type": "stream",
          "name": "stdout",
          "text": [
            "POMSM\n",
            "US Embassy Port Moresby Meeting\n"
          ]
        },
        {
          "output_type": "stream",
          "name": "stderr",
          "text": [
            "\r 61%|██████    | 307/503 [19:46<13:01,  3.99s/it]"
          ]
        },
        {
          "output_type": "stream",
          "name": "stdout",
          "text": [
            "POMSM\n",
            "MiBank Meeting\n"
          ]
        },
        {
          "output_type": "stream",
          "name": "stderr",
          "text": [
            "\r 61%|██████    | 308/503 [19:49<12:32,  3.86s/it]"
          ]
        },
        {
          "output_type": "stream",
          "name": "stdout",
          "text": [
            "POMSM\n",
            "PNG Ports Corporation Meeting\n"
          ]
        },
        {
          "output_type": "stream",
          "name": "stderr",
          "text": [
            "\r 61%|██████▏   | 309/503 [19:53<12:13,  3.78s/it]"
          ]
        },
        {
          "output_type": "stream",
          "name": "stdout",
          "text": [
            "BSBHI\n",
            "ASTEC Meeting\n"
          ]
        },
        {
          "output_type": "stream",
          "name": "stderr",
          "text": [
            "\r 62%|██████▏   | 310/503 [19:56<11:55,  3.71s/it]"
          ]
        },
        {
          "output_type": "stream",
          "name": "stdout",
          "text": [
            "Failed to process meeting: ASTEC Meeting due to error: Message: no such element: Unable to locate element: {\"method\":\"css selector\",\"selector\":\"[id=\"meetingForm:meetingTable:0\"]\"}\n",
            "  (Session info: headless chrome=90.0.4430.212); For documentation on this error, please visit: https://www.selenium.dev/documentation/webdriver/troubleshooting/errors#no-such-element-exception\n",
            "Stacktrace:\n",
            "#0 0x5849745997f9 <unknown>\n",
            "#1 0x5849745393b3 <unknown>\n",
            "#2 0x584974281016 <unknown>\n",
            "#3 0x5849742b581e <unknown>\n",
            "#4 0x5849742eb8fb <unknown>\n",
            "#5 0x5849742d8ded <unknown>\n",
            "#6 0x5849742e99e1 <unknown>\n",
            "#7 0x5849742d8c93 <unknown>\n",
            "#8 0x5849742aace4 <unknown>\n",
            "#9 0x5849742ac4d2 <unknown>\n",
            "#10 0x584974565542 <unknown>\n",
            "#11 0x584974574ce7 <unknown>\n",
            "#12 0x5849745749e4 <unknown>\n",
            "#13 0x58497457913a <unknown>\n",
            "#14 0x5849745755b9 <unknown>\n",
            "#15 0x58497455ae00 <unknown>\n",
            "#16 0x58497458c5d2 <unknown>\n",
            "#17 0x58497458c778 <unknown>\n",
            "#18 0x5849745a4a1f <unknown>\n",
            "#19 0x7be07c23fac3 <unknown>\n",
            "#20 0x7be07c2d1850 <unknown>\n",
            "\n",
            "BSBHI\n",
            "Johnson  Johnson Meeting\n"
          ]
        },
        {
          "output_type": "stream",
          "name": "stderr",
          "text": [
            "\r 62%|██████▏   | 311/503 [20:01<12:46,  3.99s/it]"
          ]
        },
        {
          "output_type": "stream",
          "name": "stdout",
          "text": [
            "CHCNZ\n",
            "Harcourts Grenadier March 2024 Meeting\n"
          ]
        },
        {
          "output_type": "stream",
          "name": "stderr",
          "text": [
            "\r 62%|██████▏   | 312/503 [20:05<12:33,  3.94s/it]"
          ]
        },
        {
          "output_type": "stream",
          "name": "stdout",
          "text": [
            "POMSM\n",
            "Moni Plus Shareholder Meeting\n"
          ]
        },
        {
          "output_type": "stream",
          "name": "stderr",
          "text": [
            "\r 62%|██████▏   | 313/503 [20:08<12:05,  3.82s/it]"
          ]
        },
        {
          "output_type": "stream",
          "name": "stdout",
          "text": [
            "SYDHI\n",
            "Mazars Meeting Mining Projects\n"
          ]
        },
        {
          "output_type": "stream",
          "name": "stderr",
          "text": [
            "\r 62%|██████▏   | 314/503 [20:12<11:39,  3.70s/it]"
          ]
        },
        {
          "output_type": "stream",
          "name": "stdout",
          "text": [
            "SYDHI\n",
            "DAMAC Properties Event Mar 2024\n"
          ]
        },
        {
          "output_type": "stream",
          "name": "stderr",
          "text": [
            "\r 63%|██████▎   | 315/503 [20:17<12:30,  3.99s/it]"
          ]
        },
        {
          "output_type": "stream",
          "name": "stdout",
          "text": [
            "BSBHI\n",
            "PRINCE2 March 2024\n"
          ]
        },
        {
          "output_type": "stream",
          "name": "stderr",
          "text": [
            "\r 63%|██████▎   | 316/503 [20:20<12:15,  3.93s/it]"
          ]
        },
        {
          "output_type": "stream",
          "name": "stdout",
          "text": [
            "PERBS\n",
            "Newhaul Meeting\n"
          ]
        },
        {
          "output_type": "stream",
          "name": "stderr",
          "text": [
            "\r 63%|██████▎   | 317/503 [20:24<11:52,  3.83s/it]"
          ]
        },
        {
          "output_type": "stream",
          "name": "stdout",
          "text": [
            "BSBHI\n",
            "Independent Audiologists Australia Strategic Planning Meeting\n"
          ]
        },
        {
          "output_type": "stream",
          "name": "stderr",
          "text": [
            "\r 63%|██████▎   | 318/503 [20:28<11:39,  3.78s/it]"
          ]
        },
        {
          "output_type": "stream",
          "name": "stdout",
          "text": [
            "SYDHI\n",
            "SBS Media  Event 1\n"
          ]
        },
        {
          "output_type": "stream",
          "name": "stderr",
          "text": [
            "\r 63%|██████▎   | 319/503 [20:32<12:27,  4.07s/it]"
          ]
        },
        {
          "output_type": "stream",
          "name": "stdout",
          "text": [
            "PERBS\n",
            "FBT Solutions Meeting\n"
          ]
        },
        {
          "output_type": "stream",
          "name": "stderr",
          "text": [
            "\r 64%|██████▎   | 320/503 [20:36<12:05,  3.97s/it]"
          ]
        },
        {
          "output_type": "stream",
          "name": "stdout",
          "text": [
            "BSBHI\n",
            "Internal Meeting  Encore\n"
          ]
        },
        {
          "output_type": "stream",
          "name": "stderr",
          "text": [
            "\r 64%|██████▍   | 321/503 [20:40<11:39,  3.84s/it]"
          ]
        },
        {
          "output_type": "stream",
          "name": "stdout",
          "text": [
            "PERHI\n",
            "ISEP Study Abroad  Breakfast  5th March 2024\n"
          ]
        },
        {
          "output_type": "stream",
          "name": "stderr",
          "text": [
            "\r 64%|██████▍   | 322/503 [20:43<11:19,  3.75s/it]"
          ]
        },
        {
          "output_type": "stream",
          "name": "stdout",
          "text": [
            "Failed to process meeting: ISEP Study Abroad  Breakfast  5th March 2024 due to error: Message: no such element: Unable to locate element: {\"method\":\"css selector\",\"selector\":\"[id=\"meetingForm:meetingTable:0\"]\"}\n",
            "  (Session info: headless chrome=90.0.4430.212); For documentation on this error, please visit: https://www.selenium.dev/documentation/webdriver/troubleshooting/errors#no-such-element-exception\n",
            "Stacktrace:\n",
            "#0 0x5849745997f9 <unknown>\n",
            "#1 0x5849745393b3 <unknown>\n",
            "#2 0x584974281016 <unknown>\n",
            "#3 0x5849742b581e <unknown>\n",
            "#4 0x5849742eb8fb <unknown>\n",
            "#5 0x5849742d8ded <unknown>\n",
            "#6 0x5849742e99e1 <unknown>\n",
            "#7 0x5849742d8c93 <unknown>\n",
            "#8 0x5849742aace4 <unknown>\n",
            "#9 0x5849742ac4d2 <unknown>\n",
            "#10 0x584974565542 <unknown>\n",
            "#11 0x584974574ce7 <unknown>\n",
            "#12 0x5849745749e4 <unknown>\n",
            "#13 0x58497457913a <unknown>\n",
            "#14 0x5849745755b9 <unknown>\n",
            "#15 0x58497455ae00 <unknown>\n",
            "#16 0x58497458c5d2 <unknown>\n",
            "#17 0x58497458c778 <unknown>\n",
            "#18 0x5849745a4a1f <unknown>\n",
            "#19 0x7be07c23fac3 <unknown>\n",
            "#20 0x7be07c2d1850 <unknown>\n",
            "\n",
            "PERHI\n",
            "AREEA  Corporate Breakfast  14th March 2024\n"
          ]
        },
        {
          "output_type": "stream",
          "name": "stderr",
          "text": [
            "\r 64%|██████▍   | 323/503 [20:47<11:26,  3.82s/it]"
          ]
        },
        {
          "output_type": "stream",
          "name": "stdout",
          "text": [
            "Failed to process meeting: AREEA  Corporate Breakfast  14th March 2024 due to error: Message: no such element: Unable to locate element: {\"method\":\"css selector\",\"selector\":\"[id=\"meetingForm:meetingTable:0\"]\"}\n",
            "  (Session info: headless chrome=90.0.4430.212); For documentation on this error, please visit: https://www.selenium.dev/documentation/webdriver/troubleshooting/errors#no-such-element-exception\n",
            "Stacktrace:\n",
            "#0 0x5849745997f9 <unknown>\n",
            "#1 0x5849745393b3 <unknown>\n",
            "#2 0x584974281016 <unknown>\n",
            "#3 0x5849742b581e <unknown>\n",
            "#4 0x5849742eb8fb <unknown>\n",
            "#5 0x5849742d8ded <unknown>\n",
            "#6 0x5849742e99e1 <unknown>\n",
            "#7 0x5849742d8c93 <unknown>\n",
            "#8 0x5849742aace4 <unknown>\n",
            "#9 0x5849742ac4d2 <unknown>\n",
            "#10 0x584974565542 <unknown>\n",
            "#11 0x584974574ce7 <unknown>\n",
            "#12 0x5849745749e4 <unknown>\n",
            "#13 0x58497457913a <unknown>\n",
            "#14 0x5849745755b9 <unknown>\n",
            "#15 0x58497455ae00 <unknown>\n",
            "#16 0x58497458c5d2 <unknown>\n",
            "#17 0x58497458c778 <unknown>\n",
            "#18 0x5849745a4a1f <unknown>\n",
            "#19 0x7be07c23fac3 <unknown>\n",
            "#20 0x7be07c2d1850 <unknown>\n",
            "\n",
            "SYDHI\n",
            "CK Baron Meeting\n"
          ]
        },
        {
          "output_type": "stream",
          "name": "stderr",
          "text": [
            "\r 64%|██████▍   | 324/503 [20:51<11:38,  3.90s/it]"
          ]
        },
        {
          "output_type": "stream",
          "name": "stdout",
          "text": [
            "SYDHI\n",
            "Mazars Meeting Valuation AnalysisFINANCE\n"
          ]
        },
        {
          "output_type": "stream",
          "name": "stderr",
          "text": [
            "\r 65%|██████▍   | 325/503 [20:55<11:18,  3.81s/it]"
          ]
        },
        {
          "output_type": "stream",
          "name": "stdout",
          "text": [
            "SYDHI\n",
            "Sarah Meeting\n"
          ]
        },
        {
          "output_type": "stream",
          "name": "stderr",
          "text": [
            "\r 65%|██████▍   | 326/503 [20:58<10:58,  3.72s/it]"
          ]
        },
        {
          "output_type": "stream",
          "name": "stdout",
          "text": [
            "CNSDC\n",
            "Cape York Land Council Conference\n"
          ]
        },
        {
          "output_type": "stream",
          "name": "stderr",
          "text": [
            "\r 65%|██████▌   | 327/503 [21:03<11:31,  3.93s/it]"
          ]
        },
        {
          "output_type": "stream",
          "name": "stdout",
          "text": [
            "DRWED\n",
            "No Woman Left Behind Conference Program 2024\n"
          ]
        },
        {
          "output_type": "stream",
          "name": "stderr",
          "text": [
            "\r 65%|██████▌   | 328/503 [21:07<11:34,  3.97s/it]"
          ]
        },
        {
          "output_type": "stream",
          "name": "stdout",
          "text": [
            "BSBHI\n",
            "Community of Practice\n"
          ]
        },
        {
          "output_type": "stream",
          "name": "stderr",
          "text": [
            "\r 65%|██████▌   | 329/503 [21:10<11:09,  3.85s/it]"
          ]
        },
        {
          "output_type": "stream",
          "name": "stdout",
          "text": [
            "BSBHI\n",
            "Hall Contracting Meeting\n"
          ]
        },
        {
          "output_type": "stream",
          "name": "stderr",
          "text": [
            "\r 66%|██████▌   | 330/503 [21:14<10:51,  3.76s/it]"
          ]
        },
        {
          "output_type": "stream",
          "name": "stdout",
          "text": [
            "PERHI\n",
            "Captivate Events Intuit QuickBooks Roadshow\n"
          ]
        },
        {
          "output_type": "stream",
          "name": "stderr",
          "text": [
            "\r 66%|██████▌   | 331/503 [21:18<11:14,  3.92s/it]"
          ]
        },
        {
          "output_type": "stream",
          "name": "stdout",
          "text": [
            "PERHI\n",
            "BridonBekaert Tech Talk 2024\n"
          ]
        },
        {
          "output_type": "stream",
          "name": "stderr",
          "text": [
            "\r 66%|██████▌   | 332/503 [21:22<11:24,  4.01s/it]"
          ]
        },
        {
          "output_type": "stream",
          "name": "stdout",
          "text": [
            "PERHI\n",
            "Valaris New Hire Orientation\n"
          ]
        },
        {
          "output_type": "stream",
          "name": "stderr",
          "text": [
            "\r 66%|██████▌   | 333/503 [21:26<10:51,  3.83s/it]"
          ]
        },
        {
          "output_type": "stream",
          "name": "stdout",
          "text": [
            "PERHI\n",
            "ANZ  WA Branch Manager Development Day  2627th March 2024\n"
          ]
        },
        {
          "output_type": "stream",
          "name": "stderr",
          "text": [
            "\r 66%|██████▋   | 334/503 [21:29<10:34,  3.76s/it]"
          ]
        },
        {
          "output_type": "stream",
          "name": "stdout",
          "text": [
            "PERBS\n",
            "Fortescue Meeting\n"
          ]
        },
        {
          "output_type": "stream",
          "name": "stderr",
          "text": [
            "\r 67%|██████▋   | 335/503 [21:33<10:38,  3.80s/it]"
          ]
        },
        {
          "output_type": "stream",
          "name": "stdout",
          "text": [
            "BSBHI\n",
            "Rio Tinto Admin Community 2024\n"
          ]
        },
        {
          "output_type": "stream",
          "name": "stderr",
          "text": [
            "\r 67%|██████▋   | 336/503 [21:38<11:09,  4.01s/it]"
          ]
        },
        {
          "output_type": "stream",
          "name": "stdout",
          "text": [
            "BSBHI\n",
            "Chanel  Meeting 5th March 2024\n"
          ]
        },
        {
          "output_type": "stream",
          "name": "stderr",
          "text": [
            "\r 67%|██████▋   | 337/503 [21:41<10:45,  3.89s/it]"
          ]
        },
        {
          "output_type": "stream",
          "name": "stdout",
          "text": [
            "Failed to process meeting: Chanel  Meeting 5th March 2024 due to error: Message: no such element: Unable to locate element: {\"method\":\"css selector\",\"selector\":\"[id=\"meetingForm:meetingTable:0\"]\"}\n",
            "  (Session info: headless chrome=90.0.4430.212); For documentation on this error, please visit: https://www.selenium.dev/documentation/webdriver/troubleshooting/errors#no-such-element-exception\n",
            "Stacktrace:\n",
            "#0 0x5849745997f9 <unknown>\n",
            "#1 0x5849745393b3 <unknown>\n",
            "#2 0x584974281016 <unknown>\n",
            "#3 0x5849742b581e <unknown>\n",
            "#4 0x5849742eb8fb <unknown>\n",
            "#5 0x5849742d8ded <unknown>\n",
            "#6 0x5849742e99e1 <unknown>\n",
            "#7 0x5849742d8c93 <unknown>\n",
            "#8 0x5849742aace4 <unknown>\n",
            "#9 0x5849742ac4d2 <unknown>\n",
            "#10 0x584974565542 <unknown>\n",
            "#11 0x584974574ce7 <unknown>\n",
            "#12 0x5849745749e4 <unknown>\n",
            "#13 0x58497457913a <unknown>\n",
            "#14 0x5849745755b9 <unknown>\n",
            "#15 0x58497455ae00 <unknown>\n",
            "#16 0x58497458c5d2 <unknown>\n",
            "#17 0x58497458c778 <unknown>\n",
            "#18 0x5849745a4a1f <unknown>\n",
            "#19 0x7be07c23fac3 <unknown>\n",
            "#20 0x7be07c2d1850 <unknown>\n",
            "\n",
            "ASPDA\n",
            "CLC Meeting  March\n"
          ]
        },
        {
          "output_type": "stream",
          "name": "stderr",
          "text": [
            "\r 67%|██████▋   | 338/503 [21:45<10:19,  3.76s/it]"
          ]
        },
        {
          "output_type": "stream",
          "name": "stdout",
          "text": [
            "ASPDA\n",
            "CLC Meeting 7th March\n"
          ]
        },
        {
          "output_type": "stream",
          "name": "stderr",
          "text": [
            "\r 67%|██████▋   | 339/503 [21:49<10:12,  3.74s/it]"
          ]
        },
        {
          "output_type": "stream",
          "name": "stdout",
          "text": [
            "ASPDA\n",
            "Ku Arts Meeting\n"
          ]
        },
        {
          "output_type": "stream",
          "name": "stderr",
          "text": [
            "\r 68%|██████▊   | 340/503 [21:53<10:44,  3.95s/it]"
          ]
        },
        {
          "output_type": "stream",
          "name": "stdout",
          "text": [
            "PERHI\n",
            "Woodside Energy Team MeetingPerth Meeting\n"
          ]
        },
        {
          "output_type": "stream",
          "name": "stderr",
          "text": [
            "\r 68%|██████▊   | 341/503 [21:56<10:14,  3.79s/it]"
          ]
        },
        {
          "output_type": "stream",
          "name": "stdout",
          "text": [
            "PERHI\n",
            "Powering WA Planning Sessions  15th March 2024\n"
          ]
        },
        {
          "output_type": "stream",
          "name": "stderr",
          "text": [
            "\r 68%|██████▊   | 342/503 [22:00<09:56,  3.71s/it]"
          ]
        },
        {
          "output_type": "stream",
          "name": "stdout",
          "text": [
            "Failed to process meeting: Powering WA Planning Sessions  15th March 2024 due to error: Message: no such element: Unable to locate element: {\"method\":\"css selector\",\"selector\":\"[id=\"meetingForm:meetingTable:0\"]\"}\n",
            "  (Session info: headless chrome=90.0.4430.212); For documentation on this error, please visit: https://www.selenium.dev/documentation/webdriver/troubleshooting/errors#no-such-element-exception\n",
            "Stacktrace:\n",
            "#0 0x5849745997f9 <unknown>\n",
            "#1 0x5849745393b3 <unknown>\n",
            "#2 0x584974281016 <unknown>\n",
            "#3 0x5849742b581e <unknown>\n",
            "#4 0x5849742eb8fb <unknown>\n",
            "#5 0x5849742d8ded <unknown>\n",
            "#6 0x5849742e99e1 <unknown>\n",
            "#7 0x5849742d8c93 <unknown>\n",
            "#8 0x5849742aace4 <unknown>\n",
            "#9 0x5849742ac4d2 <unknown>\n",
            "#10 0x584974565542 <unknown>\n",
            "#11 0x584974574ce7 <unknown>\n",
            "#12 0x5849745749e4 <unknown>\n",
            "#13 0x58497457913a <unknown>\n",
            "#14 0x5849745755b9 <unknown>\n",
            "#15 0x58497455ae00 <unknown>\n",
            "#16 0x58497458c5d2 <unknown>\n",
            "#17 0x58497458c778 <unknown>\n",
            "#18 0x5849745a4a1f <unknown>\n",
            "#19 0x7be07c23fac3 <unknown>\n",
            "#20 0x7be07c2d1850 <unknown>\n",
            "\n",
            "PERHI\n",
            "Powering WA Planning Sessions  13th March 2024\n"
          ]
        },
        {
          "output_type": "stream",
          "name": "stderr",
          "text": [
            "\r 68%|██████▊   | 343/503 [22:04<09:48,  3.68s/it]"
          ]
        },
        {
          "output_type": "stream",
          "name": "stdout",
          "text": [
            "Failed to process meeting: Powering WA Planning Sessions  13th March 2024 due to error: Message: no such element: Unable to locate element: {\"method\":\"css selector\",\"selector\":\"[id=\"meetingForm:meetingTable:0\"]\"}\n",
            "  (Session info: headless chrome=90.0.4430.212); For documentation on this error, please visit: https://www.selenium.dev/documentation/webdriver/troubleshooting/errors#no-such-element-exception\n",
            "Stacktrace:\n",
            "#0 0x5849745997f9 <unknown>\n",
            "#1 0x5849745393b3 <unknown>\n",
            "#2 0x584974281016 <unknown>\n",
            "#3 0x5849742b581e <unknown>\n",
            "#4 0x5849742eb8fb <unknown>\n",
            "#5 0x5849742d8ded <unknown>\n",
            "#6 0x5849742e99e1 <unknown>\n",
            "#7 0x5849742d8c93 <unknown>\n",
            "#8 0x5849742aace4 <unknown>\n",
            "#9 0x5849742ac4d2 <unknown>\n",
            "#10 0x584974565542 <unknown>\n",
            "#11 0x584974574ce7 <unknown>\n",
            "#12 0x5849745749e4 <unknown>\n",
            "#13 0x58497457913a <unknown>\n",
            "#14 0x5849745755b9 <unknown>\n",
            "#15 0x58497455ae00 <unknown>\n",
            "#16 0x58497458c5d2 <unknown>\n",
            "#17 0x58497458c778 <unknown>\n",
            "#18 0x5849745a4a1f <unknown>\n",
            "#19 0x7be07c23fac3 <unknown>\n",
            "#20 0x7be07c2d1850 <unknown>\n",
            "\n",
            "ZQNHQ\n",
            "New Zealand Champion Travel Service Ltd 240305S22RWY\n"
          ]
        },
        {
          "output_type": "stream",
          "name": "stderr",
          "text": [
            "\r 68%|██████▊   | 344/503 [22:08<10:16,  3.88s/it]"
          ]
        },
        {
          "output_type": "stream",
          "name": "stdout",
          "text": [
            "ZQNHQ\n",
            "Dunedin International Airport Limited March 2024 Meeting\n"
          ]
        },
        {
          "output_type": "stream",
          "name": "stderr",
          "text": [
            "\r 69%|██████▊   | 345/503 [22:12<10:02,  3.82s/it]"
          ]
        },
        {
          "output_type": "stream",
          "name": "stdout",
          "text": [
            "ZQNHQ\n",
            "Aviation NZ March 2024 ConferenceConvention\n"
          ]
        },
        {
          "output_type": "stream",
          "name": "stderr",
          "text": [
            "\r 69%|██████▉   | 346/503 [22:15<09:41,  3.70s/it]"
          ]
        },
        {
          "output_type": "stream",
          "name": "stdout",
          "text": [
            "MELAM\n",
            "SiteCore Meeting\n"
          ]
        },
        {
          "output_type": "stream",
          "name": "stderr",
          "text": [
            "\r 69%|██████▉   | 347/503 [22:19<09:25,  3.62s/it]"
          ]
        },
        {
          "output_type": "stream",
          "name": "stdout",
          "text": [
            "MELAM\n",
            "Toro Meeting\n"
          ]
        },
        {
          "output_type": "stream",
          "name": "stderr",
          "text": [
            "\r 69%|██████▉   | 348/503 [22:23<10:00,  3.88s/it]"
          ]
        },
        {
          "output_type": "stream",
          "name": "stdout",
          "text": [
            "MELAM\n",
            "Toro Meeting 2\n"
          ]
        },
        {
          "output_type": "stream",
          "name": "stderr",
          "text": [
            "\r 69%|██████▉   | 349/503 [22:27<09:54,  3.86s/it]"
          ]
        },
        {
          "output_type": "stream",
          "name": "stdout",
          "text": [
            "MELAM\n",
            "Breakfast EventMelbourne\n"
          ]
        },
        {
          "output_type": "stream",
          "name": "stderr",
          "text": [
            "\r 70%|██████▉   | 350/503 [22:30<09:28,  3.71s/it]"
          ]
        },
        {
          "output_type": "stream",
          "name": "stdout",
          "text": [
            "AKLHI\n",
            "Bryce Kristo Interview Room\n"
          ]
        },
        {
          "output_type": "stream",
          "name": "stderr",
          "text": [
            "\r 70%|██████▉   | 351/503 [22:34<09:10,  3.62s/it]"
          ]
        },
        {
          "output_type": "stream",
          "name": "stdout",
          "text": [
            "AKLHI\n",
            "Corteva Board Meeting\n"
          ]
        },
        {
          "output_type": "stream",
          "name": "stderr",
          "text": [
            "\r 70%|██████▉   | 352/503 [22:38<09:27,  3.76s/it]"
          ]
        },
        {
          "output_type": "stream",
          "name": "stdout",
          "text": [
            "AKLHI\n",
            "CHEP Meeting\n"
          ]
        },
        {
          "output_type": "stream",
          "name": "stderr",
          "text": [
            "\r 70%|███████   | 353/503 [22:42<09:43,  3.89s/it]"
          ]
        },
        {
          "output_type": "stream",
          "name": "stdout",
          "text": [
            "DRWED\n",
            "Jahan Equity PL Carpet Sale\n"
          ]
        },
        {
          "output_type": "stream",
          "name": "stderr",
          "text": [
            "\r 70%|███████   | 354/503 [22:45<09:22,  3.78s/it]"
          ]
        },
        {
          "output_type": "stream",
          "name": "stdout",
          "text": [
            "SYDWH\n",
            "Avant Insurance Meeting\n"
          ]
        },
        {
          "output_type": "stream",
          "name": "stderr",
          "text": [
            "\r 71%|███████   | 355/503 [22:49<09:05,  3.69s/it]"
          ]
        },
        {
          "output_type": "stream",
          "name": "stdout",
          "text": [
            "SYDWH\n",
            "Keyton Meeting\n"
          ]
        },
        {
          "output_type": "stream",
          "name": "stderr",
          "text": [
            "\r 71%|███████   | 356/503 [22:53<09:04,  3.70s/it]"
          ]
        },
        {
          "output_type": "stream",
          "name": "stdout",
          "text": [
            "NANHI\n",
            "Qatar Cabin Recruitment NadiFiji 2024\n"
          ]
        },
        {
          "output_type": "stream",
          "name": "stderr",
          "text": [
            "\r 71%|███████   | 357/503 [22:57<09:39,  3.97s/it]"
          ]
        },
        {
          "output_type": "stream",
          "name": "stdout",
          "text": [
            "NANHI\n",
            "AXR Meeting\n"
          ]
        },
        {
          "output_type": "stream",
          "name": "stderr",
          "text": [
            "\r 71%|███████   | 358/503 [23:01<09:14,  3.82s/it]"
          ]
        },
        {
          "output_type": "stream",
          "name": "stdout",
          "text": [
            "ALHGI\n",
            "Rabobank Function\n"
          ]
        },
        {
          "output_type": "stream",
          "name": "stderr",
          "text": [
            "\r 71%|███████▏  | 359/503 [23:04<08:53,  3.70s/it]"
          ]
        },
        {
          "output_type": "stream",
          "name": "stdout",
          "text": [
            "CRNHI\n",
            "newsXpress Members Meeting\n"
          ]
        },
        {
          "output_type": "stream",
          "name": "stderr",
          "text": [
            "\r 72%|███████▏  | 360/503 [23:08<08:53,  3.73s/it]"
          ]
        },
        {
          "output_type": "stream",
          "name": "stdout",
          "text": [
            "ALHGI\n",
            "ACCI International Womens Day\n"
          ]
        },
        {
          "output_type": "stream",
          "name": "stderr",
          "text": [
            "\r 72%|███████▏  | 361/503 [23:12<09:23,  3.97s/it]"
          ]
        },
        {
          "output_type": "stream",
          "name": "stdout",
          "text": [
            "ALHGI\n",
            "Albany Surf Life Saving Meeting\n"
          ]
        },
        {
          "output_type": "stream",
          "name": "stderr",
          "text": [
            "\r 72%|███████▏  | 362/503 [23:16<08:57,  3.81s/it]"
          ]
        },
        {
          "output_type": "stream",
          "name": "stdout",
          "text": [
            "ALHGI\n",
            "CBH Meeting 1402\n"
          ]
        },
        {
          "output_type": "stream",
          "name": "stderr",
          "text": [
            "\r 72%|███████▏  | 363/503 [23:19<08:31,  3.66s/it]"
          ]
        },
        {
          "output_type": "stream",
          "name": "stdout",
          "text": [
            "DRWED\n",
            "Power  Water Activation\n"
          ]
        },
        {
          "output_type": "stream",
          "name": "stderr",
          "text": [
            "\r 72%|███████▏  | 364/503 [23:22<08:07,  3.50s/it]"
          ]
        },
        {
          "output_type": "stream",
          "name": "stdout",
          "text": [
            "DRWED\n",
            "GTE Track Spray\n"
          ]
        },
        {
          "output_type": "stream",
          "name": "stderr",
          "text": [
            "\r 73%|███████▎  | 365/503 [23:26<08:32,  3.71s/it]"
          ]
        },
        {
          "output_type": "stream",
          "name": "stdout",
          "text": [
            "PERHI\n",
            "Hawaiians Suburban Marketing Team  Planning Session\n"
          ]
        },
        {
          "output_type": "stream",
          "name": "stderr",
          "text": [
            "\r 73%|███████▎  | 366/503 [23:30<08:33,  3.75s/it]"
          ]
        },
        {
          "output_type": "stream",
          "name": "stdout",
          "text": [
            "ASPDA\n",
            "Migration NT Information Session\n"
          ]
        },
        {
          "output_type": "stream",
          "name": "stderr",
          "text": [
            "\r 73%|███████▎  | 367/503 [23:34<08:09,  3.60s/it]"
          ]
        },
        {
          "output_type": "stream",
          "name": "stdout",
          "text": [
            "CNSDC\n",
            "Eastern Kuku Yalanji  Boundary Meeting\n"
          ]
        },
        {
          "output_type": "stream",
          "name": "stderr",
          "text": [
            "\r 73%|███████▎  | 368/503 [23:37<07:52,  3.50s/it]"
          ]
        },
        {
          "output_type": "stream",
          "name": "stdout",
          "text": [
            "CNSDC\n",
            "Eastern Kuku Yalanji  Boundary Meeting\n"
          ]
        },
        {
          "output_type": "stream",
          "name": "stderr",
          "text": [
            "\r 73%|███████▎  | 369/503 [23:40<07:49,  3.51s/it]"
          ]
        },
        {
          "output_type": "stream",
          "name": "stdout",
          "text": [
            "CNSDC\n",
            "HIS Briefing\n"
          ]
        },
        {
          "output_type": "stream",
          "name": "stderr",
          "text": [
            "\r 74%|███████▎  | 370/503 [23:45<08:15,  3.73s/it]"
          ]
        },
        {
          "output_type": "stream",
          "name": "stdout",
          "text": [
            "CNSDC\n",
            "WorkUp Queensland Meeting\n"
          ]
        },
        {
          "output_type": "stream",
          "name": "stderr",
          "text": [
            "\r 74%|███████▍  | 371/503 [23:48<07:56,  3.61s/it]"
          ]
        },
        {
          "output_type": "stream",
          "name": "stdout",
          "text": [
            "SYDHI\n",
            "HACCP Training\n"
          ]
        },
        {
          "output_type": "stream",
          "name": "stderr",
          "text": [
            "\r 74%|███████▍  | 372/503 [23:51<07:43,  3.54s/it]"
          ]
        },
        {
          "output_type": "stream",
          "name": "stdout",
          "text": [
            "SYDHI\n",
            "Encore Meeting\n"
          ]
        },
        {
          "output_type": "stream",
          "name": "stderr",
          "text": [
            "\r 74%|███████▍  | 373/503 [23:55<07:42,  3.56s/it]"
          ]
        },
        {
          "output_type": "stream",
          "name": "stdout",
          "text": [
            "PERHI\n",
            "Netwealth Investments  Product Roadshow  21st March 2024\n"
          ]
        },
        {
          "output_type": "stream",
          "name": "stderr",
          "text": [
            "\r 74%|███████▍  | 374/503 [23:59<08:01,  3.73s/it]"
          ]
        },
        {
          "output_type": "stream",
          "name": "stdout",
          "text": [
            "Failed to process meeting: Netwealth Investments  Product Roadshow  21st March 2024 due to error: Message: no such element: Unable to locate element: {\"method\":\"css selector\",\"selector\":\"[id=\"meetingForm:meetingTable:0\"]\"}\n",
            "  (Session info: headless chrome=90.0.4430.212); For documentation on this error, please visit: https://www.selenium.dev/documentation/webdriver/troubleshooting/errors#no-such-element-exception\n",
            "Stacktrace:\n",
            "#0 0x5849745997f9 <unknown>\n",
            "#1 0x5849745393b3 <unknown>\n",
            "#2 0x584974281016 <unknown>\n",
            "#3 0x5849742b581e <unknown>\n",
            "#4 0x5849742eb8fb <unknown>\n",
            "#5 0x5849742d8ded <unknown>\n",
            "#6 0x5849742e99e1 <unknown>\n",
            "#7 0x5849742d8c93 <unknown>\n",
            "#8 0x5849742aace4 <unknown>\n",
            "#9 0x5849742ac4d2 <unknown>\n",
            "#10 0x584974565542 <unknown>\n",
            "#11 0x584974574ce7 <unknown>\n",
            "#12 0x5849745749e4 <unknown>\n",
            "#13 0x58497457913a <unknown>\n",
            "#14 0x5849745755b9 <unknown>\n",
            "#15 0x58497455ae00 <unknown>\n",
            "#16 0x58497458c5d2 <unknown>\n",
            "#17 0x58497458c778 <unknown>\n",
            "#18 0x5849745a4a1f <unknown>\n",
            "#19 0x7be07c23fac3 <unknown>\n",
            "#20 0x7be07c2d1850 <unknown>\n",
            "\n",
            "PERHI\n",
            "Legalwise Seminars\n"
          ]
        },
        {
          "output_type": "stream",
          "name": "stderr",
          "text": [
            "\r 75%|███████▍  | 375/503 [24:03<07:52,  3.69s/it]"
          ]
        },
        {
          "output_type": "stream",
          "name": "stdout",
          "text": [
            "PERHI\n",
            "Bali Hotels Association  Perth Event  14th March 2024\n"
          ]
        },
        {
          "output_type": "stream",
          "name": "stderr",
          "text": [
            "\r 75%|███████▍  | 376/503 [24:06<07:40,  3.63s/it]"
          ]
        },
        {
          "output_type": "stream",
          "name": "stdout",
          "text": [
            "Failed to process meeting: Bali Hotels Association  Perth Event  14th March 2024 due to error: Message: no such element: Unable to locate element: {\"method\":\"css selector\",\"selector\":\"[id=\"meetingForm:meetingTable:0\"]\"}\n",
            "  (Session info: headless chrome=90.0.4430.212); For documentation on this error, please visit: https://www.selenium.dev/documentation/webdriver/troubleshooting/errors#no-such-element-exception\n",
            "Stacktrace:\n",
            "#0 0x5849745997f9 <unknown>\n",
            "#1 0x5849745393b3 <unknown>\n",
            "#2 0x584974281016 <unknown>\n",
            "#3 0x5849742b581e <unknown>\n",
            "#4 0x5849742eb8fb <unknown>\n",
            "#5 0x5849742d8ded <unknown>\n",
            "#6 0x5849742e99e1 <unknown>\n",
            "#7 0x5849742d8c93 <unknown>\n",
            "#8 0x5849742aace4 <unknown>\n",
            "#9 0x5849742ac4d2 <unknown>\n",
            "#10 0x584974565542 <unknown>\n",
            "#11 0x584974574ce7 <unknown>\n",
            "#12 0x5849745749e4 <unknown>\n",
            "#13 0x58497457913a <unknown>\n",
            "#14 0x5849745755b9 <unknown>\n",
            "#15 0x58497455ae00 <unknown>\n",
            "#16 0x58497458c5d2 <unknown>\n",
            "#17 0x58497458c778 <unknown>\n",
            "#18 0x5849745a4a1f <unknown>\n",
            "#19 0x7be07c23fac3 <unknown>\n",
            "#20 0x7be07c2d1850 <unknown>\n",
            "\n",
            "DRWHD\n",
            "DITT Board Meeting\n"
          ]
        },
        {
          "output_type": "stream",
          "name": "stderr",
          "text": [
            "\r 75%|███████▍  | 377/503 [24:09<07:24,  3.53s/it]"
          ]
        },
        {
          "output_type": "stream",
          "name": "stdout",
          "text": [
            "DRWHD\n",
            "Power and Water Meeting\n"
          ]
        },
        {
          "output_type": "stream",
          "name": "stderr",
          "text": [
            "\r 75%|███████▌  | 378/503 [24:14<07:53,  3.79s/it]"
          ]
        },
        {
          "output_type": "stream",
          "name": "stdout",
          "text": [
            "DRWHD\n",
            "Santos Meeting\n"
          ]
        },
        {
          "output_type": "stream",
          "name": "stderr",
          "text": [
            "\r 75%|███████▌  | 379/503 [24:18<08:00,  3.88s/it]"
          ]
        },
        {
          "output_type": "stream",
          "name": "stdout",
          "text": [
            "POMSM\n",
            "MiBank MOA Signing Ceremony\n"
          ]
        },
        {
          "output_type": "stream",
          "name": "stderr",
          "text": [
            "\r 76%|███████▌  | 380/503 [24:21<07:39,  3.74s/it]"
          ]
        },
        {
          "output_type": "stream",
          "name": "stdout",
          "text": [
            "POMSM\n",
            "CyberCX Training\n"
          ]
        },
        {
          "output_type": "stream",
          "name": "stderr",
          "text": [
            "\r 76%|███████▌  | 381/503 [24:25<07:19,  3.60s/it]"
          ]
        },
        {
          "output_type": "stream",
          "name": "stdout",
          "text": [
            "POMSM\n",
            "Fincorp Meeting\n"
          ]
        },
        {
          "output_type": "stream",
          "name": "stderr",
          "text": [
            "\r 76%|███████▌  | 382/503 [24:29<07:30,  3.72s/it]"
          ]
        },
        {
          "output_type": "stream",
          "name": "stdout",
          "text": [
            "POMSM\n",
            "National Energy Authority Meeting\n"
          ]
        },
        {
          "output_type": "stream",
          "name": "stderr",
          "text": [
            "\r 76%|███████▌  | 383/503 [24:33<07:44,  3.87s/it]"
          ]
        },
        {
          "output_type": "stream",
          "name": "stdout",
          "text": [
            "POMSM\n",
            "UNW Conference\n"
          ]
        },
        {
          "output_type": "stream",
          "name": "stderr",
          "text": [
            "\r 76%|███████▋  | 384/503 [24:36<07:22,  3.72s/it]"
          ]
        },
        {
          "output_type": "stream",
          "name": "stdout",
          "text": [
            "POMSM\n",
            "PSNA Board Meeting\n"
          ]
        },
        {
          "output_type": "stream",
          "name": "stderr",
          "text": [
            "\r 77%|███████▋  | 385/503 [24:40<07:07,  3.62s/it]"
          ]
        },
        {
          "output_type": "stream",
          "name": "stdout",
          "text": [
            "POMSM\n",
            "Mr Ross Thomson Meeting\n"
          ]
        },
        {
          "output_type": "stream",
          "name": "stderr",
          "text": [
            "\r 77%|███████▋  | 386/503 [24:43<07:04,  3.63s/it]"
          ]
        },
        {
          "output_type": "stream",
          "name": "stdout",
          "text": [
            "POMSM\n",
            "Incentive Fund Board Meeting\n"
          ]
        },
        {
          "output_type": "stream",
          "name": "stderr",
          "text": [
            "\r 77%|███████▋  | 387/503 [24:48<07:25,  3.84s/it]"
          ]
        },
        {
          "output_type": "stream",
          "name": "stdout",
          "text": [
            "POMSM\n",
            "Hides PLD1 Alignment Meeting\n"
          ]
        },
        {
          "output_type": "stream",
          "name": "stderr",
          "text": [
            "\r 77%|███████▋  | 388/503 [24:51<07:11,  3.76s/it]"
          ]
        },
        {
          "output_type": "stream",
          "name": "stdout",
          "text": [
            "PERDT\n",
            "Roy Hill Meeting\n"
          ]
        },
        {
          "output_type": "stream",
          "name": "stderr",
          "text": [
            "\r 77%|███████▋  | 389/503 [24:55<06:56,  3.65s/it]"
          ]
        },
        {
          "output_type": "stream",
          "name": "stdout",
          "text": [
            "PERDT\n",
            "Cliftons Examination Day\n"
          ]
        },
        {
          "output_type": "stream",
          "name": "stderr",
          "text": [
            "\r 78%|███████▊  | 390/503 [24:58<06:48,  3.62s/it]"
          ]
        },
        {
          "output_type": "stream",
          "name": "stdout",
          "text": [
            "AKLLT\n",
            "Becht Meeting\n"
          ]
        },
        {
          "output_type": "stream",
          "name": "stderr",
          "text": [
            "\r 78%|███████▊  | 391/503 [25:02<07:12,  3.86s/it]"
          ]
        },
        {
          "output_type": "stream",
          "name": "stdout",
          "text": [
            "PERHI\n",
            "Valaris BOLD Supervisor Training\n"
          ]
        },
        {
          "output_type": "stream",
          "name": "stderr",
          "text": [
            "\r 78%|███████▊  | 392/503 [25:06<06:59,  3.78s/it]"
          ]
        },
        {
          "output_type": "stream",
          "name": "stdout",
          "text": [
            "SYDHI\n",
            "A S Harrison  Co Event\n"
          ]
        },
        {
          "output_type": "stream",
          "name": "stderr",
          "text": [
            "\r 78%|███████▊  | 393/503 [25:09<06:43,  3.66s/it]"
          ]
        },
        {
          "output_type": "stream",
          "name": "stdout",
          "text": [
            "PERBS\n",
            "Santos Meeting\n"
          ]
        },
        {
          "output_type": "stream",
          "name": "stderr",
          "text": [
            "\r 78%|███████▊  | 394/503 [25:13<06:26,  3.55s/it]"
          ]
        },
        {
          "output_type": "stream",
          "name": "stdout",
          "text": [
            "ADLHI\n",
            "SA Water Training Session B\n"
          ]
        },
        {
          "output_type": "stream",
          "name": "stderr",
          "text": [
            "\r 79%|███████▊  | 395/503 [25:17<06:43,  3.73s/it]"
          ]
        },
        {
          "output_type": "stream",
          "name": "stdout",
          "text": [
            "CHCNZ\n",
            "UnionPay March 2024 Industry Event\n"
          ]
        },
        {
          "output_type": "stream",
          "name": "stderr",
          "text": [
            "\r 79%|███████▊  | 396/503 [25:21<06:54,  3.87s/it]"
          ]
        },
        {
          "output_type": "stream",
          "name": "stdout",
          "text": [
            "SYDHI\n",
            "MONEYME Board Session\n"
          ]
        },
        {
          "output_type": "stream",
          "name": "stderr",
          "text": [
            "\r 79%|███████▉  | 397/503 [25:25<06:37,  3.75s/it]"
          ]
        },
        {
          "output_type": "stream",
          "name": "stdout",
          "text": [
            "PERBS\n",
            "Western Power\n"
          ]
        },
        {
          "output_type": "stream",
          "name": "stderr",
          "text": [
            "\r 79%|███████▉  | 398/503 [25:28<06:15,  3.58s/it]"
          ]
        },
        {
          "output_type": "stream",
          "name": "stdout",
          "text": [
            "PERBS\n",
            "Rio Tinto Meeting\n"
          ]
        },
        {
          "output_type": "stream",
          "name": "stderr",
          "text": [
            "\r 79%|███████▉  | 399/503 [25:31<06:15,  3.61s/it]"
          ]
        },
        {
          "output_type": "stream",
          "name": "stdout",
          "text": [
            "BSBHI\n",
            "InHouse guest  Mr White 2108\n"
          ]
        },
        {
          "output_type": "stream",
          "name": "stderr",
          "text": [
            "\r 80%|███████▉  | 400/503 [25:36<06:44,  3.93s/it]"
          ]
        },
        {
          "output_type": "stream",
          "name": "stdout",
          "text": [
            "BSBHI\n",
            "BHP  Conference 15th March 2024\n"
          ]
        },
        {
          "output_type": "stream",
          "name": "stderr",
          "text": [
            "\r 80%|███████▉  | 401/503 [25:40<06:28,  3.81s/it]"
          ]
        },
        {
          "output_type": "stream",
          "name": "stdout",
          "text": [
            "Failed to process meeting: BHP  Conference 15th March 2024 due to error: Message: no such element: Unable to locate element: {\"method\":\"css selector\",\"selector\":\"[id=\"meetingForm:meetingTable:0\"]\"}\n",
            "  (Session info: headless chrome=90.0.4430.212); For documentation on this error, please visit: https://www.selenium.dev/documentation/webdriver/troubleshooting/errors#no-such-element-exception\n",
            "Stacktrace:\n",
            "#0 0x5849745997f9 <unknown>\n",
            "#1 0x5849745393b3 <unknown>\n",
            "#2 0x584974281016 <unknown>\n",
            "#3 0x5849742b581e <unknown>\n",
            "#4 0x5849742eb8fb <unknown>\n",
            "#5 0x5849742d8ded <unknown>\n",
            "#6 0x5849742e99e1 <unknown>\n",
            "#7 0x5849742d8c93 <unknown>\n",
            "#8 0x5849742aace4 <unknown>\n",
            "#9 0x5849742ac4d2 <unknown>\n",
            "#10 0x584974565542 <unknown>\n",
            "#11 0x584974574ce7 <unknown>\n",
            "#12 0x5849745749e4 <unknown>\n",
            "#13 0x58497457913a <unknown>\n",
            "#14 0x5849745755b9 <unknown>\n",
            "#15 0x58497455ae00 <unknown>\n",
            "#16 0x58497458c5d2 <unknown>\n",
            "#17 0x58497458c778 <unknown>\n",
            "#18 0x5849745a4a1f <unknown>\n",
            "#19 0x7be07c23fac3 <unknown>\n",
            "#20 0x7be07c2d1850 <unknown>\n",
            "\n",
            "BSBHI\n",
            "MMG Meeting\n"
          ]
        },
        {
          "output_type": "stream",
          "name": "stderr",
          "text": [
            "\r 80%|███████▉  | 402/503 [25:43<06:11,  3.68s/it]"
          ]
        },
        {
          "output_type": "stream",
          "name": "stdout",
          "text": [
            "BSBHI\n",
            "PRIVATE MEETING  Daniel Lai\n"
          ]
        },
        {
          "output_type": "stream",
          "name": "stderr",
          "text": [
            "\r 80%|████████  | 403/503 [25:47<06:04,  3.64s/it]"
          ]
        },
        {
          "output_type": "stream",
          "name": "stdout",
          "text": [
            "DRWED\n",
            "NAAJA Planning Day\n"
          ]
        },
        {
          "output_type": "stream",
          "name": "stderr",
          "text": [
            "\r 80%|████████  | 404/503 [25:51<06:19,  3.83s/it]"
          ]
        },
        {
          "output_type": "stream",
          "name": "stdout",
          "text": [
            "BSBHI\n",
            "InHouse guest  Mr White 2108\n"
          ]
        },
        {
          "output_type": "stream",
          "name": "stderr",
          "text": [
            "\r 81%|████████  | 405/503 [25:54<06:06,  3.74s/it]"
          ]
        },
        {
          "output_type": "stream",
          "name": "stdout",
          "text": [
            "BSBHI\n",
            "Internal Meeting  VIP Samuel Chui\n"
          ]
        },
        {
          "output_type": "stream",
          "name": "stderr",
          "text": [
            "\r 81%|████████  | 406/503 [25:58<05:56,  3.67s/it]"
          ]
        },
        {
          "output_type": "stream",
          "name": "stdout",
          "text": [
            "BSBHI\n",
            "Boeing  Meeting 19 March 2024\n"
          ]
        },
        {
          "output_type": "stream",
          "name": "stderr",
          "text": [
            "\r 81%|████████  | 407/503 [26:01<05:44,  3.59s/it]"
          ]
        },
        {
          "output_type": "stream",
          "name": "stdout",
          "text": [
            "BSBHI\n",
            "PRIVATE MEETING  Duncan Campbell\n"
          ]
        },
        {
          "output_type": "stream",
          "name": "stderr",
          "text": [
            "\r 81%|████████  | 408/503 [26:06<06:10,  3.90s/it]"
          ]
        },
        {
          "output_type": "stream",
          "name": "stdout",
          "text": [
            "BSBHI\n",
            "Atlas Copco Meeting\n"
          ]
        },
        {
          "output_type": "stream",
          "name": "stderr",
          "text": [
            "\r 81%|████████▏ | 409/503 [26:10<06:03,  3.86s/it]"
          ]
        },
        {
          "output_type": "stream",
          "name": "stdout",
          "text": [
            "BSBHI\n",
            "Chanel  Workshop 25  26 March 2024\n"
          ]
        },
        {
          "output_type": "stream",
          "name": "stderr",
          "text": [
            "\r 82%|████████▏ | 410/503 [26:13<05:45,  3.72s/it]"
          ]
        },
        {
          "output_type": "stream",
          "name": "stdout",
          "text": [
            "BSBHI\n",
            "ANZ Townhall Meeting March 2024\n"
          ]
        },
        {
          "output_type": "stream",
          "name": "stderr",
          "text": [
            "\r 82%|████████▏ | 411/503 [26:17<05:34,  3.63s/it]"
          ]
        },
        {
          "output_type": "stream",
          "name": "stdout",
          "text": [
            "BSBHI\n",
            "ServiceNow  Executive Meeting\n"
          ]
        },
        {
          "output_type": "stream",
          "name": "stderr",
          "text": [
            "\r 82%|████████▏ | 412/503 [26:21<05:43,  3.78s/it]"
          ]
        },
        {
          "output_type": "stream",
          "name": "stdout",
          "text": [
            "SYDHI\n",
            "AFR Exhibitor  Accenture\n"
          ]
        },
        {
          "output_type": "stream",
          "name": "stderr",
          "text": [
            "\r 82%|████████▏ | 413/503 [26:25<05:52,  3.92s/it]"
          ]
        },
        {
          "output_type": "stream",
          "name": "stdout",
          "text": [
            "AKLKA\n",
            "Shaws Wire Ropes March 2024 Meeting\n"
          ]
        },
        {
          "output_type": "stream",
          "name": "stderr",
          "text": [
            "\r 82%|████████▏ | 414/503 [26:28<05:30,  3.71s/it]"
          ]
        },
        {
          "output_type": "stream",
          "name": "stdout",
          "text": [
            "AKLKA\n",
            "Robertson Bixley March 2024 Meeting\n"
          ]
        },
        {
          "output_type": "stream",
          "name": "stderr",
          "text": [
            "\r 83%|████████▎ | 415/503 [26:31<05:15,  3.58s/it]"
          ]
        },
        {
          "output_type": "stream",
          "name": "stdout",
          "text": [
            "SYDHI\n",
            "Media Today ConferenceMEDIA\n"
          ]
        },
        {
          "output_type": "stream",
          "name": "stderr",
          "text": [
            "\r 83%|████████▎ | 416/503 [26:35<05:14,  3.62s/it]"
          ]
        },
        {
          "output_type": "stream",
          "name": "stdout",
          "text": [
            "ADLHI\n",
            "Heidrick  Struggles Interview\n"
          ]
        },
        {
          "output_type": "stream",
          "name": "stderr",
          "text": [
            "\r 83%|████████▎ | 417/503 [26:39<05:30,  3.84s/it]"
          ]
        },
        {
          "output_type": "stream",
          "name": "stdout",
          "text": [
            "CHCNZ\n",
            "Te Aka Whai Ora March 2024 Meeting\n"
          ]
        },
        {
          "output_type": "stream",
          "name": "stderr",
          "text": [
            "\r 83%|████████▎ | 418/503 [26:43<05:13,  3.69s/it]"
          ]
        },
        {
          "output_type": "stream",
          "name": "stdout",
          "text": [
            "ADLHI\n",
            "CSE Universe Meeting\n"
          ]
        },
        {
          "output_type": "stream",
          "name": "stderr",
          "text": [
            "\r 83%|████████▎ | 419/503 [26:46<05:01,  3.59s/it]"
          ]
        },
        {
          "output_type": "stream",
          "name": "stdout",
          "text": [
            "ADLHI\n",
            "Heidrick  Struggles Interview\n"
          ]
        },
        {
          "output_type": "stream",
          "name": "stderr",
          "text": [
            "\r 83%|████████▎ | 420/503 [26:49<04:50,  3.50s/it]"
          ]
        },
        {
          "output_type": "stream",
          "name": "stdout",
          "text": [
            "DRWDD\n",
            "True North Comm Event\n"
          ]
        },
        {
          "output_type": "stream",
          "name": "stderr",
          "text": [
            "\r 84%|████████▎ | 421/503 [26:54<05:13,  3.82s/it]"
          ]
        },
        {
          "output_type": "stream",
          "name": "stdout",
          "text": [
            "ADLHI\n",
            "Executive Womens Series Breakfast\n"
          ]
        },
        {
          "output_type": "stream",
          "name": "stderr",
          "text": [
            "\r 84%|████████▍ | 422/503 [26:58<05:06,  3.78s/it]"
          ]
        },
        {
          "output_type": "stream",
          "name": "stdout",
          "text": [
            "ADLHI\n",
            "Sustainable Infrastructure Town Hall\n"
          ]
        },
        {
          "output_type": "stream",
          "name": "stderr",
          "text": [
            "\r 84%|████████▍ | 423/503 [27:01<04:52,  3.65s/it]"
          ]
        },
        {
          "output_type": "stream",
          "name": "stdout",
          "text": [
            "ADLHI\n",
            "Harrison Meeting\n"
          ]
        },
        {
          "output_type": "stream",
          "name": "stderr",
          "text": [
            "\r 84%|████████▍ | 424/503 [27:04<04:39,  3.53s/it]"
          ]
        },
        {
          "output_type": "stream",
          "name": "stdout",
          "text": [
            "NANHI\n",
            "Wedding of Alexia  Owen\n"
          ]
        },
        {
          "output_type": "stream",
          "name": "stderr",
          "text": [
            "\r 84%|████████▍ | 425/503 [27:09<04:51,  3.74s/it]"
          ]
        },
        {
          "output_type": "stream",
          "name": "stdout",
          "text": [
            "PERHI\n",
            "Rio Tinto Recruitment  20th March 2024\n"
          ]
        },
        {
          "output_type": "stream",
          "name": "stderr",
          "text": [
            "\r 85%|████████▍ | 426/503 [27:13<04:54,  3.82s/it]"
          ]
        },
        {
          "output_type": "stream",
          "name": "stdout",
          "text": [
            "Failed to process meeting: Rio Tinto Recruitment  20th March 2024 due to error: Message: no such element: Unable to locate element: {\"method\":\"css selector\",\"selector\":\"[id=\"meetingForm:meetingTable:0\"]\"}\n",
            "  (Session info: headless chrome=90.0.4430.212); For documentation on this error, please visit: https://www.selenium.dev/documentation/webdriver/troubleshooting/errors#no-such-element-exception\n",
            "Stacktrace:\n",
            "#0 0x5849745997f9 <unknown>\n",
            "#1 0x5849745393b3 <unknown>\n",
            "#2 0x584974281016 <unknown>\n",
            "#3 0x5849742b581e <unknown>\n",
            "#4 0x5849742eb8fb <unknown>\n",
            "#5 0x5849742d8ded <unknown>\n",
            "#6 0x5849742e99e1 <unknown>\n",
            "#7 0x5849742d8c93 <unknown>\n",
            "#8 0x5849742aace4 <unknown>\n",
            "#9 0x5849742ac4d2 <unknown>\n",
            "#10 0x584974565542 <unknown>\n",
            "#11 0x584974574ce7 <unknown>\n",
            "#12 0x5849745749e4 <unknown>\n",
            "#13 0x58497457913a <unknown>\n",
            "#14 0x5849745755b9 <unknown>\n",
            "#15 0x58497455ae00 <unknown>\n",
            "#16 0x58497458c5d2 <unknown>\n",
            "#17 0x58497458c778 <unknown>\n",
            "#18 0x5849745a4a1f <unknown>\n",
            "#19 0x7be07c23fac3 <unknown>\n",
            "#20 0x7be07c2d1850 <unknown>\n",
            "\n",
            "PERHI\n",
            "Les Clefs dOr Concierge Tourism Expo\n"
          ]
        },
        {
          "output_type": "stream",
          "name": "stderr",
          "text": [
            "\r 85%|████████▍ | 427/503 [27:16<04:40,  3.70s/it]"
          ]
        },
        {
          "output_type": "stream",
          "name": "stdout",
          "text": [
            "PERHI\n",
            "Rio Tinto Recruitment  27th March 2024\n"
          ]
        },
        {
          "output_type": "stream",
          "name": "stderr",
          "text": [
            "\r 85%|████████▌ | 428/503 [27:19<04:31,  3.62s/it]"
          ]
        },
        {
          "output_type": "stream",
          "name": "stdout",
          "text": [
            "Failed to process meeting: Rio Tinto Recruitment  27th March 2024 due to error: Message: no such element: Unable to locate element: {\"method\":\"css selector\",\"selector\":\"[id=\"meetingForm:meetingTable:0\"]\"}\n",
            "  (Session info: headless chrome=90.0.4430.212); For documentation on this error, please visit: https://www.selenium.dev/documentation/webdriver/troubleshooting/errors#no-such-element-exception\n",
            "Stacktrace:\n",
            "#0 0x5849745997f9 <unknown>\n",
            "#1 0x5849745393b3 <unknown>\n",
            "#2 0x584974281016 <unknown>\n",
            "#3 0x5849742b581e <unknown>\n",
            "#4 0x5849742eb8fb <unknown>\n",
            "#5 0x5849742d8ded <unknown>\n",
            "#6 0x5849742e99e1 <unknown>\n",
            "#7 0x5849742d8c93 <unknown>\n",
            "#8 0x5849742aace4 <unknown>\n",
            "#9 0x5849742ac4d2 <unknown>\n",
            "#10 0x584974565542 <unknown>\n",
            "#11 0x584974574ce7 <unknown>\n",
            "#12 0x5849745749e4 <unknown>\n",
            "#13 0x58497457913a <unknown>\n",
            "#14 0x5849745755b9 <unknown>\n",
            "#15 0x58497455ae00 <unknown>\n",
            "#16 0x58497458c5d2 <unknown>\n",
            "#17 0x58497458c778 <unknown>\n",
            "#18 0x5849745a4a1f <unknown>\n",
            "#19 0x7be07c23fac3 <unknown>\n",
            "#20 0x7be07c2d1850 <unknown>\n",
            "\n",
            "PERHI\n",
            "Rotary Club of Perth Lunch\n"
          ]
        },
        {
          "output_type": "stream",
          "name": "stderr",
          "text": [
            "\r 85%|████████▌ | 429/503 [27:23<04:28,  3.62s/it]"
          ]
        },
        {
          "output_type": "stream",
          "name": "stdout",
          "text": [
            "PERHI\n",
            "Rotary Club of Perth Lunch\n"
          ]
        },
        {
          "output_type": "stream",
          "name": "stderr",
          "text": [
            "\r 85%|████████▌ | 430/503 [27:27<04:40,  3.84s/it]"
          ]
        },
        {
          "output_type": "stream",
          "name": "stdout",
          "text": [
            "PERHI\n",
            "KBR Corporate Town Hall\n"
          ]
        },
        {
          "output_type": "stream",
          "name": "stderr",
          "text": [
            "\r 86%|████████▌ | 431/503 [27:31<04:26,  3.70s/it]"
          ]
        },
        {
          "output_type": "stream",
          "name": "stdout",
          "text": [
            "PERHI\n",
            "Rotary Club of Perth Lunch\n"
          ]
        },
        {
          "output_type": "stream",
          "name": "stderr",
          "text": [
            "\r 86%|████████▌ | 432/503 [27:34<04:13,  3.57s/it]"
          ]
        },
        {
          "output_type": "stream",
          "name": "stdout",
          "text": [
            "SYDHI\n",
            "Owners Meeting\n"
          ]
        },
        {
          "output_type": "stream",
          "name": "stderr",
          "text": [
            "\r 86%|████████▌ | 433/503 [27:37<04:06,  3.52s/it]"
          ]
        },
        {
          "output_type": "stream",
          "name": "stdout",
          "text": [
            "CHCNZ\n",
            "DA Lewis March 2024 Meeting\n"
          ]
        },
        {
          "output_type": "stream",
          "name": "stderr",
          "text": [
            "\r 86%|████████▋ | 434/503 [27:42<04:28,  3.89s/it]"
          ]
        },
        {
          "output_type": "stream",
          "name": "stdout",
          "text": [
            "POMSM\n",
            "Ultima Thule Ltd Meeting\n"
          ]
        },
        {
          "output_type": "stream",
          "name": "stderr",
          "text": [
            "\r 86%|████████▋ | 435/503 [27:46<04:18,  3.80s/it]"
          ]
        },
        {
          "output_type": "stream",
          "name": "stdout",
          "text": [
            "POMSM\n",
            "PNG Ports Corporation Meeting\n"
          ]
        },
        {
          "output_type": "stream",
          "name": "stderr",
          "text": [
            "\r 87%|████████▋ | 436/503 [27:49<04:05,  3.66s/it]"
          ]
        },
        {
          "output_type": "stream",
          "name": "stdout",
          "text": [
            "SYDHI\n",
            "Exxon Mobil Meeting\n"
          ]
        },
        {
          "output_type": "stream",
          "name": "stderr",
          "text": [
            "\r 87%|████████▋ | 437/503 [27:52<03:56,  3.58s/it]"
          ]
        },
        {
          "output_type": "stream",
          "name": "stdout",
          "text": [
            "SYDHI\n",
            "Coffee Blind Tasting\n"
          ]
        },
        {
          "output_type": "stream",
          "name": "stderr",
          "text": [
            "\r 87%|████████▋ | 438/503 [27:56<03:59,  3.68s/it]"
          ]
        },
        {
          "output_type": "stream",
          "name": "stdout",
          "text": [
            "SYDHI\n",
            "The Smith Family  Work Inspirations\n"
          ]
        },
        {
          "output_type": "stream",
          "name": "stderr",
          "text": [
            "\r 87%|████████▋ | 439/503 [28:01<04:06,  3.85s/it]"
          ]
        },
        {
          "output_type": "stream",
          "name": "stdout",
          "text": [
            "AKLHI\n",
            "Interview Room for MrGray\n"
          ]
        },
        {
          "output_type": "stream",
          "name": "stderr",
          "text": [
            "\r 87%|████████▋ | 440/503 [28:04<03:51,  3.67s/it]"
          ]
        },
        {
          "output_type": "stream",
          "name": "stdout",
          "text": [
            "AKLHI\n",
            "Private Meeting\n"
          ]
        },
        {
          "output_type": "stream",
          "name": "stderr",
          "text": [
            "\r 88%|████████▊ | 441/503 [28:07<03:38,  3.53s/it]"
          ]
        },
        {
          "output_type": "stream",
          "name": "stdout",
          "text": [
            "DRWED\n",
            "Jahan Equity PL Carpet Sale\n"
          ]
        },
        {
          "output_type": "stream",
          "name": "stderr",
          "text": [
            "\r 88%|████████▊ | 442/503 [28:11<03:37,  3.56s/it]"
          ]
        },
        {
          "output_type": "stream",
          "name": "stdout",
          "text": [
            "SYDHI\n",
            "Becamex IDCBinh Duong Seminar\n"
          ]
        },
        {
          "output_type": "stream",
          "name": "stderr",
          "text": [
            "\r 88%|████████▊ | 443/503 [28:15<03:48,  3.80s/it]"
          ]
        },
        {
          "output_type": "stream",
          "name": "stdout",
          "text": [
            "SYDHI\n",
            "ZARA Australia Training Workshop\n"
          ]
        },
        {
          "output_type": "stream",
          "name": "stderr",
          "text": [
            "\r 88%|████████▊ | 444/503 [28:18<03:37,  3.69s/it]"
          ]
        },
        {
          "output_type": "stream",
          "name": "stdout",
          "text": [
            "SYDHI\n",
            "VK Meeting\n"
          ]
        },
        {
          "output_type": "stream",
          "name": "stderr",
          "text": [
            "\r 88%|████████▊ | 445/503 [28:22<03:27,  3.58s/it]"
          ]
        },
        {
          "output_type": "stream",
          "name": "stdout",
          "text": [
            "SYDHI\n",
            "Ben Meeting\n"
          ]
        },
        {
          "output_type": "stream",
          "name": "stderr",
          "text": [
            "\r 89%|████████▊ | 446/503 [28:25<03:19,  3.51s/it]"
          ]
        },
        {
          "output_type": "stream",
          "name": "stdout",
          "text": [
            "SYDHI\n",
            "Hayden Meeting\n"
          ]
        },
        {
          "output_type": "stream",
          "name": "stderr",
          "text": [
            "\r 89%|████████▉ | 447/503 [28:30<03:35,  3.84s/it]"
          ]
        },
        {
          "output_type": "stream",
          "name": "stdout",
          "text": [
            "SYDHI\n",
            "Rob Meeting\n"
          ]
        },
        {
          "output_type": "stream",
          "name": "stderr",
          "text": [
            "\r 89%|████████▉ | 448/503 [28:33<03:28,  3.80s/it]"
          ]
        },
        {
          "output_type": "stream",
          "name": "stdout",
          "text": [
            "ADLHI\n",
            "In House Guest  Last Minute\n"
          ]
        },
        {
          "output_type": "stream",
          "name": "stderr",
          "text": [
            "\r 89%|████████▉ | 449/503 [28:37<03:16,  3.64s/it]"
          ]
        },
        {
          "output_type": "stream",
          "name": "stdout",
          "text": [
            "SYDHI\n",
            "TRANSFORM 2024 PreCon\n"
          ]
        },
        {
          "output_type": "stream",
          "name": "stderr",
          "text": [
            "\r 89%|████████▉ | 450/503 [28:40<03:08,  3.56s/it]"
          ]
        },
        {
          "output_type": "stream",
          "name": "stdout",
          "text": [
            "ADLHI\n",
            "BHP Meeting\n"
          ]
        },
        {
          "output_type": "stream",
          "name": "stderr",
          "text": [
            "\r 90%|████████▉ | 451/503 [28:44<03:14,  3.74s/it]"
          ]
        },
        {
          "output_type": "stream",
          "name": "stdout",
          "text": [
            "SYDHI\n",
            "Natalie Paterson Coaching 2024\n"
          ]
        },
        {
          "output_type": "stream",
          "name": "stderr",
          "text": [
            "\r 90%|████████▉ | 452/503 [28:48<03:14,  3.81s/it]"
          ]
        },
        {
          "output_type": "stream",
          "name": "stdout",
          "text": [
            "SYDHI\n",
            "Rob Meeting\n"
          ]
        },
        {
          "output_type": "stream",
          "name": "stderr",
          "text": [
            "\r 90%|█████████ | 453/503 [28:52<03:03,  3.68s/it]"
          ]
        },
        {
          "output_type": "stream",
          "name": "stdout",
          "text": [
            "NANHI\n",
            "Facilities Management Seminar\n"
          ]
        },
        {
          "output_type": "stream",
          "name": "stderr",
          "text": [
            "\r 90%|█████████ | 454/503 [28:55<02:53,  3.55s/it]"
          ]
        },
        {
          "output_type": "stream",
          "name": "stdout",
          "text": [
            "MELAM\n",
            "Qantas Hotels Meeting\n"
          ]
        },
        {
          "output_type": "stream",
          "name": "stderr",
          "text": [
            "\r 90%|█████████ | 455/503 [28:59<02:52,  3.59s/it]"
          ]
        },
        {
          "output_type": "stream",
          "name": "stdout",
          "text": [
            "MELAM\n",
            "Tokyo Gas Australia Meeting\n"
          ]
        },
        {
          "output_type": "stream",
          "name": "stderr",
          "text": [
            "\r 91%|█████████ | 456/503 [29:03<02:58,  3.80s/it]"
          ]
        },
        {
          "output_type": "stream",
          "name": "stdout",
          "text": [
            "SYDHI\n",
            "Amelias Meeting\n"
          ]
        },
        {
          "output_type": "stream",
          "name": "stderr",
          "text": [
            "\r 91%|█████████ | 457/503 [29:06<02:47,  3.65s/it]"
          ]
        },
        {
          "output_type": "stream",
          "name": "stdout",
          "text": [
            "SYDHI\n",
            "Ben Audit Meeting\n"
          ]
        },
        {
          "output_type": "stream",
          "name": "stderr",
          "text": [
            "\r 91%|█████████ | 458/503 [29:10<02:41,  3.60s/it]"
          ]
        },
        {
          "output_type": "stream",
          "name": "stdout",
          "text": [
            "ALHGI\n",
            "RACGP 2203 Meeting\n"
          ]
        },
        {
          "output_type": "stream",
          "name": "stderr",
          "text": [
            "\r 91%|█████████▏| 459/503 [29:13<02:34,  3.52s/it]"
          ]
        },
        {
          "output_type": "stream",
          "name": "stdout",
          "text": [
            "ALHGI\n",
            "Southern Aboriginal Corp\n"
          ]
        },
        {
          "output_type": "stream",
          "name": "stderr",
          "text": [
            "\r 91%|█████████▏| 460/503 [29:17<02:42,  3.78s/it]"
          ]
        },
        {
          "output_type": "stream",
          "name": "stdout",
          "text": [
            "ALHGI\n",
            "Afternoon Tea  Kate\n"
          ]
        },
        {
          "output_type": "stream",
          "name": "stderr",
          "text": [
            "\r 92%|█████████▏| 461/503 [29:21<02:35,  3.71s/it]"
          ]
        },
        {
          "output_type": "stream",
          "name": "stdout",
          "text": [
            "CHCNZ\n",
            "Walker  Hall March 2024 Interviews\n"
          ]
        },
        {
          "output_type": "stream",
          "name": "stderr",
          "text": [
            "\r 92%|█████████▏| 462/503 [29:24<02:27,  3.60s/it]"
          ]
        },
        {
          "output_type": "stream",
          "name": "stdout",
          "text": [
            "SYDHI\n",
            "UKG Training\n"
          ]
        },
        {
          "output_type": "stream",
          "name": "stderr",
          "text": [
            "\r 92%|█████████▏| 463/503 [29:28<02:21,  3.55s/it]"
          ]
        },
        {
          "output_type": "stream",
          "name": "stdout",
          "text": [
            "PERHI\n",
            "McDermott Scarborough Project Induction\n"
          ]
        },
        {
          "output_type": "stream",
          "name": "stderr",
          "text": [
            "\r 92%|█████████▏| 464/503 [29:32<02:27,  3.79s/it]"
          ]
        },
        {
          "output_type": "stream",
          "name": "stdout",
          "text": [
            "PERHI\n",
            "St Barbara  Board Strategy Day\n"
          ]
        },
        {
          "output_type": "stream",
          "name": "stderr",
          "text": [
            "\r 92%|█████████▏| 465/503 [29:36<02:27,  3.89s/it]"
          ]
        },
        {
          "output_type": "stream",
          "name": "stdout",
          "text": [
            "DRWED\n",
            "NLC Staff Meeting\n"
          ]
        },
        {
          "output_type": "stream",
          "name": "stderr",
          "text": [
            "\r 93%|█████████▎| 466/503 [29:40<02:19,  3.78s/it]"
          ]
        },
        {
          "output_type": "stream",
          "name": "stdout",
          "text": [
            "DRWED\n",
            "Business Presentation\n"
          ]
        },
        {
          "output_type": "stream",
          "name": "stderr",
          "text": [
            "\r 93%|█████████▎| 467/503 [29:43<02:09,  3.60s/it]"
          ]
        },
        {
          "output_type": "stream",
          "name": "stdout",
          "text": [
            "PERHI\n",
            "WAPU Meeting\n"
          ]
        },
        {
          "output_type": "stream",
          "name": "stderr",
          "text": [
            "\r 93%|█████████▎| 468/503 [29:47<02:09,  3.69s/it]"
          ]
        },
        {
          "output_type": "stream",
          "name": "stdout",
          "text": [
            "PERHI\n",
            "Cash Converters Meeting  12th March 2024\n"
          ]
        },
        {
          "output_type": "stream",
          "name": "stderr",
          "text": [
            "\r 93%|█████████▎| 469/503 [29:51<02:08,  3.77s/it]"
          ]
        },
        {
          "output_type": "stream",
          "name": "stdout",
          "text": [
            "Failed to process meeting: Cash Converters Meeting  12th March 2024 due to error: Message: no such element: Unable to locate element: {\"method\":\"css selector\",\"selector\":\"[id=\"meetingForm:meetingTable:0\"]\"}\n",
            "  (Session info: headless chrome=90.0.4430.212); For documentation on this error, please visit: https://www.selenium.dev/documentation/webdriver/troubleshooting/errors#no-such-element-exception\n",
            "Stacktrace:\n",
            "#0 0x5849745997f9 <unknown>\n",
            "#1 0x5849745393b3 <unknown>\n",
            "#2 0x584974281016 <unknown>\n",
            "#3 0x5849742b581e <unknown>\n",
            "#4 0x5849742eb8fb <unknown>\n",
            "#5 0x5849742d8ded <unknown>\n",
            "#6 0x5849742e99e1 <unknown>\n",
            "#7 0x5849742d8c93 <unknown>\n",
            "#8 0x5849742aace4 <unknown>\n",
            "#9 0x5849742ac4d2 <unknown>\n",
            "#10 0x584974565542 <unknown>\n",
            "#11 0x584974574ce7 <unknown>\n",
            "#12 0x5849745749e4 <unknown>\n",
            "#13 0x58497457913a <unknown>\n",
            "#14 0x5849745755b9 <unknown>\n",
            "#15 0x58497455ae00 <unknown>\n",
            "#16 0x58497458c5d2 <unknown>\n",
            "#17 0x58497458c778 <unknown>\n",
            "#18 0x5849745a4a1f <unknown>\n",
            "#19 0x7be07c23fac3 <unknown>\n",
            "#20 0x7be07c2d1850 <unknown>\n",
            "\n",
            "CNSDC\n",
            "South 32 Meeting\n"
          ]
        },
        {
          "output_type": "stream",
          "name": "stderr",
          "text": [
            "\r 93%|█████████▎| 470/503 [29:54<01:59,  3.62s/it]"
          ]
        },
        {
          "output_type": "stream",
          "name": "stdout",
          "text": [
            "MELFS\n",
            "JR Education Workshop\n"
          ]
        },
        {
          "output_type": "stream",
          "name": "stderr",
          "text": [
            "\r 94%|█████████▎| 471/503 [29:57<01:52,  3.52s/it]"
          ]
        },
        {
          "output_type": "stream",
          "name": "stdout",
          "text": [
            "POMSM\n",
            "Exxon Mobil Conference\n"
          ]
        },
        {
          "output_type": "stream",
          "name": "stderr",
          "text": [
            "\r 94%|█████████▍| 472/503 [30:01<01:47,  3.47s/it]"
          ]
        },
        {
          "output_type": "stream",
          "name": "stdout",
          "text": [
            "POMSM\n",
            "Rigo District Meeting  DNPM\n"
          ]
        },
        {
          "output_type": "stream",
          "name": "stderr",
          "text": [
            "\r 94%|█████████▍| 473/503 [30:05<01:52,  3.73s/it]"
          ]
        },
        {
          "output_type": "stream",
          "name": "stdout",
          "text": [
            "POMSM\n",
            "GFS BOD Meeting\n"
          ]
        },
        {
          "output_type": "stream",
          "name": "stderr",
          "text": [
            "\r 94%|█████████▍| 474/503 [30:09<01:47,  3.71s/it]"
          ]
        },
        {
          "output_type": "stream",
          "name": "stdout",
          "text": [
            "POMSM\n",
            "POMSM Newmont Corporation Meeting\n"
          ]
        },
        {
          "output_type": "stream",
          "name": "stderr",
          "text": [
            "\r 94%|█████████▍| 475/503 [30:12<01:40,  3.57s/it]"
          ]
        },
        {
          "output_type": "stream",
          "name": "stdout",
          "text": [
            "POMSM\n",
            "PNG Meeting\n"
          ]
        },
        {
          "output_type": "stream",
          "name": "stderr",
          "text": [
            "\r 95%|█████████▍| 476/503 [30:15<01:35,  3.52s/it]"
          ]
        },
        {
          "output_type": "stream",
          "name": "stdout",
          "text": [
            "POMSM\n",
            "The World Bank Conference\n"
          ]
        },
        {
          "output_type": "stream",
          "name": "stderr",
          "text": [
            "\r 95%|█████████▍| 477/503 [30:19<01:36,  3.70s/it]"
          ]
        },
        {
          "output_type": "stream",
          "name": "stdout",
          "text": [
            "POMSM\n",
            "Christian Professionals Network Meeting\n"
          ]
        },
        {
          "output_type": "stream",
          "name": "stderr",
          "text": [
            "\r 95%|█████████▌| 478/503 [30:23<01:34,  3.79s/it]"
          ]
        },
        {
          "output_type": "stream",
          "name": "stdout",
          "text": [
            "POMSM\n",
            "Bank of PNG  Meeting\n"
          ]
        },
        {
          "output_type": "stream",
          "name": "stderr",
          "text": [
            "\r 95%|█████████▌| 479/503 [30:27<01:26,  3.62s/it]"
          ]
        },
        {
          "output_type": "stream",
          "name": "stdout",
          "text": [
            "POMSM\n",
            "University of Rhode Islands Meeting\n"
          ]
        },
        {
          "output_type": "stream",
          "name": "stderr",
          "text": [
            "\r 95%|█████████▌| 480/503 [30:30<01:20,  3.52s/it]"
          ]
        },
        {
          "output_type": "stream",
          "name": "stdout",
          "text": [
            "POMSM\n",
            "World TB Day\n"
          ]
        },
        {
          "output_type": "stream",
          "name": "stderr",
          "text": [
            "\r 96%|█████████▌| 481/503 [30:34<01:18,  3.56s/it]"
          ]
        },
        {
          "output_type": "stream",
          "name": "stdout",
          "text": [
            "POMSM\n",
            "Kumul Consolidated Holdings PNG Ltd  KCH MD  Stakeholders Meeting\n"
          ]
        },
        {
          "output_type": "stream",
          "name": "stderr",
          "text": [
            "\r 96%|█████████▌| 482/503 [30:38<01:21,  3.86s/it]"
          ]
        },
        {
          "output_type": "stream",
          "name": "stdout",
          "text": [
            "POMSM\n",
            "TotalEnergies EP PNG Ltd  POM Tech Graduation Reception\n"
          ]
        },
        {
          "output_type": "stream",
          "name": "stderr",
          "text": [
            "\r 96%|█████████▌| 483/503 [30:42<01:14,  3.74s/it]"
          ]
        },
        {
          "output_type": "stream",
          "name": "stdout",
          "text": [
            "POMSM\n",
            "PNG Aids to Navigation Network Review\n"
          ]
        },
        {
          "output_type": "stream",
          "name": "stderr",
          "text": [
            "\r 96%|█████████▌| 484/503 [30:45<01:08,  3.63s/it]"
          ]
        },
        {
          "output_type": "stream",
          "name": "stdout",
          "text": [
            "POMSM\n",
            "Tabubil Development Corporation Limited BOARD Meeting\n"
          ]
        },
        {
          "output_type": "stream",
          "name": "stderr",
          "text": [
            "\r 96%|█████████▋| 485/503 [30:48<01:04,  3.56s/it]"
          ]
        },
        {
          "output_type": "stream",
          "name": "stdout",
          "text": [
            "POMSM\n",
            "Trans Wonderland Limited Meeting\n"
          ]
        },
        {
          "output_type": "stream",
          "name": "stderr",
          "text": [
            "\r 97%|█████████▋| 486/503 [30:53<01:05,  3.88s/it]"
          ]
        },
        {
          "output_type": "stream",
          "name": "stdout",
          "text": [
            "POMSM\n",
            "China State Construction Engineering Corporation Meeting\n"
          ]
        },
        {
          "output_type": "stream",
          "name": "stderr",
          "text": [
            "\r 97%|█████████▋| 487/503 [30:57<01:00,  3.81s/it]"
          ]
        },
        {
          "output_type": "stream",
          "name": "stdout",
          "text": [
            "POMSM\n",
            "MRCMCAH Q42023 Board Meeting\n"
          ]
        },
        {
          "output_type": "stream",
          "name": "stderr",
          "text": [
            "\r 97%|█████████▋| 488/503 [31:00<00:55,  3.70s/it]"
          ]
        },
        {
          "output_type": "stream",
          "name": "stdout",
          "text": [
            "POMSM\n",
            "MROT2 Q42023 Board Meeting\n"
          ]
        },
        {
          "output_type": "stream",
          "name": "stderr",
          "text": [
            "\r 97%|█████████▋| 489/503 [31:03<00:50,  3.57s/it]"
          ]
        },
        {
          "output_type": "stream",
          "name": "stdout",
          "text": [
            "POMSM\n",
            "MRSM Q42023 Board Meeting\n"
          ]
        },
        {
          "output_type": "stream",
          "name": "stderr",
          "text": [
            "\r 97%|█████████▋| 490/503 [31:08<00:49,  3.79s/it]"
          ]
        },
        {
          "output_type": "stream",
          "name": "stdout",
          "text": [
            "POMSM\n",
            "POMSM\n"
          ]
        },
        {
          "output_type": "stream",
          "name": "stderr",
          "text": [
            "\r 98%|█████████▊| 491/503 [31:12<00:45,  3.83s/it]"
          ]
        },
        {
          "output_type": "stream",
          "name": "stdout",
          "text": [
            "POMSM\n",
            "MRDC Special Board Meeting\n"
          ]
        },
        {
          "output_type": "stream",
          "name": "stderr",
          "text": [
            "\r 98%|█████████▊| 492/503 [31:15<00:40,  3.68s/it]"
          ]
        },
        {
          "output_type": "stream",
          "name": "stdout",
          "text": [
            "POMSM\n",
            "GR Plant Q32024 Board Meeting\n"
          ]
        },
        {
          "output_type": "stream",
          "name": "stderr",
          "text": [
            "\r 98%|█████████▊| 493/503 [31:18<00:35,  3.58s/it]"
          ]
        },
        {
          "output_type": "stream",
          "name": "stdout",
          "text": [
            "POMSM\n",
            "Mineral Resources Enga  Meeting\n"
          ]
        },
        {
          "output_type": "stream",
          "name": "stderr",
          "text": [
            "\r 98%|█████████▊| 494/503 [31:22<00:32,  3.65s/it]"
          ]
        },
        {
          "output_type": "stream",
          "name": "stdout",
          "text": [
            "POMSM\n",
            "PRG Board Meeting\n"
          ]
        },
        {
          "output_type": "stream",
          "name": "stderr",
          "text": [
            "\r 98%|█████████▊| 495/503 [31:27<00:31,  3.91s/it]"
          ]
        },
        {
          "output_type": "stream",
          "name": "stdout",
          "text": [
            "POMSM\n",
            "Kikori District Development Authority\n"
          ]
        },
        {
          "output_type": "stream",
          "name": "stderr",
          "text": [
            "\r 99%|█████████▊| 496/503 [31:30<00:26,  3.76s/it]"
          ]
        },
        {
          "output_type": "stream",
          "name": "stdout",
          "text": [
            "POMSM\n",
            "PMs Department Meeting 1\n"
          ]
        },
        {
          "output_type": "stream",
          "name": "stderr",
          "text": [
            "\r 99%|█████████▉| 497/503 [31:34<00:22,  3.69s/it]"
          ]
        },
        {
          "output_type": "stream",
          "name": "stdout",
          "text": [
            "POMSM\n",
            "Kikori District Development Authority\n"
          ]
        },
        {
          "output_type": "stream",
          "name": "stderr",
          "text": [
            "\r 99%|█████████▉| 498/503 [31:37<00:18,  3.74s/it]"
          ]
        },
        {
          "output_type": "stream",
          "name": "stdout",
          "text": [
            "POMSM\n",
            "BSP Financial Group Limited Meeting\n"
          ]
        },
        {
          "output_type": "stream",
          "name": "stderr",
          "text": [
            "\r 99%|█████████▉| 499/503 [31:42<00:15,  3.99s/it]"
          ]
        },
        {
          "output_type": "stream",
          "name": "stdout",
          "text": [
            "POMSM\n",
            "National Planning  Management Training\n"
          ]
        },
        {
          "output_type": "stream",
          "name": "stderr",
          "text": [
            "\r 99%|█████████▉| 500/503 [31:45<00:11,  3.77s/it]"
          ]
        },
        {
          "output_type": "stream",
          "name": "stdout",
          "text": [
            "PERDT\n",
            "DPLH Meeting\n"
          ]
        },
        {
          "output_type": "stream",
          "name": "stderr",
          "text": [
            "\r100%|█████████▉| 501/503 [31:49<00:07,  3.64s/it]"
          ]
        },
        {
          "output_type": "stream",
          "name": "stdout",
          "text": [
            "PERDT\n",
            "AFAP Meeting\n"
          ]
        },
        {
          "output_type": "stream",
          "name": "stderr",
          "text": [
            "\r100%|█████████▉| 502/503 [31:52<00:03,  3.57s/it]"
          ]
        },
        {
          "output_type": "stream",
          "name": "stdout",
          "text": [
            "PERDT\n",
            "Martin MacDonald Seminar\n"
          ]
        },
        {
          "output_type": "stream",
          "name": "stderr",
          "text": [
            "100%|██████████| 503/503 [31:57<00:00,  3.81s/it]"
          ]
        },
        {
          "output_type": "stream",
          "name": "stdout",
          "text": [
            "Failed Meetings:\n",
            "ANZAOMS Meeting\n",
            "ECU Team Building Event\n",
            "FLS Training\n",
            "Fulton Hogan March 2024 Meeting\n",
            "PNGICSA SPECIAL ADVISORY BOARD MEETING\n",
            "APT  Travelmarvel Presentations  19th March 2024\n",
            "AMOSC Meeting 12th March 2024\n",
            "Cassandra  Nathan Wedding March 2024\n",
            "EMS Oceania Meeting  9th March 2024\n",
            "USAID Conference 6th March 2024\n",
            "USAID Conference 27th Feb 1st March 2024\n",
            "USAID Conference 4th March 2024\n",
            "USAID Conference 8th March 2024\n",
            "Rio Tinto Recruitment  14th March 2024\n",
            "ASTEC Meeting\n",
            "ISEP Study Abroad  Breakfast  5th March 2024\n",
            "AREEA  Corporate Breakfast  14th March 2024\n",
            "Chanel  Meeting 5th March 2024\n",
            "Powering WA Planning Sessions  15th March 2024\n",
            "Powering WA Planning Sessions  13th March 2024\n",
            "Netwealth Investments  Product Roadshow  21st March 2024\n",
            "Bali Hotels Association  Perth Event  14th March 2024\n",
            "BHP  Conference 15th March 2024\n",
            "Rio Tinto Recruitment  20th March 2024\n",
            "Rio Tinto Recruitment  27th March 2024\n",
            "Cash Converters Meeting  12th March 2024\n"
          ]
        },
        {
          "output_type": "stream",
          "name": "stderr",
          "text": [
            "\n"
          ]
        }
      ],
      "source": [
        "# Assuming 'driver' is already defined and imported along with other necessary modules\n",
        "\n",
        "progress_bar = tqdm(total=len(df), position=0, leave=True)\n",
        "failed_meetings = []\n",
        "\n",
        "for index, row in df.iterrows():\n",
        "    try:\n",
        "        print(str(row['Hotel Code']))\n",
        "        driver.get('https://lightstay.ei3.com/property/' + str(row['Hotel Code']) + '/tools/meetingcalculator?statusFilter=1')\n",
        "\n",
        "        # Ensure 'Submitted' is checked\n",
        "        submitted_checkbox = driver.find_element(By.ID, 'meetingForm:statusFilter:1')\n",
        "        if not submitted_checkbox.is_selected():\n",
        "            submitted_checkbox.click()\n",
        "\n",
        "        # Enter the meeting/event name in the search box\n",
        "        search_box = driver.find_element(By.ID, 'meetingForm:txtFilterText')\n",
        "        search_box.clear()\n",
        "        search_box.send_keys(row['Meeting /Event Name'])\n",
        "        print(row['Meeting /Event Name'])\n",
        "        search_box.send_keys(Keys.RETURN)\n",
        "        driver.implicitly_wait(2)\n",
        "\n",
        "        first_row = driver.find_element(By.ID, 'meetingForm:meetingTable:0')\n",
        "\n",
        "        # Processing the first row\n",
        "        meeting_name_link = first_row.find_element(By.XPATH, './/a[contains(@onclick, \"jsf.util.chain\")]')\n",
        "        driver.execute_script(\"arguments[0].click();\", meeting_name_link)\n",
        "\n",
        "        # Inject code\n",
        "        driver.execute_script(\"\"\"\n",
        "            document.getElementById('meetCalcForm:meetingStatusselValue').value = '2';\n",
        "            document.getElementById('meetCalcForm:meetingStatusInput').value = 'Completed';\n",
        "        \"\"\")\n",
        "\n",
        "        element = driver.find_element(By.ID, 'meetCalcForm:saveReportButton')\n",
        "        driver.execute_script(\"arguments[0].click();\", element)\n",
        "        time.sleep(0.5)\n",
        "    except Exception as e:\n",
        "        print(f\"Failed to process meeting: {row['Meeting /Event Name']} due to error: {e}\")\n",
        "        failed_meetings.append(row['Meeting /Event Name'])\n",
        "\n",
        "    progress_bar.update()\n",
        "\n",
        "progress_bar.close()\n",
        "\n",
        "# Print the list of failed meetings\n",
        "print(\"Failed Meetings:\")\n",
        "for meeting in failed_meetings:\n",
        "    print(meeting)\n",
        "\n",
        "# Consider closing the driver at the end of the process\n",
        "# driver.close()"
      ]
    },
    {
      "cell_type": "markdown",
      "metadata": {
        "id": "Z3bNq0S0GQRV"
      },
      "source": [
        "# Phase 3"
      ]
    },
    {
      "cell_type": "code",
      "execution_count": null,
      "metadata": {
        "colab": {
          "base_uri": "https://localhost:8080/",
          "height": 1000
        },
        "id": "cRDjt7NbGTou",
        "outputId": "46d98546-483c-4694-d6db-a620598722fe"
      },
      "outputs": [
        {
          "output_type": "stream",
          "name": "stderr",
          "text": [
            "  0%|          | 0/258 [00:11<?, ?it/s]\n"
          ]
        },
        {
          "output_type": "stream",
          "name": "stdout",
          "text": [
            "SYDHI RMIT University Workshop\n",
            "Cookie consent accepted.\n",
            "Cookie consent accepted.\n",
            "Error\n",
            "Retrying\n",
            "No error found continue: Message: \n",
            "\n",
            "SYDHI Ikon Institute of Australia Graduation 2024\n",
            "Cookie consent accepted.\n",
            "Cookie consent accepted.\n",
            "No error found continue: Message: \n",
            "\n",
            "SYDHI Tamara Meyer Coaching\n",
            "Cookie consent accepted.\n",
            "Cookie consent accepted.\n",
            "No error found continue: Message: \n",
            "\n",
            "CHCNZ Canterbury March 2024 Ballance Farm Environment Awards\n",
            "Cookie consent accepted.\n",
            "Cookie consent accepted.\n",
            "Timeout while waiting for element: //li[text()='Fiji']\n",
            "Error message: Message: \n",
            "Stacktrace:\n",
            "#0 0x5853b83fe7f9 <unknown>\n",
            "#1 0x5853b839e3b3 <unknown>\n",
            "#2 0x5853b80e6016 <unknown>\n",
            "#3 0x5853b811a81e <unknown>\n",
            "#4 0x5853b81508fb <unknown>\n",
            "#5 0x5853b813dded <unknown>\n",
            "#6 0x5853b814e9e1 <unknown>\n",
            "#7 0x5853b813dc93 <unknown>\n",
            "#8 0x5853b810fce4 <unknown>\n",
            "#9 0x5853b81114d2 <unknown>\n",
            "#10 0x5853b83ca542 <unknown>\n",
            "#11 0x5853b83d9ce7 <unknown>\n",
            "#12 0x5853b83d99e4 <unknown>\n",
            "#13 0x5853b83de13a <unknown>\n",
            "#14 0x5853b83da5b9 <unknown>\n",
            "#15 0x5853b83bfe00 <unknown>\n",
            "#16 0x5853b83f15d2 <unknown>\n",
            "#17 0x5853b83f1778 <unknown>\n",
            "#18 0x5853b8409a1f <unknown>\n",
            "#19 0x7ac00bc3fac3 <unknown>\n",
            "#20 0x7ac00bcd1850 <unknown>\n",
            "\n",
            "Errors encountered:\n",
            "Billing City is a required field.\n",
            "Billing Region is a required field.\n",
            "Billing Postcode is a required field.\n",
            "Billing Phone is a required field.\n",
            "Billing Email address is a required field.\n",
            "Step 3 Failed: Canterbury March 2024 Ballance Farm Environment Awards due to error: Billing City is a required field.\n",
            "Billing Region is a required field.\n",
            "Billing Postcode is a required field.\n",
            "Billing Phone is a required field.\n",
            "Billing Email address is a required field.\n",
            "Text is not present or page did not load within 10 seconds.\n",
            "PERHI APT  Travelmarvel Presentations  19th March 2024\n",
            "Step 2 Failed : APT  Travelmarvel Presentations  19th March 2024 due to error! SKIPPING\n",
            "PERHI ABA Health Professional Seminar Series 2024\n",
            "Cookie consent accepted.\n",
            "Cookie consent accepted.\n",
            "No error found continue: Message: \n",
            "\n",
            "AKLHI IoD Women Directors Network\n",
            "Cookie consent accepted.\n",
            "Cookie consent accepted.\n",
            "Errors encountered:\n",
            "You must check the box showing you agree to our consent statement in order to proceed\n",
            "Step 3 Failed: IoD Women Directors Network due to error: You must check the box showing you agree to our consent statement in order to proceed\n",
            "Text is not present or page did not load within 10 seconds.\n",
            "PERHI Sulphure Experts Meeting\n",
            "Cookie consent accepted.\n",
            "Cookie consent accepted.\n",
            "No error found continue: Message: \n",
            "\n",
            "CNSDC local buy meeting\n",
            "Cookie consent accepted.\n",
            "Cookie consent accepted.\n",
            "No error found continue: Message: \n",
            "\n",
            "PERHI PSV Engineer School Meeting\n",
            "Cookie consent accepted.\n",
            "Cookie consent accepted.\n",
            "No error found continue: Message: \n",
            "\n",
            "PERHI AMOSC Meeting 12th March 2024\n",
            "Step 2 Failed : AMOSC Meeting 12th March 2024 due to error! SKIPPING\n",
            "ZQNHQ Your Education March 2024 Conference\n",
            "Cookie consent accepted.\n",
            "Cookie consent accepted.\n",
            "Error\n",
            "Retrying\n",
            "No error found continue: Message: \n",
            "\n",
            "MELAM AIJA Meeting\n",
            "Cookie consent accepted.\n",
            "Cookie consent accepted.\n",
            "Errors encountered:\n",
            "You must check the box showing you agree to our consent statement in order to proceed\n",
            "Step 3 Failed: AIJA Meeting due to error: You must check the box showing you agree to our consent statement in order to proceed\n",
            "Text is not present or page did not load within 10 seconds.\n",
            "MELAM Mazars event 28  29 February\n",
            "Cookie consent accepted.\n",
            "Cookie consent accepted.\n",
            "Error\n",
            "Retrying\n",
            "No error found continue: Message: \n",
            "\n",
            "MELAM BCA Research Breakfast Event\n",
            "Cookie consent accepted.\n",
            "Cookie consent accepted.\n",
            "Errors encountered:\n",
            "You must check the box showing you agree to our consent statement in order to proceed\n",
            "Step 3 Failed: BCA Research Breakfast Event due to error: You must check the box showing you agree to our consent statement in order to proceed\n",
            "Text is not present or page did not load within 10 seconds.\n",
            "ADLHI Cassandra  Nathan Wedding March 2024\n",
            "Step 2 Failed : Cassandra  Nathan Wedding March 2024 due to error! SKIPPING\n",
            "CRNHI Vestas Conference\n",
            "Cookie consent accepted.\n",
            "Cookie consent accepted.\n",
            "No error found continue: Message: \n",
            "\n",
            "CRNHI TrackedApp Workshop\n",
            "Cookie consent accepted.\n",
            "Cookie consent accepted.\n",
            "Error\n",
            "Retrying\n",
            "No error found continue: Message: \n",
            "\n",
            "CHCNZ South Island Baptist March 2024 Church\n",
            "Cookie consent accepted.\n",
            "Cookie consent accepted.\n",
            "Timeout while waiting for element: //li[text()='Fiji']\n",
            "Error message: Message: \n",
            "Stacktrace:\n",
            "#0 0x5853b83fe7f9 <unknown>\n",
            "#1 0x5853b839e3b3 <unknown>\n",
            "#2 0x5853b80e6016 <unknown>\n",
            "#3 0x5853b811a81e <unknown>\n",
            "#4 0x5853b81508fb <unknown>\n",
            "#5 0x5853b813dded <unknown>\n",
            "#6 0x5853b814e9e1 <unknown>\n",
            "#7 0x5853b813dc93 <unknown>\n",
            "#8 0x5853b810fce4 <unknown>\n",
            "#9 0x5853b81114d2 <unknown>\n",
            "#10 0x5853b83ca542 <unknown>\n",
            "#11 0x5853b83d9ce7 <unknown>\n",
            "#12 0x5853b83d99e4 <unknown>\n",
            "#13 0x5853b83de13a <unknown>\n",
            "#14 0x5853b83da5b9 <unknown>\n",
            "#15 0x5853b83bfe00 <unknown>\n",
            "#16 0x5853b83f15d2 <unknown>\n",
            "#17 0x5853b83f1778 <unknown>\n",
            "#18 0x5853b8409a1f <unknown>\n",
            "#19 0x7ac00bc3fac3 <unknown>\n",
            "#20 0x7ac00bcd1850 <unknown>\n",
            "\n",
            "Errors encountered:\n",
            "Billing City is a required field.\n",
            "Billing Region is a required field.\n",
            "Billing Postcode is a required field.\n",
            "Billing Phone is a required field.\n",
            "Billing Email address is a required field.\n",
            "Step 3 Failed: South Island Baptist March 2024 Church due to error: Billing City is a required field.\n",
            "Billing Region is a required field.\n",
            "Billing Postcode is a required field.\n",
            "Billing Phone is a required field.\n",
            "Billing Email address is a required field.\n",
            "Text is not present or page did not load within 10 seconds.\n",
            "ALHGI CEO Institute\n",
            "Cookie consent accepted.\n",
            "Cookie consent accepted.\n",
            "No error found continue: Message: \n",
            "\n",
            "PERHI AFIC  Shareholder Roadshow 2024\n",
            "Cookie consent accepted.\n",
            "Cookie consent accepted.\n",
            "Error\n",
            "Retrying\n",
            "No error found continue: Message: \n",
            "\n",
            "ALHGI CEO Institute Syndicate Meeting\n",
            "Step 2 Failed : CEO Institute Syndicate Meeting due to error! SKIPPING\n",
            "PERHI EduCanada Workshop\n",
            "Cookie consent accepted.\n",
            "Cookie consent accepted.\n",
            "No error found continue: Message: \n",
            "\n",
            "PERHI EMS Oceania Meeting  9th March 2024\n",
            "Step 2 Failed : EMS Oceania Meeting  9th March 2024 due to error! SKIPPING\n",
            "PERHI PESA Evening Event  March\n",
            "Cookie consent accepted.\n",
            "Cookie consent accepted.\n",
            "No error found continue: Message: \n",
            "\n",
            "PERHI John Crane Meeting\n",
            "Cookie consent accepted.\n",
            "Cookie consent accepted.\n",
            "Error\n",
            "Retrying\n",
            "No error found continue: Message: \n",
            "\n",
            "CHCNZ Rotary Club of Riccarton March 2024 Luncheon\n",
            "Cookie consent accepted.\n",
            "Cookie consent accepted.\n",
            "Timeout while waiting for element: //li[text()='Fiji']\n",
            "Error message: Message: \n",
            "Stacktrace:\n",
            "#0 0x5853b83fe7f9 <unknown>\n",
            "#1 0x5853b839e3b3 <unknown>\n",
            "#2 0x5853b80e6016 <unknown>\n",
            "#3 0x5853b811a81e <unknown>\n",
            "#4 0x5853b81508fb <unknown>\n",
            "#5 0x5853b813dded <unknown>\n",
            "#6 0x5853b814e9e1 <unknown>\n",
            "#7 0x5853b813dc93 <unknown>\n",
            "#8 0x5853b810fce4 <unknown>\n",
            "#9 0x5853b81114d2 <unknown>\n",
            "#10 0x5853b83ca542 <unknown>\n",
            "#11 0x5853b83d9ce7 <unknown>\n",
            "#12 0x5853b83d99e4 <unknown>\n",
            "#13 0x5853b83de13a <unknown>\n",
            "#14 0x5853b83da5b9 <unknown>\n",
            "#15 0x5853b83bfe00 <unknown>\n",
            "#16 0x5853b83f15d2 <unknown>\n",
            "#17 0x5853b83f1778 <unknown>\n",
            "#18 0x5853b8409a1f <unknown>\n",
            "#19 0x7ac00bc3fac3 <unknown>\n",
            "#20 0x7ac00bcd1850 <unknown>\n",
            "\n",
            "Errors encountered:\n",
            "Billing City is a required field.\n",
            "Billing Region is a required field.\n",
            "Billing Postcode is a required field.\n",
            "Billing Phone is a required field.\n",
            "Billing Email address is a required field.\n",
            "Step 3 Failed: Rotary Club of Riccarton March 2024 Luncheon due to error: Billing City is a required field.\n",
            "Billing Region is a required field.\n",
            "Billing Postcode is a required field.\n",
            "Billing Phone is a required field.\n",
            "Billing Email address is a required field.\n",
            "Text is not present or page did not load within 10 seconds.\n",
            "CHCNZ Rotary Club of Riccarton March 2024 Luncheon\n",
            "Cookie consent accepted.\n",
            "Cookie consent accepted.\n",
            "Timeout while waiting for element: //li[text()='Fiji']\n",
            "Error message: Message: \n",
            "Stacktrace:\n",
            "#0 0x5853b83fe7f9 <unknown>\n",
            "#1 0x5853b839e3b3 <unknown>\n",
            "#2 0x5853b80e6016 <unknown>\n",
            "#3 0x5853b811a81e <unknown>\n",
            "#4 0x5853b81508fb <unknown>\n",
            "#5 0x5853b813dded <unknown>\n",
            "#6 0x5853b814e9e1 <unknown>\n",
            "#7 0x5853b813dc93 <unknown>\n",
            "#8 0x5853b810fce4 <unknown>\n",
            "#9 0x5853b81114d2 <unknown>\n",
            "#10 0x5853b83ca542 <unknown>\n",
            "#11 0x5853b83d9ce7 <unknown>\n",
            "#12 0x5853b83d99e4 <unknown>\n",
            "#13 0x5853b83de13a <unknown>\n",
            "#14 0x5853b83da5b9 <unknown>\n",
            "#15 0x5853b83bfe00 <unknown>\n",
            "#16 0x5853b83f15d2 <unknown>\n",
            "#17 0x5853b83f1778 <unknown>\n",
            "#18 0x5853b8409a1f <unknown>\n",
            "#19 0x7ac00bc3fac3 <unknown>\n",
            "#20 0x7ac00bcd1850 <unknown>\n",
            "\n",
            "Errors encountered:\n",
            "Billing City is a required field.\n",
            "Billing Region is a required field.\n",
            "Billing Postcode is a required field.\n",
            "Billing Phone is a required field.\n",
            "Billing Email address is a required field.\n",
            "Step 3 Failed: Rotary Club of Riccarton March 2024 Luncheon due to error: Billing City is a required field.\n",
            "Billing Region is a required field.\n",
            "Billing Postcode is a required field.\n",
            "Billing Phone is a required field.\n",
            "Billing Email address is a required field.\n",
            "Text is not present or page did not load within 10 seconds.\n",
            "CHCNZ Rotary Club of Riccarton March 2024 Luncheon\n",
            "Cookie consent accepted.\n",
            "Cookie consent accepted.\n",
            "Timeout while waiting for element: //li[text()='Fiji']\n",
            "Error message: Message: \n",
            "Stacktrace:\n",
            "#0 0x5853b83fe7f9 <unknown>\n",
            "#1 0x5853b839e3b3 <unknown>\n",
            "#2 0x5853b80e6016 <unknown>\n",
            "#3 0x5853b811a81e <unknown>\n",
            "#4 0x5853b81508fb <unknown>\n",
            "#5 0x5853b813dded <unknown>\n",
            "#6 0x5853b814e9e1 <unknown>\n",
            "#7 0x5853b813dc93 <unknown>\n",
            "#8 0x5853b810fce4 <unknown>\n",
            "#9 0x5853b81114d2 <unknown>\n",
            "#10 0x5853b83ca542 <unknown>\n",
            "#11 0x5853b83d9ce7 <unknown>\n",
            "#12 0x5853b83d99e4 <unknown>\n",
            "#13 0x5853b83de13a <unknown>\n",
            "#14 0x5853b83da5b9 <unknown>\n",
            "#15 0x5853b83bfe00 <unknown>\n",
            "#16 0x5853b83f15d2 <unknown>\n",
            "#17 0x5853b83f1778 <unknown>\n",
            "#18 0x5853b8409a1f <unknown>\n",
            "#19 0x7ac00bc3fac3 <unknown>\n",
            "#20 0x7ac00bcd1850 <unknown>\n",
            "\n",
            "Errors encountered:\n",
            "Billing City is a required field.\n",
            "Billing Region is a required field.\n",
            "Billing Postcode is a required field.\n",
            "Billing Phone is a required field.\n",
            "Billing Email address is a required field.\n",
            "Step 3 Failed: Rotary Club of Riccarton March 2024 Luncheon due to error: Billing City is a required field.\n",
            "Billing Region is a required field.\n",
            "Billing Postcode is a required field.\n",
            "Billing Phone is a required field.\n",
            "Billing Email address is a required field.\n",
            "Text is not present or page did not load within 10 seconds.\n",
            "CHCNZ Rotary Club of Riccarton March 2024 Luncheon\n",
            "Cookie consent accepted.\n",
            "Cookie consent accepted.\n",
            "Timeout while waiting for element: //li[text()='Fiji']\n",
            "Error message: Message: \n",
            "Stacktrace:\n",
            "#0 0x5853b83fe7f9 <unknown>\n",
            "#1 0x5853b839e3b3 <unknown>\n",
            "#2 0x5853b80e6016 <unknown>\n",
            "#3 0x5853b811a81e <unknown>\n",
            "#4 0x5853b81508fb <unknown>\n",
            "#5 0x5853b813dded <unknown>\n",
            "#6 0x5853b814e9e1 <unknown>\n",
            "#7 0x5853b813dc93 <unknown>\n",
            "#8 0x5853b810fce4 <unknown>\n",
            "#9 0x5853b81114d2 <unknown>\n",
            "#10 0x5853b83ca542 <unknown>\n",
            "#11 0x5853b83d9ce7 <unknown>\n",
            "#12 0x5853b83d99e4 <unknown>\n",
            "#13 0x5853b83de13a <unknown>\n",
            "#14 0x5853b83da5b9 <unknown>\n",
            "#15 0x5853b83bfe00 <unknown>\n",
            "#16 0x5853b83f15d2 <unknown>\n",
            "#17 0x5853b83f1778 <unknown>\n",
            "#18 0x5853b8409a1f <unknown>\n",
            "#19 0x7ac00bc3fac3 <unknown>\n",
            "#20 0x7ac00bcd1850 <unknown>\n",
            "\n",
            "Errors encountered:\n",
            "Billing City is a required field.\n",
            "Billing Region is a required field.\n",
            "Billing Postcode is a required field.\n",
            "Billing Phone is a required field.\n",
            "Billing Email address is a required field.\n",
            "Step 3 Failed: Rotary Club of Riccarton March 2024 Luncheon due to error: Billing City is a required field.\n",
            "Billing Region is a required field.\n",
            "Billing Postcode is a required field.\n",
            "Billing Phone is a required field.\n",
            "Billing Email address is a required field.\n",
            "Text is not present or page did not load within 10 seconds.\n",
            "ASPDA Lecture Three\n",
            "Cookie consent accepted.\n",
            "Cookie consent accepted.\n",
            "No error found continue: Message: \n",
            "\n",
            "CRNHI QGATE Training\n",
            "Cookie consent accepted.\n",
            "Cookie consent accepted.\n",
            "No error found continue: Message: \n",
            "\n",
            "ALHGI Livestock Advisor Essentials  Albany\n",
            "Cookie consent accepted.\n",
            "Cookie consent accepted.\n",
            "No error found continue: Message: \n",
            "\n",
            "DRWHD Emerging Architect Prize Tour\n",
            "Cookie consent accepted.\n",
            "Cookie consent accepted.\n",
            "No error found continue: Message: \n",
            "\n",
            "MELFS 234 Department of Education Meeting 2024\n",
            "Cookie consent accepted.\n",
            "Cookie consent accepted.\n",
            "Errors encountered:\n",
            "Invalid billing email address\n",
            "Step 3 Failed: 234 Department of Education Meeting 2024 due to error: Invalid billing email address\n",
            "Text is not present or page did not load within 10 seconds.\n",
            "OOLHI Office of Health Care Professionals Recruitment Event\n",
            "Cookie consent accepted.\n",
            "Cookie consent accepted.\n",
            "Error\n",
            "Retrying\n",
            "No error found continue: Message: \n",
            "\n",
            "POMSM PNG PIE\n",
            "Cookie consent accepted.\n",
            "Cookie consent accepted.\n",
            "Error -Skipping\n",
            "Timeout while waiting for element: //li[text()='Papua New Guinea']\n",
            "Error message: Message: \n",
            "Stacktrace:\n",
            "#0 0x5853b83fe7f9 <unknown>\n",
            "#1 0x5853b839e3b3 <unknown>\n",
            "#2 0x5853b80e6016 <unknown>\n",
            "#3 0x5853b811a81e <unknown>\n",
            "#4 0x5853b81508fb <unknown>\n",
            "#5 0x5853b813dded <unknown>\n",
            "#6 0x5853b814e9e1 <unknown>\n",
            "#7 0x5853b813dc93 <unknown>\n",
            "#8 0x5853b810fce4 <unknown>\n",
            "#9 0x5853b81114d2 <unknown>\n",
            "#10 0x5853b83ca542 <unknown>\n",
            "#11 0x5853b83d9ce7 <unknown>\n",
            "#12 0x5853b83d99e4 <unknown>\n",
            "#13 0x5853b83de13a <unknown>\n",
            "#14 0x5853b83da5b9 <unknown>\n",
            "#15 0x5853b83bfe00 <unknown>\n",
            "#16 0x5853b83f15d2 <unknown>\n",
            "#17 0x5853b83f1778 <unknown>\n",
            "#18 0x5853b8409a1f <unknown>\n",
            "#19 0x7ac00bc3fac3 <unknown>\n",
            "#20 0x7ac00bcd1850 <unknown>\n",
            "\n",
            "Errors encountered:\n",
            "Billing State / County is a required field.\n",
            "Step 3 Failed: PNG PIE due to error: Billing State / County is a required field.\n",
            "Text is not present or page did not load within 10 seconds.\n",
            "PERDT SMART Meeting\n",
            "Cookie consent accepted.\n",
            "Cookie consent accepted.\n",
            "No error found continue: Message: \n",
            "\n",
            "PERDT Southpac Meeting 2024\n",
            "Cookie consent accepted.\n",
            "Cookie consent accepted.\n",
            "No error found continue: Message: \n",
            "\n",
            "PERDT Crisis Prevention Institute Australia and New Zealand  March 2024\n",
            "Cookie consent accepted.\n",
            "Cookie consent accepted.\n",
            "Errors encountered:\n",
            "You must check the box showing you agree to our consent statement in order to proceed\n",
            "Step 3 Failed: Crisis Prevention Institute Australia and New Zealand  March 2024 due to error: You must check the box showing you agree to our consent statement in order to proceed\n",
            "Text is not present or page did not load within 10 seconds.\n",
            "PERDT Perth Open Statistics Course march 2024\n",
            "Cookie consent accepted.\n",
            "Cookie consent accepted.\n",
            "No error found continue: Message: \n",
            "\n",
            "CHCNZ PartnerCo March 2024 Event\n",
            "Cookie consent accepted.\n",
            "Cookie consent accepted.\n",
            "Timeout while waiting for element: //li[text()='Fiji']\n",
            "Error message: Message: \n",
            "Stacktrace:\n",
            "#0 0x5853b83fe7f9 <unknown>\n",
            "#1 0x5853b839e3b3 <unknown>\n",
            "#2 0x5853b80e6016 <unknown>\n",
            "#3 0x5853b811a81e <unknown>\n",
            "#4 0x5853b81508fb <unknown>\n",
            "#5 0x5853b813dded <unknown>\n",
            "#6 0x5853b814e9e1 <unknown>\n",
            "#7 0x5853b813dc93 <unknown>\n",
            "#8 0x5853b810fce4 <unknown>\n",
            "#9 0x5853b81114d2 <unknown>\n",
            "#10 0x5853b83ca542 <unknown>\n",
            "#11 0x5853b83d9ce7 <unknown>\n",
            "#12 0x5853b83d99e4 <unknown>\n",
            "#13 0x5853b83de13a <unknown>\n",
            "#14 0x5853b83da5b9 <unknown>\n",
            "#15 0x5853b83bfe00 <unknown>\n",
            "#16 0x5853b83f15d2 <unknown>\n",
            "#17 0x5853b83f1778 <unknown>\n",
            "#18 0x5853b8409a1f <unknown>\n",
            "#19 0x7ac00bc3fac3 <unknown>\n",
            "#20 0x7ac00bcd1850 <unknown>\n",
            "\n",
            "Errors encountered:\n",
            "Billing City is a required field.\n",
            "Billing Region is a required field.\n",
            "Billing Postcode is a required field.\n",
            "Billing Phone is a required field.\n",
            "Billing Email address is a required field.\n",
            "Step 3 Failed: PartnerCo March 2024 Event due to error: Billing City is a required field.\n",
            "Billing Region is a required field.\n",
            "Billing Postcode is a required field.\n",
            "Billing Phone is a required field.\n",
            "Billing Email address is a required field.\n",
            "Text is not present or page did not load within 10 seconds.\n",
            "AKLKA Wise Group March 2024 Meeting\n",
            "Step 2 Failed : Wise Group March 2024 Meeting due to error! SKIPPING\n",
            "PERBS Hall  Prior Meeting\n",
            "Cookie consent accepted.\n",
            "Cookie consent accepted.\n",
            "Errors encountered:\n",
            "You must check the box showing you agree to our consent statement in order to proceed\n",
            "Step 3 Failed: Hall  Prior Meeting due to error: You must check the box showing you agree to our consent statement in order to proceed\n",
            "Text is not present or page did not load within 10 seconds.\n",
            "BSBHI Legalwise Seminars  Annual Conveyancing Conference\n",
            "Cookie consent accepted.\n",
            "Cookie consent accepted.\n",
            "Timeout while waiting for element: //li[text()='Fiji']\n",
            "Error message: Message: \n",
            "Stacktrace:\n",
            "#0 0x5853b83fe7f9 <unknown>\n",
            "#1 0x5853b839e3b3 <unknown>\n",
            "#2 0x5853b80e6016 <unknown>\n",
            "#3 0x5853b811a81e <unknown>\n",
            "#4 0x5853b81508fb <unknown>\n",
            "#5 0x5853b813dded <unknown>\n",
            "#6 0x5853b814e9e1 <unknown>\n",
            "#7 0x5853b813dc93 <unknown>\n",
            "#8 0x5853b810fce4 <unknown>\n",
            "#9 0x5853b81114d2 <unknown>\n",
            "#10 0x5853b83ca542 <unknown>\n",
            "#11 0x5853b83d9ce7 <unknown>\n",
            "#12 0x5853b83d99e4 <unknown>\n",
            "#13 0x5853b83de13a <unknown>\n",
            "#14 0x5853b83da5b9 <unknown>\n",
            "#15 0x5853b83bfe00 <unknown>\n",
            "#16 0x5853b83f15d2 <unknown>\n",
            "#17 0x5853b83f1778 <unknown>\n",
            "#18 0x5853b8409a1f <unknown>\n",
            "#19 0x7ac00bc3fac3 <unknown>\n",
            "#20 0x7ac00bcd1850 <unknown>\n",
            "\n",
            "Errors encountered:\n",
            "Billing City is a required field.\n",
            "Billing Postcode is a required field.\n",
            "Billing Phone is a required field.\n",
            "Billing Email address is a required field.\n",
            "Step 3 Failed: Legalwise Seminars  Annual Conveyancing Conference due to error: Billing City is a required field.\n",
            "Billing Postcode is a required field.\n",
            "Billing Phone is a required field.\n",
            "Billing Email address is a required field.\n",
            "Text is not present or page did not load within 10 seconds.\n",
            "BSBHI Legalwise Seminars  Building and Construction Review 2024Driving Offences\n",
            "Cookie consent accepted.\n",
            "Cookie consent accepted.\n",
            "Timeout while waiting for element: //li[text()='Fiji']\n",
            "Error message: Message: \n",
            "Stacktrace:\n",
            "#0 0x5853b83fe7f9 <unknown>\n",
            "#1 0x5853b839e3b3 <unknown>\n",
            "#2 0x5853b80e6016 <unknown>\n",
            "#3 0x5853b811a81e <unknown>\n",
            "#4 0x5853b81508fb <unknown>\n",
            "#5 0x5853b813dded <unknown>\n",
            "#6 0x5853b814e9e1 <unknown>\n",
            "#7 0x5853b813dc93 <unknown>\n",
            "#8 0x5853b810fce4 <unknown>\n",
            "#9 0x5853b81114d2 <unknown>\n",
            "#10 0x5853b83ca542 <unknown>\n",
            "#11 0x5853b83d9ce7 <unknown>\n",
            "#12 0x5853b83d99e4 <unknown>\n",
            "#13 0x5853b83de13a <unknown>\n",
            "#14 0x5853b83da5b9 <unknown>\n",
            "#15 0x5853b83bfe00 <unknown>\n",
            "#16 0x5853b83f15d2 <unknown>\n",
            "#17 0x5853b83f1778 <unknown>\n",
            "#18 0x5853b8409a1f <unknown>\n",
            "#19 0x7ac00bc3fac3 <unknown>\n",
            "#20 0x7ac00bcd1850 <unknown>\n",
            "\n",
            "Errors encountered:\n",
            "Billing City is a required field.\n",
            "Billing Postcode is a required field.\n",
            "Billing Phone is a required field.\n",
            "Billing Email address is a required field.\n",
            "Step 3 Failed: Legalwise Seminars  Building and Construction Review 2024Driving Offences due to error: Billing City is a required field.\n",
            "Billing Postcode is a required field.\n",
            "Billing Phone is a required field.\n",
            "Billing Email address is a required field.\n",
            "Text is not present or page did not load within 10 seconds.\n",
            "BSBHI Legalwise Seminars  Contract Law Conference\n",
            "Cookie consent accepted.\n",
            "Cookie consent accepted.\n",
            "Timeout while waiting for element: //li[text()='Fiji']\n",
            "Error message: Message: \n",
            "Stacktrace:\n",
            "#0 0x5853b83fe7f9 <unknown>\n",
            "#1 0x5853b839e3b3 <unknown>\n",
            "#2 0x5853b80e6016 <unknown>\n",
            "#3 0x5853b811a81e <unknown>\n",
            "#4 0x5853b81508fb <unknown>\n",
            "#5 0x5853b813dded <unknown>\n",
            "#6 0x5853b814e9e1 <unknown>\n",
            "#7 0x5853b813dc93 <unknown>\n",
            "#8 0x5853b810fce4 <unknown>\n",
            "#9 0x5853b81114d2 <unknown>\n",
            "#10 0x5853b83ca542 <unknown>\n",
            "#11 0x5853b83d9ce7 <unknown>\n",
            "#12 0x5853b83d99e4 <unknown>\n",
            "#13 0x5853b83de13a <unknown>\n",
            "#14 0x5853b83da5b9 <unknown>\n",
            "#15 0x5853b83bfe00 <unknown>\n",
            "#16 0x5853b83f15d2 <unknown>\n",
            "#17 0x5853b83f1778 <unknown>\n",
            "#18 0x5853b8409a1f <unknown>\n",
            "#19 0x7ac00bc3fac3 <unknown>\n",
            "#20 0x7ac00bcd1850 <unknown>\n",
            "\n",
            "Errors encountered:\n",
            "Billing City is a required field.\n",
            "Billing Postcode is a required field.\n",
            "Billing Phone is a required field.\n",
            "Billing Email address is a required field.\n",
            "Step 3 Failed: Legalwise Seminars  Contract Law Conference due to error: Billing City is a required field.\n",
            "Billing Postcode is a required field.\n",
            "Billing Phone is a required field.\n",
            "Billing Email address is a required field.\n",
            "Text is not present or page did not load within 10 seconds.\n",
            "BSBHI Legalwise Seminars  Property Law Conference\n",
            "Cookie consent accepted.\n",
            "Cookie consent accepted.\n",
            "Timeout while waiting for element: //li[text()='Fiji']\n",
            "Error message: Message: \n",
            "Stacktrace:\n",
            "#0 0x5853b83fe7f9 <unknown>\n",
            "#1 0x5853b839e3b3 <unknown>\n",
            "#2 0x5853b80e6016 <unknown>\n",
            "#3 0x5853b811a81e <unknown>\n",
            "#4 0x5853b81508fb <unknown>\n",
            "#5 0x5853b813dded <unknown>\n",
            "#6 0x5853b814e9e1 <unknown>\n",
            "#7 0x5853b813dc93 <unknown>\n",
            "#8 0x5853b810fce4 <unknown>\n",
            "#9 0x5853b81114d2 <unknown>\n",
            "#10 0x5853b83ca542 <unknown>\n",
            "#11 0x5853b83d9ce7 <unknown>\n",
            "#12 0x5853b83d99e4 <unknown>\n",
            "#13 0x5853b83de13a <unknown>\n",
            "#14 0x5853b83da5b9 <unknown>\n",
            "#15 0x5853b83bfe00 <unknown>\n",
            "#16 0x5853b83f15d2 <unknown>\n",
            "#17 0x5853b83f1778 <unknown>\n",
            "#18 0x5853b8409a1f <unknown>\n",
            "#19 0x7ac00bc3fac3 <unknown>\n",
            "#20 0x7ac00bcd1850 <unknown>\n",
            "\n",
            "Errors encountered:\n",
            "Billing City is a required field.\n",
            "Billing Postcode is a required field.\n",
            "Billing Phone is a required field.\n",
            "Billing Email address is a required field.\n",
            "Step 3 Failed: Legalwise Seminars  Property Law Conference due to error: Billing City is a required field.\n",
            "Billing Postcode is a required field.\n",
            "Billing Phone is a required field.\n",
            "Billing Email address is a required field.\n",
            "Text is not present or page did not load within 10 seconds.\n",
            "BSBHI Legalwise Seminars  Criminal Law Symposium 2024\n",
            "Cookie consent accepted.\n",
            "Cookie consent accepted.\n",
            "Timeout while waiting for element: //li[text()='Fiji']\n",
            "Error message: Message: \n",
            "Stacktrace:\n",
            "#0 0x5853b83fe7f9 <unknown>\n",
            "#1 0x5853b839e3b3 <unknown>\n",
            "#2 0x5853b80e6016 <unknown>\n",
            "#3 0x5853b811a81e <unknown>\n",
            "#4 0x5853b81508fb <unknown>\n",
            "#5 0x5853b813dded <unknown>\n",
            "#6 0x5853b814e9e1 <unknown>\n",
            "#7 0x5853b813dc93 <unknown>\n",
            "#8 0x5853b810fce4 <unknown>\n",
            "#9 0x5853b81114d2 <unknown>\n",
            "#10 0x5853b83ca542 <unknown>\n",
            "#11 0x5853b83d9ce7 <unknown>\n",
            "#12 0x5853b83d99e4 <unknown>\n",
            "#13 0x5853b83de13a <unknown>\n",
            "#14 0x5853b83da5b9 <unknown>\n",
            "#15 0x5853b83bfe00 <unknown>\n",
            "#16 0x5853b83f15d2 <unknown>\n",
            "#17 0x5853b83f1778 <unknown>\n",
            "#18 0x5853b8409a1f <unknown>\n",
            "#19 0x7ac00bc3fac3 <unknown>\n",
            "#20 0x7ac00bcd1850 <unknown>\n",
            "\n",
            "Errors encountered:\n",
            "Billing City is a required field.\n",
            "Billing Postcode is a required field.\n",
            "Billing Phone is a required field.\n",
            "Billing Email address is a required field.\n",
            "Step 3 Failed: Legalwise Seminars  Criminal Law Symposium 2024 due to error: Billing City is a required field.\n",
            "Billing Postcode is a required field.\n",
            "Billing Phone is a required field.\n",
            "Billing Email address is a required field.\n",
            "Text is not present or page did not load within 10 seconds.\n",
            "BSBHI Legalwise Seminars  Workplace Law Conference\n",
            "Cookie consent accepted.\n",
            "Cookie consent accepted.\n",
            "Timeout while waiting for element: //li[text()='Fiji']\n",
            "Error message: Message: \n",
            "Stacktrace:\n",
            "#0 0x5853b83fe7f9 <unknown>\n",
            "#1 0x5853b839e3b3 <unknown>\n",
            "#2 0x5853b80e6016 <unknown>\n",
            "#3 0x5853b811a81e <unknown>\n",
            "#4 0x5853b81508fb <unknown>\n",
            "#5 0x5853b813dded <unknown>\n",
            "#6 0x5853b814e9e1 <unknown>\n",
            "#7 0x5853b813dc93 <unknown>\n",
            "#8 0x5853b810fce4 <unknown>\n",
            "#9 0x5853b81114d2 <unknown>\n",
            "#10 0x5853b83ca542 <unknown>\n",
            "#11 0x5853b83d9ce7 <unknown>\n",
            "#12 0x5853b83d99e4 <unknown>\n",
            "#13 0x5853b83de13a <unknown>\n",
            "#14 0x5853b83da5b9 <unknown>\n",
            "#15 0x5853b83bfe00 <unknown>\n",
            "#16 0x5853b83f15d2 <unknown>\n",
            "#17 0x5853b83f1778 <unknown>\n",
            "#18 0x5853b8409a1f <unknown>\n",
            "#19 0x7ac00bc3fac3 <unknown>\n",
            "#20 0x7ac00bcd1850 <unknown>\n",
            "\n",
            "Errors encountered:\n",
            "Billing City is a required field.\n",
            "Billing Postcode is a required field.\n",
            "Billing Phone is a required field.\n",
            "Billing Email address is a required field.\n",
            "Step 3 Failed: Legalwise Seminars  Workplace Law Conference due to error: Billing City is a required field.\n",
            "Billing Postcode is a required field.\n",
            "Billing Phone is a required field.\n",
            "Billing Email address is a required field.\n",
            "Text is not present or page did not load within 10 seconds.\n",
            "BSBHI Harmony SE Asia Meeting\n",
            "Cookie consent accepted.\n",
            "Cookie consent accepted.\n",
            "Timeout while waiting for element: //li[text()='Fiji']\n",
            "Error message: Message: \n",
            "Stacktrace:\n",
            "#0 0x5853b83fe7f9 <unknown>\n",
            "#1 0x5853b839e3b3 <unknown>\n",
            "#2 0x5853b80e6016 <unknown>\n",
            "#3 0x5853b811a81e <unknown>\n",
            "#4 0x5853b81508fb <unknown>\n",
            "#5 0x5853b813dded <unknown>\n",
            "#6 0x5853b814e9e1 <unknown>\n",
            "#7 0x5853b813dc93 <unknown>\n",
            "#8 0x5853b810fce4 <unknown>\n",
            "#9 0x5853b81114d2 <unknown>\n",
            "#10 0x5853b83ca542 <unknown>\n",
            "#11 0x5853b83d9ce7 <unknown>\n",
            "#12 0x5853b83d99e4 <unknown>\n",
            "#13 0x5853b83de13a <unknown>\n",
            "#14 0x5853b83da5b9 <unknown>\n",
            "#15 0x5853b83bfe00 <unknown>\n",
            "#16 0x5853b83f15d2 <unknown>\n",
            "#17 0x5853b83f1778 <unknown>\n",
            "#18 0x5853b8409a1f <unknown>\n",
            "#19 0x7ac00bc3fac3 <unknown>\n",
            "#20 0x7ac00bcd1850 <unknown>\n",
            "\n",
            "Errors encountered:\n",
            "Billing City is a required field.\n",
            "Billing Postcode is a required field.\n",
            "Billing Phone is a required field.\n",
            "Billing Email address is a required field.\n",
            "Step 3 Failed: Harmony SE Asia Meeting due to error: Billing City is a required field.\n",
            "Billing Postcode is a required field.\n",
            "Billing Phone is a required field.\n",
            "Billing Email address is a required field.\n",
            "Text is not present or page did not load within 10 seconds.\n",
            "SYDHI Amplitude Workshop\n",
            "Step 2 Failed : Amplitude Workshop due to error! SKIPPING\n",
            "SYDHI Owners Meeting\n",
            "Cookie consent accepted.\n",
            "Cookie consent accepted.\n",
            "No error found continue: Message: \n",
            "\n",
            "SYDHI RW Baird  Co Meeting\n",
            "Cookie consent accepted.\n",
            "Cookie consent accepted.\n",
            "No error found continue: Message: \n",
            "\n",
            "SYDHI Team Forum\n",
            "Cookie consent accepted.\n",
            "Cookie consent accepted.\n",
            "No error found continue: Message: \n",
            "\n",
            "PERHI Rio Tinto Graduates\n",
            "Cookie consent accepted.\n",
            "Cookie consent accepted.\n",
            "No error found continue: Message: \n",
            "\n",
            "CRNHI CBWC March International Womens Day Luncheon\n",
            "Cookie consent accepted.\n",
            "Cookie consent accepted.\n",
            "No error found continue: Message: \n",
            "\n",
            "POMSM Protestant Agency for Diakonie and Development Ltd Meeting\n",
            "Cookie consent accepted.\n",
            "Cookie consent accepted.\n",
            "Error -Skipping\n",
            "Timeout while waiting for element: //li[text()='Papua New Guinea']\n",
            "Error message: Message: \n",
            "Stacktrace:\n",
            "#0 0x5853b83fe7f9 <unknown>\n",
            "#1 0x5853b839e3b3 <unknown>\n",
            "#2 0x5853b80e6016 <unknown>\n",
            "#3 0x5853b811a81e <unknown>\n",
            "#4 0x5853b81508fb <unknown>\n",
            "#5 0x5853b813dded <unknown>\n",
            "#6 0x5853b814e9e1 <unknown>\n",
            "#7 0x5853b813dc93 <unknown>\n",
            "#8 0x5853b810fce4 <unknown>\n",
            "#9 0x5853b81114d2 <unknown>\n",
            "#10 0x5853b83ca542 <unknown>\n",
            "#11 0x5853b83d9ce7 <unknown>\n",
            "#12 0x5853b83d99e4 <unknown>\n",
            "#13 0x5853b83de13a <unknown>\n",
            "#14 0x5853b83da5b9 <unknown>\n",
            "#15 0x5853b83bfe00 <unknown>\n",
            "#16 0x5853b83f15d2 <unknown>\n",
            "#17 0x5853b83f1778 <unknown>\n",
            "#18 0x5853b8409a1f <unknown>\n",
            "#19 0x7ac00bc3fac3 <unknown>\n",
            "#20 0x7ac00bcd1850 <unknown>\n",
            "\n",
            "Errors encountered:\n",
            "Billing State / County is a required field.\n",
            "Step 3 Failed: Protestant Agency for Diakonie and Development Ltd Meeting due to error: Billing State / County is a required field.\n",
            "Text is not present or page did not load within 10 seconds.\n",
            "POMSM USAID Conference 6th March 2024\n",
            "Step 2 Failed : USAID Conference 6th March 2024 due to error! SKIPPING\n",
            "POMSM USAID Conference 27th Feb 1st March 2024\n",
            "Step 2 Failed : USAID Conference 27th Feb 1st March 2024 due to error! SKIPPING\n",
            "POMSM USAID Conference 4th March 2024\n",
            "Step 2 Failed : USAID Conference 4th March 2024 due to error! SKIPPING\n",
            "POMSM USAID Conference 8th March 2024\n",
            "Step 2 Failed : USAID Conference 8th March 2024 due to error! SKIPPING\n",
            "POMSM Live2LeadPNG\n",
            "Cookie consent accepted.\n",
            "Cookie consent accepted.\n",
            "Error -Skipping\n",
            "Timeout while waiting for element: //li[text()='Papua New Guinea']\n",
            "Error message: Message: \n",
            "Stacktrace:\n",
            "#0 0x5853b83fe7f9 <unknown>\n",
            "#1 0x5853b839e3b3 <unknown>\n",
            "#2 0x5853b80e6016 <unknown>\n",
            "#3 0x5853b811a81e <unknown>\n",
            "#4 0x5853b81508fb <unknown>\n",
            "#5 0x5853b813dded <unknown>\n",
            "#6 0x5853b814e9e1 <unknown>\n",
            "#7 0x5853b813dc93 <unknown>\n",
            "#8 0x5853b810fce4 <unknown>\n",
            "#9 0x5853b81114d2 <unknown>\n",
            "#10 0x5853b83ca542 <unknown>\n",
            "#11 0x5853b83d9ce7 <unknown>\n",
            "#12 0x5853b83d99e4 <unknown>\n",
            "#13 0x5853b83de13a <unknown>\n",
            "#14 0x5853b83da5b9 <unknown>\n",
            "#15 0x5853b83bfe00 <unknown>\n",
            "#16 0x5853b83f15d2 <unknown>\n",
            "#17 0x5853b83f1778 <unknown>\n",
            "#18 0x5853b8409a1f <unknown>\n",
            "#19 0x7ac00bc3fac3 <unknown>\n",
            "#20 0x7ac00bcd1850 <unknown>\n",
            "\n",
            "Error\n",
            "Retrying\n",
            "No error found continue: Message: \n",
            "\n",
            "BSBHI Derma Medical Foundation Course  23 March 2024\n",
            "Cookie consent accepted.\n",
            "Cookie consent accepted.\n",
            "Timeout while waiting for element: //li[text()='Fiji']\n",
            "Error message: Message: \n",
            "Stacktrace:\n",
            "#0 0x5853b83fe7f9 <unknown>\n",
            "#1 0x5853b839e3b3 <unknown>\n",
            "#2 0x5853b80e6016 <unknown>\n",
            "#3 0x5853b811a81e <unknown>\n",
            "#4 0x5853b81508fb <unknown>\n",
            "#5 0x5853b813dded <unknown>\n",
            "#6 0x5853b814e9e1 <unknown>\n",
            "#7 0x5853b813dc93 <unknown>\n",
            "#8 0x5853b810fce4 <unknown>\n",
            "#9 0x5853b81114d2 <unknown>\n",
            "#10 0x5853b83ca542 <unknown>\n",
            "#11 0x5853b83d9ce7 <unknown>\n",
            "#12 0x5853b83d99e4 <unknown>\n",
            "#13 0x5853b83de13a <unknown>\n",
            "#14 0x5853b83da5b9 <unknown>\n",
            "#15 0x5853b83bfe00 <unknown>\n",
            "#16 0x5853b83f15d2 <unknown>\n",
            "#17 0x5853b83f1778 <unknown>\n",
            "#18 0x5853b8409a1f <unknown>\n",
            "#19 0x7ac00bc3fac3 <unknown>\n",
            "#20 0x7ac00bcd1850 <unknown>\n",
            "\n",
            "Errors encountered:\n",
            "Billing City is a required field.\n",
            "Billing State is a required field.\n",
            "Billing Postcode is a required field.\n",
            "Billing Phone is a required field.\n",
            "Billing Email address is a required field.\n",
            "Step 3 Failed: Derma Medical Foundation Course  23 March 2024 due to error: Billing City is a required field.\n",
            "Billing State is a required field.\n",
            "Billing Postcode is a required field.\n",
            "Billing Phone is a required field.\n",
            "Billing Email address is a required field.\n",
            "Text is not present or page did not load within 10 seconds.\n",
            "BSBHI 16902 Arrow Framing Workshop\n",
            "Cookie consent accepted.\n",
            "Cookie consent accepted.\n",
            "Timeout while waiting for element: //li[text()='Fiji']\n",
            "Error message: Message: \n",
            "Stacktrace:\n",
            "#0 0x5853b83fe7f9 <unknown>\n",
            "#1 0x5853b839e3b3 <unknown>\n",
            "#2 0x5853b80e6016 <unknown>\n",
            "#3 0x5853b811a81e <unknown>\n",
            "#4 0x5853b81508fb <unknown>\n",
            "#5 0x5853b813dded <unknown>\n",
            "#6 0x5853b814e9e1 <unknown>\n",
            "#7 0x5853b813dc93 <unknown>\n",
            "#8 0x5853b810fce4 <unknown>\n",
            "#9 0x5853b81114d2 <unknown>\n",
            "#10 0x5853b83ca542 <unknown>\n",
            "#11 0x5853b83d9ce7 <unknown>\n",
            "#12 0x5853b83d99e4 <unknown>\n",
            "#13 0x5853b83de13a <unknown>\n",
            "#14 0x5853b83da5b9 <unknown>\n",
            "#15 0x5853b83bfe00 <unknown>\n",
            "#16 0x5853b83f15d2 <unknown>\n",
            "#17 0x5853b83f1778 <unknown>\n",
            "#18 0x5853b8409a1f <unknown>\n",
            "#19 0x7ac00bc3fac3 <unknown>\n",
            "#20 0x7ac00bcd1850 <unknown>\n",
            "\n",
            "Errors encountered:\n",
            "Billing City is a required field.\n",
            "Billing State is a required field.\n",
            "Billing Postcode is a required field.\n",
            "Billing Phone is a required field.\n",
            "Billing Email address is a required field.\n",
            "Step 3 Failed: 16902 Arrow Framing Workshop due to error: Billing City is a required field.\n",
            "Billing State is a required field.\n",
            "Billing Postcode is a required field.\n",
            "Billing Phone is a required field.\n",
            "Billing Email address is a required field.\n",
            "Text is not present or page did not load within 10 seconds.\n",
            "DRWED Department of Education Conference\n",
            "Step 2 Failed : Department of Education Conference due to error! SKIPPING\n",
            "ADLHI Sonder Meeting\n",
            "Cookie consent accepted.\n",
            "Cookie consent accepted.\n",
            "No error found continue: Message: \n",
            "\n",
            "ADLHI Blake Emergency Meeting\n",
            "Step 2 Failed : Blake Emergency Meeting due to error! SKIPPING\n",
            "ADLHI Boeing Defence PMBP Workshop\n",
            "Step 2 Failed : Boeing Defence PMBP Workshop due to error! SKIPPING\n",
            "BSBHI Boeing  6 March 2024\n",
            "Cookie consent accepted.\n",
            "Cookie consent accepted.\n",
            "Timeout while waiting for element: //li[text()='Fiji']\n",
            "Error message: Message: \n",
            "Stacktrace:\n",
            "#0 0x5853b83fe7f9 <unknown>\n",
            "#1 0x5853b839e3b3 <unknown>\n",
            "#2 0x5853b80e6016 <unknown>\n",
            "#3 0x5853b811a81e <unknown>\n",
            "#4 0x5853b81508fb <unknown>\n",
            "#5 0x5853b813dded <unknown>\n",
            "#6 0x5853b814e9e1 <unknown>\n",
            "#7 0x5853b813dc93 <unknown>\n",
            "#8 0x5853b810fce4 <unknown>\n",
            "#9 0x5853b81114d2 <unknown>\n",
            "#10 0x5853b83ca542 <unknown>\n",
            "#11 0x5853b83d9ce7 <unknown>\n",
            "#12 0x5853b83d99e4 <unknown>\n",
            "#13 0x5853b83de13a <unknown>\n",
            "#14 0x5853b83da5b9 <unknown>\n",
            "#15 0x5853b83bfe00 <unknown>\n",
            "#16 0x5853b83f15d2 <unknown>\n",
            "#17 0x5853b83f1778 <unknown>\n",
            "#18 0x5853b8409a1f <unknown>\n",
            "#19 0x7ac00bc3fac3 <unknown>\n",
            "#20 0x7ac00bcd1850 <unknown>\n",
            "\n",
            "Errors encountered:\n",
            "Billing City is a required field.\n",
            "Billing Postcode is a required field.\n",
            "Billing Phone is a required field.\n",
            "Billing Email address is a required field.\n",
            "Step 3 Failed: Boeing  6 March 2024 due to error: Billing City is a required field.\n",
            "Billing Postcode is a required field.\n",
            "Billing Phone is a required field.\n",
            "Billing Email address is a required field.\n",
            "Text is not present or page did not load within 10 seconds.\n",
            "ADLHI Office for Early Years New Leaders Day\n",
            "Step 2 Failed : Office for Early Years New Leaders Day due to error! SKIPPING\n",
            "ADLHI SEAGas Meeting March 2024\n",
            "Step 2 Failed : SEAGas Meeting March 2024 due to error! SKIPPING\n",
            "ADLHI Motorola Solutions CAD Presentation\n",
            "Step 2 Failed : Motorola Solutions CAD Presentation due to error! SKIPPING\n",
            "CHCNZ Singapore Airlines March 2024 Training Conference\n",
            "Cookie consent accepted.\n",
            "Cookie consent accepted.\n",
            "Timeout while waiting for element: //li[text()='Fiji']\n",
            "Error message: Message: \n",
            "Stacktrace:\n",
            "#0 0x5853b83fe7f9 <unknown>\n",
            "#1 0x5853b839e3b3 <unknown>\n",
            "#2 0x5853b80e6016 <unknown>\n",
            "#3 0x5853b811a81e <unknown>\n",
            "#4 0x5853b81508fb <unknown>\n",
            "#5 0x5853b813dded <unknown>\n",
            "#6 0x5853b814e9e1 <unknown>\n",
            "#7 0x5853b813dc93 <unknown>\n",
            "#8 0x5853b810fce4 <unknown>\n",
            "#9 0x5853b81114d2 <unknown>\n",
            "#10 0x5853b83ca542 <unknown>\n",
            "#11 0x5853b83d9ce7 <unknown>\n",
            "#12 0x5853b83d99e4 <unknown>\n",
            "#13 0x5853b83de13a <unknown>\n",
            "#14 0x5853b83da5b9 <unknown>\n",
            "#15 0x5853b83bfe00 <unknown>\n",
            "#16 0x5853b83f15d2 <unknown>\n",
            "#17 0x5853b83f1778 <unknown>\n",
            "#18 0x5853b8409a1f <unknown>\n",
            "#19 0x7ac00bc3fac3 <unknown>\n",
            "#20 0x7ac00bcd1850 <unknown>\n",
            "\n",
            "Errors encountered:\n",
            "Billing City is a required field.\n",
            "Billing Region is a required field.\n",
            "Billing Postcode is a required field.\n",
            "Billing Phone is a required field.\n",
            "Billing Email address is a required field.\n",
            "Step 3 Failed: Singapore Airlines March 2024 Training Conference due to error: Billing City is a required field.\n",
            "Billing Region is a required field.\n",
            "Billing Postcode is a required field.\n",
            "Billing Phone is a required field.\n",
            "Billing Email address is a required field.\n",
            "Text is not present or page did not load within 10 seconds.\n",
            "CHCNZ Farmlands March 2024 Meeting  Reception\n",
            "Cookie consent accepted.\n",
            "Cookie consent accepted.\n",
            "Timeout while waiting for element: //li[text()='Fiji']\n",
            "Error message: Message: \n",
            "Stacktrace:\n",
            "#0 0x5853b83fe7f9 <unknown>\n",
            "#1 0x5853b839e3b3 <unknown>\n",
            "#2 0x5853b80e6016 <unknown>\n",
            "#3 0x5853b811a81e <unknown>\n",
            "#4 0x5853b81508fb <unknown>\n",
            "#5 0x5853b813dded <unknown>\n",
            "#6 0x5853b814e9e1 <unknown>\n",
            "#7 0x5853b813dc93 <unknown>\n",
            "#8 0x5853b810fce4 <unknown>\n",
            "#9 0x5853b81114d2 <unknown>\n",
            "#10 0x5853b83ca542 <unknown>\n",
            "#11 0x5853b83d9ce7 <unknown>\n",
            "#12 0x5853b83d99e4 <unknown>\n",
            "#13 0x5853b83de13a <unknown>\n",
            "#14 0x5853b83da5b9 <unknown>\n",
            "#15 0x5853b83bfe00 <unknown>\n",
            "#16 0x5853b83f15d2 <unknown>\n",
            "#17 0x5853b83f1778 <unknown>\n",
            "#18 0x5853b8409a1f <unknown>\n",
            "#19 0x7ac00bc3fac3 <unknown>\n",
            "#20 0x7ac00bcd1850 <unknown>\n",
            "\n",
            "Errors encountered:\n",
            "Billing City is a required field.\n",
            "Billing Region is a required field.\n",
            "Billing Postcode is a required field.\n",
            "Billing Phone is a required field.\n",
            "Billing Email address is a required field.\n",
            "Step 3 Failed: Farmlands March 2024 Meeting  Reception due to error: Billing City is a required field.\n",
            "Billing Region is a required field.\n",
            "Billing Postcode is a required field.\n",
            "Billing Phone is a required field.\n",
            "Billing Email address is a required field.\n",
            "Text is not present or page did not load within 10 seconds.\n",
            "SYDHI Thoughtspot GenAI Meetup SydneyIT\n",
            "Step 2 Failed : Thoughtspot GenAI Meetup SydneyIT due to error! SKIPPING\n",
            "SYDHI Spring Capital Meeting and Reception FINANCE\n",
            "Step 2 Failed : Spring Capital Meeting and Reception FINANCE due to error! SKIPPING\n",
            "ADLHI SA State Division Meeting TMAA\n",
            "Step 2 Failed : SA State Division Meeting TMAA due to error! SKIPPING\n",
            "ADLHI Schneider Business Briefing\n",
            "Step 2 Failed : Schneider Business Briefing due to error! SKIPPING\n",
            "ADLHI Biamp Meeting\n",
            "Cookie consent accepted.\n",
            "Cookie consent accepted.\n",
            "No error found continue: Message: \n",
            "\n",
            "ADLHI Department for Education Meeting\n",
            "Cookie consent accepted.\n",
            "Cookie consent accepted.\n",
            "No error found continue: Message: \n",
            "\n",
            "ADLHI Department for Education Meeting\n",
            "Step 2 Failed : Department for Education Meeting due to error! SKIPPING\n",
            "ADLHI Ecommerce Equation 2024\n",
            "Cookie consent accepted.\n",
            "Cookie consent accepted.\n",
            "No error found continue: Message: \n",
            "\n",
            "AKLKA Invenio Asset Management March 2024 Session\n"
          ]
        },
        {
          "output_type": "error",
          "ename": "KeyboardInterrupt",
          "evalue": "",
          "traceback": [
            "\u001b[0;31m---------------------------------------------------------------------------\u001b[0m",
            "\u001b[0;31mKeyboardInterrupt\u001b[0m                         Traceback (most recent call last)",
            "\u001b[0;32m<ipython-input-67-4f438282d173>\u001b[0m in \u001b[0;36m<cell line: 17>\u001b[0;34m()\u001b[0m\n\u001b[1;32m     50\u001b[0m \u001b[0;34m\u001b[0m\u001b[0m\n\u001b[1;32m     51\u001b[0m     \u001b[0melement\u001b[0m \u001b[0;34m=\u001b[0m \u001b[0mdriver\u001b[0m\u001b[0;34m.\u001b[0m\u001b[0mfind_element\u001b[0m\u001b[0;34m(\u001b[0m\u001b[0mBy\u001b[0m\u001b[0;34m.\u001b[0m\u001b[0mXPATH\u001b[0m\u001b[0;34m,\u001b[0m \u001b[0;34m\"//div[@id='meetingForm:meetingTable:0:meetingActionSelectItem1']\"\u001b[0m\u001b[0;34m)\u001b[0m\u001b[0;34m\u001b[0m\u001b[0;34m\u001b[0m\u001b[0m\n\u001b[0;32m---> 52\u001b[0;31m     \u001b[0mdriver\u001b[0m\u001b[0;34m.\u001b[0m\u001b[0mexecute_script\u001b[0m\u001b[0;34m(\u001b[0m\u001b[0;34m\"arguments[0].click();\"\u001b[0m\u001b[0;34m,\u001b[0m \u001b[0melement\u001b[0m\u001b[0;34m)\u001b[0m\u001b[0;34m\u001b[0m\u001b[0;34m\u001b[0m\u001b[0m\n\u001b[0m\u001b[1;32m     53\u001b[0m \u001b[0;34m\u001b[0m\u001b[0m\n\u001b[1;32m     54\u001b[0m     \u001b[0mwait\u001b[0m \u001b[0;34m=\u001b[0m \u001b[0mWebDriverWait\u001b[0m\u001b[0;34m(\u001b[0m\u001b[0mdriver\u001b[0m\u001b[0;34m,\u001b[0m \u001b[0mtimeout\u001b[0m\u001b[0;34m=\u001b[0m\u001b[0;36m10\u001b[0m\u001b[0;34m)\u001b[0m\u001b[0;34m\u001b[0m\u001b[0;34m\u001b[0m\u001b[0m\n",
            "\u001b[0;32m/usr/local/lib/python3.10/dist-packages/selenium/webdriver/remote/webdriver.py\u001b[0m in \u001b[0;36mexecute_script\u001b[0;34m(self, script, *args)\u001b[0m\n\u001b[1;32m    405\u001b[0m         \u001b[0mcommand\u001b[0m \u001b[0;34m=\u001b[0m \u001b[0mCommand\u001b[0m\u001b[0;34m.\u001b[0m\u001b[0mW3C_EXECUTE_SCRIPT\u001b[0m\u001b[0;34m\u001b[0m\u001b[0;34m\u001b[0m\u001b[0m\n\u001b[1;32m    406\u001b[0m \u001b[0;34m\u001b[0m\u001b[0m\n\u001b[0;32m--> 407\u001b[0;31m         \u001b[0;32mreturn\u001b[0m \u001b[0mself\u001b[0m\u001b[0;34m.\u001b[0m\u001b[0mexecute\u001b[0m\u001b[0;34m(\u001b[0m\u001b[0mcommand\u001b[0m\u001b[0;34m,\u001b[0m \u001b[0;34m{\u001b[0m\u001b[0;34m\"script\"\u001b[0m\u001b[0;34m:\u001b[0m \u001b[0mscript\u001b[0m\u001b[0;34m,\u001b[0m \u001b[0;34m\"args\"\u001b[0m\u001b[0;34m:\u001b[0m \u001b[0mconverted_args\u001b[0m\u001b[0;34m}\u001b[0m\u001b[0;34m)\u001b[0m\u001b[0;34m[\u001b[0m\u001b[0;34m\"value\"\u001b[0m\u001b[0;34m]\u001b[0m\u001b[0;34m\u001b[0m\u001b[0;34m\u001b[0m\u001b[0m\n\u001b[0m\u001b[1;32m    408\u001b[0m \u001b[0;34m\u001b[0m\u001b[0m\n\u001b[1;32m    409\u001b[0m     \u001b[0;32mdef\u001b[0m \u001b[0mexecute_async_script\u001b[0m\u001b[0;34m(\u001b[0m\u001b[0mself\u001b[0m\u001b[0;34m,\u001b[0m \u001b[0mscript\u001b[0m\u001b[0;34m:\u001b[0m \u001b[0mstr\u001b[0m\u001b[0;34m,\u001b[0m \u001b[0;34m*\u001b[0m\u001b[0margs\u001b[0m\u001b[0;34m)\u001b[0m\u001b[0;34m:\u001b[0m\u001b[0;34m\u001b[0m\u001b[0;34m\u001b[0m\u001b[0m\n",
            "\u001b[0;32m/usr/local/lib/python3.10/dist-packages/selenium/webdriver/remote/webdriver.py\u001b[0m in \u001b[0;36mexecute\u001b[0;34m(self, driver_command, params)\u001b[0m\n\u001b[1;32m    343\u001b[0m                 \u001b[0mparams\u001b[0m\u001b[0;34m[\u001b[0m\u001b[0;34m\"sessionId\"\u001b[0m\u001b[0;34m]\u001b[0m \u001b[0;34m=\u001b[0m \u001b[0mself\u001b[0m\u001b[0;34m.\u001b[0m\u001b[0msession_id\u001b[0m\u001b[0;34m\u001b[0m\u001b[0;34m\u001b[0m\u001b[0m\n\u001b[1;32m    344\u001b[0m \u001b[0;34m\u001b[0m\u001b[0m\n\u001b[0;32m--> 345\u001b[0;31m         \u001b[0mresponse\u001b[0m \u001b[0;34m=\u001b[0m \u001b[0mself\u001b[0m\u001b[0;34m.\u001b[0m\u001b[0mcommand_executor\u001b[0m\u001b[0;34m.\u001b[0m\u001b[0mexecute\u001b[0m\u001b[0;34m(\u001b[0m\u001b[0mdriver_command\u001b[0m\u001b[0;34m,\u001b[0m \u001b[0mparams\u001b[0m\u001b[0;34m)\u001b[0m\u001b[0;34m\u001b[0m\u001b[0;34m\u001b[0m\u001b[0m\n\u001b[0m\u001b[1;32m    346\u001b[0m         \u001b[0;32mif\u001b[0m \u001b[0mresponse\u001b[0m\u001b[0;34m:\u001b[0m\u001b[0;34m\u001b[0m\u001b[0;34m\u001b[0m\u001b[0m\n\u001b[1;32m    347\u001b[0m             \u001b[0mself\u001b[0m\u001b[0;34m.\u001b[0m\u001b[0merror_handler\u001b[0m\u001b[0;34m.\u001b[0m\u001b[0mcheck_response\u001b[0m\u001b[0;34m(\u001b[0m\u001b[0mresponse\u001b[0m\u001b[0;34m)\u001b[0m\u001b[0;34m\u001b[0m\u001b[0;34m\u001b[0m\u001b[0m\n",
            "\u001b[0;32m/usr/local/lib/python3.10/dist-packages/selenium/webdriver/remote/remote_connection.py\u001b[0m in \u001b[0;36mexecute\u001b[0;34m(self, command, params)\u001b[0m\n\u001b[1;32m    300\u001b[0m         \u001b[0mtrimmed\u001b[0m \u001b[0;34m=\u001b[0m \u001b[0mself\u001b[0m\u001b[0;34m.\u001b[0m\u001b[0m_trim_large_entries\u001b[0m\u001b[0;34m(\u001b[0m\u001b[0mparams\u001b[0m\u001b[0;34m)\u001b[0m\u001b[0;34m\u001b[0m\u001b[0;34m\u001b[0m\u001b[0m\n\u001b[1;32m    301\u001b[0m         \u001b[0mLOGGER\u001b[0m\u001b[0;34m.\u001b[0m\u001b[0mdebug\u001b[0m\u001b[0;34m(\u001b[0m\u001b[0;34m\"%s %s %s\"\u001b[0m\u001b[0;34m,\u001b[0m \u001b[0mcommand_info\u001b[0m\u001b[0;34m[\u001b[0m\u001b[0;36m0\u001b[0m\u001b[0;34m]\u001b[0m\u001b[0;34m,\u001b[0m \u001b[0murl\u001b[0m\u001b[0;34m,\u001b[0m \u001b[0mstr\u001b[0m\u001b[0;34m(\u001b[0m\u001b[0mtrimmed\u001b[0m\u001b[0;34m)\u001b[0m\u001b[0;34m)\u001b[0m\u001b[0;34m\u001b[0m\u001b[0;34m\u001b[0m\u001b[0m\n\u001b[0;32m--> 302\u001b[0;31m         \u001b[0;32mreturn\u001b[0m \u001b[0mself\u001b[0m\u001b[0;34m.\u001b[0m\u001b[0m_request\u001b[0m\u001b[0;34m(\u001b[0m\u001b[0mcommand_info\u001b[0m\u001b[0;34m[\u001b[0m\u001b[0;36m0\u001b[0m\u001b[0;34m]\u001b[0m\u001b[0;34m,\u001b[0m \u001b[0murl\u001b[0m\u001b[0;34m,\u001b[0m \u001b[0mbody\u001b[0m\u001b[0;34m=\u001b[0m\u001b[0mdata\u001b[0m\u001b[0;34m)\u001b[0m\u001b[0;34m\u001b[0m\u001b[0;34m\u001b[0m\u001b[0m\n\u001b[0m\u001b[1;32m    303\u001b[0m \u001b[0;34m\u001b[0m\u001b[0m\n\u001b[1;32m    304\u001b[0m     \u001b[0;32mdef\u001b[0m \u001b[0m_request\u001b[0m\u001b[0;34m(\u001b[0m\u001b[0mself\u001b[0m\u001b[0;34m,\u001b[0m \u001b[0mmethod\u001b[0m\u001b[0;34m,\u001b[0m \u001b[0murl\u001b[0m\u001b[0;34m,\u001b[0m \u001b[0mbody\u001b[0m\u001b[0;34m=\u001b[0m\u001b[0;32mNone\u001b[0m\u001b[0;34m)\u001b[0m\u001b[0;34m:\u001b[0m\u001b[0;34m\u001b[0m\u001b[0;34m\u001b[0m\u001b[0m\n",
            "\u001b[0;32m/usr/local/lib/python3.10/dist-packages/selenium/webdriver/remote/remote_connection.py\u001b[0m in \u001b[0;36m_request\u001b[0;34m(self, method, url, body)\u001b[0m\n\u001b[1;32m    320\u001b[0m \u001b[0;34m\u001b[0m\u001b[0m\n\u001b[1;32m    321\u001b[0m         \u001b[0;32mif\u001b[0m \u001b[0mself\u001b[0m\u001b[0;34m.\u001b[0m\u001b[0mkeep_alive\u001b[0m\u001b[0;34m:\u001b[0m\u001b[0;34m\u001b[0m\u001b[0;34m\u001b[0m\u001b[0m\n\u001b[0;32m--> 322\u001b[0;31m             \u001b[0mresponse\u001b[0m \u001b[0;34m=\u001b[0m \u001b[0mself\u001b[0m\u001b[0;34m.\u001b[0m\u001b[0m_conn\u001b[0m\u001b[0;34m.\u001b[0m\u001b[0mrequest\u001b[0m\u001b[0;34m(\u001b[0m\u001b[0mmethod\u001b[0m\u001b[0;34m,\u001b[0m \u001b[0murl\u001b[0m\u001b[0;34m,\u001b[0m \u001b[0mbody\u001b[0m\u001b[0;34m=\u001b[0m\u001b[0mbody\u001b[0m\u001b[0;34m,\u001b[0m \u001b[0mheaders\u001b[0m\u001b[0;34m=\u001b[0m\u001b[0mheaders\u001b[0m\u001b[0;34m)\u001b[0m\u001b[0;34m\u001b[0m\u001b[0;34m\u001b[0m\u001b[0m\n\u001b[0m\u001b[1;32m    323\u001b[0m             \u001b[0mstatuscode\u001b[0m \u001b[0;34m=\u001b[0m \u001b[0mresponse\u001b[0m\u001b[0;34m.\u001b[0m\u001b[0mstatus\u001b[0m\u001b[0;34m\u001b[0m\u001b[0;34m\u001b[0m\u001b[0m\n\u001b[1;32m    324\u001b[0m         \u001b[0;32melse\u001b[0m\u001b[0;34m:\u001b[0m\u001b[0;34m\u001b[0m\u001b[0;34m\u001b[0m\u001b[0m\n",
            "\u001b[0;32m/usr/local/lib/python3.10/dist-packages/urllib3/_request_methods.py\u001b[0m in \u001b[0;36mrequest\u001b[0;34m(self, method, url, body, fields, headers, json, **urlopen_kw)\u001b[0m\n\u001b[1;32m    116\u001b[0m             )\n\u001b[1;32m    117\u001b[0m         \u001b[0;32melse\u001b[0m\u001b[0;34m:\u001b[0m\u001b[0;34m\u001b[0m\u001b[0;34m\u001b[0m\u001b[0m\n\u001b[0;32m--> 118\u001b[0;31m             return self.request_encode_body(\n\u001b[0m\u001b[1;32m    119\u001b[0m                 \u001b[0mmethod\u001b[0m\u001b[0;34m,\u001b[0m \u001b[0murl\u001b[0m\u001b[0;34m,\u001b[0m \u001b[0mfields\u001b[0m\u001b[0;34m=\u001b[0m\u001b[0mfields\u001b[0m\u001b[0;34m,\u001b[0m \u001b[0mheaders\u001b[0m\u001b[0;34m=\u001b[0m\u001b[0mheaders\u001b[0m\u001b[0;34m,\u001b[0m \u001b[0;34m**\u001b[0m\u001b[0murlopen_kw\u001b[0m\u001b[0;34m\u001b[0m\u001b[0;34m\u001b[0m\u001b[0m\n\u001b[1;32m    120\u001b[0m             )\n",
            "\u001b[0;32m/usr/local/lib/python3.10/dist-packages/urllib3/_request_methods.py\u001b[0m in \u001b[0;36mrequest_encode_body\u001b[0;34m(self, method, url, fields, headers, encode_multipart, multipart_boundary, **urlopen_kw)\u001b[0m\n\u001b[1;32m    215\u001b[0m         \u001b[0mextra_kw\u001b[0m\u001b[0;34m.\u001b[0m\u001b[0mupdate\u001b[0m\u001b[0;34m(\u001b[0m\u001b[0murlopen_kw\u001b[0m\u001b[0;34m)\u001b[0m\u001b[0;34m\u001b[0m\u001b[0;34m\u001b[0m\u001b[0m\n\u001b[1;32m    216\u001b[0m \u001b[0;34m\u001b[0m\u001b[0m\n\u001b[0;32m--> 217\u001b[0;31m         \u001b[0;32mreturn\u001b[0m \u001b[0mself\u001b[0m\u001b[0;34m.\u001b[0m\u001b[0murlopen\u001b[0m\u001b[0;34m(\u001b[0m\u001b[0mmethod\u001b[0m\u001b[0;34m,\u001b[0m \u001b[0murl\u001b[0m\u001b[0;34m,\u001b[0m \u001b[0;34m**\u001b[0m\u001b[0mextra_kw\u001b[0m\u001b[0;34m)\u001b[0m\u001b[0;34m\u001b[0m\u001b[0;34m\u001b[0m\u001b[0m\n\u001b[0m",
            "\u001b[0;32m/usr/local/lib/python3.10/dist-packages/urllib3/poolmanager.py\u001b[0m in \u001b[0;36murlopen\u001b[0;34m(self, method, url, redirect, **kw)\u001b[0m\n\u001b[1;32m    441\u001b[0m             \u001b[0mresponse\u001b[0m \u001b[0;34m=\u001b[0m \u001b[0mconn\u001b[0m\u001b[0;34m.\u001b[0m\u001b[0murlopen\u001b[0m\u001b[0;34m(\u001b[0m\u001b[0mmethod\u001b[0m\u001b[0;34m,\u001b[0m \u001b[0murl\u001b[0m\u001b[0;34m,\u001b[0m \u001b[0;34m**\u001b[0m\u001b[0mkw\u001b[0m\u001b[0;34m)\u001b[0m\u001b[0;34m\u001b[0m\u001b[0;34m\u001b[0m\u001b[0m\n\u001b[1;32m    442\u001b[0m         \u001b[0;32melse\u001b[0m\u001b[0;34m:\u001b[0m\u001b[0;34m\u001b[0m\u001b[0;34m\u001b[0m\u001b[0m\n\u001b[0;32m--> 443\u001b[0;31m             \u001b[0mresponse\u001b[0m \u001b[0;34m=\u001b[0m \u001b[0mconn\u001b[0m\u001b[0;34m.\u001b[0m\u001b[0murlopen\u001b[0m\u001b[0;34m(\u001b[0m\u001b[0mmethod\u001b[0m\u001b[0;34m,\u001b[0m \u001b[0mu\u001b[0m\u001b[0;34m.\u001b[0m\u001b[0mrequest_uri\u001b[0m\u001b[0;34m,\u001b[0m \u001b[0;34m**\u001b[0m\u001b[0mkw\u001b[0m\u001b[0;34m)\u001b[0m\u001b[0;34m\u001b[0m\u001b[0;34m\u001b[0m\u001b[0m\n\u001b[0m\u001b[1;32m    444\u001b[0m \u001b[0;34m\u001b[0m\u001b[0m\n\u001b[1;32m    445\u001b[0m         \u001b[0mredirect_location\u001b[0m \u001b[0;34m=\u001b[0m \u001b[0mredirect\u001b[0m \u001b[0;32mand\u001b[0m \u001b[0mresponse\u001b[0m\u001b[0;34m.\u001b[0m\u001b[0mget_redirect_location\u001b[0m\u001b[0;34m(\u001b[0m\u001b[0;34m)\u001b[0m\u001b[0;34m\u001b[0m\u001b[0;34m\u001b[0m\u001b[0m\n",
            "\u001b[0;32m/usr/local/lib/python3.10/dist-packages/urllib3/connectionpool.py\u001b[0m in \u001b[0;36murlopen\u001b[0;34m(self, method, url, body, headers, retries, redirect, assert_same_host, timeout, pool_timeout, release_conn, chunked, body_pos, preload_content, decode_content, **response_kw)\u001b[0m\n\u001b[1;32m    789\u001b[0m \u001b[0;34m\u001b[0m\u001b[0m\n\u001b[1;32m    790\u001b[0m             \u001b[0;31m# Make the request on the HTTPConnection object\u001b[0m\u001b[0;34m\u001b[0m\u001b[0;34m\u001b[0m\u001b[0m\n\u001b[0;32m--> 791\u001b[0;31m             response = self._make_request(\n\u001b[0m\u001b[1;32m    792\u001b[0m                 \u001b[0mconn\u001b[0m\u001b[0;34m,\u001b[0m\u001b[0;34m\u001b[0m\u001b[0;34m\u001b[0m\u001b[0m\n\u001b[1;32m    793\u001b[0m                 \u001b[0mmethod\u001b[0m\u001b[0;34m,\u001b[0m\u001b[0;34m\u001b[0m\u001b[0;34m\u001b[0m\u001b[0m\n",
            "\u001b[0;32m/usr/local/lib/python3.10/dist-packages/urllib3/connectionpool.py\u001b[0m in \u001b[0;36m_make_request\u001b[0;34m(self, conn, method, url, body, headers, retries, timeout, chunked, response_conn, preload_content, decode_content, enforce_content_length)\u001b[0m\n\u001b[1;32m    535\u001b[0m         \u001b[0;31m# Receive the response from the server\u001b[0m\u001b[0;34m\u001b[0m\u001b[0;34m\u001b[0m\u001b[0m\n\u001b[1;32m    536\u001b[0m         \u001b[0;32mtry\u001b[0m\u001b[0;34m:\u001b[0m\u001b[0;34m\u001b[0m\u001b[0;34m\u001b[0m\u001b[0m\n\u001b[0;32m--> 537\u001b[0;31m             \u001b[0mresponse\u001b[0m \u001b[0;34m=\u001b[0m \u001b[0mconn\u001b[0m\u001b[0;34m.\u001b[0m\u001b[0mgetresponse\u001b[0m\u001b[0;34m(\u001b[0m\u001b[0;34m)\u001b[0m\u001b[0;34m\u001b[0m\u001b[0;34m\u001b[0m\u001b[0m\n\u001b[0m\u001b[1;32m    538\u001b[0m         \u001b[0;32mexcept\u001b[0m \u001b[0;34m(\u001b[0m\u001b[0mBaseSSLError\u001b[0m\u001b[0;34m,\u001b[0m \u001b[0mOSError\u001b[0m\u001b[0;34m)\u001b[0m \u001b[0;32mas\u001b[0m \u001b[0me\u001b[0m\u001b[0;34m:\u001b[0m\u001b[0;34m\u001b[0m\u001b[0;34m\u001b[0m\u001b[0m\n\u001b[1;32m    539\u001b[0m             \u001b[0mself\u001b[0m\u001b[0;34m.\u001b[0m\u001b[0m_raise_timeout\u001b[0m\u001b[0;34m(\u001b[0m\u001b[0merr\u001b[0m\u001b[0;34m=\u001b[0m\u001b[0me\u001b[0m\u001b[0;34m,\u001b[0m \u001b[0murl\u001b[0m\u001b[0;34m=\u001b[0m\u001b[0murl\u001b[0m\u001b[0;34m,\u001b[0m \u001b[0mtimeout_value\u001b[0m\u001b[0;34m=\u001b[0m\u001b[0mread_timeout\u001b[0m\u001b[0;34m)\u001b[0m\u001b[0;34m\u001b[0m\u001b[0;34m\u001b[0m\u001b[0m\n",
            "\u001b[0;32m/usr/local/lib/python3.10/dist-packages/urllib3/connection.py\u001b[0m in \u001b[0;36mgetresponse\u001b[0;34m(self)\u001b[0m\n\u001b[1;32m    459\u001b[0m \u001b[0;34m\u001b[0m\u001b[0m\n\u001b[1;32m    460\u001b[0m         \u001b[0;31m# Get the response from http.client.HTTPConnection\u001b[0m\u001b[0;34m\u001b[0m\u001b[0;34m\u001b[0m\u001b[0m\n\u001b[0;32m--> 461\u001b[0;31m         \u001b[0mhttplib_response\u001b[0m \u001b[0;34m=\u001b[0m \u001b[0msuper\u001b[0m\u001b[0;34m(\u001b[0m\u001b[0;34m)\u001b[0m\u001b[0;34m.\u001b[0m\u001b[0mgetresponse\u001b[0m\u001b[0;34m(\u001b[0m\u001b[0;34m)\u001b[0m\u001b[0;34m\u001b[0m\u001b[0;34m\u001b[0m\u001b[0m\n\u001b[0m\u001b[1;32m    462\u001b[0m \u001b[0;34m\u001b[0m\u001b[0m\n\u001b[1;32m    463\u001b[0m         \u001b[0;32mtry\u001b[0m\u001b[0;34m:\u001b[0m\u001b[0;34m\u001b[0m\u001b[0;34m\u001b[0m\u001b[0m\n",
            "\u001b[0;32m/usr/lib/python3.10/http/client.py\u001b[0m in \u001b[0;36mgetresponse\u001b[0;34m(self)\u001b[0m\n\u001b[1;32m   1373\u001b[0m         \u001b[0;32mtry\u001b[0m\u001b[0;34m:\u001b[0m\u001b[0;34m\u001b[0m\u001b[0;34m\u001b[0m\u001b[0m\n\u001b[1;32m   1374\u001b[0m             \u001b[0;32mtry\u001b[0m\u001b[0;34m:\u001b[0m\u001b[0;34m\u001b[0m\u001b[0;34m\u001b[0m\u001b[0m\n\u001b[0;32m-> 1375\u001b[0;31m                 \u001b[0mresponse\u001b[0m\u001b[0;34m.\u001b[0m\u001b[0mbegin\u001b[0m\u001b[0;34m(\u001b[0m\u001b[0;34m)\u001b[0m\u001b[0;34m\u001b[0m\u001b[0;34m\u001b[0m\u001b[0m\n\u001b[0m\u001b[1;32m   1376\u001b[0m             \u001b[0;32mexcept\u001b[0m \u001b[0mConnectionError\u001b[0m\u001b[0;34m:\u001b[0m\u001b[0;34m\u001b[0m\u001b[0;34m\u001b[0m\u001b[0m\n\u001b[1;32m   1377\u001b[0m                 \u001b[0mself\u001b[0m\u001b[0;34m.\u001b[0m\u001b[0mclose\u001b[0m\u001b[0;34m(\u001b[0m\u001b[0;34m)\u001b[0m\u001b[0;34m\u001b[0m\u001b[0;34m\u001b[0m\u001b[0m\n",
            "\u001b[0;32m/usr/lib/python3.10/http/client.py\u001b[0m in \u001b[0;36mbegin\u001b[0;34m(self)\u001b[0m\n\u001b[1;32m    316\u001b[0m         \u001b[0;31m# read until we get a non-100 response\u001b[0m\u001b[0;34m\u001b[0m\u001b[0;34m\u001b[0m\u001b[0m\n\u001b[1;32m    317\u001b[0m         \u001b[0;32mwhile\u001b[0m \u001b[0;32mTrue\u001b[0m\u001b[0;34m:\u001b[0m\u001b[0;34m\u001b[0m\u001b[0;34m\u001b[0m\u001b[0m\n\u001b[0;32m--> 318\u001b[0;31m             \u001b[0mversion\u001b[0m\u001b[0;34m,\u001b[0m \u001b[0mstatus\u001b[0m\u001b[0;34m,\u001b[0m \u001b[0mreason\u001b[0m \u001b[0;34m=\u001b[0m \u001b[0mself\u001b[0m\u001b[0;34m.\u001b[0m\u001b[0m_read_status\u001b[0m\u001b[0;34m(\u001b[0m\u001b[0;34m)\u001b[0m\u001b[0;34m\u001b[0m\u001b[0;34m\u001b[0m\u001b[0m\n\u001b[0m\u001b[1;32m    319\u001b[0m             \u001b[0;32mif\u001b[0m \u001b[0mstatus\u001b[0m \u001b[0;34m!=\u001b[0m \u001b[0mCONTINUE\u001b[0m\u001b[0;34m:\u001b[0m\u001b[0;34m\u001b[0m\u001b[0;34m\u001b[0m\u001b[0m\n\u001b[1;32m    320\u001b[0m                 \u001b[0;32mbreak\u001b[0m\u001b[0;34m\u001b[0m\u001b[0;34m\u001b[0m\u001b[0m\n",
            "\u001b[0;32m/usr/lib/python3.10/http/client.py\u001b[0m in \u001b[0;36m_read_status\u001b[0;34m(self)\u001b[0m\n\u001b[1;32m    277\u001b[0m \u001b[0;34m\u001b[0m\u001b[0m\n\u001b[1;32m    278\u001b[0m     \u001b[0;32mdef\u001b[0m \u001b[0m_read_status\u001b[0m\u001b[0;34m(\u001b[0m\u001b[0mself\u001b[0m\u001b[0;34m)\u001b[0m\u001b[0;34m:\u001b[0m\u001b[0;34m\u001b[0m\u001b[0;34m\u001b[0m\u001b[0m\n\u001b[0;32m--> 279\u001b[0;31m         \u001b[0mline\u001b[0m \u001b[0;34m=\u001b[0m \u001b[0mstr\u001b[0m\u001b[0;34m(\u001b[0m\u001b[0mself\u001b[0m\u001b[0;34m.\u001b[0m\u001b[0mfp\u001b[0m\u001b[0;34m.\u001b[0m\u001b[0mreadline\u001b[0m\u001b[0;34m(\u001b[0m\u001b[0m_MAXLINE\u001b[0m \u001b[0;34m+\u001b[0m \u001b[0;36m1\u001b[0m\u001b[0;34m)\u001b[0m\u001b[0;34m,\u001b[0m \u001b[0;34m\"iso-8859-1\"\u001b[0m\u001b[0;34m)\u001b[0m\u001b[0;34m\u001b[0m\u001b[0;34m\u001b[0m\u001b[0m\n\u001b[0m\u001b[1;32m    280\u001b[0m         \u001b[0;32mif\u001b[0m \u001b[0mlen\u001b[0m\u001b[0;34m(\u001b[0m\u001b[0mline\u001b[0m\u001b[0;34m)\u001b[0m \u001b[0;34m>\u001b[0m \u001b[0m_MAXLINE\u001b[0m\u001b[0;34m:\u001b[0m\u001b[0;34m\u001b[0m\u001b[0;34m\u001b[0m\u001b[0m\n\u001b[1;32m    281\u001b[0m             \u001b[0;32mraise\u001b[0m \u001b[0mLineTooLong\u001b[0m\u001b[0;34m(\u001b[0m\u001b[0;34m\"status line\"\u001b[0m\u001b[0;34m)\u001b[0m\u001b[0;34m\u001b[0m\u001b[0;34m\u001b[0m\u001b[0m\n",
            "\u001b[0;32m/usr/lib/python3.10/socket.py\u001b[0m in \u001b[0;36mreadinto\u001b[0;34m(self, b)\u001b[0m\n\u001b[1;32m    703\u001b[0m         \u001b[0;32mwhile\u001b[0m \u001b[0;32mTrue\u001b[0m\u001b[0;34m:\u001b[0m\u001b[0;34m\u001b[0m\u001b[0;34m\u001b[0m\u001b[0m\n\u001b[1;32m    704\u001b[0m             \u001b[0;32mtry\u001b[0m\u001b[0;34m:\u001b[0m\u001b[0;34m\u001b[0m\u001b[0;34m\u001b[0m\u001b[0m\n\u001b[0;32m--> 705\u001b[0;31m                 \u001b[0;32mreturn\u001b[0m \u001b[0mself\u001b[0m\u001b[0;34m.\u001b[0m\u001b[0m_sock\u001b[0m\u001b[0;34m.\u001b[0m\u001b[0mrecv_into\u001b[0m\u001b[0;34m(\u001b[0m\u001b[0mb\u001b[0m\u001b[0;34m)\u001b[0m\u001b[0;34m\u001b[0m\u001b[0;34m\u001b[0m\u001b[0m\n\u001b[0m\u001b[1;32m    706\u001b[0m             \u001b[0;32mexcept\u001b[0m \u001b[0mtimeout\u001b[0m\u001b[0;34m:\u001b[0m\u001b[0;34m\u001b[0m\u001b[0;34m\u001b[0m\u001b[0m\n\u001b[1;32m    707\u001b[0m                 \u001b[0mself\u001b[0m\u001b[0;34m.\u001b[0m\u001b[0m_timeout_occurred\u001b[0m \u001b[0;34m=\u001b[0m \u001b[0;32mTrue\u001b[0m\u001b[0;34m\u001b[0m\u001b[0;34m\u001b[0m\u001b[0m\n",
            "\u001b[0;31mKeyboardInterrupt\u001b[0m: "
          ]
        }
      ],
      "source": [
        "failed_meetings = []\n",
        "df_lookup = pd.read_csv('lookup.csv')\n",
        "\n",
        "progress_bar = tqdm(total=len(df), position=0, leave=True)\n",
        "#special cleaning\n",
        "regex = r'.*[-@!\\'](.*)'\n",
        "extracted = df['Meeting /Event Name'].str.extract(regex, expand=False)\n",
        "df['Meeting /Event Name'] = extracted.fillna(df['Meeting /Event Name'])\n",
        "\n",
        "#merge our df to include additional details, so we can easily fill in the rows/columns\n",
        "\n",
        "\n",
        "# Merge the dataframes based on 'id'\n",
        "result = df.merge(df_lookup, on='Hotel Code', how='left')\n",
        "\n",
        "\n",
        "for index, row in result.iterrows():\n",
        "  print(str(row['Hotel Code']) + \" \" + str(row['Meeting /Event Name']))\n",
        "  driver.get('https://lightstay.ei3.com/property/' + str(row['Hotel Code']) + '/tools/meetingcalculator?statusFilter=2')\n",
        "  #page_source = driver.page_source\n",
        "\n",
        "# Print the page source\n",
        " # print(page_source)\n",
        "\n",
        "\n",
        "\n",
        "  # Ensure 'Submitted' is checked\n",
        "  try:\n",
        "    submitted_checkbox = driver.find_element(By.ID, 'meetingForm:statusFilter:2')\n",
        "    if not submitted_checkbox.is_selected():\n",
        "        submitted_checkbox.click()  # This will check the 'Submitted' checkbox if it isn't already checked\n",
        "  except Exception as e:\n",
        "      print(f\"Step 1 Failed: {row['Meeting /Event Name']} due to error! SKIPPING\")\n",
        "      failed_meetings.append(row['Meeting /Event Name'])\n",
        "      continue\n",
        "\n",
        "  # Enter the meeting/event name in the search box\n",
        "  search_box = driver.find_element(By.ID, 'meetingForm:txtFilterText')\n",
        "  search_box.clear()  # Clear any existing text\n",
        "\n",
        "  search_box.send_keys(row['Meeting /Event Name'])\n",
        "\n",
        "  # Trigger the search by pressing Enter\n",
        "  search_box.send_keys(Keys.RETURN) # Stimulate Enter and wait\n",
        "  driver.implicitly_wait(10) # wait for 2 seconds\n",
        "\n",
        "  try:\n",
        "    element = driver.find_element(By.XPATH, \"//input[@id='meetingForm:meetingTable:0:meetingActionSelectInput']\")\n",
        "    driver.execute_script(\"arguments[0].click();\", element)\n",
        "\n",
        "    element = driver.find_element(By.XPATH, \"//div[@id='meetingForm:meetingTable:0:meetingActionSelectItem1']\")\n",
        "    driver.execute_script(\"arguments[0].click();\", element)\n",
        "\n",
        "    wait = WebDriverWait(driver, timeout=10)\n",
        "    iframe_element = wait.until(EC.presence_of_element_located((By.ID, 'climeCoForm')))\n",
        "    driver.switch_to.frame(iframe_element)\n",
        "\n",
        "  # element = driver.find_element(By.XPATH, \"//input[@id='meetingForm:meetingTable:0:meetingActionSelectInput']\")\n",
        "  # driver.execute_script(\"arguments[0].click();\", element)\n",
        " #   try:\n",
        " #     element = driver.find_element(By.XPATH,\"//div[@class='cky-consent-bar']\")\n",
        " #     accept_button = driver.find_element_by_xpath(\"//button[contains(@class, 'cky-btn-accept')]\")\n",
        " #     driver.execute_script(\"arguments[0].click();\", accept_button)\n",
        "    #  accept_button.click()\n",
        "\n",
        "\n",
        "#    except Exception as e:\n",
        "#      print(\"Not found - continue\")\n",
        "\n",
        "\n",
        "   # checkout_button = driver.find_element(By.XPATH, \"//a[contains(text(),'Checkout Now')]\")\n",
        "  #  checkout_button.click()\n",
        "  except Exception as e:\n",
        "        print(f\"Step 2 Failed : {row['Meeting /Event Name']} due to error! SKIPPING\")\n",
        "        failed_meetings.append(row['Meeting /Event Name'])\n",
        "        continue\n",
        "\n",
        "  try:\n",
        "      wait = WebDriverWait(driver, 10)\n",
        "      accept_button = wait.until(EC.element_to_be_clickable((By.XPATH, \"//button[contains(text(), 'Accept All')]\")))\n",
        "      accept_button.click()\n",
        "      print(\"Cookie consent accepted.\")\n",
        "  except Exception as e:\n",
        "      print(f\"Error accepting cookies: {e}\")\n",
        "\n",
        "  checkout_button = driver.find_element(By.XPATH, \"//a[contains(text(),'Checkout Now')]\")\n",
        "  checkout_button.click()\n",
        "\n",
        "  # this is where, we will populate the things for our form\n",
        "\n",
        "\n",
        "  driver.implicitly_wait(10)\n",
        "\n",
        "  try:\n",
        "      wait = WebDriverWait(driver, 10)\n",
        "      accept_button = wait.until(EC.element_to_be_clickable((By.XPATH, \"//button[contains(text(), 'Accept All')]\")))\n",
        "      accept_button.click()\n",
        "      print(\"Cookie consent accepted.\")\n",
        "  except Exception as e:\n",
        "      print(f\"Error accepting cookies: {e}\")\n",
        "\n",
        "\n",
        "  driver.find_element(By.ID, 'billing_first_name').clear()\n",
        "  driver.find_element(By.ID, 'billing_first_name').send_keys(row['Hotel Code'])\n",
        " # district = driver.find_element(By.ID, \"billing_first_name\")\n",
        " # print(district.get_attribute(\"value\"))\n",
        "  driver.find_element(By.ID, 'billing_last_name').clear()\n",
        "  driver.find_element(By.ID, 'billing_last_name').send_keys(row['Hotel Code'])\n",
        "  driver.find_element(By.ID, 'billing_company').clear()\n",
        "  driver.find_element(By.ID, 'billing_company').send_keys(row['Company'])\n",
        "\n",
        "\n",
        "\n",
        "  country_name = row['Coiuntry/Region']\n",
        "  select2_element = driver.find_element(By.CSS_SELECTOR, \".select2-selection\")\n",
        "  select2_element.click()\n",
        "\n",
        "  # Wait for the desired option to be visible, then click it\n",
        "  desired_option_xpath = f\"//li[text()='{country_name}']\"\n",
        "  desired_option = wait.until(EC.visibility_of_element_located((By.XPATH, desired_option_xpath)))\n",
        "  desired_option.click()\n",
        "  wait = WebDriverWait(driver, timeout=10)\n",
        "  iframe_element = wait.until(EC.presence_of_element_located((By.ID, 'billing_city')))\n",
        "\n",
        "  driver.find_element(By.ID, 'billing_address_1').clear()\n",
        "  driver.find_element(By.ID, 'billing_address_1').send_keys(row['Street address'])\n",
        "  # add a check here to determine if it's Australia or New Zealand\n",
        "\n",
        "\n",
        "\n",
        "  driver.find_element(By.ID, 'billing_city').clear()\n",
        "  driver.find_element(By.ID, 'billing_city').send_keys(row['Suburb / City'])\n",
        "  try:\n",
        "    select2_container = driver.find_element(By.ID, \"select2-billing_state-container\")\n",
        "    select2_container.click()\n",
        "  except Exception as e:\n",
        "      print(\"Error -Skipping\")\n",
        "\n",
        "  state_name = row['State']\n",
        "\n",
        "  desired_option_xpath = f\"//li[text()='{state_name}']\"\n",
        "  driver.implicitly_wait(20)\n",
        "  try:\n",
        "   desired_option = wait.until(EC.visibility_of_element_located((By.XPATH, desired_option_xpath)))\n",
        "   desired_option.click()\n",
        "  except TimeoutException as e:\n",
        "    print(f\"Timeout while waiting for element: {desired_option_xpath}\")\n",
        "    print(f\"Error message: {e}\")\n",
        "  wait = WebDriverWait(driver, timeout=50)\n",
        "  iframe_element = wait.until(EC.presence_of_element_located((By.ID, 'billing_postcode')))\n",
        "\n",
        "\n",
        "  driver.find_element(By.ID, 'billing_postcode').clear()\n",
        "  driver.find_element(By.ID, 'billing_postcode').send_keys(str(int(row['Postcode'])))\n",
        "  driver.find_element(By.ID, 'billing_phone').clear()\n",
        "  driver.find_element(By.ID, 'billing_phone').send_keys(str(int(row['Phone'])))\n",
        "  driver.find_element(By.ID, 'billing_email').clear()\n",
        "  driver.find_element(By.ID, 'billing_email').send_keys(str(row['email'].strip()))\n",
        "  driver.find_element(By.ID, 'billing_city').clear()\n",
        "  driver.find_element(By.ID, 'billing_city').send_keys(row['Suburb / City'])\n",
        "\n",
        " # element = driver.find_element(By.XPATH,\"//div[@class='cky-consent-bar']\")\n",
        " # accept_button = driver.find_element(By.XPATH, \"//button[contains(@class, 'cky-btn-accept')]\")\n",
        " # driver.execute_script(\"arguments[0].click();\", accept_button)\n",
        "  #driver.find_element(By.ID, 'billing_email').send_keys(str('test@test.com'))\n",
        "\n",
        "  try:\n",
        "    #WebDriverWait(driver, 10).until(EC.element_to_be_clickable((By.ID, \"affiliate_consent\"))).click()\n",
        "    checkbox = driver.find_element(By.ID, \"affiliate_consent\")\n",
        "    checkbox.click()\n",
        "    # driver.execute_script(\"arguments[0].click();\", checkbox)\n",
        "  except Exception as e:\n",
        "      print(\"Error\")\n",
        "      print(\"Retrying\")\n",
        "      wait = WebDriverWait(driver, 10)\n",
        "      checkbox = wait.until(EC.element_to_be_clickable((By.ID, \"affiliate_consent\")))\n",
        "      driver.execute_script(\"arguments[0].click();\", checkbox)\n",
        "\n",
        "     # checkbox = driver.find_element(By.ID, \"affiliate_consent\")\n",
        "     # checkbox.click()\n",
        "      #driver.execute_script(\"arguments[0].click();\", checkbox)\n",
        "\n",
        "  #checkbox = driver.find_element(By.ID, \"affiliate_consent\")\n",
        "  #checkbox.click()\n",
        "\n",
        " # except Exception as e:\n",
        " #   failed_meetings.append(row['Meeting /Event Name'])\n",
        " #   continue\n",
        "\n",
        "\n",
        "  place_order_button = driver.find_element(By.ID, \"place_order\")\n",
        "  driver.execute_script(\"arguments[0].click();\", place_order_button)\n",
        "  driver.implicitly_wait(5) # wait for 5 seconds\n",
        "\n",
        "  # try:\n",
        "  #   # Find the element by class name\n",
        "  #   error_element = driver.find_element(By.CLASS_NAME, 'woocommerce-error')\n",
        "\n",
        "  #   # Print the text content of the element\n",
        "  #   print(error_element.text)\n",
        "  #   print(f\"Step 3 Failed: {row['Meeting /Event Name']} due to error: {e}\")\n",
        "  #   failed_meetings.append(row['Meeting /Event Name'])\n",
        "  #   continue\n",
        "  # except Exception as e:\n",
        "  #   print(\"No error found continue\")\n",
        "  #   continue\n",
        "\n",
        "\n",
        "  try:\n",
        "      # Wait for error messages to be present in the DOM\n",
        "      wait = WebDriverWait(driver, 10)\n",
        "      error_elements = wait.until(EC.presence_of_all_elements_located((By.CLASS_NAME, 'woocommerce-error')))\n",
        "\n",
        "      # Collect all error messages\n",
        "      errors = [error.text for error in error_elements]\n",
        "      error_message = \"\\n\".join(errors)\n",
        "\n",
        "      # Log the error message\n",
        "      if error_message:\n",
        "          print(\"Errors encountered:\")\n",
        "          print(error_message)\n",
        "          print(f\"Step 3 Failed: {row['Meeting /Event Name']} due to error: {error_message}\")\n",
        "          failed_meetings.append(row['Meeting /Event Name'])\n",
        "      else:\n",
        "          print(\"No errors found, but exception was raised.\")\n",
        "  except Exception as e:\n",
        "      print(f\"No error found continue: {str(e)}\")\n",
        "      continue\n",
        "\n",
        "\n",
        "\n",
        "\n",
        "\n",
        "  try:\n",
        "    element = WebDriverWait(driver, 10).until(\n",
        "        EC.text_to_be_present_in_element((By.ID, \"mb-10\"), \"Thank you! Your funds have been received!\")\n",
        "    )\n",
        "    print(\"Text is present!\")\n",
        "  except TimeoutException:\n",
        "    print(\"Text is not present or page did not load within 10 seconds.\")\n",
        "\n",
        "  driver.switch_to.default_content() # switch back\n",
        "\n",
        "  driver.execute_script('document.getElementById(\"meetPurchaseOffsetsForm:carbonOffsetsPurchased\").click();')\n",
        "\n",
        "\n",
        "progress_bar.close()\n",
        "#driver.close()\n"
      ]
    }
  ],
  "metadata": {
    "colab": {
      "provenance": [],
      "authorship_tag": "ABX9TyOZKFQ9er6s2EgWAyf/JRxv",
      "include_colab_link": true
    },
    "kernelspec": {
      "display_name": "Python 3",
      "name": "python3"
    },
    "language_info": {
      "name": "python"
    }
  },
  "nbformat": 4,
  "nbformat_minor": 0
}